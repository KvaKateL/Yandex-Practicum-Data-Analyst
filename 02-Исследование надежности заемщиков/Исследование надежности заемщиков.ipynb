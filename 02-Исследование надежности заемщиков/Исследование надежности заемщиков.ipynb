{
 "cells": [
  {
   "cell_type": "markdown",
   "id": "e35e22ed",
   "metadata": {},
   "source": [
    "# Проект Исследование надежности заемщиков\n",
    "## Получение данных"
   ]
  },
  {
   "cell_type": "code",
   "execution_count": 1,
   "id": "15724c73",
   "metadata": {},
   "outputs": [],
   "source": [
    "import pandas as pd"
   ]
  },
  {
   "cell_type": "markdown",
   "id": "bf236cbc",
   "metadata": {},
   "source": [
    "Общая информация о данных."
   ]
  },
  {
   "cell_type": "code",
   "execution_count": 2,
   "id": "4aeac213",
   "metadata": {},
   "outputs": [],
   "source": [
    "data = pd.read_csv('https://code.s3.yandex.net/datasets/data.csv')"
   ]
  },
  {
   "cell_type": "markdown",
   "id": "3ead22a8",
   "metadata": {},
   "source": [
    "Выведим основную информацию о датафрейме с помощью метода info()."
   ]
  },
  {
   "cell_type": "code",
   "execution_count": 3,
   "id": "8da5763d",
   "metadata": {},
   "outputs": [
    {
     "name": "stdout",
     "output_type": "stream",
     "text": [
      "<class 'pandas.core.frame.DataFrame'>\n",
      "RangeIndex: 21525 entries, 0 to 21524\n",
      "Data columns (total 12 columns):\n",
      " #   Column            Non-Null Count  Dtype  \n",
      "---  ------            --------------  -----  \n",
      " 0   children          21525 non-null  int64  \n",
      " 1   days_employed     19351 non-null  float64\n",
      " 2   dob_years         21525 non-null  int64  \n",
      " 3   education         21525 non-null  object \n",
      " 4   education_id      21525 non-null  int64  \n",
      " 5   family_status     21525 non-null  object \n",
      " 6   family_status_id  21525 non-null  int64  \n",
      " 7   gender            21525 non-null  object \n",
      " 8   income_type       21525 non-null  object \n",
      " 9   debt              21525 non-null  int64  \n",
      " 10  total_income      19351 non-null  float64\n",
      " 11  purpose           21525 non-null  object \n",
      "dtypes: float64(2), int64(5), object(5)\n",
      "memory usage: 2.0+ MB\n"
     ]
    }
   ],
   "source": [
    "data.info()"
   ]
  },
  {
   "cell_type": "markdown",
   "id": "51e01261",
   "metadata": {},
   "source": [
    "Выведите первые 10 строчек датафрейма data "
   ]
  },
  {
   "cell_type": "code",
   "execution_count": 4,
   "id": "3514623d",
   "metadata": {},
   "outputs": [
    {
     "data": {
      "text/html": [
       "<div>\n",
       "<style scoped>\n",
       "    .dataframe tbody tr th:only-of-type {\n",
       "        vertical-align: middle;\n",
       "    }\n",
       "\n",
       "    .dataframe tbody tr th {\n",
       "        vertical-align: top;\n",
       "    }\n",
       "\n",
       "    .dataframe thead th {\n",
       "        text-align: right;\n",
       "    }\n",
       "</style>\n",
       "<table border=\"1\" class=\"dataframe\">\n",
       "  <thead>\n",
       "    <tr style=\"text-align: right;\">\n",
       "      <th></th>\n",
       "      <th>children</th>\n",
       "      <th>days_employed</th>\n",
       "      <th>dob_years</th>\n",
       "      <th>education</th>\n",
       "      <th>education_id</th>\n",
       "      <th>family_status</th>\n",
       "      <th>family_status_id</th>\n",
       "      <th>gender</th>\n",
       "      <th>income_type</th>\n",
       "      <th>debt</th>\n",
       "      <th>total_income</th>\n",
       "      <th>purpose</th>\n",
       "    </tr>\n",
       "  </thead>\n",
       "  <tbody>\n",
       "    <tr>\n",
       "      <th>0</th>\n",
       "      <td>1</td>\n",
       "      <td>-8437.673028</td>\n",
       "      <td>42</td>\n",
       "      <td>высшее</td>\n",
       "      <td>0</td>\n",
       "      <td>женат / замужем</td>\n",
       "      <td>0</td>\n",
       "      <td>F</td>\n",
       "      <td>сотрудник</td>\n",
       "      <td>0</td>\n",
       "      <td>253875.639453</td>\n",
       "      <td>покупка жилья</td>\n",
       "    </tr>\n",
       "    <tr>\n",
       "      <th>1</th>\n",
       "      <td>1</td>\n",
       "      <td>-4024.803754</td>\n",
       "      <td>36</td>\n",
       "      <td>среднее</td>\n",
       "      <td>1</td>\n",
       "      <td>женат / замужем</td>\n",
       "      <td>0</td>\n",
       "      <td>F</td>\n",
       "      <td>сотрудник</td>\n",
       "      <td>0</td>\n",
       "      <td>112080.014102</td>\n",
       "      <td>приобретение автомобиля</td>\n",
       "    </tr>\n",
       "    <tr>\n",
       "      <th>2</th>\n",
       "      <td>0</td>\n",
       "      <td>-5623.422610</td>\n",
       "      <td>33</td>\n",
       "      <td>Среднее</td>\n",
       "      <td>1</td>\n",
       "      <td>женат / замужем</td>\n",
       "      <td>0</td>\n",
       "      <td>M</td>\n",
       "      <td>сотрудник</td>\n",
       "      <td>0</td>\n",
       "      <td>145885.952297</td>\n",
       "      <td>покупка жилья</td>\n",
       "    </tr>\n",
       "    <tr>\n",
       "      <th>3</th>\n",
       "      <td>3</td>\n",
       "      <td>-4124.747207</td>\n",
       "      <td>32</td>\n",
       "      <td>среднее</td>\n",
       "      <td>1</td>\n",
       "      <td>женат / замужем</td>\n",
       "      <td>0</td>\n",
       "      <td>M</td>\n",
       "      <td>сотрудник</td>\n",
       "      <td>0</td>\n",
       "      <td>267628.550329</td>\n",
       "      <td>дополнительное образование</td>\n",
       "    </tr>\n",
       "    <tr>\n",
       "      <th>4</th>\n",
       "      <td>0</td>\n",
       "      <td>340266.072047</td>\n",
       "      <td>53</td>\n",
       "      <td>среднее</td>\n",
       "      <td>1</td>\n",
       "      <td>гражданский брак</td>\n",
       "      <td>1</td>\n",
       "      <td>F</td>\n",
       "      <td>пенсионер</td>\n",
       "      <td>0</td>\n",
       "      <td>158616.077870</td>\n",
       "      <td>сыграть свадьбу</td>\n",
       "    </tr>\n",
       "    <tr>\n",
       "      <th>5</th>\n",
       "      <td>0</td>\n",
       "      <td>-926.185831</td>\n",
       "      <td>27</td>\n",
       "      <td>высшее</td>\n",
       "      <td>0</td>\n",
       "      <td>гражданский брак</td>\n",
       "      <td>1</td>\n",
       "      <td>M</td>\n",
       "      <td>компаньон</td>\n",
       "      <td>0</td>\n",
       "      <td>255763.565419</td>\n",
       "      <td>покупка жилья</td>\n",
       "    </tr>\n",
       "    <tr>\n",
       "      <th>6</th>\n",
       "      <td>0</td>\n",
       "      <td>-2879.202052</td>\n",
       "      <td>43</td>\n",
       "      <td>высшее</td>\n",
       "      <td>0</td>\n",
       "      <td>женат / замужем</td>\n",
       "      <td>0</td>\n",
       "      <td>F</td>\n",
       "      <td>компаньон</td>\n",
       "      <td>0</td>\n",
       "      <td>240525.971920</td>\n",
       "      <td>операции с жильем</td>\n",
       "    </tr>\n",
       "    <tr>\n",
       "      <th>7</th>\n",
       "      <td>0</td>\n",
       "      <td>-152.779569</td>\n",
       "      <td>50</td>\n",
       "      <td>СРЕДНЕЕ</td>\n",
       "      <td>1</td>\n",
       "      <td>женат / замужем</td>\n",
       "      <td>0</td>\n",
       "      <td>M</td>\n",
       "      <td>сотрудник</td>\n",
       "      <td>0</td>\n",
       "      <td>135823.934197</td>\n",
       "      <td>образование</td>\n",
       "    </tr>\n",
       "    <tr>\n",
       "      <th>8</th>\n",
       "      <td>2</td>\n",
       "      <td>-6929.865299</td>\n",
       "      <td>35</td>\n",
       "      <td>ВЫСШЕЕ</td>\n",
       "      <td>0</td>\n",
       "      <td>гражданский брак</td>\n",
       "      <td>1</td>\n",
       "      <td>F</td>\n",
       "      <td>сотрудник</td>\n",
       "      <td>0</td>\n",
       "      <td>95856.832424</td>\n",
       "      <td>на проведение свадьбы</td>\n",
       "    </tr>\n",
       "    <tr>\n",
       "      <th>9</th>\n",
       "      <td>0</td>\n",
       "      <td>-2188.756445</td>\n",
       "      <td>41</td>\n",
       "      <td>среднее</td>\n",
       "      <td>1</td>\n",
       "      <td>женат / замужем</td>\n",
       "      <td>0</td>\n",
       "      <td>M</td>\n",
       "      <td>сотрудник</td>\n",
       "      <td>0</td>\n",
       "      <td>144425.938277</td>\n",
       "      <td>покупка жилья для семьи</td>\n",
       "    </tr>\n",
       "  </tbody>\n",
       "</table>\n",
       "</div>"
      ],
      "text/plain": [
       "   children  days_employed  dob_years education  education_id  \\\n",
       "0         1   -8437.673028         42    высшее             0   \n",
       "1         1   -4024.803754         36   среднее             1   \n",
       "2         0   -5623.422610         33   Среднее             1   \n",
       "3         3   -4124.747207         32   среднее             1   \n",
       "4         0  340266.072047         53   среднее             1   \n",
       "5         0    -926.185831         27    высшее             0   \n",
       "6         0   -2879.202052         43    высшее             0   \n",
       "7         0    -152.779569         50   СРЕДНЕЕ             1   \n",
       "8         2   -6929.865299         35    ВЫСШЕЕ             0   \n",
       "9         0   -2188.756445         41   среднее             1   \n",
       "\n",
       "      family_status  family_status_id gender income_type  debt   total_income  \\\n",
       "0   женат / замужем                 0      F   сотрудник     0  253875.639453   \n",
       "1   женат / замужем                 0      F   сотрудник     0  112080.014102   \n",
       "2   женат / замужем                 0      M   сотрудник     0  145885.952297   \n",
       "3   женат / замужем                 0      M   сотрудник     0  267628.550329   \n",
       "4  гражданский брак                 1      F   пенсионер     0  158616.077870   \n",
       "5  гражданский брак                 1      M   компаньон     0  255763.565419   \n",
       "6   женат / замужем                 0      F   компаньон     0  240525.971920   \n",
       "7   женат / замужем                 0      M   сотрудник     0  135823.934197   \n",
       "8  гражданский брак                 1      F   сотрудник     0   95856.832424   \n",
       "9   женат / замужем                 0      M   сотрудник     0  144425.938277   \n",
       "\n",
       "                      purpose  \n",
       "0               покупка жилья  \n",
       "1     приобретение автомобиля  \n",
       "2               покупка жилья  \n",
       "3  дополнительное образование  \n",
       "4             сыграть свадьбу  \n",
       "5               покупка жилья  \n",
       "6           операции с жильем  \n",
       "7                 образование  \n",
       "8       на проведение свадьбы  \n",
       "9     покупка жилья для семьи  "
      ]
     },
     "execution_count": 4,
     "metadata": {},
     "output_type": "execute_result"
    }
   ],
   "source": [
    "data.head(10)"
   ]
  },
  {
   "cell_type": "markdown",
   "id": "61fa3dc4",
   "metadata": {},
   "source": [
    "## Предобработка данных\n",
    "### Пропущенные значения\n",
    "Выведим количество пропущенных значений для каждого столбца."
   ]
  },
  {
   "cell_type": "code",
   "execution_count": 5,
   "id": "0516a73b",
   "metadata": {},
   "outputs": [
    {
     "data": {
      "text/plain": [
       "children               0\n",
       "days_employed       2174\n",
       "dob_years              0\n",
       "education              0\n",
       "education_id           0\n",
       "family_status          0\n",
       "family_status_id       0\n",
       "gender                 0\n",
       "income_type            0\n",
       "debt                   0\n",
       "total_income        2174\n",
       "purpose                0\n",
       "dtype: int64"
      ]
     },
     "execution_count": 5,
     "metadata": {},
     "output_type": "execute_result"
    }
   ],
   "source": [
    "data.isna().sum()"
   ]
  },
  {
   "cell_type": "markdown",
   "id": "538c2e63",
   "metadata": {},
   "source": [
    "В двух столбцах есть пропущенные значения. Столбец с пропущенными значениями — `total_income` — хранит данные о доходах. На сумму дохода сильнее всего влияет тип занятости, поэтому заполнить пропуски в этом столбце нужно медианным значением по каждому типу из столбца `income_type`."
   ]
  },
  {
   "cell_type": "code",
   "execution_count": 6,
   "id": "a13ee447",
   "metadata": {},
   "outputs": [],
   "source": [
    "for t in data['income_type'].unique():\n",
    "    data.loc[(data['income_type'] == t) & (data['total_income'].isna()), 'total_income'] = \\\n",
    "    data.loc[(data['income_type'] == t), 'total_income'].median()"
   ]
  },
  {
   "cell_type": "markdown",
   "id": "b11077aa",
   "metadata": {},
   "source": [
    "Заполните пропуски в столбце `days_employed` медианными значениями по каждого типа занятости `income_type`."
   ]
  },
  {
   "cell_type": "code",
   "execution_count": 7,
   "id": "c63d7b22",
   "metadata": {},
   "outputs": [],
   "source": [
    "for t in data['income_type'].unique():\n",
    "    data.loc[(data['income_type'] == t) & (data['days_employed'].isna()), 'days_employed'] = \\\n",
    "    data.loc[(data['income_type'] == t), 'days_employed'].median()"
   ]
  },
  {
   "cell_type": "code",
   "execution_count": 8,
   "id": "f2d45115",
   "metadata": {},
   "outputs": [
    {
     "data": {
      "text/plain": [
       "children            0\n",
       "days_employed       0\n",
       "dob_years           0\n",
       "education           0\n",
       "education_id        0\n",
       "family_status       0\n",
       "family_status_id    0\n",
       "gender              0\n",
       "income_type         0\n",
       "debt                0\n",
       "total_income        0\n",
       "purpose             0\n",
       "dtype: int64"
      ]
     },
     "execution_count": 8,
     "metadata": {},
     "output_type": "execute_result"
    }
   ],
   "source": [
    "data.isna().sum() #Проверка"
   ]
  },
  {
   "cell_type": "markdown",
   "id": "1617da51",
   "metadata": {},
   "source": [
    "### Обработка аномальных значений"
   ]
  },
  {
   "cell_type": "markdown",
   "id": "c2dcbbe2",
   "metadata": {},
   "source": [
    "В данных могут встречаться артефакты (аномалии) — значения, которые не отражают действительность и появились по какой-то ошибке. таким артефактом будет отрицательное количество дней трудового стажа в столбце `days_employed`. Обработаем значения в этом столбце: заменим все отрицательные значения положительными с помощью метода `abs()`."
   ]
  },
  {
   "cell_type": "code",
   "execution_count": 9,
   "id": "40f47946",
   "metadata": {},
   "outputs": [],
   "source": [
    "data['days_employed'] = data['days_employed'].abs()"
   ]
  },
  {
   "cell_type": "markdown",
   "id": "163e04c7",
   "metadata": {},
   "source": [
    "Для каждого типа занятости выведим медианное значение трудового стажа `days_employed` в днях."
   ]
  },
  {
   "cell_type": "code",
   "execution_count": 10,
   "id": "b6a27c09",
   "metadata": {},
   "outputs": [
    {
     "data": {
      "text/plain": [
       "income_type\n",
       "безработный        366413.652744\n",
       "в декрете            3296.759962\n",
       "госслужащий          2689.368353\n",
       "компаньон            1547.382223\n",
       "пенсионер          365213.306266\n",
       "предприниматель       520.848083\n",
       "сотрудник            1574.202821\n",
       "студент               578.751554\n",
       "Name: days_employed, dtype: float64"
      ]
     },
     "execution_count": 10,
     "metadata": {},
     "output_type": "execute_result"
    }
   ],
   "source": [
    "data.groupby('income_type')['days_employed'].agg('median')"
   ]
  },
  {
   "cell_type": "markdown",
   "id": "0c17ea29",
   "metadata": {},
   "source": [
    "У двух типов (безработные и пенсионеры) получатся аномально большие значения. Исправить такие значения сложно, поэтому оставьте их как есть.\n",
    "\n",
    "Выведим перечень уникальных значений столбца `children`."
   ]
  },
  {
   "cell_type": "code",
   "execution_count": 11,
   "id": "ff6d6533",
   "metadata": {},
   "outputs": [
    {
     "data": {
      "text/plain": [
       "array([ 1,  0,  3,  2, -1,  4, 20,  5])"
      ]
     },
     "execution_count": 11,
     "metadata": {},
     "output_type": "execute_result"
    }
   ],
   "source": [
    "data['children'].unique()"
   ]
  },
  {
   "cell_type": "markdown",
   "id": "3157dc1a",
   "metadata": {},
   "source": [
    "В столбце children есть два аномальных значения. Удалим строки, в которых встречаются такие аномальные значения из датафрейма data."
   ]
  },
  {
   "cell_type": "code",
   "execution_count": 12,
   "id": "3ed314bc",
   "metadata": {},
   "outputs": [],
   "source": [
    "data = data[(data['children'] != -1) & (data['children'] != 20)]"
   ]
  },
  {
   "cell_type": "code",
   "execution_count": 13,
   "id": "323dcab2",
   "metadata": {},
   "outputs": [
    {
     "data": {
      "text/plain": [
       "array([1, 0, 3, 2, 4, 5])"
      ]
     },
     "execution_count": 13,
     "metadata": {},
     "output_type": "execute_result"
    }
   ],
   "source": [
    "data['children'].unique() #Проверка"
   ]
  },
  {
   "cell_type": "markdown",
   "id": "369ba6c6",
   "metadata": {},
   "source": [
    "### Изменение типов данных\n",
    "\n",
    "Заменим вещественный тип данных в столбце total_income на целочисленный с помощью метода astype()."
   ]
  },
  {
   "cell_type": "code",
   "execution_count": 14,
   "id": "7939cb13",
   "metadata": {},
   "outputs": [],
   "source": [
    "data['total_income'] = data['total_income'].astype(int)"
   ]
  },
  {
   "cell_type": "markdown",
   "id": "5be5d500",
   "metadata": {},
   "source": [
    "### Обработка дубликатов\n",
    "\n",
    "Обработаем неявные дубликаты в столбце education. В этом столбце есть одни и те же значения, но записанные по-разному: с использованием заглавных и строчных букв. Приведем их к нижнему регистру."
   ]
  },
  {
   "cell_type": "code",
   "execution_count": 15,
   "id": "e4f2c6c1",
   "metadata": {},
   "outputs": [],
   "source": [
    "data['education'] = data['education'].str.lower()"
   ]
  },
  {
   "cell_type": "code",
   "execution_count": 16,
   "id": "2ed6f731",
   "metadata": {},
   "outputs": [
    {
     "data": {
      "text/plain": [
       "71"
      ]
     },
     "execution_count": 16,
     "metadata": {},
     "output_type": "execute_result"
    }
   ],
   "source": [
    "data.duplicated().sum() # количество явных дубликатов"
   ]
  },
  {
   "cell_type": "code",
   "execution_count": 17,
   "id": "fb3f68db",
   "metadata": {},
   "outputs": [],
   "source": [
    "data = data.drop_duplicates()"
   ]
  },
  {
   "cell_type": "markdown",
   "id": "6fd11dc4",
   "metadata": {},
   "source": [
    "## Категоризация данных"
   ]
  },
  {
   "cell_type": "markdown",
   "id": "659b8e6d",
   "metadata": {},
   "source": [
    "На основании диапазонов, указанных ниже, создадим в датафрейме `data` столбец `total_income_category` с категориями:**\n",
    "\n",
    "- 0–30000 — `'E'`;\n",
    "- 30001–50000 — `'D'`;\n",
    "- 50001–200000 — `'C'`;\n",
    "- 200001–1000000 — `'B'`;\n",
    "- 1000001 и выше — `'A'`.\n",
    "\n",
    "\n",
    "Используем собственную функцию с именем `categorize_income()` и метод `apply()`."
   ]
  },
  {
   "cell_type": "code",
   "execution_count": 18,
   "id": "0b50a999",
   "metadata": {},
   "outputs": [],
   "source": [
    "def categorize_income(income):\n",
    "    try:\n",
    "        if 0 <= income <= 30000:\n",
    "            return 'E'\n",
    "        elif 30001 <= income <= 50000:\n",
    "            return 'D'\n",
    "        elif 50001 <= income <= 200000:\n",
    "            return 'C'\n",
    "        elif 200001 <= income <= 1000000:\n",
    "            return 'B'\n",
    "        elif income >= 1000001:\n",
    "            return 'A'\n",
    "    except:\n",
    "        pass"
   ]
  },
  {
   "cell_type": "code",
   "execution_count": 19,
   "id": "c7ce63e2",
   "metadata": {},
   "outputs": [],
   "source": [
    "data['total_income_category'] = data['total_income'].apply(categorize_income)"
   ]
  },
  {
   "cell_type": "markdown",
   "id": "5b9ba1ab",
   "metadata": {},
   "source": [
    "Выведим на экран перечень уникальных целей взятия кредита из столбца purpose"
   ]
  },
  {
   "cell_type": "code",
   "execution_count": 20,
   "id": "fb94e77e",
   "metadata": {},
   "outputs": [
    {
     "data": {
      "text/plain": [
       "array(['покупка жилья', 'приобретение автомобиля',\n",
       "       'дополнительное образование', 'сыграть свадьбу',\n",
       "       'операции с жильем', 'образование', 'на проведение свадьбы',\n",
       "       'покупка жилья для семьи', 'покупка недвижимости',\n",
       "       'покупка коммерческой недвижимости', 'покупка жилой недвижимости',\n",
       "       'строительство собственной недвижимости', 'недвижимость',\n",
       "       'строительство недвижимости', 'на покупку подержанного автомобиля',\n",
       "       'на покупку своего автомобиля',\n",
       "       'операции с коммерческой недвижимостью',\n",
       "       'строительство жилой недвижимости', 'жилье',\n",
       "       'операции со своей недвижимостью', 'автомобили',\n",
       "       'заняться образованием', 'сделка с подержанным автомобилем',\n",
       "       'получение образования', 'автомобиль', 'свадьба',\n",
       "       'получение дополнительного образования', 'покупка своего жилья',\n",
       "       'операции с недвижимостью', 'получение высшего образования',\n",
       "       'свой автомобиль', 'сделка с автомобилем',\n",
       "       'профильное образование', 'высшее образование',\n",
       "       'покупка жилья для сдачи', 'на покупку автомобиля', 'ремонт жилью',\n",
       "       'заняться высшим образованием'], dtype=object)"
      ]
     },
     "execution_count": 20,
     "metadata": {},
     "output_type": "execute_result"
    }
   ],
   "source": [
    "data['purpose'].unique()"
   ]
  },
  {
   "cell_type": "markdown",
   "id": "051417e9",
   "metadata": {},
   "source": [
    "Создадим функцию, которая на основании данных из столбца `purpose` сформирует новый столбец `purpose_category`, в который войдут следующие категории:**\n",
    "\n",
    "- `'операции с автомобилем'`,\n",
    "- `'операции с недвижимостью'`,\n",
    "- `'проведение свадьбы'`,\n",
    "- `'получение образования'`.\n",
    "\n",
    "\n",
    "Используем собственную функцию с именем `categorize_purpose()` и метод `apply()`."
   ]
  },
  {
   "cell_type": "code",
   "execution_count": 21,
   "id": "13c795bd",
   "metadata": {},
   "outputs": [],
   "source": [
    "def categorize_purpose(row):\n",
    "    try:\n",
    "        if 'автом' in row:\n",
    "            return 'операции с автомобилем'\n",
    "        elif 'жил' in row or 'недвиж' in row:\n",
    "            return 'операции с недвижимостью'\n",
    "        elif 'свад' in row:\n",
    "            return 'проведение свадьбы'\n",
    "        elif 'образов' in row:\n",
    "            return 'получение образования'\n",
    "    except:\n",
    "        return 'нет категории'"
   ]
  },
  {
   "cell_type": "code",
   "execution_count": 22,
   "id": "def1cc82",
   "metadata": {},
   "outputs": [],
   "source": [
    "data['purpose_category'] = data['purpose'].apply(categorize_purpose)"
   ]
  },
  {
   "cell_type": "markdown",
   "id": "b99dc1c6",
   "metadata": {},
   "source": [
    "## Исследование данных\n",
    "### Есть ли зависимость между количеством детей и возвратом кредита в срок?\n",
    "Для начала сформулируем гипотезу: **\"Чем больше детей у заемщика, тем вероятнее он вернет в срок кредит\"**. <br>\n",
    "Проверять гипотезу будем на таком показателе как доля просроченной задолженности: отношение просроченных кредитов ко всем. <br> "
   ]
  },
  {
   "cell_type": "code",
   "execution_count": 23,
   "id": "fa686a31",
   "metadata": {},
   "outputs": [
    {
     "data": {
      "text/html": [
       "<style type=\"text/css\">\n",
       "</style>\n",
       "<table id=\"T_cd518\">\n",
       "  <thead>\n",
       "    <tr>\n",
       "      <th class=\"blank level0\" >&nbsp;</th>\n",
       "      <th id=\"T_cd518_level0_col0\" class=\"col_heading level0 col0\" >count</th>\n",
       "      <th id=\"T_cd518_level0_col1\" class=\"col_heading level0 col1\" >sum</th>\n",
       "      <th id=\"T_cd518_level0_col2\" class=\"col_heading level0 col2\" >mean</th>\n",
       "    </tr>\n",
       "    <tr>\n",
       "      <th class=\"blank level1\" >&nbsp;</th>\n",
       "      <th id=\"T_cd518_level1_col0\" class=\"col_heading level1 col0\" >debt</th>\n",
       "      <th id=\"T_cd518_level1_col1\" class=\"col_heading level1 col1\" >debt</th>\n",
       "      <th id=\"T_cd518_level1_col2\" class=\"col_heading level1 col2\" >debt</th>\n",
       "    </tr>\n",
       "    <tr>\n",
       "      <th class=\"index_name level0\" >children</th>\n",
       "      <th class=\"blank col0\" >&nbsp;</th>\n",
       "      <th class=\"blank col1\" >&nbsp;</th>\n",
       "      <th class=\"blank col2\" >&nbsp;</th>\n",
       "    </tr>\n",
       "  </thead>\n",
       "  <tbody>\n",
       "    <tr>\n",
       "      <th id=\"T_cd518_level0_row0\" class=\"row_heading level0 row0\" >4</th>\n",
       "      <td id=\"T_cd518_row0_col0\" class=\"data row0 col0\" >41</td>\n",
       "      <td id=\"T_cd518_row0_col1\" class=\"data row0 col1\" >4</td>\n",
       "      <td id=\"T_cd518_row0_col2\" class=\"data row0 col2\" >9.76%</td>\n",
       "    </tr>\n",
       "    <tr>\n",
       "      <th id=\"T_cd518_level0_row1\" class=\"row_heading level0 row1\" >2</th>\n",
       "      <td id=\"T_cd518_row1_col0\" class=\"data row1 col0\" >2052</td>\n",
       "      <td id=\"T_cd518_row1_col1\" class=\"data row1 col1\" >194</td>\n",
       "      <td id=\"T_cd518_row1_col2\" class=\"data row1 col2\" >9.45%</td>\n",
       "    </tr>\n",
       "    <tr>\n",
       "      <th id=\"T_cd518_level0_row2\" class=\"row_heading level0 row2\" >1</th>\n",
       "      <td id=\"T_cd518_row2_col0\" class=\"data row2 col0\" >4808</td>\n",
       "      <td id=\"T_cd518_row2_col1\" class=\"data row2 col1\" >444</td>\n",
       "      <td id=\"T_cd518_row2_col2\" class=\"data row2 col2\" >9.23%</td>\n",
       "    </tr>\n",
       "    <tr>\n",
       "      <th id=\"T_cd518_level0_row3\" class=\"row_heading level0 row3\" >3</th>\n",
       "      <td id=\"T_cd518_row3_col0\" class=\"data row3 col0\" >330</td>\n",
       "      <td id=\"T_cd518_row3_col1\" class=\"data row3 col1\" >27</td>\n",
       "      <td id=\"T_cd518_row3_col2\" class=\"data row3 col2\" >8.18%</td>\n",
       "    </tr>\n",
       "    <tr>\n",
       "      <th id=\"T_cd518_level0_row4\" class=\"row_heading level0 row4\" >0</th>\n",
       "      <td id=\"T_cd518_row4_col0\" class=\"data row4 col0\" >14091</td>\n",
       "      <td id=\"T_cd518_row4_col1\" class=\"data row4 col1\" >1063</td>\n",
       "      <td id=\"T_cd518_row4_col2\" class=\"data row4 col2\" >7.54%</td>\n",
       "    </tr>\n",
       "    <tr>\n",
       "      <th id=\"T_cd518_level0_row5\" class=\"row_heading level0 row5\" >5</th>\n",
       "      <td id=\"T_cd518_row5_col0\" class=\"data row5 col0\" >9</td>\n",
       "      <td id=\"T_cd518_row5_col1\" class=\"data row5 col1\" >0</td>\n",
       "      <td id=\"T_cd518_row5_col2\" class=\"data row5 col2\" >0.00%</td>\n",
       "    </tr>\n",
       "  </tbody>\n",
       "</table>\n"
      ],
      "text/plain": [
       "<pandas.io.formats.style.Styler at 0x7f9b9a763ee0>"
      ]
     },
     "execution_count": 23,
     "metadata": {},
     "output_type": "execute_result"
    }
   ],
   "source": [
    "data.pivot_table(index = 'children', values = 'debt', aggfunc = ['count', 'sum', 'mean'])\\\n",
    "    .sort_values(by = ('mean', 'debt'), ascending = False)\\\n",
    "    .style.format({('mean', 'debt') : '{:.2%}'})"
   ]
  },
  {
   "cell_type": "markdown",
   "id": "77cd090b",
   "metadata": {},
   "source": [
    "**Промежуточный вывод:** <br>\n",
    "Данные опровергают гипотезу о том, что чем больше у заемщика детей, тем более вероятно он вернет кредит в срок. <br>\n",
    "Доля просрочки у заемщиков без детей ниже, чем у заемщиков с одним, двумя, тремя и четыремя детьми.\n",
    "При этом, например, доля кредитов с нарушением срока платежа у заемщиков с четыремя детьми самая высокая среди рассматриваемых групп.<br>\n",
    "При этом нельзя сказать, что чем больше детей у заемщика, тем хуже у таких заемщиков с кредитной дисциплиной. \n",
    "Единственной группой заемщиков не имеющей нарушений в уплате кредитов стала весьма малочисленная группа заемщиков с пятью детьми.<br>\n",
    "Отвечая на вопрос, для целей скоринговой модели оценки кредитоспособности, очевидно, что наиболее надежными заемщиками будут люди с пятью детьми(но таких заемщиков очень мало) и люди без детей вовсе. "
   ]
  },
  {
   "cell_type": "markdown",
   "id": "3d8572b1",
   "metadata": {},
   "source": [
    "### Есть ли зависимость между семейным положением и возвратом кредита в срок?"
   ]
  },
  {
   "cell_type": "markdown",
   "id": "0ac43e53",
   "metadata": {},
   "source": [
    "Аналогично расчитаем показатель просроченной задолженности для групп заемщиков в зависимости от семейного положения. <br> Гипотезу сформулируем как: **\"Возврат кредита в срок более вероятен среди заемщиков состоящих в браке ( как в официальном так и в гражданском), чем среди не состоящих в браке заемщиков(не замужние/не женатые, разведенные)\"** <br>\n",
    "В таблице представлены следующие данные по группам в зависимости от семейного положения: количество выданных кредитов, количество кредитов с нарушением срока платежа, доля просроченных кредитов в каждой группе."
   ]
  },
  {
   "cell_type": "code",
   "execution_count": 24,
   "id": "7fb3f4cb",
   "metadata": {},
   "outputs": [
    {
     "data": {
      "text/html": [
       "<div>\n",
       "<style scoped>\n",
       "    .dataframe tbody tr th:only-of-type {\n",
       "        vertical-align: middle;\n",
       "    }\n",
       "\n",
       "    .dataframe tbody tr th {\n",
       "        vertical-align: top;\n",
       "    }\n",
       "\n",
       "    .dataframe thead th {\n",
       "        text-align: right;\n",
       "    }\n",
       "</style>\n",
       "<table border=\"1\" class=\"dataframe\">\n",
       "  <thead>\n",
       "    <tr style=\"text-align: right;\">\n",
       "      <th></th>\n",
       "      <th>count</th>\n",
       "      <th>sum</th>\n",
       "      <th>mean</th>\n",
       "    </tr>\n",
       "    <tr>\n",
       "      <th>family_status</th>\n",
       "      <th></th>\n",
       "      <th></th>\n",
       "      <th></th>\n",
       "    </tr>\n",
       "  </thead>\n",
       "  <tbody>\n",
       "    <tr>\n",
       "      <th>Не женат / не замужем</th>\n",
       "      <td>2796</td>\n",
       "      <td>273</td>\n",
       "      <td>0.097639</td>\n",
       "    </tr>\n",
       "    <tr>\n",
       "      <th>в разводе</th>\n",
       "      <td>1189</td>\n",
       "      <td>84</td>\n",
       "      <td>0.070648</td>\n",
       "    </tr>\n",
       "    <tr>\n",
       "      <th>вдовец / вдова</th>\n",
       "      <td>951</td>\n",
       "      <td>63</td>\n",
       "      <td>0.066246</td>\n",
       "    </tr>\n",
       "    <tr>\n",
       "      <th>гражданский брак</th>\n",
       "      <td>4134</td>\n",
       "      <td>385</td>\n",
       "      <td>0.093130</td>\n",
       "    </tr>\n",
       "    <tr>\n",
       "      <th>женат / замужем</th>\n",
       "      <td>12261</td>\n",
       "      <td>927</td>\n",
       "      <td>0.075606</td>\n",
       "    </tr>\n",
       "  </tbody>\n",
       "</table>\n",
       "</div>"
      ],
      "text/plain": [
       "                       count  sum      mean\n",
       "family_status                              \n",
       "Не женат / не замужем   2796  273  0.097639\n",
       "в разводе               1189   84  0.070648\n",
       "вдовец / вдова           951   63  0.066246\n",
       "гражданский брак        4134  385  0.093130\n",
       "женат / замужем        12261  927  0.075606"
      ]
     },
     "execution_count": 24,
     "metadata": {},
     "output_type": "execute_result"
    }
   ],
   "source": [
    "data.groupby(by = 'family_status')['debt'].agg(['count', 'sum', 'mean'])"
   ]
  },
  {
   "cell_type": "markdown",
   "id": "33d59f17",
   "metadata": {},
   "source": [
    "**Промежуточный вывод:** <br>\n",
    "Данные говорят о следующем: меньше всего доля просроченных кредитов среди вдов и вдовцов. Заемщики в разводе допускают просрочку по кредиту реже, чем состоящие в браке заемщики. Хуже перечисленных ранее категорий дела со своевременным возвратом кредита обстоят у заемщиков состоящих в гражданском браке, но даже они допускают нарушение условий кредитного договора реже, чем не женатые / не замужние заемщики. <br>\n",
    "Таким образом, гипотеза частично подтвердилась. Для скоринговой системы наименее кредитоспособные заемщики - это не женатые / не замужние, наиболее надежные - овдовевшие и разведенные заемщики."
   ]
  },
  {
   "cell_type": "markdown",
   "id": "3286c0b4",
   "metadata": {},
   "source": [
    "### Есть ли зависимость между уровнем дохода и возвратом кредита в срок?"
   ]
  },
  {
   "cell_type": "markdown",
   "id": "304cb54e",
   "metadata": {},
   "source": [
    "Расчитаем показатель просроченной задолженности для групп заемщиков в зависимости от уровня дохода.\n",
    "Гипотезу сформулируем как: **\"Чем выше уровень дохода, тем более вероятно, что заемщик вернет кредит в срок\"** <br>\n",
    "В таблице представлены следующие данные по группам в зависимости от категории дохода: количество выданных кредитов, количество кредитов с нарушением срока платежа, доля просроченных кредитов в каждой группе."
   ]
  },
  {
   "cell_type": "code",
   "execution_count": 25,
   "id": "0d1b00fa",
   "metadata": {},
   "outputs": [
    {
     "data": {
      "text/html": [
       "<style type=\"text/css\">\n",
       "</style>\n",
       "<table id=\"T_120f1\">\n",
       "  <thead>\n",
       "    <tr>\n",
       "      <th class=\"blank level0\" >&nbsp;</th>\n",
       "      <th id=\"T_120f1_level0_col0\" class=\"col_heading level0 col0\" >count</th>\n",
       "      <th id=\"T_120f1_level0_col1\" class=\"col_heading level0 col1\" >sum</th>\n",
       "      <th id=\"T_120f1_level0_col2\" class=\"col_heading level0 col2\" >mean</th>\n",
       "    </tr>\n",
       "    <tr>\n",
       "      <th class=\"blank level1\" >&nbsp;</th>\n",
       "      <th id=\"T_120f1_level1_col0\" class=\"col_heading level1 col0\" >debt</th>\n",
       "      <th id=\"T_120f1_level1_col1\" class=\"col_heading level1 col1\" >debt</th>\n",
       "      <th id=\"T_120f1_level1_col2\" class=\"col_heading level1 col2\" >debt</th>\n",
       "    </tr>\n",
       "    <tr>\n",
       "      <th class=\"index_name level0\" >total_income_category</th>\n",
       "      <th class=\"blank col0\" >&nbsp;</th>\n",
       "      <th class=\"blank col1\" >&nbsp;</th>\n",
       "      <th class=\"blank col2\" >&nbsp;</th>\n",
       "    </tr>\n",
       "  </thead>\n",
       "  <tbody>\n",
       "    <tr>\n",
       "      <th id=\"T_120f1_level0_row0\" class=\"row_heading level0 row0\" >C</th>\n",
       "      <td id=\"T_120f1_row0_col0\" class=\"data row0 col0\" >15921</td>\n",
       "      <td id=\"T_120f1_row0_col1\" class=\"data row0 col1\" >1353</td>\n",
       "      <td id=\"T_120f1_row0_col2\" class=\"data row0 col2\" >8.50%</td>\n",
       "    </tr>\n",
       "    <tr>\n",
       "      <th id=\"T_120f1_level0_row1\" class=\"row_heading level0 row1\" >B</th>\n",
       "      <td id=\"T_120f1_row1_col0\" class=\"data row1 col0\" >5014</td>\n",
       "      <td id=\"T_120f1_row1_col1\" class=\"data row1 col1\" >354</td>\n",
       "      <td id=\"T_120f1_row1_col2\" class=\"data row1 col2\" >7.06%</td>\n",
       "    </tr>\n",
       "    <tr>\n",
       "      <th id=\"T_120f1_level0_row2\" class=\"row_heading level0 row2\" >D</th>\n",
       "      <td id=\"T_120f1_row2_col0\" class=\"data row2 col0\" >349</td>\n",
       "      <td id=\"T_120f1_row2_col1\" class=\"data row2 col1\" >21</td>\n",
       "      <td id=\"T_120f1_row2_col2\" class=\"data row2 col2\" >6.02%</td>\n",
       "    </tr>\n",
       "    <tr>\n",
       "      <th id=\"T_120f1_level0_row3\" class=\"row_heading level0 row3\" >A</th>\n",
       "      <td id=\"T_120f1_row3_col0\" class=\"data row3 col0\" >25</td>\n",
       "      <td id=\"T_120f1_row3_col1\" class=\"data row3 col1\" >2</td>\n",
       "      <td id=\"T_120f1_row3_col2\" class=\"data row3 col2\" >8.00%</td>\n",
       "    </tr>\n",
       "    <tr>\n",
       "      <th id=\"T_120f1_level0_row4\" class=\"row_heading level0 row4\" >E</th>\n",
       "      <td id=\"T_120f1_row4_col0\" class=\"data row4 col0\" >22</td>\n",
       "      <td id=\"T_120f1_row4_col1\" class=\"data row4 col1\" >2</td>\n",
       "      <td id=\"T_120f1_row4_col2\" class=\"data row4 col2\" >9.09%</td>\n",
       "    </tr>\n",
       "  </tbody>\n",
       "</table>\n"
      ],
      "text/plain": [
       "<pandas.io.formats.style.Styler at 0x7f9b9c94bf10>"
      ]
     },
     "execution_count": 25,
     "metadata": {},
     "output_type": "execute_result"
    }
   ],
   "source": [
    "data.pivot_table(index = 'total_income_category', values = 'debt', aggfunc = ['count', 'sum', 'mean'])\\\n",
    "    .sort_values(by = ('count', 'debt'), ascending = False)\\\n",
    "    .style.format({('mean', 'debt') : '{:.2%}'})"
   ]
  },
  {
   "cell_type": "markdown",
   "id": "cb00c302",
   "metadata": {},
   "source": [
    "**Промежуточный вывод:** <br>\n",
    "Гипотеза не подтверждается. В группе с наименьшим зарабатком, очевидно наибольшая доля просрочки, хотя важно отметить что одновременно это и самая малочисленная группа. Наименьшая доля просроченных кредитов в категории Д, а во всех вышестоящих категориях с большим доходом, доля выше, чем в Д. <br>\n",
    "Кроме того, можно отметить, что даже самая обеспеченная группа заемщиков допускает просрочки по кредитному договору. <br> Для скоринговой модели наибольшую оценку следует присвоить заемщику с доходом от 30 тыс до 50 тыс(Д) или от 200 тыс до 1млн(Б).\n"
   ]
  },
  {
   "cell_type": "markdown",
   "id": "b0354de1",
   "metadata": {},
   "source": [
    "### Как разные цели кредита влияют на его возврат в срок?"
   ]
  },
  {
   "cell_type": "markdown",
   "id": "d627f576",
   "metadata": {},
   "source": [
    "Расчитаем показатель просроченной задолженности  в зависимости от цели кредита. <br>\n",
    "<br> В таблице представлены следующие данные по группам в зависимости от цели кредита: количество выданных кредитов, количество кредитов с нарушением срока платежа, доля просроченных кредитов в каждой группе."
   ]
  },
  {
   "cell_type": "code",
   "execution_count": 26,
   "id": "5de37be5",
   "metadata": {},
   "outputs": [
    {
     "data": {
      "text/html": [
       "<div>\n",
       "<style scoped>\n",
       "    .dataframe tbody tr th:only-of-type {\n",
       "        vertical-align: middle;\n",
       "    }\n",
       "\n",
       "    .dataframe tbody tr th {\n",
       "        vertical-align: top;\n",
       "    }\n",
       "\n",
       "    .dataframe thead th {\n",
       "        text-align: right;\n",
       "    }\n",
       "</style>\n",
       "<table border=\"1\" class=\"dataframe\">\n",
       "  <thead>\n",
       "    <tr style=\"text-align: right;\">\n",
       "      <th></th>\n",
       "      <th>count</th>\n",
       "      <th>sum</th>\n",
       "      <th>mean</th>\n",
       "    </tr>\n",
       "    <tr>\n",
       "      <th>purpose_category</th>\n",
       "      <th></th>\n",
       "      <th></th>\n",
       "      <th></th>\n",
       "    </tr>\n",
       "  </thead>\n",
       "  <tbody>\n",
       "    <tr>\n",
       "      <th>операции с автомобилем</th>\n",
       "      <td>4279</td>\n",
       "      <td>400</td>\n",
       "      <td>0.093480</td>\n",
       "    </tr>\n",
       "    <tr>\n",
       "      <th>операции с недвижимостью</th>\n",
       "      <td>10751</td>\n",
       "      <td>780</td>\n",
       "      <td>0.072551</td>\n",
       "    </tr>\n",
       "    <tr>\n",
       "      <th>получение образования</th>\n",
       "      <td>3988</td>\n",
       "      <td>369</td>\n",
       "      <td>0.092528</td>\n",
       "    </tr>\n",
       "    <tr>\n",
       "      <th>проведение свадьбы</th>\n",
       "      <td>2313</td>\n",
       "      <td>183</td>\n",
       "      <td>0.079118</td>\n",
       "    </tr>\n",
       "  </tbody>\n",
       "</table>\n",
       "</div>"
      ],
      "text/plain": [
       "                          count  sum      mean\n",
       "purpose_category                              \n",
       "операции с автомобилем     4279  400  0.093480\n",
       "операции с недвижимостью  10751  780  0.072551\n",
       "получение образования      3988  369  0.092528\n",
       "проведение свадьбы         2313  183  0.079118"
      ]
     },
     "execution_count": 26,
     "metadata": {},
     "output_type": "execute_result"
    }
   ],
   "source": [
    "data.groupby(by = 'purpose_category')['debt'].agg(['count', 'sum', 'mean'])"
   ]
  },
  {
   "cell_type": "markdown",
   "id": "fd6400bc",
   "metadata": {},
   "source": [
    "**Промежуточный вывод:** <br>\n",
    "Меньше всего доля просроченной задолженности в категории \"операции с недвижимостью\". Немного менее вероятен возврат в срок кредит взятый на свадьбу. Небольшая разница между долей просроченных автокредитов и образовательных кредитов. Эти цели кредита в скоринговой оценке получили бы низший балл."
   ]
  },
  {
   "cell_type": "markdown",
   "id": "a7ca28f4",
   "metadata": {},
   "source": [
    "## Итоговые выводы\n",
    "В результате проделанной работы мы обработали пропуски в таблице, категоризировали ее и построили сводные таблицы для получения ответов на поставленные вопросы.\n",
    "\n",
    "Были получены необходимые для создания скоринговой системы ответы на следующие вопросы: <br>\n",
    "1. Есть ли зависимость между количеством детей и возвратом кредита в срок? <br>\n",
    "Доля просрочки у заемщиков без детей ниже, чем у заемщиков с одним, двумя, тремя и четыремя детьми. Согласно данным, наиболее добросовестные заемщики имеют пятерых детей или не имеют вовсе. \n",
    "2. Есть ли зависимость между семейным положением и возвратом кредита в срок? <br>\n",
    "Анализ данных показал, что наименее кредитоспособные заемщики - это не женатые / не замужние, наиболее надежные - овдовевшие и разведенные заемщики.\n",
    "3. Есть ли зависимость между уровнем дохода и возвратом кредита в срок? <br>\n",
    "Наибольшая вероятность вернуть выданный кредит в срок у заемщиков с доходом от 30 тыс до 50 тыс(Д) или от 200 тыс до 1млн(Б). Наиболее и наименее обеспеченные клиенты банка допускают просрочку чаще, чем клиенты отнесенные к категории Д и Б.\n",
    "4. Как разные цели кредита влияют на его возврат в срок? <br>\n",
    "Меньше всего доля просроченной задолженности в категории \"операции с недвижимостью\". Немного менее вероятен возврат в срок кредит взятый на свадьбу. Небольшая разница между долей просроченных автокредитов и образовательных кредитов. "
   ]
  },
  {
   "cell_type": "code",
   "execution_count": null,
   "id": "4c83811a",
   "metadata": {},
   "outputs": [],
   "source": []
  }
 ],
 "metadata": {
  "kernelspec": {
   "display_name": "Python 3 (ipykernel)",
   "language": "python",
   "name": "python3"
  },
  "language_info": {
   "codemirror_mode": {
    "name": "ipython",
    "version": 3
   },
   "file_extension": ".py",
   "mimetype": "text/x-python",
   "name": "python",
   "nbconvert_exporter": "python",
   "pygments_lexer": "ipython3",
   "version": "3.9.13"
  }
 },
 "nbformat": 4,
 "nbformat_minor": 5
}
