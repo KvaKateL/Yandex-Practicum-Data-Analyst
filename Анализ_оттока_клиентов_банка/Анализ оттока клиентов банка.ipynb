{
 "cells": [
  {
   "cell_type": "markdown",
   "metadata": {},
   "source": [
    "# Проект \"Банки — Анализ оттока клиентов\""
   ]
  },
  {
   "cell_type": "markdown",
   "metadata": {},
   "source": [
    "## Описание проекта\n",
    "\n",
    "Перед нам стоит ряд задач:\n",
    "- Провести исследовательский анализ данных банка,\n",
    "- Выделить портреты клиентов, которые склонны уходить из банка,\n",
    "- Сформулировать и проверить статистические гипотезы."
   ]
  },
  {
   "cell_type": "markdown",
   "metadata": {},
   "source": [
    "### Загрузка данных и изучение общей информации"
   ]
  },
  {
   "cell_type": "code",
   "execution_count": 2,
   "metadata": {},
   "outputs": [],
   "source": [
    "import pandas as pd\n",
    "import matplotlib.pyplot as plt\n",
    "import seaborn as sns\n",
    "import numpy as np\n",
    "import scipy.stats as st\n",
    "import math\n",
    "import warnings\n",
    "import phik\n",
    "warnings.filterwarnings('ignore')"
   ]
  },
  {
   "cell_type": "code",
   "execution_count": 3,
   "metadata": {},
   "outputs": [],
   "source": [
    "data = pd.read_csv('https://code.s3.yandex.net/datasets/bank_scrooge.csv')"
   ]
  },
  {
   "cell_type": "code",
   "execution_count": 4,
   "metadata": {},
   "outputs": [
    {
     "data": {
      "text/html": [
       "<div>\n",
       "<style scoped>\n",
       "    .dataframe tbody tr th:only-of-type {\n",
       "        vertical-align: middle;\n",
       "    }\n",
       "\n",
       "    .dataframe tbody tr th {\n",
       "        vertical-align: top;\n",
       "    }\n",
       "\n",
       "    .dataframe thead th {\n",
       "        text-align: right;\n",
       "    }\n",
       "</style>\n",
       "<table border=\"1\" class=\"dataframe\">\n",
       "  <thead>\n",
       "    <tr style=\"text-align: right;\">\n",
       "      <th></th>\n",
       "      <th>USERID</th>\n",
       "      <th>score</th>\n",
       "      <th>city</th>\n",
       "      <th>gender</th>\n",
       "      <th>age</th>\n",
       "      <th>equity</th>\n",
       "      <th>balance</th>\n",
       "      <th>products</th>\n",
       "      <th>credit_card</th>\n",
       "      <th>last_activity</th>\n",
       "      <th>EST_SALARY</th>\n",
       "      <th>churn</th>\n",
       "    </tr>\n",
       "  </thead>\n",
       "  <tbody>\n",
       "    <tr>\n",
       "      <th>0</th>\n",
       "      <td>183012</td>\n",
       "      <td>850.0</td>\n",
       "      <td>Рыбинск</td>\n",
       "      <td>Ж</td>\n",
       "      <td>25.0</td>\n",
       "      <td>1</td>\n",
       "      <td>59214.82</td>\n",
       "      <td>2</td>\n",
       "      <td>0</td>\n",
       "      <td>1</td>\n",
       "      <td>75719.14</td>\n",
       "      <td>1</td>\n",
       "    </tr>\n",
       "    <tr>\n",
       "      <th>1</th>\n",
       "      <td>146556</td>\n",
       "      <td>861.0</td>\n",
       "      <td>Рыбинск</td>\n",
       "      <td>Ж</td>\n",
       "      <td>37.0</td>\n",
       "      <td>5</td>\n",
       "      <td>850594.33</td>\n",
       "      <td>3</td>\n",
       "      <td>1</td>\n",
       "      <td>0</td>\n",
       "      <td>86621.77</td>\n",
       "      <td>0</td>\n",
       "    </tr>\n",
       "    <tr>\n",
       "      <th>2</th>\n",
       "      <td>120722</td>\n",
       "      <td>892.0</td>\n",
       "      <td>Рыбинск</td>\n",
       "      <td>Ж</td>\n",
       "      <td>30.0</td>\n",
       "      <td>0</td>\n",
       "      <td>NaN</td>\n",
       "      <td>1</td>\n",
       "      <td>1</td>\n",
       "      <td>1</td>\n",
       "      <td>107683.34</td>\n",
       "      <td>0</td>\n",
       "    </tr>\n",
       "    <tr>\n",
       "      <th>3</th>\n",
       "      <td>225363</td>\n",
       "      <td>866.0</td>\n",
       "      <td>Ярославль</td>\n",
       "      <td>Ж</td>\n",
       "      <td>51.0</td>\n",
       "      <td>5</td>\n",
       "      <td>1524746.26</td>\n",
       "      <td>2</td>\n",
       "      <td>0</td>\n",
       "      <td>1</td>\n",
       "      <td>174423.53</td>\n",
       "      <td>1</td>\n",
       "    </tr>\n",
       "    <tr>\n",
       "      <th>4</th>\n",
       "      <td>157978</td>\n",
       "      <td>730.0</td>\n",
       "      <td>Ярославль</td>\n",
       "      <td>М</td>\n",
       "      <td>34.0</td>\n",
       "      <td>5</td>\n",
       "      <td>174.00</td>\n",
       "      <td>1</td>\n",
       "      <td>1</td>\n",
       "      <td>0</td>\n",
       "      <td>67353.16</td>\n",
       "      <td>1</td>\n",
       "    </tr>\n",
       "  </tbody>\n",
       "</table>\n",
       "</div>"
      ],
      "text/plain": [
       "   USERID  score       city gender   age  equity     balance  products  \\\n",
       "0  183012  850.0    Рыбинск      Ж  25.0       1    59214.82         2   \n",
       "1  146556  861.0    Рыбинск      Ж  37.0       5   850594.33         3   \n",
       "2  120722  892.0    Рыбинск      Ж  30.0       0         NaN         1   \n",
       "3  225363  866.0  Ярославль      Ж  51.0       5  1524746.26         2   \n",
       "4  157978  730.0  Ярославль      М  34.0       5      174.00         1   \n",
       "\n",
       "   credit_card  last_activity  EST_SALARY  churn  \n",
       "0            0              1    75719.14      1  \n",
       "1            1              0    86621.77      0  \n",
       "2            1              1   107683.34      0  \n",
       "3            0              1   174423.53      1  \n",
       "4            1              0    67353.16      1  "
      ]
     },
     "execution_count": 4,
     "metadata": {},
     "output_type": "execute_result"
    }
   ],
   "source": [
    "data.head()"
   ]
  },
  {
   "cell_type": "code",
   "execution_count": 5,
   "metadata": {},
   "outputs": [
    {
     "name": "stdout",
     "output_type": "stream",
     "text": [
      "<class 'pandas.core.frame.DataFrame'>\n",
      "RangeIndex: 10000 entries, 0 to 9999\n",
      "Data columns (total 12 columns):\n",
      " #   Column         Non-Null Count  Dtype  \n",
      "---  ------         --------------  -----  \n",
      " 0   USERID         10000 non-null  int64  \n",
      " 1   score          10000 non-null  float64\n",
      " 2   city           10000 non-null  object \n",
      " 3   gender         10000 non-null  object \n",
      " 4   age            9974 non-null   float64\n",
      " 5   equity         10000 non-null  int64  \n",
      " 6   balance        7705 non-null   float64\n",
      " 7   products       10000 non-null  int64  \n",
      " 8   credit_card    10000 non-null  int64  \n",
      " 9   last_activity  10000 non-null  int64  \n",
      " 10  EST_SALARY     10000 non-null  float64\n",
      " 11  churn          10000 non-null  int64  \n",
      "dtypes: float64(4), int64(6), object(2)\n",
      "memory usage: 937.6+ KB\n"
     ]
    }
   ],
   "source": [
    "data.info()"
   ]
  },
  {
   "cell_type": "markdown",
   "metadata": {},
   "source": [
    "## Предобработка данных\n",
    "Произведем предобработку данных.\n",
    "### Замена названий столбцов (приведем к нижнему регистру)"
   ]
  },
  {
   "cell_type": "code",
   "execution_count": 6,
   "metadata": {},
   "outputs": [],
   "source": [
    "data.columns = data.columns.str.lower()"
   ]
  },
  {
   "cell_type": "markdown",
   "metadata": {},
   "source": [
    "### Проверка типов данных\n",
    "Скорретируем типы данных у некоторых столбцов"
   ]
  },
  {
   "cell_type": "code",
   "execution_count": 7,
   "metadata": {},
   "outputs": [],
   "source": [
    "data['score'] = data['score'].astype('Int64')\n",
    "data['age'] = data['age'].astype('Int64')"
   ]
  },
  {
   "cell_type": "markdown",
   "metadata": {},
   "source": [
    "\n",
    "### Работа с пропусками"
   ]
  },
  {
   "cell_type": "code",
   "execution_count": 8,
   "metadata": {},
   "outputs": [],
   "source": [
    "def pass_value_barh(df):\n",
    "    try:\n",
    "        (\n",
    "            (df.isna().mean()*100)\n",
    "            .to_frame()\n",
    "            .rename(columns = {0:'space'})\n",
    "            .query('space > 0')\n",
    "            .sort_values(by = 'space', ascending = True)\n",
    "            .plot(kind = 'barh', figsize = (19,6), legend = False, fontsize = 16)\n",
    "            .set_title('Доля пропущенных значений в столбцах, %' + \"\\n\", fontsize = 22, color = 'SteelBlue')    \n",
    "        );    \n",
    "    except:\n",
    "        print('пропусков не осталось :) или произошла ошибка в первой части функции ')"
   ]
  },
  {
   "cell_type": "code",
   "execution_count": 9,
   "metadata": {},
   "outputs": [
    {
     "data": {
      "image/png": "[encoded data removed]",
      "text/plain": [
       "<Figure size 1368x432 with 1 Axes>"
      ]
     },
     "metadata": {
      "needs_background": "light"
     },
     "output_type": "display_data"
    }
   ],
   "source": [
    "pass_value_barh(data)"
   ]
  },
  {
   "cell_type": "markdown",
   "metadata": {},
   "source": [
    "Пропуски присутсвуют в двух столбцах: Баланс и Возвраст. Пропущенных данных в столбце возраст не так много (<1%), восполнять такой показатель как возраст средними и медианным значениям неэффективно, отбросим строки, где значение возраста пропущено."
   ]
  },
  {
   "cell_type": "code",
   "execution_count": 10,
   "metadata": {},
   "outputs": [],
   "source": [
    "data.dropna(subset = ['age'], inplace = True)"
   ]
  },
  {
   "cell_type": "markdown",
   "metadata": {},
   "source": [
    "Необходимо исследовать пропуски в графе баланса:"
   ]
  },
  {
   "cell_type": "code",
   "execution_count": 11,
   "metadata": {},
   "outputs": [],
   "source": [
    "data['balance_is_na'] = data['balance'].isna()"
   ]
  },
  {
   "cell_type": "code",
   "execution_count": 12,
   "metadata": {},
   "outputs": [
    {
     "data": {
      "text/html": [
       "<div>\n",
       "<style scoped>\n",
       "    .dataframe tbody tr th:only-of-type {\n",
       "        vertical-align: middle;\n",
       "    }\n",
       "\n",
       "    .dataframe tbody tr th {\n",
       "        vertical-align: top;\n",
       "    }\n",
       "\n",
       "    .dataframe thead th {\n",
       "        text-align: right;\n",
       "    }\n",
       "</style>\n",
       "<table border=\"1\" class=\"dataframe\">\n",
       "  <thead>\n",
       "    <tr style=\"text-align: right;\">\n",
       "      <th></th>\n",
       "      <th>userid</th>\n",
       "      <th>score</th>\n",
       "      <th>city</th>\n",
       "      <th>gender</th>\n",
       "      <th>age</th>\n",
       "      <th>equity</th>\n",
       "      <th>balance</th>\n",
       "      <th>products</th>\n",
       "      <th>credit_card</th>\n",
       "      <th>last_activity</th>\n",
       "      <th>est_salary</th>\n",
       "      <th>churn</th>\n",
       "      <th>balance_is_na</th>\n",
       "    </tr>\n",
       "  </thead>\n",
       "  <tbody>\n",
       "    <tr>\n",
       "      <th>0</th>\n",
       "      <td>183012</td>\n",
       "      <td>850</td>\n",
       "      <td>Рыбинск</td>\n",
       "      <td>Ж</td>\n",
       "      <td>25</td>\n",
       "      <td>1</td>\n",
       "      <td>59214.82</td>\n",
       "      <td>2</td>\n",
       "      <td>0</td>\n",
       "      <td>1</td>\n",
       "      <td>75719.14</td>\n",
       "      <td>1</td>\n",
       "      <td>False</td>\n",
       "    </tr>\n",
       "    <tr>\n",
       "      <th>1</th>\n",
       "      <td>146556</td>\n",
       "      <td>861</td>\n",
       "      <td>Рыбинск</td>\n",
       "      <td>Ж</td>\n",
       "      <td>37</td>\n",
       "      <td>5</td>\n",
       "      <td>850594.33</td>\n",
       "      <td>3</td>\n",
       "      <td>1</td>\n",
       "      <td>0</td>\n",
       "      <td>86621.77</td>\n",
       "      <td>0</td>\n",
       "      <td>False</td>\n",
       "    </tr>\n",
       "    <tr>\n",
       "      <th>2</th>\n",
       "      <td>120722</td>\n",
       "      <td>892</td>\n",
       "      <td>Рыбинск</td>\n",
       "      <td>Ж</td>\n",
       "      <td>30</td>\n",
       "      <td>0</td>\n",
       "      <td>NaN</td>\n",
       "      <td>1</td>\n",
       "      <td>1</td>\n",
       "      <td>1</td>\n",
       "      <td>107683.34</td>\n",
       "      <td>0</td>\n",
       "      <td>True</td>\n",
       "    </tr>\n",
       "    <tr>\n",
       "      <th>3</th>\n",
       "      <td>225363</td>\n",
       "      <td>866</td>\n",
       "      <td>Ярославль</td>\n",
       "      <td>Ж</td>\n",
       "      <td>51</td>\n",
       "      <td>5</td>\n",
       "      <td>1524746.26</td>\n",
       "      <td>2</td>\n",
       "      <td>0</td>\n",
       "      <td>1</td>\n",
       "      <td>174423.53</td>\n",
       "      <td>1</td>\n",
       "      <td>False</td>\n",
       "    </tr>\n",
       "    <tr>\n",
       "      <th>4</th>\n",
       "      <td>157978</td>\n",
       "      <td>730</td>\n",
       "      <td>Ярославль</td>\n",
       "      <td>М</td>\n",
       "      <td>34</td>\n",
       "      <td>5</td>\n",
       "      <td>174.00</td>\n",
       "      <td>1</td>\n",
       "      <td>1</td>\n",
       "      <td>0</td>\n",
       "      <td>67353.16</td>\n",
       "      <td>1</td>\n",
       "      <td>False</td>\n",
       "    </tr>\n",
       "  </tbody>\n",
       "</table>\n",
       "</div>"
      ],
      "text/plain": [
       "   userid  score       city gender  age  equity     balance  products  \\\n",
       "0  183012    850    Рыбинск      Ж   25       1    59214.82         2   \n",
       "1  146556    861    Рыбинск      Ж   37       5   850594.33         3   \n",
       "2  120722    892    Рыбинск      Ж   30       0         NaN         1   \n",
       "3  225363    866  Ярославль      Ж   51       5  1524746.26         2   \n",
       "4  157978    730  Ярославль      М   34       5      174.00         1   \n",
       "\n",
       "   credit_card  last_activity  est_salary  churn  balance_is_na  \n",
       "0            0              1    75719.14      1          False  \n",
       "1            1              0    86621.77      0          False  \n",
       "2            1              1   107683.34      0           True  \n",
       "3            0              1   174423.53      1          False  \n",
       "4            1              0    67353.16      1          False  "
      ]
     },
     "execution_count": 12,
     "metadata": {},
     "output_type": "execute_result"
    }
   ],
   "source": [
    "data.head(5)"
   ]
  },
  {
   "cell_type": "code",
   "execution_count": 13,
   "metadata": {
    "scrolled": false
   },
   "outputs": [
    {
     "data": {
      "image/png": "[encoded data removed]",
      "text/plain": [
       "<Figure size 1440x576 with 1 Axes>"
      ]
     },
     "metadata": {
      "needs_background": "light"
     },
     "output_type": "display_data"
    },
    {
     "data": {
      "image/png": "[encoded data removed]",
      "text/plain": [
       "<Figure size 1440x576 with 1 Axes>"
      ]
     },
     "metadata": {
      "needs_background": "light"
     },
     "output_type": "display_data"
    },
    {
     "data": {
      "image/png": "[encoded data removed]",
      "text/plain": [
       "<Figure size 1440x576 with 1 Axes>"
      ]
     },
     "metadata": {
      "needs_background": "light"
     },
     "output_type": "display_data"
    },
    {
     "data": {
      "image/png": "[encoded data removed]",
      "text/plain": [
       "<Figure size 1440x576 with 1 Axes>"
      ]
     },
     "metadata": {
      "needs_background": "light"
     },
     "output_type": "display_data"
    },
    {
     "data": {
      "image/png": "[encoded data removed]",
      "text/plain": [
       "<Figure size 1440x576 with 1 Axes>"
      ]
     },
     "metadata": {
      "needs_background": "light"
     },
     "output_type": "display_data"
    }
   ],
   "source": [
    "for column in ['score', 'age', 'equity', 'products', 'est_salary']:\n",
    "    plt.figure(figsize=(20,8))\n",
    "    sns.histplot(data=data, x=column, hue='balance_is_na', stat=\"density\", common_norm=False);\n",
    "    plt.title(f'Распределение клиентов по признаку {column}')\n",
    "    plt.show()   "
   ]
  },
  {
   "cell_type": "code",
   "execution_count": 14,
   "metadata": {},
   "outputs": [
    {
     "data": {
      "image/png": "[encoded data removed]",
      "text/plain": [
       "<Figure size 432x288 with 1 Axes>"
      ]
     },
     "metadata": {
      "needs_background": "light"
     },
     "output_type": "display_data"
    }
   ],
   "source": [
    "city_group = data.query('balance_is_na == True').groupby('city')['userid'].count()\n",
    "city_group.plot(kind='bar', color='c');"
   ]
  },
  {
   "cell_type": "markdown",
   "metadata": {},
   "source": [
    "- Нет данных о балансе у клиентов с самыми низкими и самыми высокими оценками скоринга.\n",
    "- Распределение данных о возрасте почти одинаковое для данных с пропусками и данных без пропусков.\n",
    "- Нет данных о балансе у клиентов, у которых нет собственности или один объект, а также один или два продукта банка \n",
    "- Распределение по доходам схожи, хотя для среза данных с пропусками немного смещены.\n",
    "- Больше всего пропусков для клиентов из Ярославля (но пользователей из Ярославля и так больше)"
   ]
  },
  {
   "cell_type": "code",
   "execution_count": 15,
   "metadata": {},
   "outputs": [
    {
     "name": "stdout",
     "output_type": "stream",
     "text": [
      "Средние значения признаков всего датафрейма\n",
      "userid           171755.22\n",
      "score               848.68\n",
      "age                  42.73\n",
      "equity                2.63\n",
      "balance          827245.59\n",
      "products              1.87\n",
      "credit_card           0.68\n",
      "last_activity         0.52\n",
      "est_salary       147786.81\n",
      "churn                 0.18\n",
      "balance_is_na         0.23\n",
      "dtype: float64\n",
      "------------------------------\n",
      "Средние значения признаков датафрейма с пропусками в столбце balance\n",
      "userid           171904.89\n",
      "score               865.36\n",
      "age                  42.09\n",
      "equity                0.05\n",
      "balance                NaN\n",
      "products              1.16\n",
      "credit_card           0.82\n",
      "last_activity         0.55\n",
      "est_salary       226345.42\n",
      "churn                 0.01\n",
      "balance_is_na         1.00\n",
      "dtype: float64\n"
     ]
    }
   ],
   "source": [
    "# сделаем срез данных, где баланс пропущен, и сравним средние значения баланса\n",
    "nan_balance = data.query('balance.isna()')\n",
    "\n",
    "print('Средние значения признаков всего датафрейма')\n",
    "print(round(data.mean(), 2))\n",
    "print('------------------------------')\n",
    "print('Средние значения признаков датафрейма с пропусками в столбце balance')\n",
    "print(round(nan_balance.mean(), 2))"
   ]
  },
  {
   "cell_type": "markdown",
   "metadata": {},
   "source": [
    "- Средние значения большинства признаков схожи, нет связи пропусков с остальными данными. Следовательно пропуски не связаны с оттоком (они есть как у тех, кто является клиентом, так и у тех, кто рассторгнул договор). <br>\n",
    "\n",
    "Можно предположить, что пропуски значений - это счета без средств, тогда можно заменить пропущенные значения на ноль."
   ]
  },
  {
   "cell_type": "code",
   "execution_count": 16,
   "metadata": {},
   "outputs": [],
   "source": [
    "data = data.drop(['balance_is_na'], axis=1)"
   ]
  },
  {
   "cell_type": "markdown",
   "metadata": {},
   "source": [
    "### Обработка дубликатов"
   ]
  },
  {
   "cell_type": "code",
   "execution_count": 17,
   "metadata": {},
   "outputs": [
    {
     "data": {
      "text/plain": [
       "0"
      ]
     },
     "execution_count": 17,
     "metadata": {},
     "output_type": "execute_result"
    }
   ],
   "source": [
    "data.duplicated().sum()"
   ]
  },
  {
   "cell_type": "code",
   "execution_count": 18,
   "metadata": {},
   "outputs": [
    {
     "data": {
      "text/plain": [
       "0"
      ]
     },
     "execution_count": 18,
     "metadata": {},
     "output_type": "execute_result"
    }
   ],
   "source": [
    "data.duplicated(subset=['gender','age', 'est_salary']).sum()"
   ]
  },
  {
   "cell_type": "markdown",
   "metadata": {},
   "source": [
    "Полностью совпадающих строк нет."
   ]
  },
  {
   "cell_type": "code",
   "execution_count": 19,
   "metadata": {},
   "outputs": [
    {
     "data": {
      "text/plain": [
       "50"
      ]
     },
     "execution_count": 19,
     "metadata": {},
     "output_type": "execute_result"
    }
   ],
   "source": [
    "data['userid'].duplicated().sum()"
   ]
  },
  {
   "cell_type": "markdown",
   "metadata": {},
   "source": [
    "Но есть дубликаты АйДи пользователя. Удалим эти строки."
   ]
  },
  {
   "cell_type": "code",
   "execution_count": 20,
   "metadata": {},
   "outputs": [],
   "source": [
    "data = data.drop_duplicates(['userid']).reset_index(drop = True)"
   ]
  },
  {
   "cell_type": "markdown",
   "metadata": {},
   "source": [
    "### Добавление столбцов для численного кодирования данных (пол и город)\n",
    "#### Кодируем столбец \"Gender\"\n",
    "Код: 1 - Женский, 0 - Мужской"
   ]
  },
  {
   "cell_type": "code",
   "execution_count": 21,
   "metadata": {},
   "outputs": [],
   "source": [
    "data['dender_kod'] =  np.where(data['gender']== 'Ж', 1, 0)"
   ]
  },
  {
   "cell_type": "markdown",
   "metadata": {},
   "source": [
    "#### Кодируем столбец \"City\""
   ]
  },
  {
   "cell_type": "code",
   "execution_count": 22,
   "metadata": {},
   "outputs": [],
   "source": [
    "data['city_1']=data['city']\n",
    "data = pd.get_dummies(data, columns=[\"city_1\"], prefix=[\"city\"])"
   ]
  },
  {
   "cell_type": "code",
   "execution_count": 23,
   "metadata": {},
   "outputs": [
    {
     "data": {
      "text/html": [
       "<div>\n",
       "<style scoped>\n",
       "    .dataframe tbody tr th:only-of-type {\n",
       "        vertical-align: middle;\n",
       "    }\n",
       "\n",
       "    .dataframe tbody tr th {\n",
       "        vertical-align: top;\n",
       "    }\n",
       "\n",
       "    .dataframe thead th {\n",
       "        text-align: right;\n",
       "    }\n",
       "</style>\n",
       "<table border=\"1\" class=\"dataframe\">\n",
       "  <thead>\n",
       "    <tr style=\"text-align: right;\">\n",
       "      <th></th>\n",
       "      <th>userid</th>\n",
       "      <th>score</th>\n",
       "      <th>city</th>\n",
       "      <th>gender</th>\n",
       "      <th>age</th>\n",
       "      <th>equity</th>\n",
       "      <th>balance</th>\n",
       "      <th>products</th>\n",
       "      <th>credit_card</th>\n",
       "      <th>last_activity</th>\n",
       "      <th>est_salary</th>\n",
       "      <th>churn</th>\n",
       "      <th>dender_kod</th>\n",
       "      <th>city_Ростов</th>\n",
       "      <th>city_Рыбинск</th>\n",
       "      <th>city_Ярославль</th>\n",
       "    </tr>\n",
       "  </thead>\n",
       "  <tbody>\n",
       "    <tr>\n",
       "      <th>0</th>\n",
       "      <td>183012</td>\n",
       "      <td>850</td>\n",
       "      <td>Рыбинск</td>\n",
       "      <td>Ж</td>\n",
       "      <td>25</td>\n",
       "      <td>1</td>\n",
       "      <td>59214.82</td>\n",
       "      <td>2</td>\n",
       "      <td>0</td>\n",
       "      <td>1</td>\n",
       "      <td>75719.14</td>\n",
       "      <td>1</td>\n",
       "      <td>1</td>\n",
       "      <td>0</td>\n",
       "      <td>1</td>\n",
       "      <td>0</td>\n",
       "    </tr>\n",
       "    <tr>\n",
       "      <th>1</th>\n",
       "      <td>146556</td>\n",
       "      <td>861</td>\n",
       "      <td>Рыбинск</td>\n",
       "      <td>Ж</td>\n",
       "      <td>37</td>\n",
       "      <td>5</td>\n",
       "      <td>850594.33</td>\n",
       "      <td>3</td>\n",
       "      <td>1</td>\n",
       "      <td>0</td>\n",
       "      <td>86621.77</td>\n",
       "      <td>0</td>\n",
       "      <td>1</td>\n",
       "      <td>0</td>\n",
       "      <td>1</td>\n",
       "      <td>0</td>\n",
       "    </tr>\n",
       "    <tr>\n",
       "      <th>2</th>\n",
       "      <td>120722</td>\n",
       "      <td>892</td>\n",
       "      <td>Рыбинск</td>\n",
       "      <td>Ж</td>\n",
       "      <td>30</td>\n",
       "      <td>0</td>\n",
       "      <td>NaN</td>\n",
       "      <td>1</td>\n",
       "      <td>1</td>\n",
       "      <td>1</td>\n",
       "      <td>107683.34</td>\n",
       "      <td>0</td>\n",
       "      <td>1</td>\n",
       "      <td>0</td>\n",
       "      <td>1</td>\n",
       "      <td>0</td>\n",
       "    </tr>\n",
       "    <tr>\n",
       "      <th>3</th>\n",
       "      <td>225363</td>\n",
       "      <td>866</td>\n",
       "      <td>Ярославль</td>\n",
       "      <td>Ж</td>\n",
       "      <td>51</td>\n",
       "      <td>5</td>\n",
       "      <td>1524746.26</td>\n",
       "      <td>2</td>\n",
       "      <td>0</td>\n",
       "      <td>1</td>\n",
       "      <td>174423.53</td>\n",
       "      <td>1</td>\n",
       "      <td>1</td>\n",
       "      <td>0</td>\n",
       "      <td>0</td>\n",
       "      <td>1</td>\n",
       "    </tr>\n",
       "    <tr>\n",
       "      <th>4</th>\n",
       "      <td>157978</td>\n",
       "      <td>730</td>\n",
       "      <td>Ярославль</td>\n",
       "      <td>М</td>\n",
       "      <td>34</td>\n",
       "      <td>5</td>\n",
       "      <td>174.00</td>\n",
       "      <td>1</td>\n",
       "      <td>1</td>\n",
       "      <td>0</td>\n",
       "      <td>67353.16</td>\n",
       "      <td>1</td>\n",
       "      <td>0</td>\n",
       "      <td>0</td>\n",
       "      <td>0</td>\n",
       "      <td>1</td>\n",
       "    </tr>\n",
       "    <tr>\n",
       "      <th>5</th>\n",
       "      <td>202305</td>\n",
       "      <td>856</td>\n",
       "      <td>Рыбинск</td>\n",
       "      <td>М</td>\n",
       "      <td>56</td>\n",
       "      <td>4</td>\n",
       "      <td>863687.24</td>\n",
       "      <td>3</td>\n",
       "      <td>1</td>\n",
       "      <td>0</td>\n",
       "      <td>156619.80</td>\n",
       "      <td>0</td>\n",
       "      <td>0</td>\n",
       "      <td>0</td>\n",
       "      <td>1</td>\n",
       "      <td>0</td>\n",
       "    </tr>\n",
       "    <tr>\n",
       "      <th>6</th>\n",
       "      <td>177259</td>\n",
       "      <td>807</td>\n",
       "      <td>Ярославль</td>\n",
       "      <td>Ж</td>\n",
       "      <td>39</td>\n",
       "      <td>3</td>\n",
       "      <td>405042.44</td>\n",
       "      <td>3</td>\n",
       "      <td>0</td>\n",
       "      <td>1</td>\n",
       "      <td>103838.32</td>\n",
       "      <td>0</td>\n",
       "      <td>1</td>\n",
       "      <td>0</td>\n",
       "      <td>0</td>\n",
       "      <td>1</td>\n",
       "    </tr>\n",
       "    <tr>\n",
       "      <th>7</th>\n",
       "      <td>218868</td>\n",
       "      <td>825</td>\n",
       "      <td>Ярославль</td>\n",
       "      <td>Ж</td>\n",
       "      <td>38</td>\n",
       "      <td>4</td>\n",
       "      <td>458145.40</td>\n",
       "      <td>2</td>\n",
       "      <td>1</td>\n",
       "      <td>1</td>\n",
       "      <td>68085.48</td>\n",
       "      <td>0</td>\n",
       "      <td>1</td>\n",
       "      <td>0</td>\n",
       "      <td>0</td>\n",
       "      <td>1</td>\n",
       "    </tr>\n",
       "  </tbody>\n",
       "</table>\n",
       "</div>"
      ],
      "text/plain": [
       "   userid  score       city gender  age  equity     balance  products  \\\n",
       "0  183012    850    Рыбинск      Ж   25       1    59214.82         2   \n",
       "1  146556    861    Рыбинск      Ж   37       5   850594.33         3   \n",
       "2  120722    892    Рыбинск      Ж   30       0         NaN         1   \n",
       "3  225363    866  Ярославль      Ж   51       5  1524746.26         2   \n",
       "4  157978    730  Ярославль      М   34       5      174.00         1   \n",
       "5  202305    856    Рыбинск      М   56       4   863687.24         3   \n",
       "6  177259    807  Ярославль      Ж   39       3   405042.44         3   \n",
       "7  218868    825  Ярославль      Ж   38       4   458145.40         2   \n",
       "\n",
       "   credit_card  last_activity  est_salary  churn  dender_kod  city_Ростов  \\\n",
       "0            0              1    75719.14      1           1            0   \n",
       "1            1              0    86621.77      0           1            0   \n",
       "2            1              1   107683.34      0           1            0   \n",
       "3            0              1   174423.53      1           1            0   \n",
       "4            1              0    67353.16      1           0            0   \n",
       "5            1              0   156619.80      0           0            0   \n",
       "6            0              1   103838.32      0           1            0   \n",
       "7            1              1    68085.48      0           1            0   \n",
       "\n",
       "   city_Рыбинск  city_Ярославль  \n",
       "0             1               0  \n",
       "1             1               0  \n",
       "2             1               0  \n",
       "3             0               1  \n",
       "4             0               1  \n",
       "5             1               0  \n",
       "6             0               1  \n",
       "7             0               1  "
      ]
     },
     "execution_count": 23,
     "metadata": {},
     "output_type": "execute_result"
    }
   ],
   "source": [
    "data.head(8)"
   ]
  },
  {
   "cell_type": "markdown",
   "metadata": {},
   "source": [
    "#### Исследования аномальных значений"
   ]
  },
  {
   "cell_type": "code",
   "execution_count": 25,
   "metadata": {},
   "outputs": [
    {
     "name": "stdout",
     "output_type": "stream",
     "text": [
      "Данные по собственности:\n",
      "0    2554\n",
      "5    1910\n",
      "4    1841\n",
      "3    1532\n",
      "2    1046\n",
      "1     771\n",
      "6     161\n",
      "7      79\n",
      "8      17\n",
      "9      13\n",
      "Name: equity, dtype: int64\n",
      "------------------------------\n",
      "Данные по количеству продуктов:\n",
      "2    5095\n",
      "1    3306\n",
      "3    1029\n",
      "4     474\n",
      "5      19\n",
      "0       1\n",
      "Name: products, dtype: int64\n"
     ]
    }
   ],
   "source": [
    "print('Данные по собственности:')\n",
    "print(data['equity'].value_counts())\n",
    "print('------------------------------')\n",
    "print('Данные по количеству продуктов:')\n",
    "print(data['products'].value_counts())"
   ]
  },
  {
   "cell_type": "code",
   "execution_count": 26,
   "metadata": {},
   "outputs": [
    {
     "data": {
      "text/plain": [
       "count    9.924000e+03\n",
       "mean     1.478802e+05\n",
       "std      1.393583e+05\n",
       "min      2.546300e+03\n",
       "25%      7.525218e+04\n",
       "50%      1.197154e+05\n",
       "75%      1.746669e+05\n",
       "max      1.395064e+06\n",
       "Name: est_salary, dtype: float64"
      ]
     },
     "execution_count": 26,
     "metadata": {},
     "output_type": "execute_result"
    }
   ],
   "source": [
    "data['est_salary'].describe()"
   ]
  },
  {
   "cell_type": "code",
   "execution_count": 27,
   "metadata": {},
   "outputs": [
    {
     "data": {
      "text/plain": [
       "count    7.664000e+03\n",
       "mean     8.282063e+05\n",
       "std      1.984122e+06\n",
       "min      0.000000e+00\n",
       "25%      2.955266e+05\n",
       "50%      5.249277e+05\n",
       "75%      9.807537e+05\n",
       "max      1.191136e+08\n",
       "Name: balance, dtype: float64"
      ]
     },
     "execution_count": 27,
     "metadata": {},
     "output_type": "execute_result"
    }
   ],
   "source": [
    "data['balance'].describe()"
   ]
  },
  {
   "cell_type": "markdown",
   "metadata": {},
   "source": [
    "Среди рассмотренных столбцов, аномальное значение обнаружено в столбце количества продуктов, у одного из клиентов нет ни одного продукта. Удалим эту строку."
   ]
  },
  {
   "cell_type": "code",
   "execution_count": 28,
   "metadata": {},
   "outputs": [],
   "source": [
    "data = data.query('products != 0')"
   ]
  },
  {
   "cell_type": "markdown",
   "metadata": {},
   "source": [
    "## Исследовательский анализ данных"
   ]
  },
  {
   "cell_type": "markdown",
   "metadata": {},
   "source": [
    "### Изучение средних значений и общего портрета клиента"
   ]
  },
  {
   "cell_type": "code",
   "execution_count": 29,
   "metadata": {},
   "outputs": [
    {
     "data": {
      "text/html": [
       "<div>\n",
       "<style scoped>\n",
       "    .dataframe tbody tr th:only-of-type {\n",
       "        vertical-align: middle;\n",
       "    }\n",
       "\n",
       "    .dataframe tbody tr th {\n",
       "        vertical-align: top;\n",
       "    }\n",
       "\n",
       "    .dataframe thead th {\n",
       "        text-align: right;\n",
       "    }\n",
       "</style>\n",
       "<table border=\"1\" class=\"dataframe\">\n",
       "  <thead>\n",
       "    <tr style=\"text-align: right;\">\n",
       "      <th></th>\n",
       "      <th>userid</th>\n",
       "      <th>score</th>\n",
       "      <th>age</th>\n",
       "      <th>equity</th>\n",
       "      <th>balance</th>\n",
       "      <th>products</th>\n",
       "      <th>credit_card</th>\n",
       "      <th>last_activity</th>\n",
       "      <th>est_salary</th>\n",
       "      <th>churn</th>\n",
       "      <th>dender_kod</th>\n",
       "      <th>city_Ростов</th>\n",
       "      <th>city_Рыбинск</th>\n",
       "      <th>city_Ярославль</th>\n",
       "    </tr>\n",
       "  </thead>\n",
       "  <tbody>\n",
       "    <tr>\n",
       "      <th>count</th>\n",
       "      <td>9923.000000</td>\n",
       "      <td>9923.000000</td>\n",
       "      <td>9923.000000</td>\n",
       "      <td>9923.000000</td>\n",
       "      <td>7.664000e+03</td>\n",
       "      <td>9923.000000</td>\n",
       "      <td>9923.000000</td>\n",
       "      <td>9923.000000</td>\n",
       "      <td>9.923000e+03</td>\n",
       "      <td>9923.000000</td>\n",
       "      <td>9923.000000</td>\n",
       "      <td>9923.000000</td>\n",
       "      <td>9923.000000</td>\n",
       "      <td>9923.000000</td>\n",
       "    </tr>\n",
       "    <tr>\n",
       "      <th>mean</th>\n",
       "      <td>171739.567268</td>\n",
       "      <td>848.719944</td>\n",
       "      <td>42.725184</td>\n",
       "      <td>2.634486</td>\n",
       "      <td>8.282063e+05</td>\n",
       "      <td>1.871813</td>\n",
       "      <td>0.680036</td>\n",
       "      <td>0.523430</td>\n",
       "      <td>1.478926e+05</td>\n",
       "      <td>0.183211</td>\n",
       "      <td>0.499043</td>\n",
       "      <td>0.142699</td>\n",
       "      <td>0.267359</td>\n",
       "      <td>0.589943</td>\n",
       "    </tr>\n",
       "    <tr>\n",
       "      <th>std</th>\n",
       "      <td>33698.263769</td>\n",
       "      <td>65.390298</td>\n",
       "      <td>12.171619</td>\n",
       "      <td>1.979467</td>\n",
       "      <td>1.984122e+06</td>\n",
       "      <td>0.792969</td>\n",
       "      <td>0.466486</td>\n",
       "      <td>0.499476</td>\n",
       "      <td>1.393599e+05</td>\n",
       "      <td>0.386859</td>\n",
       "      <td>0.500024</td>\n",
       "      <td>0.349783</td>\n",
       "      <td>0.442603</td>\n",
       "      <td>0.491869</td>\n",
       "    </tr>\n",
       "    <tr>\n",
       "      <th>min</th>\n",
       "      <td>94561.000000</td>\n",
       "      <td>642.000000</td>\n",
       "      <td>18.000000</td>\n",
       "      <td>0.000000</td>\n",
       "      <td>0.000000e+00</td>\n",
       "      <td>1.000000</td>\n",
       "      <td>0.000000</td>\n",
       "      <td>0.000000</td>\n",
       "      <td>2.546300e+03</td>\n",
       "      <td>0.000000</td>\n",
       "      <td>0.000000</td>\n",
       "      <td>0.000000</td>\n",
       "      <td>0.000000</td>\n",
       "      <td>0.000000</td>\n",
       "    </tr>\n",
       "    <tr>\n",
       "      <th>25%</th>\n",
       "      <td>142720.000000</td>\n",
       "      <td>802.000000</td>\n",
       "      <td>33.000000</td>\n",
       "      <td>0.000000</td>\n",
       "      <td>2.955266e+05</td>\n",
       "      <td>1.000000</td>\n",
       "      <td>0.000000</td>\n",
       "      <td>0.000000</td>\n",
       "      <td>7.525586e+04</td>\n",
       "      <td>0.000000</td>\n",
       "      <td>0.000000</td>\n",
       "      <td>0.000000</td>\n",
       "      <td>0.000000</td>\n",
       "      <td>0.000000</td>\n",
       "    </tr>\n",
       "    <tr>\n",
       "      <th>50%</th>\n",
       "      <td>172651.000000</td>\n",
       "      <td>853.000000</td>\n",
       "      <td>40.000000</td>\n",
       "      <td>3.000000</td>\n",
       "      <td>5.249277e+05</td>\n",
       "      <td>2.000000</td>\n",
       "      <td>1.000000</td>\n",
       "      <td>1.000000</td>\n",
       "      <td>1.197193e+05</td>\n",
       "      <td>0.000000</td>\n",
       "      <td>0.000000</td>\n",
       "      <td>0.000000</td>\n",
       "      <td>0.000000</td>\n",
       "      <td>1.000000</td>\n",
       "    </tr>\n",
       "    <tr>\n",
       "      <th>75%</th>\n",
       "      <td>201160.500000</td>\n",
       "      <td>900.000000</td>\n",
       "      <td>51.000000</td>\n",
       "      <td>4.000000</td>\n",
       "      <td>9.807537e+05</td>\n",
       "      <td>2.000000</td>\n",
       "      <td>1.000000</td>\n",
       "      <td>1.000000</td>\n",
       "      <td>1.746733e+05</td>\n",
       "      <td>0.000000</td>\n",
       "      <td>1.000000</td>\n",
       "      <td>0.000000</td>\n",
       "      <td>1.000000</td>\n",
       "      <td>1.000000</td>\n",
       "    </tr>\n",
       "    <tr>\n",
       "      <th>max</th>\n",
       "      <td>229145.000000</td>\n",
       "      <td>1000.000000</td>\n",
       "      <td>86.000000</td>\n",
       "      <td>9.000000</td>\n",
       "      <td>1.191136e+08</td>\n",
       "      <td>5.000000</td>\n",
       "      <td>1.000000</td>\n",
       "      <td>1.000000</td>\n",
       "      <td>1.395064e+06</td>\n",
       "      <td>1.000000</td>\n",
       "      <td>1.000000</td>\n",
       "      <td>1.000000</td>\n",
       "      <td>1.000000</td>\n",
       "      <td>1.000000</td>\n",
       "    </tr>\n",
       "  </tbody>\n",
       "</table>\n",
       "</div>"
      ],
      "text/plain": [
       "              userid        score          age       equity       balance  \\\n",
       "count    9923.000000  9923.000000  9923.000000  9923.000000  7.664000e+03   \n",
       "mean   171739.567268   848.719944    42.725184     2.634486  8.282063e+05   \n",
       "std     33698.263769    65.390298    12.171619     1.979467  1.984122e+06   \n",
       "min     94561.000000   642.000000    18.000000     0.000000  0.000000e+00   \n",
       "25%    142720.000000   802.000000    33.000000     0.000000  2.955266e+05   \n",
       "50%    172651.000000   853.000000    40.000000     3.000000  5.249277e+05   \n",
       "75%    201160.500000   900.000000    51.000000     4.000000  9.807537e+05   \n",
       "max    229145.000000  1000.000000    86.000000     9.000000  1.191136e+08   \n",
       "\n",
       "          products  credit_card  last_activity    est_salary        churn  \\\n",
       "count  9923.000000  9923.000000    9923.000000  9.923000e+03  9923.000000   \n",
       "mean      1.871813     0.680036       0.523430  1.478926e+05     0.183211   \n",
       "std       0.792969     0.466486       0.499476  1.393599e+05     0.386859   \n",
       "min       1.000000     0.000000       0.000000  2.546300e+03     0.000000   \n",
       "25%       1.000000     0.000000       0.000000  7.525586e+04     0.000000   \n",
       "50%       2.000000     1.000000       1.000000  1.197193e+05     0.000000   \n",
       "75%       2.000000     1.000000       1.000000  1.746733e+05     0.000000   \n",
       "max       5.000000     1.000000       1.000000  1.395064e+06     1.000000   \n",
       "\n",
       "        dender_kod  city_Ростов  city_Рыбинск  city_Ярославль  \n",
       "count  9923.000000  9923.000000   9923.000000     9923.000000  \n",
       "mean      0.499043     0.142699      0.267359        0.589943  \n",
       "std       0.500024     0.349783      0.442603        0.491869  \n",
       "min       0.000000     0.000000      0.000000        0.000000  \n",
       "25%       0.000000     0.000000      0.000000        0.000000  \n",
       "50%       0.000000     0.000000      0.000000        1.000000  \n",
       "75%       1.000000     0.000000      1.000000        1.000000  \n",
       "max       1.000000     1.000000      1.000000        1.000000  "
      ]
     },
     "execution_count": 29,
     "metadata": {},
     "output_type": "execute_result"
    }
   ],
   "source": [
    "data.describe()"
   ]
  },
  {
   "cell_type": "markdown",
   "metadata": {},
   "source": [
    "Исходя из данных можно составить следующий портрет среднестатистического клиента:\n",
    "- В среднем клиенту почти 43 года, его скоринговая оценка - около 850 баллов. Средний доход около 100 тыс.\n",
    "- У среднестатистического клиента около трех объектов собственности и он пользуется двумя продуктами банка. \n",
    "- Кроме того, важно отметить: среди клиентов мужчин и женщин примерно поровну.\n",
    "- Более двух третей клиентов пользуются кредитными картами.\n",
    "- Больше всего клиентов банка находится в Ярославле.\n",
    "\n",
    "\n",
    "**Отток клиентов - 18%.** <br>"
   ]
  },
  {
   "cell_type": "code",
   "execution_count": 30,
   "metadata": {},
   "outputs": [
    {
     "data": {
      "text/html": [
       "<div>\n",
       "<style scoped>\n",
       "    .dataframe tbody tr th:only-of-type {\n",
       "        vertical-align: middle;\n",
       "    }\n",
       "\n",
       "    .dataframe tbody tr th {\n",
       "        vertical-align: top;\n",
       "    }\n",
       "\n",
       "    .dataframe thead th {\n",
       "        text-align: right;\n",
       "    }\n",
       "</style>\n",
       "<table border=\"1\" class=\"dataframe\">\n",
       "  <thead>\n",
       "    <tr style=\"text-align: right;\">\n",
       "      <th></th>\n",
       "      <th>churn</th>\n",
       "    </tr>\n",
       "    <tr>\n",
       "      <th>churn</th>\n",
       "      <th></th>\n",
       "    </tr>\n",
       "  </thead>\n",
       "  <tbody>\n",
       "    <tr>\n",
       "      <th>0</th>\n",
       "      <td>8105</td>\n",
       "    </tr>\n",
       "    <tr>\n",
       "      <th>1</th>\n",
       "      <td>1818</td>\n",
       "    </tr>\n",
       "  </tbody>\n",
       "</table>\n",
       "</div>"
      ],
      "text/plain": [
       "       churn\n",
       "churn       \n",
       "0       8105\n",
       "1       1818"
      ]
     },
     "metadata": {},
     "output_type": "display_data"
    },
    {
     "data": {
      "image/png": "[encoded data removed]",
      "text/plain": [
       "<Figure size 504x504 with 1 Axes>"
      ]
     },
     "metadata": {},
     "output_type": "display_data"
    }
   ],
   "source": [
    "churn_perc = data.groupby('churn').agg({'churn': 'count'})\n",
    "display(churn_perc)\n",
    "\n",
    "churn_perc.plot(kind='pie', y='churn', autopct='%1.1f%%', figsize=(7,7))\n",
    "plt.title('Доли клиентов в разрезе оттока')\n",
    "plt.legend(['Клиенты', 'Рассторгли договор'])\n",
    "plt.show()"
   ]
  },
  {
   "cell_type": "markdown",
   "metadata": {},
   "source": [
    "Изучим средние показателеи в разрезе оттока."
   ]
  },
  {
   "cell_type": "code",
   "execution_count": 31,
   "metadata": {},
   "outputs": [
    {
     "data": {
      "text/html": [
       "<div>\n",
       "<style scoped>\n",
       "    .dataframe tbody tr th:only-of-type {\n",
       "        vertical-align: middle;\n",
       "    }\n",
       "\n",
       "    .dataframe tbody tr th {\n",
       "        vertical-align: top;\n",
       "    }\n",
       "\n",
       "    .dataframe thead th {\n",
       "        text-align: right;\n",
       "    }\n",
       "</style>\n",
       "<table border=\"1\" class=\"dataframe\">\n",
       "  <thead>\n",
       "    <tr style=\"text-align: right;\">\n",
       "      <th></th>\n",
       "      <th>userid</th>\n",
       "      <th>score</th>\n",
       "      <th>age</th>\n",
       "      <th>equity</th>\n",
       "      <th>balance</th>\n",
       "      <th>products</th>\n",
       "      <th>credit_card</th>\n",
       "      <th>last_activity</th>\n",
       "      <th>est_salary</th>\n",
       "      <th>dender_kod</th>\n",
       "      <th>city_Ростов</th>\n",
       "      <th>city_Рыбинск</th>\n",
       "      <th>city_Ярославль</th>\n",
       "    </tr>\n",
       "    <tr>\n",
       "      <th>churn</th>\n",
       "      <th></th>\n",
       "      <th></th>\n",
       "      <th></th>\n",
       "      <th></th>\n",
       "      <th></th>\n",
       "      <th></th>\n",
       "      <th></th>\n",
       "      <th></th>\n",
       "      <th></th>\n",
       "      <th></th>\n",
       "      <th></th>\n",
       "      <th></th>\n",
       "      <th></th>\n",
       "    </tr>\n",
       "  </thead>\n",
       "  <tbody>\n",
       "    <tr>\n",
       "      <th>0</th>\n",
       "      <td>171907.064035</td>\n",
       "      <td>845.435657</td>\n",
       "      <td>43.015793</td>\n",
       "      <td>2.381246</td>\n",
       "      <td>7.337899e+05</td>\n",
       "      <td>1.758421</td>\n",
       "      <td>0.708822</td>\n",
       "      <td>0.483282</td>\n",
       "      <td>147788.268353</td>\n",
       "      <td>0.532634</td>\n",
       "      <td>0.142011</td>\n",
       "      <td>0.273535</td>\n",
       "      <td>0.584454</td>\n",
       "    </tr>\n",
       "    <tr>\n",
       "      <th>1</th>\n",
       "      <td>170992.833883</td>\n",
       "      <td>863.361936</td>\n",
       "      <td>41.429593</td>\n",
       "      <td>3.763476</td>\n",
       "      <td>1.134458e+06</td>\n",
       "      <td>2.377338</td>\n",
       "      <td>0.551705</td>\n",
       "      <td>0.702420</td>\n",
       "      <td>148357.483157</td>\n",
       "      <td>0.349285</td>\n",
       "      <td>0.145765</td>\n",
       "      <td>0.239824</td>\n",
       "      <td>0.614411</td>\n",
       "    </tr>\n",
       "  </tbody>\n",
       "</table>\n",
       "</div>"
      ],
      "text/plain": [
       "              userid       score        age    equity       balance  products  \\\n",
       "churn                                                                           \n",
       "0      171907.064035  845.435657  43.015793  2.381246  7.337899e+05  1.758421   \n",
       "1      170992.833883  863.361936  41.429593  3.763476  1.134458e+06  2.377338   \n",
       "\n",
       "       credit_card  last_activity     est_salary  dender_kod  city_Ростов  \\\n",
       "churn                                                                       \n",
       "0         0.708822       0.483282  147788.268353    0.532634     0.142011   \n",
       "1         0.551705       0.702420  148357.483157    0.349285     0.145765   \n",
       "\n",
       "       city_Рыбинск  city_Ярославль  \n",
       "churn                                \n",
       "0          0.273535        0.584454  \n",
       "1          0.239824        0.614411  "
      ]
     },
     "execution_count": 31,
     "metadata": {},
     "output_type": "execute_result"
    }
   ],
   "source": [
    "data.groupby('churn').mean()"
   ]
  },
  {
   "cell_type": "code",
   "execution_count": 32,
   "metadata": {},
   "outputs": [],
   "source": [
    "quantitative = ['score', 'age', 'equity', 'balance', 'products', 'est_salary']\n",
    "qualitative = ['credit_card', 'last_activity', 'dender_kod', 'churn', 'city_Ростов', 'city_Рыбинск', 'city_Ярославль']"
   ]
  },
  {
   "cell_type": "code",
   "execution_count": 33,
   "metadata": {},
   "outputs": [],
   "source": [
    "# функция для формирования графиков распределения\n",
    "# hue - признак, по которому мы хотим увидеть детализацию данных\n",
    "\n",
    "def distr_charts(data, hue):\n",
    "    # столбчатые диаграммы:\n",
    "    for column in ['credit_card', 'last_activity', 'dender_kod', 'products',  'equity']:\n",
    "        common_churn_level = data['churn'].mean() * 100\n",
    "        columns_churn = data.groupby(column)['churn'].mean() * 100\n",
    "        \n",
    "        plt.figure(figsize=(8, 5))\n",
    "        plt.axhline(y= common_churn_level, linewidth=2, linestyle='--', color='k')\n",
    "        ax = columns_churn.plot(kind='bar', color='c')\n",
    "        plt.xticks(rotation=0)\n",
    "        plt.title(f'Процент оттока клиентов по категории {column} относительно среднего по банку')\n",
    "        plt.show()\n",
    "\n",
    "    # kde график:\n",
    "    for column in ['score', 'equity', 'products']:\n",
    "        plt.figure(figsize=(20,8))\n",
    "        sns.histplot(data=data, x=column, hue=hue, stat=\"density\", common_norm=False);\n",
    "        plt.title(f'Распределение клиентов по признаку {column}')\n",
    "        plt.show() \n",
    "        \n",
    "        # kde графики для столбцов с длинными хвостами:\n",
    "\n",
    "    plt.figure(figsize=(20,8))\n",
    "    sns.histplot(data=data, x='est_salary', hue=hue, stat=\"density\", common_norm=False);\n",
    "    plt.title(f'Распределение клиентов по признаку est_salary')\n",
    "    plt.xlim([0, 500000])\n",
    "    plt.show() \n",
    "    \n",
    "\n",
    "    plt.figure(figsize=(20,8))\n",
    "    sns.histplot(data=data, x='balance', hue=hue, stat=\"density\", common_norm=False);\n",
    "    plt.title(f'Распределение клиентов по признаку balance')\n",
    "    plt.xlim([0, 2500000])\n",
    "    plt.show() \n",
    "    \n",
    "    # столбец age, с целочисленными корзинами\n",
    "    plt.figure(figsize=(20,8))\n",
    "    sns.histplot(data=data, x='age', hue=hue, stat=\"density\", common_norm=False, binwidth=1);\n",
    "    plt.title('Распределение клиентов по признаку age')\n",
    "    plt.show()"
   ]
  },
  {
   "cell_type": "code",
   "execution_count": 34,
   "metadata": {
    "scrolled": false
   },
   "outputs": [
    {
     "data": {
      "image/png": "[encoded data removed]",
      "text/plain": [
       "<Figure size 576x360 with 1 Axes>"
      ]
     },
     "metadata": {
      "needs_background": "light"
     },
     "output_type": "display_data"
    },
    {
     "data": {
      "image/png": "[encoded data removed]",
      "text/plain": [
       "<Figure size 576x360 with 1 Axes>"
      ]
     },
     "metadata": {
      "needs_background": "light"
     },
     "output_type": "display_data"
    },
    {
     "data": {
      "image/png": "[encoded data removed]",
      "text/plain": [
       "<Figure size 576x360 with 1 Axes>"
      ]
     },
     "metadata": {
      "needs_background": "light"
     },
     "output_type": "display_data"
    },
    {
     "data": {
      "image/png": "[encoded data removed]",
      "text/plain": [
       "<Figure size 576x360 with 1 Axes>"
      ]
     },
     "metadata": {
      "needs_background": "light"
     },
     "output_type": "display_data"
    },
    {
     "data": {
      "image/png": "[encoded data removed]",
      "text/plain": [
       "<Figure size 576x360 with 1 Axes>"
      ]
     },
     "metadata": {
      "needs_background": "light"
     },
     "output_type": "display_data"
    },
    {
     "data": {
      "image/png": "[encoded data removed]",
      "text/plain": [
       "<Figure size 1440x576 with 1 Axes>"
      ]
     },
     "metadata": {
      "needs_background": "light"
     },
     "output_type": "display_data"
    },
    {
     "data": {
      "image/png": "[encoded data removed]",
      "text/plain": [
       "<Figure size 1440x576 with 1 Axes>"
      ]
     },
     "metadata": {
      "needs_background": "light"
     },
     "output_type": "display_data"
    },
    {
     "data": {
      "image/png": "[encoded data removed]",
      "text/plain": [
       "<Figure size 1440x576 with 1 Axes>"
      ]
     },
     "metadata": {
      "needs_background": "light"
     },
     "output_type": "display_data"
    },
    {
     "data": {
      "image/png": "[encoded data removed]",
      "text/plain": [
       "<Figure size 1440x576 with 1 Axes>"
      ]
     },
     "metadata": {
      "needs_background": "light"
     },
     "output_type": "display_data"
    },
    {
     "data": {
      "image/png": "[encoded data removed]",
      "text/plain": [
       "<Figure size 1440x576 with 1 Axes>"
      ]
     },
     "metadata": {
      "needs_background": "light"
     },
     "output_type": "display_data"
    },
    {
     "data": {
      "image/png": "[encoded data removed]",
      "text/plain": [
       "<Figure size 1440x576 with 1 Axes>"
      ]
     },
     "metadata": {
      "needs_background": "light"
     },
     "output_type": "display_data"
    }
   ],
   "source": [
    "distr_charts(data, 'churn')"
   ]
  },
  {
   "cell_type": "markdown",
   "metadata": {},
   "source": [
    "Средние показатели среди ушедших клиентов:<br>\n",
    "- Скоринговая оценка 863 (выше, чем у среднего оставшегося клиента)\n",
    "- Мужчина, 41 год, проживает в Ярославле\n",
    "- Средний доход 148 тыс (выше, чем у среднешл оставшегося клиента)\n",
    "- У клиента больше трех объектов недвижимости и несколько продуктов банка.\n",
    "\n",
    "\n",
    "Кроме того, можно отметить:\n",
    "- Среди клиентов, пользующихся кредитными картами, уровень оттока ниже чем в среднем по банку. Вместе с тем, среди клиентов, у которых кредитных карт нет, из банка уходит каждый четвертый.\n",
    "- Среди мужчин уровень оттока выше, чем среди женщин, а также выше чем средний по банку.\n",
    "- Среди жителей Ярославля, уровень оттока выше чем в среднем по банку."
   ]
  },
  {
   "cell_type": "markdown",
   "metadata": {},
   "source": [
    "Отточные интервалы: <br>\n",
    "- По количеству продуктов больше трех включительно (самая высокая доля оттока для пользователей с 4 продуктами)\n",
    "- По объектам собственности: от трех объектов включительно\n",
    "- По скоринговой оценке отточный интевал с 820 до 900\n",
    "- По оценке дохода свыше 100 000 \n",
    "- По балансу счета свыше 800 000\n",
    "- По возврасту с 26 до 35 и с 51 до 61"
   ]
  },
  {
   "cell_type": "markdown",
   "metadata": {},
   "source": [
    "### Матрица корреляций"
   ]
  },
  {
   "cell_type": "markdown",
   "metadata": {},
   "source": [
    "Для расчета матрицы корреляций обычно используют коэффициент корреляции Пирсона, который отражает линейную зависимость между двумя переменными, что и является ограничением данного метода. Кроме того, корреляция Пирсона не подходит для подсчета зависимости категориальной переменной от непрерывной. <br>\n",
    "С помощью библиотеки phik используем более универсальный метод, позволяющий вычислять взаимосвязи между различными типами признаков (категориальными, непрерывными и их комбинациями). Коэффициенты взаимосвязи принимают значения от 0 до 1."
   ]
  },
  {
   "cell_type": "code",
   "execution_count": 35,
   "metadata": {},
   "outputs": [
    {
     "name": "stdout",
     "output_type": "stream",
     "text": [
      "interval columns not set, guessing: ['score', 'age', 'equity', 'balance', 'products', 'credit_card', 'last_activity', 'est_salary', 'churn', 'dender_kod', 'city_Ростов', 'city_Рыбинск', 'city_Ярославль']\n"
     ]
    },
    {
     "data": {
      "image/png": "[encoded data removed]",
      "text/plain": [
       "<Figure size 1440x1080 with 2 Axes>"
      ]
     },
     "metadata": {
      "needs_background": "light"
     },
     "output_type": "display_data"
    }
   ],
   "source": [
    "data = data.drop(['userid'], axis=1)\n",
    "#corr_matrix = data.corr()\n",
    "corr_matrix = data.phik_matrix()\n",
    "\n",
    "plt.figure(figsize=(20,15))\n",
    "sns.heatmap(corr_matrix, center=0 ,cmap=\"vlag\", annot=True, fmt='.2%')\n",
    "plt.title('Матрица корреляций', fontsize = 20)\n",
    "plt.show()"
   ]
  },
  {
   "cell_type": "code",
   "execution_count": 36,
   "metadata": {},
   "outputs": [
    {
     "data": {
      "image/png": "[encoded data removed]",
      "text/plain": [
       "<Figure size 576x576 with 2 Axes>"
      ]
     },
     "metadata": {
      "needs_background": "light"
     },
     "output_type": "display_data"
    }
   ],
   "source": [
    "# построим отдельно тепловую карту корреляций признаков непосредственно с оттоком\n",
    "plt.figure(figsize=(8,8))\n",
    "sns.heatmap(\n",
    "    corr_matrix.loc[:,['churn']].drop('churn').sort_values('churn'),\n",
    "    annot=True, fmt='.0%', cmap='coolwarm', center=0\n",
    ")\n",
    "plt.title('Корреляция признаков с оттоком', fontsize = 16)\n",
    "plt.show()"
   ]
  },
  {
   "cell_type": "markdown",
   "metadata": {},
   "source": [
    "Согласно шкале Чеддока наблюдаем наличие взаимосвязи следующих показателей с вероятность оттока:<br>\n",
    "- количество объектов в собственности - умеренная связь\n",
    "- активность, кол-во продуктов, оценка, пол, наличие кредитки, возраст - слабая."
   ]
  },
  {
   "cell_type": "markdown",
   "metadata": {},
   "source": [
    "### Проверка статистических гипотез\n",
    "#### Гипотеза о различии дохода между теми клиентами, которые ушли и теми, которые остались. \n",
    "\n",
    "H0: в среднем доходы отточных клиентов равны доходам клиентов, оставшихся с банком.<br>\n",
    "H1: в среднем доходы отточных клиентов отличаются от доходов клиентов, оставшихся с банком.<br>\n",
    "\n",
    "##### t-критерий Стьюдента<br>\n",
    "Три аспекта, которые надо проверить, чтобы понять, можно ли применять t-тест:\n",
    "\n",
    "- Генеральные совокупности не должны зависеть друг от друга.<br>\n",
    "- Выборочные средние должны быть нормально распределены.<br>\n",
    "- Дисперсии рассматриваемых генеральных совокупностей должны быть равны."
   ]
  },
  {
   "cell_type": "code",
   "execution_count": 37,
   "metadata": {},
   "outputs": [
    {
     "data": {
      "image/png": "[encoded data removed]",
      "text/plain": [
       "<Figure size 576x360 with 1 Axes>"
      ]
     },
     "metadata": {
      "needs_background": "light"
     },
     "output_type": "display_data"
    }
   ],
   "source": [
    "plt.figure(figsize=(8,5))\n",
    "sns.kdeplot(data=data, x='est_salary', hue='churn', common_norm=False);\n",
    "plt.title(f'Распределение доходов клиентов в разрезе оттока')\n",
    "plt.show()"
   ]
  },
  {
   "cell_type": "code",
   "execution_count": 38,
   "metadata": {},
   "outputs": [
    {
     "name": "stdout",
     "output_type": "stream",
     "text": [
      "Описание salary_0\n",
      "count       8105.00\n",
      "mean      147788.27\n",
      "std       142792.18\n",
      "min         2546.30\n",
      "25%        73489.66\n",
      "50%       118247.25\n",
      "75%       174087.83\n",
      "max      1395064.45\n",
      "Name: est_salary, dtype: float64\n",
      "---------------------\n",
      "Описание salary_1\n",
      "count       1818.00\n",
      "mean      148357.48\n",
      "std       122931.98\n",
      "min        10880.27\n",
      "25%        83285.66\n",
      "50%       125408.88\n",
      "75%       176017.84\n",
      "max      1263028.49\n",
      "Name: est_salary, dtype: float64\n"
     ]
    }
   ],
   "source": [
    "salary_0 = data.query('churn == 0')['est_salary']\n",
    "salary_1 = data.query('churn == 1')['est_salary']\n",
    "\n",
    "print('Описание salary_0')\n",
    "print(salary_0.describe().round(2))\n",
    "print('---------------------')\n",
    "print('Описание salary_1')\n",
    "print(salary_1.describe().round(2))"
   ]
  },
  {
   "cell_type": "markdown",
   "metadata": {},
   "source": [
    "Исходя из критерие теста, относиться к результатам t-критерий Стьюдента необходиом с осторожностью:"
   ]
  },
  {
   "cell_type": "code",
   "execution_count": 39,
   "metadata": {},
   "outputs": [
    {
     "name": "stdout",
     "output_type": "stream",
     "text": [
      "p-значение: 0.8749429961814755\n",
      "Не получилось отвергнуть нулевую гипотезу, статистической разницы в доходах клиентов нет\n"
     ]
    }
   ],
   "source": [
    "alpha = 0.01\n",
    "\n",
    "results = st.ttest_ind(salary_0, salary_1)\n",
    "\n",
    "print('p-значение:', results.pvalue)\n",
    "\n",
    "if results.pvalue < alpha:\n",
    "    print(\"Отвергаем нулевую гипотезу\")\n",
    "else:\n",
    "    print(\"Не получилось отвергнуть нулевую гипотезу, статистической разницы в доходах клиентов нет\")"
   ]
  },
  {
   "cell_type": "markdown",
   "metadata": {},
   "source": [
    "##### u-критерий Манна-Уитни\n",
    "Сравним выборки другим способом. Главное отличие u-критерия Манна-Уитни от t-критерия Стьюдента в том, что он работает с рангами, — номерами значений в упорядоченном ряду, — никак не учитывая сами значения. Поэтому им пользуются тогда, когда работа с самими значениями невозможна из-за выбросов, сильно сдвигающих результаты."
   ]
  },
  {
   "cell_type": "code",
   "execution_count": 40,
   "metadata": {},
   "outputs": [
    {
     "name": "stdout",
     "output_type": "stream",
     "text": [
      "p-значение:  0.00020329119363804673\n",
      "Отвергаем нулевую гипотезу\n"
     ]
    }
   ],
   "source": [
    "alpha = 0.01  # критический уровень статистической значимости\n",
    "\n",
    "results = st.mannwhitneyu(salary_0, salary_1)\n",
    "\n",
    "print('p-значение: ', results.pvalue)\n",
    "\n",
    "if results.pvalue < alpha:\n",
    "    print(\"Отвергаем нулевую гипотезу\")\n",
    "else:\n",
    "    print(\"Не получилось отвергнуть нулевую гипотезу, статистической разницы в доходах клиентов нет\") "
   ]
  },
  {
   "cell_type": "markdown",
   "metadata": {},
   "source": [
    "В случае с доходами людей, лучше использовать u-критерий Манна-Уитни, т.к в них могут быть аномальные значения."
   ]
  },
  {
   "cell_type": "markdown",
   "metadata": {},
   "source": [
    "#### Гипотеза о равенстве количества продуктов у клиентов, которые ушли и у тех, которые остались.\n",
    "\n",
    "H0: в среднем количество продуктов у клиентов, которые ушли, равно количеству продуктов у клиентов, оставшихся с банком.<br>\n",
    "\n",
    "H1: в среднем количество продуктов у клиентов, которые ушли, отлично от количества продуктов у клиентов, оставшихся с банком.<br>"
   ]
  },
  {
   "cell_type": "code",
   "execution_count": 41,
   "metadata": {},
   "outputs": [
    {
     "data": {
      "image/png": "[encoded data removed]",
      "text/plain": [
       "<Figure size 1080x576 with 1 Axes>"
      ]
     },
     "metadata": {
      "needs_background": "light"
     },
     "output_type": "display_data"
    }
   ],
   "source": [
    "# создадим два датафрейма с клиентами в оттоке и оставшимися \n",
    "churn_1 = data.query('churn == 1')\n",
    "churn_0 = data.query('churn == 0')\n",
    "# выведем график распределения значений возраста у ушедших и оставшихся клиентов\n",
    "plt.figure(figsize=(15,8))\n",
    "sns.distplot(churn_1['products'],label='Ушли')\n",
    "sns.distplot(churn_0['products'],label='Остались')\n",
    "plt.title('Распределение количества продуктов у клиентов в разрезе оттока')\n",
    "plt.legend()\n",
    "plt.show()"
   ]
  },
  {
   "cell_type": "code",
   "execution_count": 42,
   "metadata": {},
   "outputs": [
    {
     "name": "stdout",
     "output_type": "stream",
     "text": [
      "Дисперсия кол-ва продуктов у оставшихся клиентов: 0.5089435885648\n",
      "Дисперсия кол-ва продуктов у ушедших клиетов: 0.8499154645937641\n",
      "\n",
      "Среднее кол-во продуктов у оставшихся клиентов: 1.7584207279457125\n",
      "Среднее кол-во пролуктов у ушедших клиетов: 2.3773377337733774\n"
     ]
    }
   ],
   "source": [
    "# посчитаем дисперсию и средние значения возрастов клиентов в оттоке и оставшихся\n",
    "prod_churn_0 = np.array(churn_0['products'])\n",
    "prod_churn_1 = np.array(churn_1['products'])\n",
    "\n",
    "print('Дисперсия кол-ва продуктов у оставшихся клиентов:', np.var(prod_churn_0))\n",
    "print('Дисперсия кол-ва продуктов у ушедших клиетов:', np.var(prod_churn_1))\n",
    "print()\n",
    "print('Среднее кол-во продуктов у оставшихся клиентов:', np.mean(prod_churn_0))\n",
    "print('Среднее кол-во пролуктов у ушедших клиетов:', np.mean(prod_churn_1))"
   ]
  },
  {
   "cell_type": "code",
   "execution_count": 43,
   "metadata": {},
   "outputs": [
    {
     "name": "stdout",
     "output_type": "stream",
     "text": [
      "p-значение: 9.413327765189615e-139\n",
      "Отвергаем нулевую гипотезу\n"
     ]
    }
   ],
   "source": [
    "# проведем t-test \n",
    "alpha = 0.01\n",
    "results = st.ttest_ind(prod_churn_1, prod_churn_0, equal_var=False)\n",
    "print('p-значение:', results.pvalue)\n",
    "if results.pvalue < alpha:\n",
    "    print(\"Отвергаем нулевую гипотезу\")\n",
    "else:\n",
    "    print(\"Не получилось отвергнуть нулевую гипотезу\")"
   ]
  },
  {
   "cell_type": "markdown",
   "metadata": {},
   "source": [
    "По критерию Стьюдента значение p-value меньше уровня статистической значимости. Следовательно количество продуктов у клиентов ушедших и оставшихс действительно различается, а значит нулевая гипотеза отвергается. Это так же видно на графике, чем больше у клиента продуктов, тем более он склонен к уходу из банка. "
   ]
  },
  {
   "cell_type": "markdown",
   "metadata": {},
   "source": [
    "### Итог основной части исследования (влияние параметров на отток клиентов)"
   ]
  },
  {
   "cell_type": "markdown",
   "metadata": {},
   "source": [
    "Итак, по результатам исследования можно сформулировать следующие выводы о влиянии параметров на отток клиентов: <br>\n",
    "\n",
    "- **Уровень оттока клиентов банка более 18%**\n",
    "\n",
    "<br>\n",
    "- Среди мужчин уровень оттока (>20%) выше, чем среди женщин.<br>\n",
    "- Среди клиентов, у которых кредитных карт нет, из банка уходит каждый четвертый.<br>\n",
    "- Среди жителей Ярославля уровень оттока выше, чем среди жителей других городов.<br>\n",
    "\n",
    "<br>\n",
    "- Согласно матрице корреляции больше всего отток коррелирует с количеством продуктов и собственностью, что также подтверждается графиками: из банка склонны ухолить клиенты с более чем тремя объектами собственности, а также пользователи нескольких продуктов (в среднем у ушедших клиентов было более двух продуктов).\n",
    "\n",
    "<br>\n",
    "\n",
    "\n",
    "<br>\n",
    "- Статистические тесты показывают, что в среднем доходы отточных клиентов отличаются от доходов клиентов, оставшихся с банком."
   ]
  },
  {
   "cell_type": "markdown",
   "metadata": {},
   "source": [
    "|Показатель |Сравнение портретов/гипотезы|Корреляции|Распределения в разрезе оттока|\n",
    "| :--- | :---: | :---: | :--- |\n",
    "|\n",
    "|user_id    |  не может быть связи |  нет связи | нет связи |\n",
    "|score      |  есть связь | слабая связь   | отточный интервал с 820 по 900  |\n",
    "|city       | клиенты из Ярославля | нет связи   | клиенты из Ярославля  | \n",
    "|gender     | преимущественно мужчины  |  слабая связь | преимущественно мужчины    |\n",
    "|age        | нет значительного различия   | слабая связь  | отточный интервал с 26 по 35 и с 51 до 61   |\n",
    "|equity     | есть различия | умеренная связь | отточный интервал с 3 включительно  |\n",
    "|balance    | нет значительного различия                  |нет связи |  отточный интервал с 800 000   |\n",
    "|products   | есть связь|слабая связь  | отточный интервал с 3 включительно |\n",
    "|credit_card| есть связь |слабая связь | отсутствие кредитной карты |\n",
    "|last_activity| есть связь |слабая связь | не активные клиенты |\n",
    "|est_salary |  есть связь  |нет связи|   отточный интервал с 100 000     |\n",
    "</div>"
   ]
  },
  {
   "cell_type": "markdown",
   "metadata": {},
   "source": [
    "### Cегменты отточных клиентов на основе выводов о значимости критериев\n",
    "\n",
    "Сформируем сегменты клиентов с вероятностью оттока для выбора наиболее подходящих:"
   ]
  },
  {
   "cell_type": "code",
   "execution_count": 44,
   "metadata": {},
   "outputs": [
    {
     "name": "stdout",
     "output_type": "stream",
     "text": [
      "Сегмент мужчины с балансом более 800 тыс \n",
      "Процент оттока: 45.79%\n",
      "Размер группы: 1282\n",
      "---------------------------------------\n",
      "Сегмент неактивные клиенты с более 4 объектами собственности\n",
      "Процент оттока: 43.96%\n",
      "Размер группы: 1167\n",
      "---------------------------------------\n",
      "Сегмент клиентов с более, чем двумя продуктами\n",
      "Процент оттока: 39.75%\n",
      "Размер группы: 1522\n",
      "---------------------------------------\n",
      "Сегмент мужчины без кредитных карт\n",
      "Процент оттока: 35.18%\n",
      "Размер группы: 1299\n",
      "---------------------------------------\n",
      "Сегмент клиенты от 50 до 62 лет с оценкой по скорингу от 860 до 900\n",
      "Процент оттока: 33.89%\n",
      "Размер группы: 360\n",
      "---------------------------------------\n",
      "Сегмент молодые клиенты с доходом от 100 тыс\n",
      "Процент оттока: 25.36%\n",
      "Размер группы: 1514\n",
      "---------------------------------------\n"
     ]
    }
   ],
   "source": [
    "print('Сегмент мужчины с балансом более 800 тыс ')\n",
    "print('Процент оттока: {:.2%}'.format(data.query('dender_kod == 0 and balance > 800000')['churn'].mean()))\n",
    "print('Размер группы:', data.query('dender_kod == 0 and balance > 800000')['churn'].count())\n",
    "print('---------------------------------------')\n",
    "\n",
    "print('Сегмент неактивные клиенты с более 4 объектами собственности')\n",
    "print('Процент оттока: {:.2%}'.format(data.query('equity > 4 and last_activity == 1')['churn'].mean()))\n",
    "print('Размер группы:', data.query('equity > 4 and last_activity == 1')['churn'].count())\n",
    "print('---------------------------------------')\n",
    "\n",
    "print('Сегмент клиентов с более, чем двумя продуктами')\n",
    "print('Процент оттока: {:.2%}'.format(data.query('products > 2')['churn'].mean()))\n",
    "print('Размер группы:', data.query('products > 2')['churn'].count())\n",
    "print('---------------------------------------')\n",
    "\n",
    "print('Сегмент мужчины без кредитных карт')\n",
    "print('Процент оттока: {:.2%}'.format(data.query('dender_kod == 0 and credit_card == 0')['churn'].mean()))\n",
    "print('Размер группы:', data.query('dender_kod == 0 and credit_card == 0')['churn'].count())\n",
    "print('---------------------------------------')\n",
    "\n",
    "print('Сегмент клиенты от 50 до 62 лет с оценкой по скорингу от 860 до 900')\n",
    "print('Процент оттока: {:.2%}'.format(data.query('score>860 and score<900 and age>50 and age<62')['churn'].mean()))\n",
    "print('Размер группы:', data.query('score>860 and score<900 and age>50 and age<62')['churn'].count())\n",
    "print('---------------------------------------')\n",
    "\n",
    "\n",
    "print('Сегмент молодые клиенты с доходом от 100 тыс')\n",
    "print('Процент оттока: {:.2%}'.format(data.query('est_salary> 100000 and age>25 and age<36')['churn'].mean()))\n",
    "print('Размер группы:', data.query('est_salary>100000 and age>25 and age<36')['churn'].count())\n",
    "print('---------------------------------------')\n"
   ]
  },
  {
   "cell_type": "markdown",
   "metadata": {},
   "source": [
    "По некоторым из выделенных сегментах отток клиентов больше чем в среднем по банку примерно в два раза. Размеры сегментов позволяют работать с клиентами без средств автоматизации (силами отдела маркетинга)."
   ]
  },
  {
   "cell_type": "markdown",
   "metadata": {},
   "source": [
    "### Выводы и презентация результатов\n",
    "\n",
    "#### Рекомендации по сегменту мужчины с балансом более 800 тыс \n",
    "Разработать специальное предложение по срочному вкладу или условиям обслуживания счета для мужчин.\n",
    "\n",
    "#### Рекомендации по сегменту неактивные клиенты с более 4 объектами собственности\n",
    "Для данного сегмента предложить особые условия страхования объектов собственности, а также рассмотреть возможность изменения условий использования такими клиентами заемных средств (при возможности объекты собственности использовать в качестве залога). Сделать рассылку о функциях мобильного приложения (*неактивные, имеется же ввиду не пользуются приложением?*)\n",
    "\n",
    "#### Рекомендации по сегменту клиенты с более, чем двумя продуктами \n",
    "Рассмотреть возможность снижения стоимости обслуживания для клиентов с несколькоми продуктами, например, создать один продукт объединяющий несколько услуг (\"пакетное предложение\")."
   ]
  }
 ],
 "metadata": {
  "ExecuteTimeLog": [
   {
    "duration": 467,
    "start_time": "2023-07-25T11:36:25.993Z"
   },
   {
    "duration": 184,
    "start_time": "2023-07-25T11:36:26.462Z"
   },
   {
    "duration": 31,
    "start_time": "2023-07-25T11:36:28.059Z"
   },
   {
    "duration": 1285,
    "start_time": "2023-07-25T12:09:52.718Z"
   },
   {
    "duration": 19,
    "start_time": "2023-07-25T12:13:41.601Z"
   },
   {
    "duration": 13,
    "start_time": "2023-07-25T12:20:30.706Z"
   },
   {
    "duration": 4,
    "start_time": "2023-07-25T12:23:44.355Z"
   },
   {
    "duration": 12,
    "start_time": "2023-07-25T12:23:50.038Z"
   },
   {
    "duration": 6,
    "start_time": "2023-07-25T12:26:09.128Z"
   },
   {
    "duration": 198,
    "start_time": "2023-07-25T12:26:09.736Z"
   },
   {
    "duration": 23,
    "start_time": "2023-07-25T12:30:20.053Z"
   },
   {
    "duration": 22,
    "start_time": "2023-07-25T13:59:32.964Z"
   },
   {
    "duration": 177,
    "start_time": "2023-07-25T13:59:41.055Z"
   },
   {
    "duration": 19,
    "start_time": "2023-07-25T13:59:46.512Z"
   },
   {
    "duration": 20,
    "start_time": "2023-07-25T13:59:48.671Z"
   },
   {
    "duration": 118,
    "start_time": "2023-07-25T14:00:39.928Z"
   },
   {
    "duration": 29,
    "start_time": "2023-07-25T14:00:40.308Z"
   },
   {
    "duration": 17,
    "start_time": "2023-07-25T14:00:44.258Z"
   },
   {
    "duration": 8,
    "start_time": "2023-07-25T14:00:53.186Z"
   },
   {
    "duration": 4,
    "start_time": "2023-07-25T14:00:54.634Z"
   },
   {
    "duration": 185,
    "start_time": "2023-07-25T14:00:56.367Z"
   },
   {
    "duration": 20,
    "start_time": "2023-07-25T14:01:00.117Z"
   },
   {
    "duration": 171,
    "start_time": "2023-07-25T14:01:01.169Z"
   },
   {
    "duration": 144,
    "start_time": "2023-07-25T14:02:37.258Z"
   },
   {
    "duration": 113,
    "start_time": "2023-07-25T14:02:41.734Z"
   },
   {
    "duration": 13,
    "start_time": "2023-07-25T14:02:42.832Z"
   },
   {
    "duration": 29,
    "start_time": "2023-07-25T14:02:46.901Z"
   },
   {
    "duration": 4,
    "start_time": "2023-07-25T14:02:52.827Z"
   },
   {
    "duration": 7,
    "start_time": "2023-07-25T14:02:53.524Z"
   },
   {
    "duration": 251,
    "start_time": "2023-07-25T14:02:53.966Z"
   },
   {
    "duration": 10,
    "start_time": "2023-07-25T14:02:55.753Z"
   },
   {
    "duration": 8,
    "start_time": "2023-07-25T14:02:56.034Z"
   },
   {
    "duration": 9,
    "start_time": "2023-07-25T14:03:23.015Z"
   },
   {
    "duration": 6,
    "start_time": "2023-07-25T14:04:20.453Z"
   },
   {
    "duration": 14,
    "start_time": "2023-07-25T14:14:42.460Z"
   },
   {
    "duration": 36,
    "start_time": "2023-07-25T14:14:51.390Z"
   },
   {
    "duration": 5,
    "start_time": "2023-07-25T14:15:10.234Z"
   },
   {
    "duration": 14,
    "start_time": "2023-07-25T14:15:10.531Z"
   },
   {
    "duration": 34,
    "start_time": "2023-07-25T14:15:16.576Z"
   },
   {
    "duration": 11,
    "start_time": "2023-07-25T14:24:26.638Z"
   },
   {
    "duration": 30,
    "start_time": "2023-07-25T14:24:33.560Z"
   },
   {
    "duration": 2521,
    "start_time": "2023-07-25T14:26:02.703Z"
   },
   {
    "duration": 9,
    "start_time": "2023-07-25T14:26:08.311Z"
   },
   {
    "duration": 118,
    "start_time": "2023-07-25T14:26:08.474Z"
   },
   {
    "duration": 23,
    "start_time": "2023-07-25T14:26:08.700Z"
   },
   {
    "duration": 15,
    "start_time": "2023-07-25T14:26:08.844Z"
   },
   {
    "duration": 4,
    "start_time": "2023-07-25T14:26:10.332Z"
   },
   {
    "duration": 10,
    "start_time": "2023-07-25T14:26:10.812Z"
   },
   {
    "duration": 191,
    "start_time": "2023-07-25T14:26:11.408Z"
   },
   {
    "duration": 11,
    "start_time": "2023-07-25T14:26:13.038Z"
   },
   {
    "duration": 7,
    "start_time": "2023-07-25T14:26:13.433Z"
   },
   {
    "duration": 10,
    "start_time": "2023-07-25T14:26:13.821Z"
   },
   {
    "duration": 7,
    "start_time": "2023-07-25T14:26:14.791Z"
   },
   {
    "duration": 11,
    "start_time": "2023-07-25T14:26:15.829Z"
   },
   {
    "duration": 42,
    "start_time": "2023-07-25T14:26:17.454Z"
   },
   {
    "duration": 160,
    "start_time": "2023-07-25T14:30:19.029Z"
   },
   {
    "duration": 23,
    "start_time": "2023-07-25T14:30:19.513Z"
   },
   {
    "duration": 12,
    "start_time": "2023-07-25T14:30:27.953Z"
   },
   {
    "duration": 4,
    "start_time": "2023-07-25T14:30:30.259Z"
   },
   {
    "duration": 4,
    "start_time": "2023-07-25T14:30:31.733Z"
   },
   {
    "duration": 198,
    "start_time": "2023-07-25T14:30:32.367Z"
   },
   {
    "duration": 25,
    "start_time": "2023-07-25T14:30:37.407Z"
   },
   {
    "duration": 7,
    "start_time": "2023-07-25T14:30:59.852Z"
   },
   {
    "duration": 6,
    "start_time": "2023-07-25T14:31:13.159Z"
   },
   {
    "duration": 10,
    "start_time": "2023-07-25T14:31:17.367Z"
   },
   {
    "duration": 14,
    "start_time": "2023-07-25T14:31:18.957Z"
   },
   {
    "duration": 28,
    "start_time": "2023-07-25T14:31:20.059Z"
   },
   {
    "duration": 6,
    "start_time": "2023-07-25T14:33:51.835Z"
   },
   {
    "duration": 11,
    "start_time": "2023-07-25T14:33:57.555Z"
   },
   {
    "duration": 34,
    "start_time": "2023-07-25T14:33:57.788Z"
   },
   {
    "duration": 1521,
    "start_time": "2023-07-25T14:34:24.919Z"
   },
   {
    "duration": 145,
    "start_time": "2023-07-25T14:34:26.442Z"
   },
   {
    "duration": 37,
    "start_time": "2023-07-25T14:34:26.596Z"
   },
   {
    "duration": 14,
    "start_time": "2023-07-25T14:34:26.638Z"
   },
   {
    "duration": 11,
    "start_time": "2023-07-25T14:34:26.654Z"
   },
   {
    "duration": 11,
    "start_time": "2023-07-25T14:34:26.702Z"
   },
   {
    "duration": 6,
    "start_time": "2023-07-25T14:34:27.096Z"
   },
   {
    "duration": 210,
    "start_time": "2023-07-25T14:34:27.237Z"
   },
   {
    "duration": 24,
    "start_time": "2023-07-25T14:34:27.783Z"
   },
   {
    "duration": 8,
    "start_time": "2023-07-25T14:34:27.958Z"
   },
   {
    "duration": 5,
    "start_time": "2023-07-25T14:34:28.152Z"
   },
   {
    "duration": 6,
    "start_time": "2023-07-25T14:34:28.532Z"
   },
   {
    "duration": 27,
    "start_time": "2023-07-25T14:34:28.881Z"
   },
   {
    "duration": 15,
    "start_time": "2023-07-25T14:34:29.246Z"
   },
   {
    "duration": 65,
    "start_time": "2023-07-25T18:45:22.773Z"
   },
   {
    "duration": 1567,
    "start_time": "2023-07-25T18:45:26.458Z"
   },
   {
    "duration": 206,
    "start_time": "2023-07-25T18:45:28.028Z"
   },
   {
    "duration": 19,
    "start_time": "2023-07-25T18:45:28.236Z"
   },
   {
    "duration": 25,
    "start_time": "2023-07-25T18:45:28.257Z"
   },
   {
    "duration": 3,
    "start_time": "2023-07-25T18:45:28.285Z"
   },
   {
    "duration": 10,
    "start_time": "2023-07-25T18:45:28.290Z"
   },
   {
    "duration": 5,
    "start_time": "2023-07-25T18:45:28.654Z"
   },
   {
    "duration": 185,
    "start_time": "2023-07-25T18:45:28.847Z"
   },
   {
    "duration": 8,
    "start_time": "2023-07-25T18:45:29.888Z"
   },
   {
    "duration": 82,
    "start_time": "2023-07-25T18:45:34.801Z"
   },
   {
    "duration": 17,
    "start_time": "2023-07-25T18:45:42.461Z"
   },
   {
    "duration": 10,
    "start_time": "2023-07-25T18:45:43.398Z"
   },
   {
    "duration": 14,
    "start_time": "2023-07-25T18:46:00.861Z"
   },
   {
    "duration": 10,
    "start_time": "2023-07-25T18:47:11.002Z"
   },
   {
    "duration": 10,
    "start_time": "2023-07-25T18:47:25.616Z"
   },
   {
    "duration": 4,
    "start_time": "2023-07-25T18:47:29.400Z"
   },
   {
    "duration": 77,
    "start_time": "2023-07-25T18:47:29.583Z"
   },
   {
    "duration": 14,
    "start_time": "2023-07-25T18:47:29.744Z"
   },
   {
    "duration": 13,
    "start_time": "2023-07-25T18:47:29.932Z"
   },
   {
    "duration": 7,
    "start_time": "2023-07-25T18:47:30.882Z"
   },
   {
    "duration": 7,
    "start_time": "2023-07-25T18:47:31.790Z"
   },
   {
    "duration": 6,
    "start_time": "2023-07-25T18:47:33.199Z"
   },
   {
    "duration": 213,
    "start_time": "2023-07-25T18:47:33.443Z"
   },
   {
    "duration": 7,
    "start_time": "2023-07-25T18:47:34.500Z"
   },
   {
    "duration": 14,
    "start_time": "2023-07-25T18:47:36.610Z"
   },
   {
    "duration": 13,
    "start_time": "2023-07-25T18:47:37.358Z"
   },
   {
    "duration": 22,
    "start_time": "2023-07-25T18:47:47.057Z"
   },
   {
    "duration": 8,
    "start_time": "2023-07-25T18:48:27.996Z"
   },
   {
    "duration": 119,
    "start_time": "2023-07-25T18:51:39.906Z"
   },
   {
    "duration": 8,
    "start_time": "2023-07-25T18:51:49.937Z"
   },
   {
    "duration": 5,
    "start_time": "2023-07-25T18:54:40.167Z"
   },
   {
    "duration": 14,
    "start_time": "2023-07-25T18:54:54.402Z"
   },
   {
    "duration": 23,
    "start_time": "2023-07-25T18:55:02.134Z"
   },
   {
    "duration": 18,
    "start_time": "2023-07-25T18:55:16.879Z"
   },
   {
    "duration": 5,
    "start_time": "2023-07-25T18:57:06.208Z"
   },
   {
    "duration": 38,
    "start_time": "2023-07-25T18:57:26.362Z"
   },
   {
    "duration": 20,
    "start_time": "2023-07-25T18:57:54.501Z"
   },
   {
    "duration": 21,
    "start_time": "2023-07-25T18:58:06.302Z"
   },
   {
    "duration": 4,
    "start_time": "2023-07-25T18:58:47.098Z"
   },
   {
    "duration": 4,
    "start_time": "2023-07-25T18:58:54.143Z"
   },
   {
    "duration": 17,
    "start_time": "2023-07-25T18:58:54.598Z"
   },
   {
    "duration": 137,
    "start_time": "2023-07-25T18:59:29.161Z"
   },
   {
    "duration": 43,
    "start_time": "2023-07-25T18:59:35.906Z"
   },
   {
    "duration": 24,
    "start_time": "2023-07-25T18:59:58.998Z"
   },
   {
    "duration": 28,
    "start_time": "2023-07-25T19:00:30.610Z"
   },
   {
    "duration": 1503,
    "start_time": "2023-07-31T07:08:24.818Z"
   },
   {
    "duration": 75,
    "start_time": "2023-07-31T07:08:27.352Z"
   },
   {
    "duration": 17,
    "start_time": "2023-07-31T07:08:27.911Z"
   },
   {
    "duration": 16,
    "start_time": "2023-07-31T07:08:30.154Z"
   },
   {
    "duration": 4,
    "start_time": "2023-07-31T07:08:33.603Z"
   },
   {
    "duration": 6,
    "start_time": "2023-07-31T07:08:34.809Z"
   },
   {
    "duration": 5,
    "start_time": "2023-07-31T07:08:45.797Z"
   },
   {
    "duration": 175,
    "start_time": "2023-07-31T07:08:46.280Z"
   },
   {
    "duration": 7,
    "start_time": "2023-07-31T07:08:48.815Z"
   },
   {
    "duration": 18,
    "start_time": "2023-07-31T07:08:56.241Z"
   },
   {
    "duration": 9,
    "start_time": "2023-07-31T07:08:56.556Z"
   },
   {
    "duration": 4,
    "start_time": "2023-07-31T07:08:57.087Z"
   },
   {
    "duration": 4,
    "start_time": "2023-07-31T07:08:57.569Z"
   },
   {
    "duration": 17,
    "start_time": "2023-07-31T07:08:58.380Z"
   },
   {
    "duration": 27,
    "start_time": "2023-07-31T07:09:02.494Z"
   },
   {
    "duration": 10,
    "start_time": "2023-07-31T07:11:45.148Z"
   },
   {
    "duration": 11,
    "start_time": "2023-07-31T07:12:01.066Z"
   },
   {
    "duration": 10,
    "start_time": "2023-07-31T07:12:25.752Z"
   },
   {
    "duration": 13,
    "start_time": "2023-07-31T07:15:17.449Z"
   },
   {
    "duration": 12,
    "start_time": "2023-07-31T07:17:09.756Z"
   },
   {
    "duration": 13,
    "start_time": "2023-07-31T07:17:12.887Z"
   },
   {
    "duration": 12,
    "start_time": "2023-07-31T07:17:48.415Z"
   },
   {
    "duration": 31,
    "start_time": "2023-07-31T07:18:04.070Z"
   },
   {
    "duration": 5,
    "start_time": "2023-07-31T07:18:55.776Z"
   },
   {
    "duration": 13,
    "start_time": "2023-07-31T07:18:57.062Z"
   },
   {
    "duration": 16,
    "start_time": "2023-07-31T07:18:57.383Z"
   },
   {
    "duration": 6,
    "start_time": "2023-07-31T07:24:11.853Z"
   },
   {
    "duration": 633,
    "start_time": "2023-07-31T07:31:57.922Z"
   },
   {
    "duration": 608,
    "start_time": "2023-07-31T07:32:23.489Z"
   },
   {
    "duration": 2236,
    "start_time": "2023-07-31T07:32:38.819Z"
   },
   {
    "duration": 1432,
    "start_time": "2023-08-08T21:30:56.394Z"
   },
   {
    "duration": 63,
    "start_time": "2023-08-08T21:30:57.828Z"
   },
   {
    "duration": 16,
    "start_time": "2023-08-08T21:30:57.893Z"
   },
   {
    "duration": 18,
    "start_time": "2023-08-08T21:30:57.911Z"
   },
   {
    "duration": 3,
    "start_time": "2023-08-08T21:30:57.930Z"
   },
   {
    "duration": 6,
    "start_time": "2023-08-08T21:30:57.934Z"
   },
   {
    "duration": 28,
    "start_time": "2023-08-08T21:30:57.942Z"
   },
   {
    "duration": 169,
    "start_time": "2023-08-08T21:30:57.972Z"
   },
   {
    "duration": 7,
    "start_time": "2023-08-08T21:30:58.142Z"
   },
   {
    "duration": 14,
    "start_time": "2023-08-08T21:30:58.152Z"
   },
   {
    "duration": 4,
    "start_time": "2023-08-08T21:30:58.168Z"
   },
   {
    "duration": 11,
    "start_time": "2023-08-08T21:30:58.174Z"
   },
   {
    "duration": 5,
    "start_time": "2023-08-08T21:30:58.200Z"
   },
   {
    "duration": 29,
    "start_time": "2023-08-08T21:30:58.207Z"
   },
   {
    "duration": 28,
    "start_time": "2023-08-08T21:30:58.238Z"
   },
   {
    "duration": 23,
    "start_time": "2023-08-08T21:30:58.268Z"
   },
   {
    "duration": 15,
    "start_time": "2023-08-08T21:30:58.292Z"
   },
   {
    "duration": 17,
    "start_time": "2023-08-08T21:30:58.308Z"
   },
   {
    "duration": 18,
    "start_time": "2023-08-08T21:30:58.327Z"
   },
   {
    "duration": 18,
    "start_time": "2023-08-08T21:30:58.347Z"
   },
   {
    "duration": 12,
    "start_time": "2023-08-08T21:30:58.367Z"
   },
   {
    "duration": 12,
    "start_time": "2023-08-08T21:30:58.381Z"
   },
   {
    "duration": 18,
    "start_time": "2023-08-08T21:30:58.405Z"
   },
   {
    "duration": 9,
    "start_time": "2023-08-08T21:30:58.425Z"
   },
   {
    "duration": 64,
    "start_time": "2023-08-08T21:30:58.435Z"
   },
   {
    "duration": 72414,
    "start_time": "2023-08-08T21:30:58.501Z"
   },
   {
    "duration": 24,
    "start_time": "2023-08-08T21:34:17.200Z"
   },
   {
    "duration": 12,
    "start_time": "2023-08-08T21:39:17.593Z"
   },
   {
    "duration": 2111,
    "start_time": "2023-08-08T21:39:29.619Z"
   },
   {
    "duration": 426,
    "start_time": "2023-08-08T21:40:01.757Z"
   },
   {
    "duration": 1844,
    "start_time": "2023-08-08T21:40:06.614Z"
   },
   {
    "duration": 4,
    "start_time": "2023-08-08T21:46:52.069Z"
   },
   {
    "duration": 4,
    "start_time": "2023-08-08T21:47:04.442Z"
   },
   {
    "duration": 1833,
    "start_time": "2023-08-08T21:47:13.736Z"
   },
   {
    "duration": 10,
    "start_time": "2023-08-08T21:47:16.255Z"
   },
   {
    "duration": 3232,
    "start_time": "2023-08-08T21:47:16.753Z"
   },
   {
    "duration": 5,
    "start_time": "2023-08-08T21:49:18.085Z"
   },
   {
    "duration": 3934,
    "start_time": "2023-08-08T21:49:23.458Z"
   },
   {
    "duration": 2,
    "start_time": "2023-08-08T21:53:58.796Z"
   },
   {
    "duration": 1551,
    "start_time": "2023-08-08T21:54:08.705Z"
   },
   {
    "duration": 916,
    "start_time": "2023-08-08T21:56:24.954Z"
   },
   {
    "duration": 961,
    "start_time": "2023-08-08T21:56:39.747Z"
   },
   {
    "duration": 1711,
    "start_time": "2023-08-08T21:56:58.077Z"
   },
   {
    "duration": 950,
    "start_time": "2023-08-08T21:58:15.316Z"
   },
   {
    "duration": 1532,
    "start_time": "2023-08-08T22:01:06.416Z"
   },
   {
    "duration": 783,
    "start_time": "2023-08-08T22:06:46.914Z"
   },
   {
    "duration": 784,
    "start_time": "2023-08-08T22:07:20.542Z"
   },
   {
    "duration": 9345,
    "start_time": "2023-08-08T22:10:11.952Z"
   },
   {
    "duration": 1088,
    "start_time": "2023-08-08T22:10:51.998Z"
   },
   {
    "duration": 9762,
    "start_time": "2023-08-08T22:11:15.455Z"
   },
   {
    "duration": 6246,
    "start_time": "2023-08-08T22:11:55.830Z"
   },
   {
    "duration": 9040,
    "start_time": "2023-08-08T22:12:19.887Z"
   },
   {
    "duration": 9359,
    "start_time": "2023-08-08T22:13:06.900Z"
   },
   {
    "duration": 10280,
    "start_time": "2023-08-08T22:13:59.154Z"
   },
   {
    "duration": 9742,
    "start_time": "2023-08-08T22:14:19.980Z"
   },
   {
    "duration": 1057,
    "start_time": "2023-08-08T22:15:51.627Z"
   },
   {
    "duration": 837,
    "start_time": "2023-08-08T22:17:52.978Z"
   },
   {
    "duration": 819,
    "start_time": "2023-08-08T22:27:08.822Z"
   },
   {
    "duration": 870,
    "start_time": "2023-08-08T22:27:48.110Z"
   },
   {
    "duration": 10518,
    "start_time": "2023-08-08T22:28:55.352Z"
   },
   {
    "duration": 851,
    "start_time": "2023-08-08T22:34:09.279Z"
   },
   {
    "duration": 819,
    "start_time": "2023-08-08T22:36:40.997Z"
   },
   {
    "duration": 752,
    "start_time": "2023-08-08T22:40:00.534Z"
   },
   {
    "duration": 1095,
    "start_time": "2023-08-08T22:40:25.193Z"
   },
   {
    "duration": 898,
    "start_time": "2023-08-08T22:46:23.646Z"
   },
   {
    "duration": 1032,
    "start_time": "2023-08-08T22:48:16.283Z"
   },
   {
    "duration": 254,
    "start_time": "2023-08-08T22:49:24.332Z"
   },
   {
    "duration": 4,
    "start_time": "2023-08-08T22:49:43.465Z"
   },
   {
    "duration": 6130,
    "start_time": "2023-08-08T22:49:46.627Z"
   },
   {
    "duration": 7034,
    "start_time": "2023-08-08T22:49:58.893Z"
   },
   {
    "duration": 6310,
    "start_time": "2023-08-08T22:50:06.828Z"
   },
   {
    "duration": 6572,
    "start_time": "2023-08-08T22:50:32.436Z"
   },
   {
    "duration": 6430,
    "start_time": "2023-08-08T22:50:45.952Z"
   },
   {
    "duration": 1420,
    "start_time": "2023-08-08T22:50:56.995Z"
   },
   {
    "duration": 6237,
    "start_time": "2023-08-08T22:51:13.067Z"
   },
   {
    "duration": 7276,
    "start_time": "2023-08-08T22:54:50.807Z"
   },
   {
    "duration": 10154,
    "start_time": "2023-08-08T22:55:25.025Z"
   },
   {
    "duration": 1196,
    "start_time": "2023-08-08T22:57:03.923Z"
   },
   {
    "duration": 10558,
    "start_time": "2023-08-08T22:57:56.807Z"
   },
   {
    "duration": 1349,
    "start_time": "2023-08-08T22:58:57.479Z"
   },
   {
    "duration": 11094,
    "start_time": "2023-08-08T22:59:07.779Z"
   },
   {
    "duration": 1332,
    "start_time": "2023-08-08T22:59:45.406Z"
   },
   {
    "duration": 178,
    "start_time": "2023-08-08T23:01:18.924Z"
   },
   {
    "duration": 5,
    "start_time": "2023-08-08T23:18:11.187Z"
   },
   {
    "duration": 8,
    "start_time": "2023-08-08T23:18:48.714Z"
   },
   {
    "duration": 584,
    "start_time": "2023-08-08T23:18:53.515Z"
   },
   {
    "duration": 142,
    "start_time": "2023-08-08T23:24:17.218Z"
   },
   {
    "duration": 5,
    "start_time": "2023-08-08T23:25:26.327Z"
   },
   {
    "duration": 16,
    "start_time": "2023-08-08T23:25:26.562Z"
   },
   {
    "duration": 4,
    "start_time": "2023-08-08T23:26:14.871Z"
   },
   {
    "duration": 142,
    "start_time": "2023-08-08T23:26:15.045Z"
   },
   {
    "duration": 12,
    "start_time": "2023-08-08T23:26:15.220Z"
   },
   {
    "duration": 11,
    "start_time": "2023-08-08T23:26:15.408Z"
   },
   {
    "duration": 3,
    "start_time": "2023-08-08T23:26:16.136Z"
   },
   {
    "duration": 5,
    "start_time": "2023-08-08T23:26:16.520Z"
   },
   {
    "duration": 4,
    "start_time": "2023-08-08T23:26:16.910Z"
   },
   {
    "duration": 126,
    "start_time": "2023-08-08T23:26:17.072Z"
   },
   {
    "duration": 6,
    "start_time": "2023-08-08T23:26:17.439Z"
   },
   {
    "duration": 10,
    "start_time": "2023-08-08T23:26:17.844Z"
   },
   {
    "duration": 6,
    "start_time": "2023-08-08T23:26:18.044Z"
   },
   {
    "duration": 4,
    "start_time": "2023-08-08T23:26:18.247Z"
   },
   {
    "duration": 3,
    "start_time": "2023-08-08T23:26:18.451Z"
   },
   {
    "duration": 14,
    "start_time": "2023-08-08T23:26:18.645Z"
   },
   {
    "duration": 23,
    "start_time": "2023-08-08T23:26:18.823Z"
   },
   {
    "duration": 11,
    "start_time": "2023-08-08T23:26:19.027Z"
   },
   {
    "duration": 11,
    "start_time": "2023-08-08T23:26:19.216Z"
   },
   {
    "duration": 11,
    "start_time": "2023-08-08T23:26:19.423Z"
   },
   {
    "duration": 11,
    "start_time": "2023-08-08T23:26:19.613Z"
   },
   {
    "duration": 11,
    "start_time": "2023-08-08T23:26:19.814Z"
   },
   {
    "duration": 5,
    "start_time": "2023-08-08T23:26:20.430Z"
   },
   {
    "duration": 8,
    "start_time": "2023-08-08T23:26:20.837Z"
   },
   {
    "duration": 17,
    "start_time": "2023-08-08T23:26:21.037Z"
   },
   {
    "duration": 5,
    "start_time": "2023-08-08T23:26:21.219Z"
   },
   {
    "duration": 48,
    "start_time": "2023-08-08T23:26:21.854Z"
   },
   {
    "duration": 17,
    "start_time": "2023-08-08T23:26:22.033Z"
   },
   {
    "duration": 10,
    "start_time": "2023-08-08T23:26:22.470Z"
   },
   {
    "duration": 1904,
    "start_time": "2023-08-08T23:26:22.662Z"
   },
   {
    "duration": 0,
    "start_time": "2023-08-08T23:26:24.568Z"
   },
   {
    "duration": 0,
    "start_time": "2023-08-08T23:26:24.569Z"
   },
   {
    "duration": 0,
    "start_time": "2023-08-08T23:26:24.570Z"
   },
   {
    "duration": 157,
    "start_time": "2023-08-08T23:26:59.495Z"
   },
   {
    "duration": 6,
    "start_time": "2023-08-08T23:27:00.469Z"
   },
   {
    "duration": 240,
    "start_time": "2023-08-08T23:27:01.349Z"
   },
   {
    "duration": 5,
    "start_time": "2023-08-08T23:27:50.651Z"
   },
   {
    "duration": 6,
    "start_time": "2023-08-08T23:28:06.428Z"
   },
   {
    "duration": 785,
    "start_time": "2023-08-08T23:28:06.647Z"
   },
   {
    "duration": 1610,
    "start_time": "2023-08-09T07:08:23.144Z"
   },
   {
    "duration": 77,
    "start_time": "2023-08-09T07:08:24.755Z"
   },
   {
    "duration": 15,
    "start_time": "2023-08-09T07:08:24.834Z"
   },
   {
    "duration": 26,
    "start_time": "2023-08-09T07:08:24.851Z"
   },
   {
    "duration": 6,
    "start_time": "2023-08-09T07:08:24.879Z"
   },
   {
    "duration": 18,
    "start_time": "2023-08-09T07:08:24.886Z"
   },
   {
    "duration": 5,
    "start_time": "2023-08-09T07:08:24.906Z"
   },
   {
    "duration": 150,
    "start_time": "2023-08-09T07:08:24.912Z"
   },
   {
    "duration": 7,
    "start_time": "2023-08-09T07:08:25.064Z"
   },
   {
    "duration": 25,
    "start_time": "2023-08-09T07:08:25.074Z"
   },
   {
    "duration": 7,
    "start_time": "2023-08-09T07:08:25.101Z"
   },
   {
    "duration": 17,
    "start_time": "2023-08-09T07:08:25.110Z"
   },
   {
    "duration": 16,
    "start_time": "2023-08-09T07:08:25.129Z"
   },
   {
    "duration": 55,
    "start_time": "2023-08-09T07:08:25.147Z"
   },
   {
    "duration": 37,
    "start_time": "2023-08-09T07:08:25.204Z"
   },
   {
    "duration": 18,
    "start_time": "2023-08-09T07:08:25.242Z"
   },
   {
    "duration": 17,
    "start_time": "2023-08-09T07:08:25.261Z"
   },
   {
    "duration": 15,
    "start_time": "2023-08-09T07:08:25.279Z"
   },
   {
    "duration": 22,
    "start_time": "2023-08-09T07:08:25.296Z"
   },
   {
    "duration": 16,
    "start_time": "2023-08-09T07:08:25.320Z"
   },
   {
    "duration": 22,
    "start_time": "2023-08-09T07:08:25.338Z"
   },
   {
    "duration": 21,
    "start_time": "2023-08-09T07:08:25.362Z"
   },
   {
    "duration": 21,
    "start_time": "2023-08-09T07:08:25.385Z"
   },
   {
    "duration": 12,
    "start_time": "2023-08-09T07:08:25.408Z"
   },
   {
    "duration": 57,
    "start_time": "2023-08-09T07:08:25.422Z"
   },
   {
    "duration": 19,
    "start_time": "2023-08-09T07:08:25.481Z"
   },
   {
    "duration": 156,
    "start_time": "2023-08-09T07:08:25.502Z"
   },
   {
    "duration": 5,
    "start_time": "2023-08-09T07:08:25.661Z"
   },
   {
    "duration": 1014,
    "start_time": "2023-08-09T07:08:25.668Z"
   },
   {
    "duration": 6,
    "start_time": "2023-08-09T07:10:25.380Z"
   },
   {
    "duration": 846,
    "start_time": "2023-08-09T07:10:35.473Z"
   },
   {
    "duration": 5,
    "start_time": "2023-08-09T07:12:50.999Z"
   },
   {
    "duration": 874,
    "start_time": "2023-08-09T07:12:52.941Z"
   },
   {
    "duration": 117,
    "start_time": "2023-08-09T07:20:51.444Z"
   },
   {
    "duration": 3,
    "start_time": "2023-08-09T07:22:16.136Z"
   },
   {
    "duration": 4,
    "start_time": "2023-08-09T07:23:22.373Z"
   },
   {
    "duration": 12,
    "start_time": "2023-08-09T07:23:38.020Z"
   },
   {
    "duration": 4,
    "start_time": "2023-08-09T07:24:39.937Z"
   },
   {
    "duration": 568,
    "start_time": "2023-08-09T07:24:40.500Z"
   },
   {
    "duration": 4,
    "start_time": "2023-08-09T07:24:58.683Z"
   },
   {
    "duration": 587,
    "start_time": "2023-08-09T07:24:58.957Z"
   },
   {
    "duration": 4,
    "start_time": "2023-08-09T07:25:23.542Z"
   },
   {
    "duration": 695,
    "start_time": "2023-08-09T07:25:25.216Z"
   },
   {
    "duration": 5,
    "start_time": "2023-08-09T07:26:55.822Z"
   },
   {
    "duration": 614,
    "start_time": "2023-08-09T07:26:56.060Z"
   },
   {
    "duration": 6,
    "start_time": "2023-08-09T07:27:27.624Z"
   },
   {
    "duration": 611,
    "start_time": "2023-08-09T07:27:28.703Z"
   },
   {
    "duration": 6,
    "start_time": "2023-08-09T07:38:38.592Z"
   },
   {
    "duration": 874,
    "start_time": "2023-08-09T07:38:47.300Z"
   },
   {
    "duration": 5,
    "start_time": "2023-08-09T07:40:54.510Z"
   },
   {
    "duration": 970,
    "start_time": "2023-08-09T07:40:56.522Z"
   },
   {
    "duration": 2,
    "start_time": "2023-08-09T07:41:35.814Z"
   },
   {
    "duration": 6,
    "start_time": "2023-08-09T07:41:36.172Z"
   },
   {
    "duration": 870,
    "start_time": "2023-08-09T07:41:36.751Z"
   },
   {
    "duration": 3,
    "start_time": "2023-08-09T07:41:49.829Z"
   },
   {
    "duration": 7,
    "start_time": "2023-08-09T07:42:44.397Z"
   },
   {
    "duration": 1057,
    "start_time": "2023-08-09T07:42:44.794Z"
   },
   {
    "duration": 5,
    "start_time": "2023-08-09T07:44:00.039Z"
   },
   {
    "duration": 847,
    "start_time": "2023-08-09T07:44:03.977Z"
   },
   {
    "duration": 5,
    "start_time": "2023-08-09T07:45:10.835Z"
   },
   {
    "duration": 1127,
    "start_time": "2023-08-09T07:45:11.387Z"
   },
   {
    "duration": 9,
    "start_time": "2023-08-09T07:46:35.809Z"
   },
   {
    "duration": 7931,
    "start_time": "2023-08-09T07:46:37.725Z"
   },
   {
    "duration": 2071,
    "start_time": "2023-08-09T11:02:31.123Z"
   },
   {
    "duration": 83,
    "start_time": "2023-08-09T11:02:33.199Z"
   },
   {
    "duration": 30,
    "start_time": "2023-08-09T11:02:33.284Z"
   },
   {
    "duration": 30,
    "start_time": "2023-08-09T11:02:33.316Z"
   },
   {
    "duration": 33,
    "start_time": "2023-08-09T11:02:33.350Z"
   },
   {
    "duration": 29,
    "start_time": "2023-08-09T11:02:33.385Z"
   },
   {
    "duration": 41,
    "start_time": "2023-08-09T11:02:33.416Z"
   },
   {
    "duration": 211,
    "start_time": "2023-08-09T11:02:33.459Z"
   },
   {
    "duration": 7,
    "start_time": "2023-08-09T11:02:33.671Z"
   },
   {
    "duration": 49,
    "start_time": "2023-08-09T11:02:33.695Z"
   },
   {
    "duration": 45,
    "start_time": "2023-08-09T11:02:33.746Z"
   },
   {
    "duration": 50,
    "start_time": "2023-08-09T11:02:33.798Z"
   },
   {
    "duration": 31,
    "start_time": "2023-08-09T11:02:33.851Z"
   },
   {
    "duration": 47,
    "start_time": "2023-08-09T11:02:33.886Z"
   },
   {
    "duration": 67,
    "start_time": "2023-08-09T11:02:33.935Z"
   },
   {
    "duration": 24,
    "start_time": "2023-08-09T11:02:34.004Z"
   },
   {
    "duration": 166,
    "start_time": "2023-08-09T11:02:34.031Z"
   },
   {
    "duration": 54,
    "start_time": "2023-08-09T11:02:34.199Z"
   },
   {
    "duration": 69,
    "start_time": "2023-08-09T11:02:34.255Z"
   },
   {
    "duration": 100,
    "start_time": "2023-08-09T11:02:34.326Z"
   },
   {
    "duration": 39,
    "start_time": "2023-08-09T11:02:34.428Z"
   },
   {
    "duration": 116,
    "start_time": "2023-08-09T11:02:34.469Z"
   },
   {
    "duration": 63,
    "start_time": "2023-08-09T11:02:34.587Z"
   },
   {
    "duration": 31,
    "start_time": "2023-08-09T11:02:34.652Z"
   },
   {
    "duration": 100,
    "start_time": "2023-08-09T11:02:34.685Z"
   },
   {
    "duration": 30,
    "start_time": "2023-08-09T11:02:34.787Z"
   },
   {
    "duration": 268,
    "start_time": "2023-08-09T11:02:34.820Z"
   },
   {
    "duration": 11,
    "start_time": "2023-08-09T11:02:35.092Z"
   },
   {
    "duration": 35,
    "start_time": "2023-08-09T11:02:35.106Z"
   },
   {
    "duration": 10292,
    "start_time": "2023-08-09T11:02:35.143Z"
   },
   {
    "duration": 7,
    "start_time": "2023-08-09T11:03:44.130Z"
   },
   {
    "duration": 12631,
    "start_time": "2023-08-09T11:03:46.131Z"
   },
   {
    "duration": 209,
    "start_time": "2023-08-09T11:04:21.687Z"
   },
   {
    "duration": 29,
    "start_time": "2023-08-09T11:04:33.034Z"
   },
   {
    "duration": 30,
    "start_time": "2023-08-09T11:05:08.722Z"
   },
   {
    "duration": 1942,
    "start_time": "2023-08-09T11:50:14.920Z"
   },
   {
    "duration": 483,
    "start_time": "2023-08-09T11:50:31.862Z"
   },
   {
    "duration": 10,
    "start_time": "2023-08-12T11:55:35.877Z"
   },
   {
    "duration": 236,
    "start_time": "2023-08-12T11:55:35.889Z"
   },
   {
    "duration": 15,
    "start_time": "2023-08-12T11:55:36.127Z"
   },
   {
    "duration": 50,
    "start_time": "2023-08-12T11:55:36.144Z"
   },
   {
    "duration": 4,
    "start_time": "2023-08-12T11:55:36.201Z"
   },
   {
    "duration": 33,
    "start_time": "2023-08-12T11:55:36.207Z"
   },
   {
    "duration": 6,
    "start_time": "2023-08-12T11:55:36.242Z"
   },
   {
    "duration": 183,
    "start_time": "2023-08-12T11:55:36.250Z"
   },
   {
    "duration": 8,
    "start_time": "2023-08-12T11:55:36.436Z"
   },
   {
    "duration": 26,
    "start_time": "2023-08-12T11:55:36.464Z"
   },
   {
    "duration": 10,
    "start_time": "2023-08-12T11:55:36.492Z"
   },
   {
    "duration": 6,
    "start_time": "2023-08-12T11:55:36.504Z"
   },
   {
    "duration": 19,
    "start_time": "2023-08-12T11:55:36.512Z"
   },
   {
    "duration": 20,
    "start_time": "2023-08-12T11:55:36.535Z"
   },
   {
    "duration": 44,
    "start_time": "2023-08-12T11:55:36.563Z"
   },
   {
    "duration": 18,
    "start_time": "2023-08-12T11:55:36.609Z"
   },
   {
    "duration": 31,
    "start_time": "2023-08-12T11:55:36.629Z"
   },
   {
    "duration": 33,
    "start_time": "2023-08-12T11:55:36.669Z"
   },
   {
    "duration": 21,
    "start_time": "2023-08-12T11:55:36.706Z"
   },
   {
    "duration": 14,
    "start_time": "2023-08-12T11:55:36.729Z"
   },
   {
    "duration": 5,
    "start_time": "2023-08-12T11:55:36.745Z"
   },
   {
    "duration": 23,
    "start_time": "2023-08-12T11:55:36.752Z"
   },
   {
    "duration": 33,
    "start_time": "2023-08-12T11:55:36.777Z"
   },
   {
    "duration": 6,
    "start_time": "2023-08-12T11:55:36.812Z"
   },
   {
    "duration": 84,
    "start_time": "2023-08-12T11:55:36.820Z"
   },
   {
    "duration": 247,
    "start_time": "2023-08-12T11:55:36.906Z"
   },
   {
    "duration": 40,
    "start_time": "2023-08-12T11:55:37.157Z"
   },
   {
    "duration": 4,
    "start_time": "2023-08-12T11:55:37.203Z"
   },
   {
    "duration": 14,
    "start_time": "2023-08-12T11:55:37.209Z"
   },
   {
    "duration": 13822,
    "start_time": "2023-08-12T11:55:37.225Z"
   },
   {
    "duration": 2385,
    "start_time": "2023-08-12T11:55:51.052Z"
   },
   {
    "duration": 617,
    "start_time": "2023-08-12T11:55:53.444Z"
   },
   {
    "duration": 408,
    "start_time": "2023-08-12T11:55:54.063Z"
   },
   {
    "duration": 33,
    "start_time": "2023-08-12T11:55:54.475Z"
   },
   {
    "duration": 22,
    "start_time": "2023-08-12T11:55:54.510Z"
   },
   {
    "duration": 20,
    "start_time": "2023-08-12T11:55:54.538Z"
   },
   {
    "duration": 813,
    "start_time": "2023-08-12T11:55:54.560Z"
   },
   {
    "duration": 15,
    "start_time": "2023-08-12T11:55:55.382Z"
   },
   {
    "duration": 11,
    "start_time": "2023-08-12T11:55:55.407Z"
   },
   {
    "duration": 146,
    "start_time": "2023-08-12T11:55:55.420Z"
   },
   {
    "duration": 106,
    "start_time": "2023-08-12T11:56:37.070Z"
   },
   {
    "duration": 62,
    "start_time": "2023-08-12T11:56:46.386Z"
   },
   {
    "duration": 64,
    "start_time": "2023-08-12T11:56:57.217Z"
   },
   {
    "duration": 84,
    "start_time": "2023-08-12T11:57:04.549Z"
   },
   {
    "duration": 80,
    "start_time": "2023-08-12T11:59:36.696Z"
   },
   {
    "duration": 68,
    "start_time": "2023-08-12T12:00:46.734Z"
   },
   {
    "duration": 53,
    "start_time": "2023-08-12T12:00:55.125Z"
   },
   {
    "duration": 52,
    "start_time": "2023-08-12T12:02:36.356Z"
   },
   {
    "duration": 115,
    "start_time": "2023-08-12T12:03:07.124Z"
   },
   {
    "duration": 45,
    "start_time": "2023-08-12T12:03:20.832Z"
   },
   {
    "duration": 54,
    "start_time": "2023-08-12T12:04:49.504Z"
   },
   {
    "duration": 115,
    "start_time": "2023-08-12T12:05:46.070Z"
   },
   {
    "duration": 74,
    "start_time": "2023-08-12T12:05:55.609Z"
   },
   {
    "duration": 55,
    "start_time": "2023-08-12T12:06:34.746Z"
   },
   {
    "duration": 15,
    "start_time": "2023-08-12T12:06:57.825Z"
   },
   {
    "duration": 18,
    "start_time": "2023-08-12T12:07:06.887Z"
   },
   {
    "duration": 17,
    "start_time": "2023-08-12T12:07:15.973Z"
   },
   {
    "duration": 40,
    "start_time": "2023-08-12T12:08:16.579Z"
   },
   {
    "duration": 16,
    "start_time": "2023-08-12T12:08:45.589Z"
   },
   {
    "duration": 121,
    "start_time": "2023-08-12T12:09:23.581Z"
   },
   {
    "duration": 27,
    "start_time": "2023-08-12T12:09:46.571Z"
   },
   {
    "duration": 28,
    "start_time": "2023-08-12T12:09:55.607Z"
   },
   {
    "duration": 18,
    "start_time": "2023-08-12T12:10:52.103Z"
   },
   {
    "duration": 17,
    "start_time": "2023-08-12T12:11:13.303Z"
   },
   {
    "duration": 40,
    "start_time": "2023-08-12T12:11:43.038Z"
   },
   {
    "duration": 56,
    "start_time": "2023-08-12T12:11:48.228Z"
   },
   {
    "duration": 14,
    "start_time": "2023-08-12T12:12:25.092Z"
   },
   {
    "duration": 16,
    "start_time": "2023-08-12T12:12:38.778Z"
   },
   {
    "duration": 15,
    "start_time": "2023-08-12T12:13:18.507Z"
   },
   {
    "duration": 25,
    "start_time": "2023-08-12T12:13:34.554Z"
   },
   {
    "duration": 17,
    "start_time": "2023-08-12T12:13:51.893Z"
   },
   {
    "duration": 80,
    "start_time": "2023-08-12T12:14:09.898Z"
   },
   {
    "duration": 15,
    "start_time": "2023-08-12T12:14:12.514Z"
   },
   {
    "duration": 15,
    "start_time": "2023-08-12T12:14:25.365Z"
   },
   {
    "duration": 17,
    "start_time": "2023-08-12T12:14:51.082Z"
   },
   {
    "duration": 22,
    "start_time": "2023-08-12T12:14:58.156Z"
   },
   {
    "duration": 19,
    "start_time": "2023-08-12T12:16:55.981Z"
   },
   {
    "duration": 21,
    "start_time": "2023-08-12T12:17:13.595Z"
   },
   {
    "duration": 14,
    "start_time": "2023-08-12T12:17:27.695Z"
   },
   {
    "duration": 15,
    "start_time": "2023-08-12T12:17:36.806Z"
   },
   {
    "duration": 15,
    "start_time": "2023-08-12T12:23:49.931Z"
   },
   {
    "duration": 13,
    "start_time": "2023-08-12T12:23:53.312Z"
   },
   {
    "duration": 15,
    "start_time": "2023-08-12T12:24:00.533Z"
   },
   {
    "duration": 24,
    "start_time": "2023-08-12T12:24:11.585Z"
   },
   {
    "duration": 23,
    "start_time": "2023-08-12T12:24:40.081Z"
   },
   {
    "duration": 16,
    "start_time": "2023-08-12T12:24:49.608Z"
   },
   {
    "duration": 12,
    "start_time": "2023-08-12T12:25:11.485Z"
   },
   {
    "duration": 11,
    "start_time": "2023-08-12T12:25:49.829Z"
   },
   {
    "duration": 24,
    "start_time": "2023-08-12T12:25:54.957Z"
   },
   {
    "duration": 15,
    "start_time": "2023-08-12T12:26:04.946Z"
   },
   {
    "duration": 11,
    "start_time": "2023-08-12T12:26:17.809Z"
   },
   {
    "duration": 13,
    "start_time": "2023-08-12T12:26:57.502Z"
   },
   {
    "duration": 37,
    "start_time": "2023-08-12T12:27:03.953Z"
   },
   {
    "duration": 12,
    "start_time": "2023-08-12T12:27:10.727Z"
   },
   {
    "duration": 25,
    "start_time": "2023-08-12T12:27:18.985Z"
   },
   {
    "duration": 11,
    "start_time": "2023-08-12T12:27:24.643Z"
   },
   {
    "duration": 20,
    "start_time": "2023-08-12T12:27:33.685Z"
   },
   {
    "duration": 82,
    "start_time": "2023-08-12T12:28:33.049Z"
   },
   {
    "duration": 32,
    "start_time": "2023-08-12T12:28:35.852Z"
   },
   {
    "duration": 16,
    "start_time": "2023-08-12T12:29:33.141Z"
   },
   {
    "duration": 13,
    "start_time": "2023-08-12T12:29:41.622Z"
   },
   {
    "duration": 16,
    "start_time": "2023-08-12T12:37:08.338Z"
   },
   {
    "duration": 13,
    "start_time": "2023-08-12T12:37:23.817Z"
   },
   {
    "duration": 16,
    "start_time": "2023-08-12T12:38:50.170Z"
   },
   {
    "duration": 13,
    "start_time": "2023-08-12T12:38:58.597Z"
   },
   {
    "duration": 13,
    "start_time": "2023-08-12T12:39:33.195Z"
   },
   {
    "duration": 15,
    "start_time": "2023-08-12T12:39:54.079Z"
   },
   {
    "duration": 12,
    "start_time": "2023-08-12T12:40:01.317Z"
   },
   {
    "duration": 13,
    "start_time": "2023-08-12T12:40:21.703Z"
   },
   {
    "duration": 31,
    "start_time": "2023-08-12T12:40:55.086Z"
   },
   {
    "duration": 35,
    "start_time": "2023-08-12T12:41:07.484Z"
   },
   {
    "duration": 14,
    "start_time": "2023-08-12T12:42:00.332Z"
   },
   {
    "duration": 20,
    "start_time": "2023-08-12T12:42:09.580Z"
   },
   {
    "duration": 11,
    "start_time": "2023-08-12T12:42:25.392Z"
   },
   {
    "duration": 23,
    "start_time": "2023-08-12T12:43:23.744Z"
   },
   {
    "duration": 22,
    "start_time": "2023-08-12T12:43:59.972Z"
   },
   {
    "duration": 15,
    "start_time": "2023-08-12T12:44:58.399Z"
   },
   {
    "duration": 17,
    "start_time": "2023-08-12T12:45:05.566Z"
   },
   {
    "duration": 11,
    "start_time": "2023-08-12T12:45:36.638Z"
   },
   {
    "duration": 15,
    "start_time": "2023-08-12T12:45:41.586Z"
   },
   {
    "duration": 13,
    "start_time": "2023-08-12T12:46:30.109Z"
   },
   {
    "duration": 13,
    "start_time": "2023-08-12T12:46:33.882Z"
   },
   {
    "duration": 17,
    "start_time": "2023-08-12T12:46:37.919Z"
   },
   {
    "duration": 19,
    "start_time": "2023-08-12T12:46:45.769Z"
   },
   {
    "duration": 13,
    "start_time": "2023-08-12T12:46:49.940Z"
   },
   {
    "duration": 17,
    "start_time": "2023-08-12T12:47:10.692Z"
   },
   {
    "duration": 12,
    "start_time": "2023-08-12T12:47:17.085Z"
   },
   {
    "duration": 16,
    "start_time": "2023-08-12T12:47:22.175Z"
   },
   {
    "duration": 35,
    "start_time": "2023-08-12T12:48:39.259Z"
   },
   {
    "duration": 1867,
    "start_time": "2023-08-12T13:06:13.045Z"
   },
   {
    "duration": 161,
    "start_time": "2023-08-12T13:06:14.914Z"
   },
   {
    "duration": 25,
    "start_time": "2023-08-12T13:06:15.081Z"
   },
   {
    "duration": 28,
    "start_time": "2023-08-12T13:06:15.108Z"
   },
   {
    "duration": 27,
    "start_time": "2023-08-12T13:06:15.138Z"
   },
   {
    "duration": 25,
    "start_time": "2023-08-12T13:06:15.167Z"
   },
   {
    "duration": 11,
    "start_time": "2023-08-12T13:06:15.194Z"
   },
   {
    "duration": 207,
    "start_time": "2023-08-12T13:06:15.207Z"
   },
   {
    "duration": 7,
    "start_time": "2023-08-12T13:06:15.415Z"
   },
   {
    "duration": 14,
    "start_time": "2023-08-12T13:06:15.425Z"
   },
   {
    "duration": 11,
    "start_time": "2023-08-12T13:06:15.458Z"
   },
   {
    "duration": 16,
    "start_time": "2023-08-12T13:06:15.471Z"
   },
   {
    "duration": 26,
    "start_time": "2023-08-12T13:06:15.489Z"
   },
   {
    "duration": 20,
    "start_time": "2023-08-12T13:06:15.517Z"
   },
   {
    "duration": 53,
    "start_time": "2023-08-12T13:06:15.539Z"
   },
   {
    "duration": 17,
    "start_time": "2023-08-12T13:06:15.595Z"
   },
   {
    "duration": 14,
    "start_time": "2023-08-12T13:06:15.614Z"
   },
   {
    "duration": 13,
    "start_time": "2023-08-12T13:06:15.630Z"
   },
   {
    "duration": 32,
    "start_time": "2023-08-12T13:06:15.645Z"
   },
   {
    "duration": 27,
    "start_time": "2023-08-12T13:06:15.679Z"
   },
   {
    "duration": 5,
    "start_time": "2023-08-12T13:06:15.708Z"
   },
   {
    "duration": 14,
    "start_time": "2023-08-12T13:06:15.714Z"
   },
   {
    "duration": 14,
    "start_time": "2023-08-12T13:06:15.729Z"
   },
   {
    "duration": 10,
    "start_time": "2023-08-12T13:06:15.745Z"
   },
   {
    "duration": 72,
    "start_time": "2023-08-12T13:06:15.757Z"
   },
   {
    "duration": 200,
    "start_time": "2023-08-12T13:06:15.831Z"
   },
   {
    "duration": 48,
    "start_time": "2023-08-12T13:06:16.032Z"
   },
   {
    "duration": 3,
    "start_time": "2023-08-12T13:06:16.084Z"
   },
   {
    "duration": 17,
    "start_time": "2023-08-12T13:06:16.089Z"
   },
   {
    "duration": 11101,
    "start_time": "2023-08-12T13:06:16.108Z"
   },
   {
    "duration": 1929,
    "start_time": "2023-08-12T13:06:27.212Z"
   },
   {
    "duration": 442,
    "start_time": "2023-08-12T13:06:29.144Z"
   },
   {
    "duration": 374,
    "start_time": "2023-08-12T13:06:29.588Z"
   },
   {
    "duration": 26,
    "start_time": "2023-08-12T13:06:29.967Z"
   },
   {
    "duration": 5,
    "start_time": "2023-08-12T13:06:29.994Z"
   },
   {
    "duration": 13,
    "start_time": "2023-08-12T13:06:30.001Z"
   },
   {
    "duration": 399,
    "start_time": "2023-08-12T13:06:30.016Z"
   },
   {
    "duration": 6,
    "start_time": "2023-08-12T13:06:30.417Z"
   },
   {
    "duration": 25,
    "start_time": "2023-08-12T13:06:30.424Z"
   },
   {
    "duration": 70,
    "start_time": "2023-08-12T13:06:30.451Z"
   },
   {
    "duration": 50,
    "start_time": "2023-08-13T08:56:24.345Z"
   },
   {
    "duration": 3242,
    "start_time": "2023-08-13T08:56:28.489Z"
   },
   {
    "duration": 64,
    "start_time": "2023-08-13T08:56:31.733Z"
   },
   {
    "duration": 19,
    "start_time": "2023-08-13T08:56:31.799Z"
   },
   {
    "duration": 32,
    "start_time": "2023-08-13T08:56:31.819Z"
   },
   {
    "duration": 25,
    "start_time": "2023-08-13T08:56:31.854Z"
   },
   {
    "duration": 49,
    "start_time": "2023-08-13T08:56:31.881Z"
   },
   {
    "duration": 45,
    "start_time": "2023-08-13T08:56:31.932Z"
   },
   {
    "duration": 218,
    "start_time": "2023-08-13T08:56:31.979Z"
   },
   {
    "duration": 8,
    "start_time": "2023-08-13T08:56:32.198Z"
   },
   {
    "duration": 40,
    "start_time": "2023-08-13T08:56:32.207Z"
   },
   {
    "duration": 17,
    "start_time": "2023-08-13T08:56:32.249Z"
   },
   {
    "duration": 23,
    "start_time": "2023-08-13T08:56:32.268Z"
   },
   {
    "duration": 22,
    "start_time": "2023-08-13T08:56:32.293Z"
   },
   {
    "duration": 34,
    "start_time": "2023-08-13T08:56:32.319Z"
   },
   {
    "duration": 53,
    "start_time": "2023-08-13T08:56:32.356Z"
   },
   {
    "duration": 20,
    "start_time": "2023-08-13T08:56:32.411Z"
   },
   {
    "duration": 22,
    "start_time": "2023-08-13T08:56:32.433Z"
   },
   {
    "duration": 36,
    "start_time": "2023-08-13T08:56:32.456Z"
   },
   {
    "duration": 39,
    "start_time": "2023-08-13T08:56:32.494Z"
   },
   {
    "duration": 36,
    "start_time": "2023-08-13T08:56:32.535Z"
   },
   {
    "duration": 40,
    "start_time": "2023-08-13T08:56:32.573Z"
   },
   {
    "duration": 41,
    "start_time": "2023-08-13T08:56:32.615Z"
   },
   {
    "duration": 27,
    "start_time": "2023-08-13T08:56:32.658Z"
   },
   {
    "duration": 30,
    "start_time": "2023-08-13T08:56:32.687Z"
   },
   {
    "duration": 11,
    "start_time": "2023-08-13T08:56:32.719Z"
   },
   {
    "duration": 2179,
    "start_time": "2023-08-13T09:25:15.139Z"
   },
   {
    "duration": 101,
    "start_time": "2023-08-13T09:25:17.321Z"
   },
   {
    "duration": 19,
    "start_time": "2023-08-13T09:25:17.423Z"
   },
   {
    "duration": 25,
    "start_time": "2023-08-13T09:25:17.444Z"
   },
   {
    "duration": 4,
    "start_time": "2023-08-13T09:25:17.474Z"
   },
   {
    "duration": 14,
    "start_time": "2023-08-13T09:25:17.480Z"
   },
   {
    "duration": 6,
    "start_time": "2023-08-13T09:25:17.496Z"
   },
   {
    "duration": 189,
    "start_time": "2023-08-13T09:25:17.504Z"
   },
   {
    "duration": 8,
    "start_time": "2023-08-13T09:25:17.695Z"
   },
   {
    "duration": 25,
    "start_time": "2023-08-13T09:25:17.705Z"
   },
   {
    "duration": 10,
    "start_time": "2023-08-13T09:25:17.731Z"
   },
   {
    "duration": 17,
    "start_time": "2023-08-13T09:25:17.743Z"
   },
   {
    "duration": 4,
    "start_time": "2023-08-13T09:25:17.763Z"
   },
   {
    "duration": 41,
    "start_time": "2023-08-13T09:25:17.772Z"
   },
   {
    "duration": 33,
    "start_time": "2023-08-13T09:25:17.815Z"
   },
   {
    "duration": 28,
    "start_time": "2023-08-13T09:25:17.850Z"
   },
   {
    "duration": 21,
    "start_time": "2023-08-13T09:25:17.880Z"
   },
   {
    "duration": 24,
    "start_time": "2023-08-13T09:25:17.903Z"
   },
   {
    "duration": 21,
    "start_time": "2023-08-13T09:25:17.929Z"
   },
   {
    "duration": 19,
    "start_time": "2023-08-13T09:25:17.952Z"
   },
   {
    "duration": 15,
    "start_time": "2023-08-13T09:25:17.973Z"
   },
   {
    "duration": 16,
    "start_time": "2023-08-13T09:25:17.990Z"
   },
   {
    "duration": 23,
    "start_time": "2023-08-13T09:25:18.009Z"
   },
   {
    "duration": 15,
    "start_time": "2023-08-13T09:25:18.035Z"
   },
   {
    "duration": 12,
    "start_time": "2023-08-13T09:25:18.052Z"
   },
   {
    "duration": 97,
    "start_time": "2023-08-13T09:25:18.066Z"
   },
   {
    "duration": 228,
    "start_time": "2023-08-13T09:25:18.165Z"
   },
   {
    "duration": 28,
    "start_time": "2023-08-13T09:25:18.395Z"
   },
   {
    "duration": 4,
    "start_time": "2023-08-13T09:25:18.425Z"
   },
   {
    "duration": 31,
    "start_time": "2023-08-13T09:25:18.431Z"
   },
   {
    "duration": 10385,
    "start_time": "2023-08-13T09:25:18.464Z"
   },
   {
    "duration": 1688,
    "start_time": "2023-08-13T09:25:28.850Z"
   },
   {
    "duration": 409,
    "start_time": "2023-08-13T09:25:30.540Z"
   },
   {
    "duration": 392,
    "start_time": "2023-08-13T09:25:30.951Z"
   },
   {
    "duration": 31,
    "start_time": "2023-08-13T09:25:31.346Z"
   },
   {
    "duration": 53,
    "start_time": "2023-08-13T09:25:31.379Z"
   },
   {
    "duration": 62,
    "start_time": "2023-08-13T09:25:31.435Z"
   },
   {
    "duration": 425,
    "start_time": "2023-08-13T09:25:31.499Z"
   },
   {
    "duration": 8,
    "start_time": "2023-08-13T09:25:31.926Z"
   },
   {
    "duration": 43,
    "start_time": "2023-08-13T09:25:31.936Z"
   },
   {
    "duration": 83,
    "start_time": "2023-08-13T09:25:31.982Z"
   },
   {
    "duration": 156,
    "start_time": "2023-08-13T09:25:32.067Z"
   },
   {
    "duration": 85,
    "start_time": "2023-08-13T09:25:49.396Z"
   },
   {
    "duration": 1754,
    "start_time": "2023-08-13T12:54:15.044Z"
   },
   {
    "duration": 87,
    "start_time": "2023-08-13T12:54:21.601Z"
   },
   {
    "duration": 19,
    "start_time": "2023-08-13T12:54:22.331Z"
   },
   {
    "duration": 15,
    "start_time": "2023-08-13T12:54:23.128Z"
   },
   {
    "duration": 4,
    "start_time": "2023-08-13T12:54:28.489Z"
   },
   {
    "duration": 6,
    "start_time": "2023-08-13T12:54:30.916Z"
   },
   {
    "duration": 6,
    "start_time": "2023-08-13T12:54:34.278Z"
   },
   {
    "duration": 163,
    "start_time": "2023-08-13T12:54:36.396Z"
   },
   {
    "duration": 10,
    "start_time": "2023-08-13T12:54:43.423Z"
   },
   {
    "duration": 21,
    "start_time": "2023-08-13T12:54:45.555Z"
   },
   {
    "duration": 8,
    "start_time": "2023-08-13T12:54:46.296Z"
   },
   {
    "duration": 6,
    "start_time": "2023-08-13T12:54:47.348Z"
   },
   {
    "duration": 10,
    "start_time": "2023-08-13T12:54:48.731Z"
   },
   {
    "duration": 6,
    "start_time": "2023-08-13T12:54:55.415Z"
   },
   {
    "duration": 15,
    "start_time": "2023-08-13T12:55:15.682Z"
   },
   {
    "duration": 6,
    "start_time": "2023-08-13T13:14:11.297Z"
   },
   {
    "duration": 62,
    "start_time": "2023-08-13T13:16:50.028Z"
   },
   {
    "duration": 14,
    "start_time": "2023-08-13T13:16:50.233Z"
   },
   {
    "duration": 12,
    "start_time": "2023-08-13T13:16:50.415Z"
   },
   {
    "duration": 4,
    "start_time": "2023-08-13T13:16:50.919Z"
   },
   {
    "duration": 5,
    "start_time": "2023-08-13T13:16:51.438Z"
   },
   {
    "duration": 5,
    "start_time": "2023-08-13T13:16:52.245Z"
   },
   {
    "duration": 142,
    "start_time": "2023-08-13T13:16:52.534Z"
   },
   {
    "duration": 7,
    "start_time": "2023-08-13T13:16:53.302Z"
   },
   {
    "duration": 5,
    "start_time": "2023-08-13T13:16:55.493Z"
   },
   {
    "duration": 14,
    "start_time": "2023-08-13T13:17:11.308Z"
   },
   {
    "duration": 15,
    "start_time": "2023-08-13T13:18:18.487Z"
   },
   {
    "duration": 2142,
    "start_time": "2023-08-13T13:19:25.017Z"
   },
   {
    "duration": 73667,
    "start_time": "2023-08-13T13:26:26.563Z"
   },
   {
    "duration": 333,
    "start_time": "2023-08-13T13:27:46.687Z"
   },
   {
    "duration": 115,
    "start_time": "2023-08-13T13:28:36.439Z"
   },
   {
    "duration": 126,
    "start_time": "2023-08-13T13:28:41.565Z"
   },
   {
    "duration": 7,
    "start_time": "2023-08-13T14:21:02.561Z"
   },
   {
    "duration": 11,
    "start_time": "2023-08-13T14:21:58.697Z"
   },
   {
    "duration": 9,
    "start_time": "2023-08-13T14:22:09.029Z"
   },
   {
    "duration": 10,
    "start_time": "2023-08-13T14:22:47.411Z"
   },
   {
    "duration": 10,
    "start_time": "2023-08-13T14:24:31.990Z"
   },
   {
    "duration": 12,
    "start_time": "2023-08-13T14:27:12.371Z"
   },
   {
    "duration": 48,
    "start_time": "2023-08-13T16:05:44.274Z"
   },
   {
    "duration": 1493,
    "start_time": "2023-08-13T16:05:49.928Z"
   },
   {
    "duration": 90,
    "start_time": "2023-08-13T16:05:51.423Z"
   },
   {
    "duration": 18,
    "start_time": "2023-08-13T16:05:51.516Z"
   },
   {
    "duration": 40,
    "start_time": "2023-08-13T16:05:51.536Z"
   },
   {
    "duration": 46,
    "start_time": "2023-08-13T16:05:51.578Z"
   },
   {
    "duration": 6,
    "start_time": "2023-08-13T16:05:51.900Z"
   },
   {
    "duration": 4,
    "start_time": "2023-08-13T16:05:52.585Z"
   },
   {
    "duration": 168,
    "start_time": "2023-08-13T16:05:52.762Z"
   },
   {
    "duration": 6,
    "start_time": "2023-08-13T16:05:53.174Z"
   },
   {
    "duration": 5,
    "start_time": "2023-08-13T16:05:53.780Z"
   },
   {
    "duration": 14,
    "start_time": "2023-08-13T16:05:54.982Z"
   },
   {
    "duration": 2350,
    "start_time": "2023-08-13T16:05:55.684Z"
   },
   {
    "duration": 142,
    "start_time": "2023-08-13T16:05:58.037Z"
   },
   {
    "duration": 65,
    "start_time": "2023-08-13T16:05:58.180Z"
   },
   {
    "duration": 11,
    "start_time": "2023-08-13T16:07:56.959Z"
   },
   {
    "duration": 9,
    "start_time": "2023-08-13T16:09:46.017Z"
   },
   {
    "duration": 130,
    "start_time": "2023-08-13T16:45:04.675Z"
   },
   {
    "duration": 12,
    "start_time": "2023-08-13T17:41:05.389Z"
   },
   {
    "duration": 365,
    "start_time": "2023-08-13T17:41:07.302Z"
   },
   {
    "duration": 1301,
    "start_time": "2023-08-13T17:42:49.223Z"
   },
   {
    "duration": 104,
    "start_time": "2023-08-13T17:42:50.527Z"
   },
   {
    "duration": 18,
    "start_time": "2023-08-13T17:42:50.634Z"
   },
   {
    "duration": 61,
    "start_time": "2023-08-13T17:42:50.654Z"
   },
   {
    "duration": 5,
    "start_time": "2023-08-13T17:42:50.717Z"
   },
   {
    "duration": 16,
    "start_time": "2023-08-13T17:42:50.723Z"
   },
   {
    "duration": 7,
    "start_time": "2023-08-13T17:42:50.741Z"
   },
   {
    "duration": 205,
    "start_time": "2023-08-13T17:42:50.749Z"
   },
   {
    "duration": 19,
    "start_time": "2023-08-13T17:42:50.955Z"
   },
   {
    "duration": 33,
    "start_time": "2023-08-13T17:42:50.979Z"
   },
   {
    "duration": 20,
    "start_time": "2023-08-13T17:42:51.013Z"
   },
   {
    "duration": 2542,
    "start_time": "2023-08-13T17:42:51.034Z"
   },
   {
    "duration": 132,
    "start_time": "2023-08-13T17:42:53.581Z"
   },
   {
    "duration": 66,
    "start_time": "2023-08-13T17:42:53.715Z"
   },
   {
    "duration": 20,
    "start_time": "2023-08-13T17:42:53.783Z"
   },
   {
    "duration": 27,
    "start_time": "2023-08-13T17:42:53.805Z"
   },
   {
    "duration": 23,
    "start_time": "2023-08-13T17:42:53.834Z"
   },
   {
    "duration": 56,
    "start_time": "2023-08-13T17:42:53.861Z"
   },
   {
    "duration": 18,
    "start_time": "2023-08-13T17:42:53.919Z"
   },
   {
    "duration": 74,
    "start_time": "2023-08-13T17:42:53.938Z"
   },
   {
    "duration": 42,
    "start_time": "2023-08-13T17:42:54.013Z"
   },
   {
    "duration": 163,
    "start_time": "2023-08-13T17:42:54.057Z"
   },
   {
    "duration": 0,
    "start_time": "2023-08-13T17:42:54.223Z"
   },
   {
    "duration": 0,
    "start_time": "2023-08-13T17:42:54.224Z"
   },
   {
    "duration": 0,
    "start_time": "2023-08-13T17:42:54.225Z"
   },
   {
    "duration": 0,
    "start_time": "2023-08-13T17:42:54.226Z"
   },
   {
    "duration": 0,
    "start_time": "2023-08-13T17:42:54.227Z"
   },
   {
    "duration": 0,
    "start_time": "2023-08-13T17:42:54.228Z"
   },
   {
    "duration": 0,
    "start_time": "2023-08-13T17:42:54.229Z"
   },
   {
    "duration": 0,
    "start_time": "2023-08-13T17:42:54.230Z"
   },
   {
    "duration": 0,
    "start_time": "2023-08-13T17:42:54.232Z"
   },
   {
    "duration": 0,
    "start_time": "2023-08-13T17:42:54.233Z"
   },
   {
    "duration": 0,
    "start_time": "2023-08-13T17:42:54.234Z"
   },
   {
    "duration": 0,
    "start_time": "2023-08-13T17:42:54.235Z"
   },
   {
    "duration": 0,
    "start_time": "2023-08-13T17:42:54.236Z"
   },
   {
    "duration": 0,
    "start_time": "2023-08-13T17:42:54.237Z"
   },
   {
    "duration": 0,
    "start_time": "2023-08-13T17:42:54.259Z"
   },
   {
    "duration": 0,
    "start_time": "2023-08-13T17:42:54.260Z"
   },
   {
    "duration": 0,
    "start_time": "2023-08-13T17:42:54.260Z"
   },
   {
    "duration": 0,
    "start_time": "2023-08-13T17:42:54.261Z"
   },
   {
    "duration": 0,
    "start_time": "2023-08-13T17:42:54.262Z"
   },
   {
    "duration": 0,
    "start_time": "2023-08-13T17:42:54.263Z"
   },
   {
    "duration": 0,
    "start_time": "2023-08-13T17:42:54.263Z"
   },
   {
    "duration": 0,
    "start_time": "2023-08-13T17:42:54.264Z"
   },
   {
    "duration": 11,
    "start_time": "2023-08-13T17:43:15.091Z"
   },
   {
    "duration": 16,
    "start_time": "2023-08-13T17:43:15.107Z"
   },
   {
    "duration": 16,
    "start_time": "2023-08-13T17:43:15.125Z"
   },
   {
    "duration": 10,
    "start_time": "2023-08-13T17:43:15.143Z"
   },
   {
    "duration": 67,
    "start_time": "2023-08-13T17:43:15.155Z"
   },
   {
    "duration": 86,
    "start_time": "2023-08-13T17:43:15.224Z"
   },
   {
    "duration": 221,
    "start_time": "2023-08-13T17:43:15.312Z"
   },
   {
    "duration": 35,
    "start_time": "2023-08-13T17:43:15.535Z"
   },
   {
    "duration": 6,
    "start_time": "2023-08-13T17:43:15.571Z"
   },
   {
    "duration": 12,
    "start_time": "2023-08-13T17:43:15.578Z"
   },
   {
    "duration": 11652,
    "start_time": "2023-08-13T17:43:15.595Z"
   },
   {
    "duration": 2077,
    "start_time": "2023-08-13T17:43:27.250Z"
   },
   {
    "duration": 430,
    "start_time": "2023-08-13T17:43:29.328Z"
   },
   {
    "duration": 265,
    "start_time": "2023-08-13T17:43:29.760Z"
   },
   {
    "duration": 20,
    "start_time": "2023-08-13T17:43:30.027Z"
   },
   {
    "duration": 63,
    "start_time": "2023-08-13T17:43:30.049Z"
   },
   {
    "duration": 40,
    "start_time": "2023-08-13T17:43:30.114Z"
   },
   {
    "duration": 476,
    "start_time": "2023-08-13T17:43:30.156Z"
   },
   {
    "duration": 7,
    "start_time": "2023-08-13T17:43:30.634Z"
   },
   {
    "duration": 288,
    "start_time": "2023-08-13T17:43:30.642Z"
   },
   {
    "duration": 347,
    "start_time": "2023-08-13T17:43:30.931Z"
   },
   {
    "duration": 129,
    "start_time": "2023-08-13T17:43:31.288Z"
   },
   {
    "duration": 10,
    "start_time": "2023-08-13T17:43:46.399Z"
   },
   {
    "duration": 11384,
    "start_time": "2023-08-13T17:43:48.602Z"
   },
   {
    "duration": 16,
    "start_time": "2023-08-13T18:09:09.341Z"
   },
   {
    "duration": 14120,
    "start_time": "2023-08-13T18:09:10.848Z"
   },
   {
    "duration": 11,
    "start_time": "2023-08-13T18:09:50.667Z"
   },
   {
    "duration": 12877,
    "start_time": "2023-08-13T18:09:51.093Z"
   },
   {
    "duration": 644,
    "start_time": "2023-08-13T18:11:43.090Z"
   },
   {
    "duration": 12738,
    "start_time": "2023-08-13T18:11:44.808Z"
   },
   {
    "duration": 19,
    "start_time": "2023-08-13T18:12:54.193Z"
   },
   {
    "duration": 5177,
    "start_time": "2023-08-13T18:12:56.429Z"
   },
   {
    "duration": 24,
    "start_time": "2023-08-13T18:13:53.087Z"
   },
   {
    "duration": 12380,
    "start_time": "2023-08-13T18:13:54.482Z"
   },
   {
    "duration": 29,
    "start_time": "2023-08-13T18:14:27.304Z"
   },
   {
    "duration": 14132,
    "start_time": "2023-08-13T18:14:27.577Z"
   },
   {
    "duration": 44,
    "start_time": "2023-08-13T19:06:16.286Z"
   },
   {
    "duration": 4118,
    "start_time": "2023-08-13T19:07:23.187Z"
   },
   {
    "duration": 1496,
    "start_time": "2023-08-13T19:07:38.060Z"
   },
   {
    "duration": 9,
    "start_time": "2023-08-13T19:07:44.688Z"
   },
   {
    "duration": 123,
    "start_time": "2023-08-13T19:07:45.557Z"
   },
   {
    "duration": 21,
    "start_time": "2023-08-13T19:07:45.728Z"
   },
   {
    "duration": 24,
    "start_time": "2023-08-13T19:07:45.881Z"
   },
   {
    "duration": 5,
    "start_time": "2023-08-13T19:07:46.412Z"
   },
   {
    "duration": 8,
    "start_time": "2023-08-13T19:07:47.012Z"
   },
   {
    "duration": 4,
    "start_time": "2023-08-13T19:07:47.622Z"
   },
   {
    "duration": 214,
    "start_time": "2023-08-13T19:07:47.705Z"
   },
   {
    "duration": 23,
    "start_time": "2023-08-13T19:07:48.955Z"
   },
   {
    "duration": 43,
    "start_time": "2023-08-13T19:07:48.985Z"
   },
   {
    "duration": 58,
    "start_time": "2023-08-13T19:07:49.030Z"
   },
   {
    "duration": 2862,
    "start_time": "2023-08-13T19:07:49.090Z"
   },
   {
    "duration": 177,
    "start_time": "2023-08-13T19:07:51.955Z"
   },
   {
    "duration": 64,
    "start_time": "2023-08-13T19:07:52.134Z"
   },
   {
    "duration": 17,
    "start_time": "2023-08-13T19:07:52.200Z"
   },
   {
    "duration": 26,
    "start_time": "2023-08-13T19:07:52.221Z"
   },
   {
    "duration": 27,
    "start_time": "2023-08-13T19:07:52.249Z"
   },
   {
    "duration": 48,
    "start_time": "2023-08-13T19:07:52.289Z"
   },
   {
    "duration": 11,
    "start_time": "2023-08-13T19:07:52.389Z"
   },
   {
    "duration": 12,
    "start_time": "2023-08-13T19:07:53.519Z"
   },
   {
    "duration": 25,
    "start_time": "2023-08-13T19:07:53.533Z"
   },
   {
    "duration": 63,
    "start_time": "2023-08-13T19:07:53.560Z"
   },
   {
    "duration": 8,
    "start_time": "2023-08-13T19:07:53.823Z"
   },
   {
    "duration": 10,
    "start_time": "2023-08-13T19:07:54.035Z"
   },
   {
    "duration": 12,
    "start_time": "2023-08-13T19:07:54.252Z"
   },
   {
    "duration": 31,
    "start_time": "2023-08-13T19:07:54.656Z"
   },
   {
    "duration": 6,
    "start_time": "2023-08-13T19:08:12.619Z"
   },
   {
    "duration": 20,
    "start_time": "2023-08-13T19:08:13.088Z"
   },
   {
    "duration": 20,
    "start_time": "2023-08-13T19:08:13.252Z"
   },
   {
    "duration": 34,
    "start_time": "2023-08-13T19:08:13.470Z"
   },
   {
    "duration": 24,
    "start_time": "2023-08-13T19:08:13.881Z"
   },
   {
    "duration": 105,
    "start_time": "2023-08-13T19:08:15.420Z"
   },
   {
    "duration": 250,
    "start_time": "2023-08-13T19:08:15.796Z"
   },
   {
    "duration": 33,
    "start_time": "2023-08-13T19:08:16.494Z"
   },
   {
    "duration": 12,
    "start_time": "2023-08-13T19:08:16.702Z"
   },
   {
    "duration": 17,
    "start_time": "2023-08-13T19:08:16.880Z"
   },
   {
    "duration": 12247,
    "start_time": "2023-08-13T19:08:17.060Z"
   },
   {
    "duration": 2217,
    "start_time": "2023-08-13T19:08:29.313Z"
   },
   {
    "duration": 445,
    "start_time": "2023-08-13T19:08:31.532Z"
   },
   {
    "duration": 1206,
    "start_time": "2023-08-13T19:09:12.120Z"
   },
   {
    "duration": 2523,
    "start_time": "2023-08-13T19:10:55.015Z"
   },
   {
    "duration": 3271,
    "start_time": "2023-08-13T20:05:10.874Z"
   },
   {
    "duration": 454,
    "start_time": "2023-08-13T20:05:14.148Z"
   },
   {
    "duration": 6,
    "start_time": "2023-08-13T20:06:32.717Z"
   },
   {
    "duration": 3561,
    "start_time": "2023-08-13T20:06:37.307Z"
   },
   {
    "duration": 435,
    "start_time": "2023-08-13T20:06:40.871Z"
   },
   {
    "duration": 1526,
    "start_time": "2023-08-13T20:19:07.408Z"
   },
   {
    "duration": 0,
    "start_time": "2023-08-13T20:19:08.935Z"
   },
   {
    "duration": 1350,
    "start_time": "2023-08-13T20:19:33.598Z"
   },
   {
    "duration": 2613,
    "start_time": "2023-08-13T20:20:32.938Z"
   },
   {
    "duration": 415,
    "start_time": "2023-08-13T20:20:35.560Z"
   },
   {
    "duration": 27,
    "start_time": "2023-08-13T20:40:54.071Z"
   },
   {
    "duration": 89,
    "start_time": "2023-08-13T20:42:01.511Z"
   },
   {
    "duration": 50,
    "start_time": "2023-08-13T20:43:39.885Z"
   },
   {
    "duration": 91,
    "start_time": "2023-08-13T20:44:51.830Z"
   },
   {
    "duration": 59,
    "start_time": "2023-08-13T20:45:01.295Z"
   },
   {
    "duration": 96,
    "start_time": "2023-08-13T20:46:32.525Z"
   },
   {
    "duration": 67,
    "start_time": "2023-08-13T20:46:39.984Z"
   },
   {
    "duration": 103,
    "start_time": "2023-08-13T20:46:56.173Z"
   },
   {
    "duration": 96,
    "start_time": "2023-08-13T20:46:59.811Z"
   },
   {
    "duration": 65,
    "start_time": "2023-08-13T20:47:03.304Z"
   },
   {
    "duration": 96,
    "start_time": "2023-08-13T20:48:18.435Z"
   },
   {
    "duration": 49,
    "start_time": "2023-08-13T20:48:20.807Z"
   },
   {
    "duration": 65,
    "start_time": "2023-08-13T20:49:58.951Z"
   },
   {
    "duration": 46,
    "start_time": "2023-08-13T20:53:39.788Z"
   },
   {
    "duration": 57,
    "start_time": "2023-08-13T20:54:30.874Z"
   },
   {
    "duration": 61,
    "start_time": "2023-08-13T20:54:59.915Z"
   },
   {
    "duration": 92,
    "start_time": "2023-08-13T20:57:56.753Z"
   },
   {
    "duration": 78,
    "start_time": "2023-08-13T20:58:06.788Z"
   },
   {
    "duration": 118,
    "start_time": "2023-08-13T20:59:02.367Z"
   },
   {
    "duration": 85,
    "start_time": "2023-08-13T20:59:10.223Z"
   },
   {
    "duration": 69,
    "start_time": "2023-08-13T20:59:39.756Z"
   },
   {
    "duration": 121,
    "start_time": "2023-08-13T21:00:10.489Z"
   },
   {
    "duration": 97,
    "start_time": "2023-08-13T21:00:13.505Z"
   },
   {
    "duration": 157,
    "start_time": "2023-08-13T21:00:30.950Z"
   },
   {
    "duration": 90,
    "start_time": "2023-08-13T21:00:52.942Z"
   },
   {
    "duration": 90,
    "start_time": "2023-08-13T21:02:41.831Z"
   },
   {
    "duration": 1757,
    "start_time": "2023-08-13T22:10:12.162Z"
   },
   {
    "duration": 172,
    "start_time": "2023-08-13T22:10:13.922Z"
   },
   {
    "duration": 19,
    "start_time": "2023-08-13T22:10:14.096Z"
   },
   {
    "duration": 14,
    "start_time": "2023-08-13T22:10:14.118Z"
   },
   {
    "duration": 5,
    "start_time": "2023-08-13T22:10:14.134Z"
   },
   {
    "duration": 12,
    "start_time": "2023-08-13T22:10:14.141Z"
   },
   {
    "duration": 13,
    "start_time": "2023-08-13T22:10:14.161Z"
   },
   {
    "duration": 172,
    "start_time": "2023-08-13T22:10:14.176Z"
   },
   {
    "duration": 23,
    "start_time": "2023-08-13T22:10:14.351Z"
   },
   {
    "duration": 20,
    "start_time": "2023-08-13T22:10:14.379Z"
   },
   {
    "duration": 28,
    "start_time": "2023-08-13T22:10:14.402Z"
   },
   {
    "duration": 2455,
    "start_time": "2023-08-13T22:10:14.433Z"
   },
   {
    "duration": 139,
    "start_time": "2023-08-13T22:10:16.891Z"
   },
   {
    "duration": 76,
    "start_time": "2023-08-13T22:10:17.031Z"
   },
   {
    "duration": 5,
    "start_time": "2023-08-13T22:10:17.109Z"
   },
   {
    "duration": 22,
    "start_time": "2023-08-13T22:10:17.116Z"
   },
   {
    "duration": 25,
    "start_time": "2023-08-13T22:10:17.140Z"
   },
   {
    "duration": 12,
    "start_time": "2023-08-13T22:10:17.167Z"
   },
   {
    "duration": 13,
    "start_time": "2023-08-13T22:10:17.181Z"
   },
   {
    "duration": 6,
    "start_time": "2023-08-13T22:10:17.196Z"
   },
   {
    "duration": 21,
    "start_time": "2023-08-13T22:10:17.204Z"
   },
   {
    "duration": 47,
    "start_time": "2023-08-13T22:10:17.228Z"
   },
   {
    "duration": 9,
    "start_time": "2023-08-13T22:10:17.277Z"
   },
   {
    "duration": 11,
    "start_time": "2023-08-13T22:10:17.287Z"
   },
   {
    "duration": 13,
    "start_time": "2023-08-13T22:10:17.300Z"
   },
   {
    "duration": 16,
    "start_time": "2023-08-13T22:10:17.315Z"
   },
   {
    "duration": 9,
    "start_time": "2023-08-13T22:10:17.333Z"
   },
   {
    "duration": 72,
    "start_time": "2023-08-13T22:10:17.364Z"
   },
   {
    "duration": 213,
    "start_time": "2023-08-13T22:10:17.438Z"
   },
   {
    "duration": 25,
    "start_time": "2023-08-13T22:10:17.659Z"
   },
   {
    "duration": 4,
    "start_time": "2023-08-13T22:10:17.686Z"
   },
   {
    "duration": 12,
    "start_time": "2023-08-13T22:10:17.692Z"
   },
   {
    "duration": 9933,
    "start_time": "2023-08-13T22:10:17.706Z"
   },
   {
    "duration": 2533,
    "start_time": "2023-08-13T22:10:27.641Z"
   },
   {
    "duration": 415,
    "start_time": "2023-08-13T22:10:30.176Z"
   },
   {
    "duration": 235,
    "start_time": "2023-08-13T22:10:30.593Z"
   },
   {
    "duration": 34,
    "start_time": "2023-08-13T22:10:30.830Z"
   },
   {
    "duration": 25,
    "start_time": "2023-08-13T22:10:30.868Z"
   },
   {
    "duration": 54,
    "start_time": "2023-08-13T22:10:30.895Z"
   },
   {
    "duration": 391,
    "start_time": "2023-08-13T22:10:30.951Z"
   },
   {
    "duration": 21,
    "start_time": "2023-08-13T22:10:31.345Z"
   },
   {
    "duration": 53,
    "start_time": "2023-08-13T22:10:31.369Z"
   },
   {
    "duration": 82,
    "start_time": "2023-08-13T22:10:31.424Z"
   },
   {
    "duration": 110,
    "start_time": "2023-08-13T22:10:31.508Z"
   },
   {
    "duration": 131,
    "start_time": "2023-08-14T11:57:44.787Z"
   },
   {
    "duration": 1340,
    "start_time": "2023-08-14T12:52:29.894Z"
   },
   {
    "duration": 0,
    "start_time": "2023-08-14T12:52:31.236Z"
   },
   {
    "duration": 0,
    "start_time": "2023-08-14T12:52:31.237Z"
   },
   {
    "duration": 0,
    "start_time": "2023-08-14T12:52:31.238Z"
   },
   {
    "duration": 0,
    "start_time": "2023-08-14T12:52:31.239Z"
   },
   {
    "duration": 0,
    "start_time": "2023-08-14T12:52:31.240Z"
   },
   {
    "duration": 0,
    "start_time": "2023-08-14T12:52:31.241Z"
   },
   {
    "duration": 0,
    "start_time": "2023-08-14T12:52:31.242Z"
   },
   {
    "duration": 0,
    "start_time": "2023-08-14T12:52:31.243Z"
   },
   {
    "duration": 0,
    "start_time": "2023-08-14T12:52:31.244Z"
   },
   {
    "duration": 0,
    "start_time": "2023-08-14T12:52:31.246Z"
   },
   {
    "duration": 0,
    "start_time": "2023-08-14T12:52:31.247Z"
   },
   {
    "duration": 0,
    "start_time": "2023-08-14T12:52:31.248Z"
   },
   {
    "duration": 0,
    "start_time": "2023-08-14T12:52:31.249Z"
   },
   {
    "duration": 0,
    "start_time": "2023-08-14T12:52:31.250Z"
   },
   {
    "duration": 0,
    "start_time": "2023-08-14T12:52:31.250Z"
   },
   {
    "duration": 0,
    "start_time": "2023-08-14T12:52:31.251Z"
   },
   {
    "duration": 0,
    "start_time": "2023-08-14T12:52:31.252Z"
   },
   {
    "duration": 1,
    "start_time": "2023-08-14T12:52:31.253Z"
   },
   {
    "duration": 0,
    "start_time": "2023-08-14T12:52:31.255Z"
   },
   {
    "duration": 0,
    "start_time": "2023-08-14T12:52:31.256Z"
   },
   {
    "duration": 0,
    "start_time": "2023-08-14T12:52:31.257Z"
   },
   {
    "duration": 0,
    "start_time": "2023-08-14T12:52:31.258Z"
   },
   {
    "duration": 0,
    "start_time": "2023-08-14T12:52:31.298Z"
   },
   {
    "duration": 0,
    "start_time": "2023-08-14T12:52:31.299Z"
   },
   {
    "duration": 0,
    "start_time": "2023-08-14T12:52:31.300Z"
   },
   {
    "duration": 0,
    "start_time": "2023-08-14T12:52:31.306Z"
   },
   {
    "duration": 0,
    "start_time": "2023-08-14T12:52:31.307Z"
   },
   {
    "duration": 0,
    "start_time": "2023-08-14T12:52:31.309Z"
   },
   {
    "duration": 0,
    "start_time": "2023-08-14T12:52:31.310Z"
   },
   {
    "duration": 0,
    "start_time": "2023-08-14T12:52:31.311Z"
   },
   {
    "duration": 0,
    "start_time": "2023-08-14T12:52:31.312Z"
   },
   {
    "duration": 0,
    "start_time": "2023-08-14T12:52:31.313Z"
   },
   {
    "duration": 0,
    "start_time": "2023-08-14T12:52:31.314Z"
   },
   {
    "duration": 0,
    "start_time": "2023-08-14T12:52:31.315Z"
   },
   {
    "duration": 0,
    "start_time": "2023-08-14T12:52:31.316Z"
   },
   {
    "duration": 0,
    "start_time": "2023-08-14T12:52:31.317Z"
   },
   {
    "duration": 0,
    "start_time": "2023-08-14T12:52:31.318Z"
   },
   {
    "duration": 0,
    "start_time": "2023-08-14T12:52:31.318Z"
   },
   {
    "duration": 0,
    "start_time": "2023-08-14T12:52:31.320Z"
   },
   {
    "duration": 0,
    "start_time": "2023-08-14T12:52:31.321Z"
   },
   {
    "duration": 0,
    "start_time": "2023-08-14T12:52:31.322Z"
   },
   {
    "duration": 0,
    "start_time": "2023-08-14T12:52:31.323Z"
   },
   {
    "duration": 0,
    "start_time": "2023-08-14T12:52:31.324Z"
   },
   {
    "duration": 3478,
    "start_time": "2023-08-14T12:53:15.249Z"
   },
   {
    "duration": 2377,
    "start_time": "2023-08-14T12:53:42.708Z"
   },
   {
    "duration": 1282,
    "start_time": "2023-08-14T12:53:45.087Z"
   },
   {
    "duration": 102,
    "start_time": "2023-08-14T12:53:46.371Z"
   },
   {
    "duration": 17,
    "start_time": "2023-08-14T12:53:46.476Z"
   },
   {
    "duration": 26,
    "start_time": "2023-08-14T12:53:46.502Z"
   },
   {
    "duration": 19,
    "start_time": "2023-08-14T12:53:46.530Z"
   },
   {
    "duration": 43,
    "start_time": "2023-08-14T12:53:46.551Z"
   },
   {
    "duration": 23,
    "start_time": "2023-08-14T12:53:46.596Z"
   },
   {
    "duration": 242,
    "start_time": "2023-08-14T12:53:46.621Z"
   },
   {
    "duration": 9,
    "start_time": "2023-08-14T12:53:46.866Z"
   },
   {
    "duration": 53,
    "start_time": "2023-08-14T12:53:46.877Z"
   },
   {
    "duration": 35,
    "start_time": "2023-08-14T12:53:46.932Z"
   },
   {
    "duration": 2280,
    "start_time": "2023-08-14T12:53:46.969Z"
   },
   {
    "duration": 130,
    "start_time": "2023-08-14T12:53:49.251Z"
   },
   {
    "duration": 60,
    "start_time": "2023-08-14T12:53:49.383Z"
   },
   {
    "duration": 8,
    "start_time": "2023-08-14T12:53:49.445Z"
   },
   {
    "duration": 50,
    "start_time": "2023-08-14T12:53:49.455Z"
   },
   {
    "duration": 34,
    "start_time": "2023-08-14T12:53:49.508Z"
   },
   {
    "duration": 34,
    "start_time": "2023-08-14T12:53:49.544Z"
   },
   {
    "duration": 40,
    "start_time": "2023-08-14T12:53:49.580Z"
   },
   {
    "duration": 7,
    "start_time": "2023-08-14T12:53:49.622Z"
   },
   {
    "duration": 17,
    "start_time": "2023-08-14T12:53:49.631Z"
   },
   {
    "duration": 16,
    "start_time": "2023-08-14T12:53:49.650Z"
   },
   {
    "duration": 10,
    "start_time": "2023-08-14T12:53:49.667Z"
   },
   {
    "duration": 9,
    "start_time": "2023-08-14T12:53:49.679Z"
   },
   {
    "duration": 21,
    "start_time": "2023-08-14T12:53:49.689Z"
   },
   {
    "duration": 16,
    "start_time": "2023-08-14T12:53:49.712Z"
   },
   {
    "duration": 9,
    "start_time": "2023-08-14T12:53:49.732Z"
   },
   {
    "duration": 80,
    "start_time": "2023-08-14T12:53:49.743Z"
   },
   {
    "duration": 224,
    "start_time": "2023-08-14T12:53:49.825Z"
   },
   {
    "duration": 22,
    "start_time": "2023-08-14T12:53:50.051Z"
   },
   {
    "duration": 23,
    "start_time": "2023-08-14T12:53:50.075Z"
   },
   {
    "duration": 33,
    "start_time": "2023-08-14T12:53:50.103Z"
   },
   {
    "duration": 9899,
    "start_time": "2023-08-14T12:53:50.138Z"
   },
   {
    "duration": 2686,
    "start_time": "2023-08-14T12:54:00.040Z"
   },
   {
    "duration": 409,
    "start_time": "2023-08-14T12:54:02.728Z"
   },
   {
    "duration": 232,
    "start_time": "2023-08-14T12:54:03.139Z"
   },
   {
    "duration": 33,
    "start_time": "2023-08-14T12:54:03.372Z"
   },
   {
    "duration": 22,
    "start_time": "2023-08-14T12:54:03.408Z"
   },
   {
    "duration": 39,
    "start_time": "2023-08-14T12:54:03.431Z"
   },
   {
    "duration": 380,
    "start_time": "2023-08-14T12:54:03.472Z"
   },
   {
    "duration": 6,
    "start_time": "2023-08-14T12:54:03.854Z"
   },
   {
    "duration": 47,
    "start_time": "2023-08-14T12:54:03.862Z"
   },
   {
    "duration": 62,
    "start_time": "2023-08-14T12:54:03.911Z"
   },
   {
    "duration": 87,
    "start_time": "2023-08-14T12:54:03.974Z"
   }
  ],
  "kernelspec": {
   "display_name": "Python 3 (ipykernel)",
   "language": "python",
   "name": "python3"
  },
  "language_info": {
   "codemirror_mode": {
    "name": "ipython",
    "version": 3
   },
   "file_extension": ".py",
   "mimetype": "text/x-python",
   "name": "python",
   "nbconvert_exporter": "python",
   "pygments_lexer": "ipython3",
   "version": "3.9.13"
  },
  "toc": {
   "base_numbering": 1,
   "nav_menu": {},
   "number_sections": true,
   "sideBar": true,
   "skip_h1_title": true,
   "title_cell": "Table of Contents",
   "title_sidebar": "Contents",
   "toc_cell": false,
   "toc_position": {},
   "toc_section_display": true,
   "toc_window_display": false
  }
 },
 "nbformat": 4,
 "nbformat_minor": 2
}
