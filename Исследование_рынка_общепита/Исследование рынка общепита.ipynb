{
 "cells": [
  {
   "cell_type": "markdown",
   "metadata": {},
   "source": [
    "# Исследование рынка общепита Москвы\n"
   ]
  },
  {
   "cell_type": "markdown",
   "metadata": {},
   "source": [
    "## Шаг 1. Получение данных"
   ]
  },
  {
   "cell_type": "code",
   "execution_count": 1,
   "metadata": {},
   "outputs": [],
   "source": [
    "import pandas as pd\n",
    "import datetime as dt\n",
    "import numpy as np\n",
    "import matplotlib.pyplot as plt\n",
    "from pandas.plotting import register_matplotlib_converters\n",
    "import warnings\n",
    "from scipy import stats as st\n",
    "import plotly.express as px\n",
    "import math as mth\n",
    "\n",
    "register_matplotlib_converters()"
   ]
  },
  {
   "cell_type": "code",
   "execution_count": 4,
   "metadata": {},
   "outputs": [],
   "source": [
    "data = pd.read_csv(\"https://code.s3.yandex.net/datasets/logs_exp.csv\",sep=\"\\t\")"
   ]
  },
  {
   "cell_type": "code",
   "execution_count": 5,
   "metadata": {},
   "outputs": [
    {
     "data": {
      "text/html": [
       "<div>\n",
       "<style scoped>\n",
       "    .dataframe tbody tr th:only-of-type {\n",
       "        vertical-align: middle;\n",
       "    }\n",
       "\n",
       "    .dataframe tbody tr th {\n",
       "        vertical-align: top;\n",
       "    }\n",
       "\n",
       "    .dataframe thead th {\n",
       "        text-align: right;\n",
       "    }\n",
       "</style>\n",
       "<table border=\"1\" class=\"dataframe\">\n",
       "  <thead>\n",
       "    <tr style=\"text-align: right;\">\n",
       "      <th></th>\n",
       "      <th>EventName</th>\n",
       "      <th>DeviceIDHash</th>\n",
       "      <th>EventTimestamp</th>\n",
       "      <th>ExpId</th>\n",
       "    </tr>\n",
       "  </thead>\n",
       "  <tbody>\n",
       "    <tr>\n",
       "      <th>0</th>\n",
       "      <td>MainScreenAppear</td>\n",
       "      <td>4575588528974610257</td>\n",
       "      <td>1564029816</td>\n",
       "      <td>246</td>\n",
       "    </tr>\n",
       "    <tr>\n",
       "      <th>1</th>\n",
       "      <td>MainScreenAppear</td>\n",
       "      <td>7416695313311560658</td>\n",
       "      <td>1564053102</td>\n",
       "      <td>246</td>\n",
       "    </tr>\n",
       "    <tr>\n",
       "      <th>2</th>\n",
       "      <td>PaymentScreenSuccessful</td>\n",
       "      <td>3518123091307005509</td>\n",
       "      <td>1564054127</td>\n",
       "      <td>248</td>\n",
       "    </tr>\n",
       "    <tr>\n",
       "      <th>3</th>\n",
       "      <td>CartScreenAppear</td>\n",
       "      <td>3518123091307005509</td>\n",
       "      <td>1564054127</td>\n",
       "      <td>248</td>\n",
       "    </tr>\n",
       "    <tr>\n",
       "      <th>4</th>\n",
       "      <td>PaymentScreenSuccessful</td>\n",
       "      <td>6217807653094995999</td>\n",
       "      <td>1564055322</td>\n",
       "      <td>248</td>\n",
       "    </tr>\n",
       "  </tbody>\n",
       "</table>\n",
       "</div>"
      ],
      "text/plain": [
       "                 EventName         DeviceIDHash  EventTimestamp  ExpId\n",
       "0         MainScreenAppear  4575588528974610257      1564029816    246\n",
       "1         MainScreenAppear  7416695313311560658      1564053102    246\n",
       "2  PaymentScreenSuccessful  3518123091307005509      1564054127    248\n",
       "3         CartScreenAppear  3518123091307005509      1564054127    248\n",
       "4  PaymentScreenSuccessful  6217807653094995999      1564055322    248"
      ]
     },
     "execution_count": 5,
     "metadata": {},
     "output_type": "execute_result"
    }
   ],
   "source": [
    "data.head()"
   ]
  },
  {
   "cell_type": "code",
   "execution_count": 6,
   "metadata": {},
   "outputs": [
    {
     "name": "stdout",
     "output_type": "stream",
     "text": [
      "<class 'pandas.core.frame.DataFrame'>\n",
      "RangeIndex: 244126 entries, 0 to 244125\n",
      "Data columns (total 4 columns):\n",
      " #   Column          Non-Null Count   Dtype \n",
      "---  ------          --------------   ----- \n",
      " 0   EventName       244126 non-null  object\n",
      " 1   DeviceIDHash    244126 non-null  int64 \n",
      " 2   EventTimestamp  244126 non-null  int64 \n",
      " 3   ExpId           244126 non-null  int64 \n",
      "dtypes: int64(3), object(1)\n",
      "memory usage: 7.5+ MB\n"
     ]
    }
   ],
   "source": [
    "data.info()"
   ]
  },
  {
   "cell_type": "markdown",
   "metadata": {},
   "source": [
    "## Шаг 2. Подготовка данных\n",
    "\n",
    "- Заменим названия столбцов на удобные:\n"
   ]
  },
  {
   "cell_type": "code",
   "execution_count": 5,
   "metadata": {},
   "outputs": [],
   "source": [
    "data.columns = ['event', 'user', 'timestamp', 'group']"
   ]
  },
  {
   "cell_type": "markdown",
   "metadata": {},
   "source": [
    "- Проверим наличие пропусков, а также типы данных\n",
    "- Добавим столбец даты и времени, а также отдельный столбец дат"
   ]
  },
  {
   "cell_type": "code",
   "execution_count": 6,
   "metadata": {},
   "outputs": [
    {
     "data": {
      "text/plain": [
       "413"
      ]
     },
     "execution_count": 6,
     "metadata": {},
     "output_type": "execute_result"
    }
   ],
   "source": [
    "data.duplicated().sum()"
   ]
  },
  {
   "cell_type": "code",
   "execution_count": 7,
   "metadata": {},
   "outputs": [
    {
     "data": {
      "text/plain": [
       "event        0\n",
       "user         0\n",
       "timestamp    0\n",
       "group        0\n",
       "dtype: int64"
      ]
     },
     "execution_count": 7,
     "metadata": {},
     "output_type": "execute_result"
    }
   ],
   "source": [
    "data.isna().sum()"
   ]
  },
  {
   "cell_type": "markdown",
   "metadata": {},
   "source": [
    "Выявлено 413 явных дубликатов. Отбросим их. Пропусков не обнаружено."
   ]
  },
  {
   "cell_type": "code",
   "execution_count": 8,
   "metadata": {},
   "outputs": [],
   "source": [
    "data = data.drop_duplicates().reset_index(drop = True)"
   ]
  },
  {
   "cell_type": "markdown",
   "metadata": {},
   "source": [
    "Преобразуем исходный столбец даты к нужному типу данных, а также добавим отдельный столбец с датой (без времени):"
   ]
  },
  {
   "cell_type": "code",
   "execution_count": 9,
   "metadata": {},
   "outputs": [],
   "source": [
    "data['dt'] = pd.to_datetime(data['timestamp'], unit = 's')"
   ]
  },
  {
   "cell_type": "code",
   "execution_count": 10,
   "metadata": {},
   "outputs": [],
   "source": [
    "data['date'] = data['dt'].dt.date"
   ]
  },
  {
   "cell_type": "code",
   "execution_count": 11,
   "metadata": {},
   "outputs": [
    {
     "data": {
      "text/html": [
       "<div>\n",
       "<style scoped>\n",
       "    .dataframe tbody tr th:only-of-type {\n",
       "        vertical-align: middle;\n",
       "    }\n",
       "\n",
       "    .dataframe tbody tr th {\n",
       "        vertical-align: top;\n",
       "    }\n",
       "\n",
       "    .dataframe thead th {\n",
       "        text-align: right;\n",
       "    }\n",
       "</style>\n",
       "<table border=\"1\" class=\"dataframe\">\n",
       "  <thead>\n",
       "    <tr style=\"text-align: right;\">\n",
       "      <th></th>\n",
       "      <th>event</th>\n",
       "      <th>user</th>\n",
       "      <th>timestamp</th>\n",
       "      <th>group</th>\n",
       "      <th>dt</th>\n",
       "      <th>date</th>\n",
       "    </tr>\n",
       "  </thead>\n",
       "  <tbody>\n",
       "    <tr>\n",
       "      <th>0</th>\n",
       "      <td>MainScreenAppear</td>\n",
       "      <td>4575588528974610257</td>\n",
       "      <td>1564029816</td>\n",
       "      <td>246</td>\n",
       "      <td>2019-07-25 04:43:36</td>\n",
       "      <td>2019-07-25</td>\n",
       "    </tr>\n",
       "    <tr>\n",
       "      <th>1</th>\n",
       "      <td>MainScreenAppear</td>\n",
       "      <td>7416695313311560658</td>\n",
       "      <td>1564053102</td>\n",
       "      <td>246</td>\n",
       "      <td>2019-07-25 11:11:42</td>\n",
       "      <td>2019-07-25</td>\n",
       "    </tr>\n",
       "    <tr>\n",
       "      <th>2</th>\n",
       "      <td>PaymentScreenSuccessful</td>\n",
       "      <td>3518123091307005509</td>\n",
       "      <td>1564054127</td>\n",
       "      <td>248</td>\n",
       "      <td>2019-07-25 11:28:47</td>\n",
       "      <td>2019-07-25</td>\n",
       "    </tr>\n",
       "    <tr>\n",
       "      <th>3</th>\n",
       "      <td>CartScreenAppear</td>\n",
       "      <td>3518123091307005509</td>\n",
       "      <td>1564054127</td>\n",
       "      <td>248</td>\n",
       "      <td>2019-07-25 11:28:47</td>\n",
       "      <td>2019-07-25</td>\n",
       "    </tr>\n",
       "    <tr>\n",
       "      <th>4</th>\n",
       "      <td>PaymentScreenSuccessful</td>\n",
       "      <td>6217807653094995999</td>\n",
       "      <td>1564055322</td>\n",
       "      <td>248</td>\n",
       "      <td>2019-07-25 11:48:42</td>\n",
       "      <td>2019-07-25</td>\n",
       "    </tr>\n",
       "  </tbody>\n",
       "</table>\n",
       "</div>"
      ],
      "text/plain": [
       "                     event                 user   timestamp  group  \\\n",
       "0         MainScreenAppear  4575588528974610257  1564029816    246   \n",
       "1         MainScreenAppear  7416695313311560658  1564053102    246   \n",
       "2  PaymentScreenSuccessful  3518123091307005509  1564054127    248   \n",
       "3         CartScreenAppear  3518123091307005509  1564054127    248   \n",
       "4  PaymentScreenSuccessful  6217807653094995999  1564055322    248   \n",
       "\n",
       "                   dt        date  \n",
       "0 2019-07-25 04:43:36  2019-07-25  \n",
       "1 2019-07-25 11:11:42  2019-07-25  \n",
       "2 2019-07-25 11:28:47  2019-07-25  \n",
       "3 2019-07-25 11:28:47  2019-07-25  \n",
       "4 2019-07-25 11:48:42  2019-07-25  "
      ]
     },
     "execution_count": 11,
     "metadata": {},
     "output_type": "execute_result"
    }
   ],
   "source": [
    "data.head()"
   ]
  },
  {
   "cell_type": "markdown",
   "metadata": {},
   "source": [
    "## Шаг 3. Изучиние и проверка данных\n",
    "\n",
    "### Сколько всего событий в логе?"
   ]
  },
  {
   "cell_type": "code",
   "execution_count": 12,
   "metadata": {},
   "outputs": [
    {
     "data": {
      "text/plain": [
       "243713"
      ]
     },
     "execution_count": 12,
     "metadata": {},
     "output_type": "execute_result"
    }
   ],
   "source": [
    "data['event'].count()"
   ]
  },
  {
   "cell_type": "markdown",
   "metadata": {},
   "source": [
    "Данные содержат записи о 243 713 событиях."
   ]
  },
  {
   "cell_type": "markdown",
   "metadata": {},
   "source": [
    "### Сколько всего пользователей в логе?"
   ]
  },
  {
   "cell_type": "code",
   "execution_count": 13,
   "metadata": {},
   "outputs": [
    {
     "data": {
      "text/plain": [
       "7551"
      ]
     },
     "execution_count": 13,
     "metadata": {},
     "output_type": "execute_result"
    }
   ],
   "source": [
    "len(data['user'].unique())"
   ]
  },
  {
   "cell_type": "markdown",
   "metadata": {},
   "source": [
    "Данные содержат информацию о 7 551 уникальном пользователе."
   ]
  },
  {
   "cell_type": "markdown",
   "metadata": {},
   "source": [
    "### Сколько в среднем событий приходится на пользователя?"
   ]
  },
  {
   "cell_type": "code",
   "execution_count": 14,
   "metadata": {},
   "outputs": [
    {
     "data": {
      "text/plain": [
       "32.0"
      ]
     },
     "execution_count": 14,
     "metadata": {},
     "output_type": "execute_result"
    }
   ],
   "source": [
    "avg_event = data['event'].count() / len(data['user'].unique())\n",
    "avg_event.round(0)"
   ]
  },
  {
   "cell_type": "code",
   "execution_count": 15,
   "metadata": {},
   "outputs": [
    {
     "data": {
      "text/html": [
       "<div>\n",
       "<style scoped>\n",
       "    .dataframe tbody tr th:only-of-type {\n",
       "        vertical-align: middle;\n",
       "    }\n",
       "\n",
       "    .dataframe tbody tr th {\n",
       "        vertical-align: top;\n",
       "    }\n",
       "\n",
       "    .dataframe thead th {\n",
       "        text-align: right;\n",
       "    }\n",
       "</style>\n",
       "<table border=\"1\" class=\"dataframe\">\n",
       "  <thead>\n",
       "    <tr style=\"text-align: right;\">\n",
       "      <th></th>\n",
       "      <th>event</th>\n",
       "    </tr>\n",
       "  </thead>\n",
       "  <tbody>\n",
       "    <tr>\n",
       "      <th>count</th>\n",
       "      <td>7551.000000</td>\n",
       "    </tr>\n",
       "    <tr>\n",
       "      <th>mean</th>\n",
       "      <td>32.275593</td>\n",
       "    </tr>\n",
       "    <tr>\n",
       "      <th>std</th>\n",
       "      <td>65.154219</td>\n",
       "    </tr>\n",
       "    <tr>\n",
       "      <th>min</th>\n",
       "      <td>1.000000</td>\n",
       "    </tr>\n",
       "    <tr>\n",
       "      <th>25%</th>\n",
       "      <td>9.000000</td>\n",
       "    </tr>\n",
       "    <tr>\n",
       "      <th>50%</th>\n",
       "      <td>20.000000</td>\n",
       "    </tr>\n",
       "    <tr>\n",
       "      <th>75%</th>\n",
       "      <td>37.000000</td>\n",
       "    </tr>\n",
       "    <tr>\n",
       "      <th>max</th>\n",
       "      <td>2307.000000</td>\n",
       "    </tr>\n",
       "  </tbody>\n",
       "</table>\n",
       "</div>"
      ],
      "text/plain": [
       "             event\n",
       "count  7551.000000\n",
       "mean     32.275593\n",
       "std      65.154219\n",
       "min       1.000000\n",
       "25%       9.000000\n",
       "50%      20.000000\n",
       "75%      37.000000\n",
       "max    2307.000000"
      ]
     },
     "execution_count": 15,
     "metadata": {},
     "output_type": "execute_result"
    }
   ],
   "source": [
    "data.groupby('user').agg({'event': 'count'}).describe()"
   ]
  },
  {
   "cell_type": "markdown",
   "metadata": {},
   "source": [
    "В среднем на одного пользователя приходится 32 записи о событиях. <br>\n",
    "Медианное значение - 20. Распределение смещенное влево.<br>\n",
    "Минимальное количество действий совершаемое пользователями: 1, максимальное - 2307. Есть основания полагать, что в выборке встречаются аномальные пользователи."
   ]
  },
  {
   "cell_type": "markdown",
   "metadata": {},
   "source": [
    "### Данными за какой период мы располагаем\n",
    "\n",
    "Найдем максимальную и минимальную дату: "
   ]
  },
  {
   "cell_type": "code",
   "execution_count": 16,
   "metadata": {},
   "outputs": [
    {
     "data": {
      "text/html": [
       "<div>\n",
       "<style scoped>\n",
       "    .dataframe tbody tr th:only-of-type {\n",
       "        vertical-align: middle;\n",
       "    }\n",
       "\n",
       "    .dataframe tbody tr th {\n",
       "        vertical-align: top;\n",
       "    }\n",
       "\n",
       "    .dataframe thead th {\n",
       "        text-align: right;\n",
       "    }\n",
       "</style>\n",
       "<table border=\"1\" class=\"dataframe\">\n",
       "  <thead>\n",
       "    <tr style=\"text-align: right;\">\n",
       "      <th></th>\n",
       "      <th>event</th>\n",
       "      <th>user</th>\n",
       "      <th>timestamp</th>\n",
       "      <th>group</th>\n",
       "      <th>dt</th>\n",
       "      <th>date</th>\n",
       "    </tr>\n",
       "  </thead>\n",
       "  <tbody>\n",
       "    <tr>\n",
       "      <th>0</th>\n",
       "      <td>MainScreenAppear</td>\n",
       "      <td>4575588528974610257</td>\n",
       "      <td>1564029816</td>\n",
       "      <td>246</td>\n",
       "      <td>2019-07-25 04:43:36</td>\n",
       "      <td>2019-07-25</td>\n",
       "    </tr>\n",
       "    <tr>\n",
       "      <th>1</th>\n",
       "      <td>MainScreenAppear</td>\n",
       "      <td>7416695313311560658</td>\n",
       "      <td>1564053102</td>\n",
       "      <td>246</td>\n",
       "      <td>2019-07-25 11:11:42</td>\n",
       "      <td>2019-07-25</td>\n",
       "    </tr>\n",
       "    <tr>\n",
       "      <th>2</th>\n",
       "      <td>PaymentScreenSuccessful</td>\n",
       "      <td>3518123091307005509</td>\n",
       "      <td>1564054127</td>\n",
       "      <td>248</td>\n",
       "      <td>2019-07-25 11:28:47</td>\n",
       "      <td>2019-07-25</td>\n",
       "    </tr>\n",
       "    <tr>\n",
       "      <th>3</th>\n",
       "      <td>CartScreenAppear</td>\n",
       "      <td>3518123091307005509</td>\n",
       "      <td>1564054127</td>\n",
       "      <td>248</td>\n",
       "      <td>2019-07-25 11:28:47</td>\n",
       "      <td>2019-07-25</td>\n",
       "    </tr>\n",
       "    <tr>\n",
       "      <th>4</th>\n",
       "      <td>PaymentScreenSuccessful</td>\n",
       "      <td>6217807653094995999</td>\n",
       "      <td>1564055322</td>\n",
       "      <td>248</td>\n",
       "      <td>2019-07-25 11:48:42</td>\n",
       "      <td>2019-07-25</td>\n",
       "    </tr>\n",
       "  </tbody>\n",
       "</table>\n",
       "</div>"
      ],
      "text/plain": [
       "                     event                 user   timestamp  group  \\\n",
       "0         MainScreenAppear  4575588528974610257  1564029816    246   \n",
       "1         MainScreenAppear  7416695313311560658  1564053102    246   \n",
       "2  PaymentScreenSuccessful  3518123091307005509  1564054127    248   \n",
       "3         CartScreenAppear  3518123091307005509  1564054127    248   \n",
       "4  PaymentScreenSuccessful  6217807653094995999  1564055322    248   \n",
       "\n",
       "                   dt        date  \n",
       "0 2019-07-25 04:43:36  2019-07-25  \n",
       "1 2019-07-25 11:11:42  2019-07-25  \n",
       "2 2019-07-25 11:28:47  2019-07-25  \n",
       "3 2019-07-25 11:28:47  2019-07-25  \n",
       "4 2019-07-25 11:48:42  2019-07-25  "
      ]
     },
     "execution_count": 16,
     "metadata": {},
     "output_type": "execute_result"
    }
   ],
   "source": [
    "data.head()"
   ]
  },
  {
   "cell_type": "code",
   "execution_count": 17,
   "metadata": {},
   "outputs": [
    {
     "data": {
      "text/plain": [
       "datetime.date(2019, 7, 25)"
      ]
     },
     "execution_count": 17,
     "metadata": {},
     "output_type": "execute_result"
    }
   ],
   "source": [
    "data['date'].min()"
   ]
  },
  {
   "cell_type": "code",
   "execution_count": 18,
   "metadata": {},
   "outputs": [
    {
     "data": {
      "text/plain": [
       "datetime.date(2019, 8, 7)"
      ]
     },
     "execution_count": 18,
     "metadata": {},
     "output_type": "execute_result"
    }
   ],
   "source": [
    "data['date'].max()"
   ]
  },
  {
   "cell_type": "markdown",
   "metadata": {},
   "source": [
    "Минимальная дата: 25 июля 2019 <br>\n",
    "Максимальная дата: 7 августа 2019 <br>\n",
    "\n",
    "Построим гистограмму количества событий по дате и времени:"
   ]
  },
  {
   "cell_type": "code",
   "execution_count": 19,
   "metadata": {},
   "outputs": [
    {
     "data": {
      "image/png": "[encoded data removed]",
      "text/plain": [
       "<Figure size 1080x360 with 1 Axes>"
      ]
     },
     "metadata": {
      "needs_background": "light"
     },
     "output_type": "display_data"
    }
   ],
   "source": [
    "plt.figure(figsize=(15, 5))\n",
    "plt.hist(data['dt'], color = 'green', edgecolor = 'black', bins=13);\n",
    "plt.title('Количество событий по дням')\n",
    "plt.xlabel('дата');\n",
    "plt.ylabel('Количество');"
   ]
  },
  {
   "cell_type": "markdown",
   "metadata": {},
   "source": [
    "Вероятно мы не обладаем одинаково полными данными за весь период. Это могло возникнуть из-за того, что технически в логи новых дней по некоторым пользователям могут «доезжать» события из прошлого — это может «перекашивать данные».<br> \n",
    "Будем использовать данные начинающиеся с 01.08.2019 <br>\n",
    "\n",
    "Мы располагаем данными с 1 по 7 августа 2019 года."
   ]
  },
  {
   "cell_type": "code",
   "execution_count": 20,
   "metadata": {},
   "outputs": [],
   "source": [
    "new_data = data.query('date >= datetime(2019, 8, 1).date()')"
   ]
  },
  {
   "cell_type": "code",
   "execution_count": 21,
   "metadata": {},
   "outputs": [
    {
     "name": "stdout",
     "output_type": "stream",
     "text": [
      "Отброшены записи о 2826 событиях\n",
      "Отброшены данные 17 пользователей\n"
     ]
    }
   ],
   "source": [
    "minus_event = data['event'].count() - new_data['event'].count()\n",
    "print('Отброшены записи о', minus_event, 'событиях')\n",
    "minus_user = len(data['user'].unique()) - len(new_data['user'].unique())\n",
    "print('Отброшены данные', minus_user, 'пользователей')"
   ]
  },
  {
   "cell_type": "code",
   "execution_count": 22,
   "metadata": {},
   "outputs": [
    {
     "name": "stdout",
     "output_type": "stream",
     "text": [
      "Доля данных, отброшенная после обработки: 1.16%\n",
      "Доля пользователей, отброшенная после обработки данных: 0.23%\n"
     ]
    }
   ],
   "source": [
    "pers_minus_event = (1-(new_data['event'].count() / data['event'].count()))\n",
    "print('Доля данных, отброшенная после обработки: {:.2%}'.format(pers_minus_event))\n",
    "pers_minus_user = (1-(len(new_data['user'].unique()) / len(data['user'].unique())))\n",
    "print('Доля пользователей, отброшенная после обработки данных: {:.2%}'.format(pers_minus_user))"
   ]
  },
  {
   "cell_type": "markdown",
   "metadata": {},
   "source": [
    "После обработки данных, отброшено приемлемое количество данных (менее 10%)"
   ]
  },
  {
   "cell_type": "markdown",
   "metadata": {},
   "source": [
    "Отбросив \"старые\" данные у нас остались записи о 240 887 событиях, совершенных 7 534 пользователями."
   ]
  },
  {
   "cell_type": "code",
   "execution_count": 23,
   "metadata": {},
   "outputs": [
    {
     "data": {
      "text/plain": [
       "240887"
      ]
     },
     "execution_count": 23,
     "metadata": {},
     "output_type": "execute_result"
    }
   ],
   "source": [
    "new_data['event'].count()"
   ]
  },
  {
   "cell_type": "code",
   "execution_count": 24,
   "metadata": {},
   "outputs": [
    {
     "data": {
      "text/plain": [
       "7534"
      ]
     },
     "execution_count": 24,
     "metadata": {},
     "output_type": "execute_result"
    }
   ],
   "source": [
    "len(new_data['user'].unique())"
   ]
  },
  {
   "cell_type": "markdown",
   "metadata": {},
   "source": [
    "Проверим, что у нас есть пользователи из всех трёх экспериментальных групп:"
   ]
  },
  {
   "cell_type": "code",
   "execution_count": 25,
   "metadata": {},
   "outputs": [
    {
     "data": {
      "image/png": "[encoded data removed]",
      "text/plain": [
       "<Figure size 720x360 with 1 Axes>"
      ]
     },
     "metadata": {
      "needs_background": "light"
     },
     "output_type": "display_data"
    }
   ],
   "source": [
    "data_group_sorted = new_data.groupby('group').agg({'user':'nunique'})\n",
    "data_group_sorted.plot(figsize=(10,5), kind=\"barh\");\n",
    "plt.title('Количество пользователей')\n",
    "plt.xlabel('Кол-во');\n",
    "plt.ylabel('Название события');"
   ]
  },
  {
   "cell_type": "markdown",
   "metadata": {},
   "source": [
    "Данные содержат записи о пользователях всех трех групп, более того, их количество примерно одинаковое - около 2500 пользователей."
   ]
  },
  {
   "cell_type": "markdown",
   "metadata": {},
   "source": [
    "## Шаг 4. Воронка событий\n",
    "\n",
    "\n",
    "### Какие события есть в логах, как часто они встречаются?\n",
    "\n",
    "Построим диаграмму количества событий. Отсортируем события по частоте."
   ]
  },
  {
   "cell_type": "code",
   "execution_count": 26,
   "metadata": {},
   "outputs": [
    {
     "data": {
      "image/png": "[encoded data removed]",
      "text/plain": [
       "<Figure size 720x360 with 1 Axes>"
      ]
     },
     "metadata": {
      "needs_background": "light"
     },
     "output_type": "display_data"
    }
   ],
   "source": [
    "data_sorted = new_data.groupby(\"event\")[\"user\"].count().sort_values()\n",
    "data_sorted.plot(figsize=(10,5), kind=\"barh\");\n",
    "plt.title('Количество событий')\n",
    "plt.xlabel('Кол-во');\n",
    "plt.ylabel('Название события');"
   ]
  },
  {
   "cell_type": "markdown",
   "metadata": {},
   "source": [
    "Самым популярным событием является просмотр главного экрана. Самым редким - обучение."
   ]
  },
  {
   "cell_type": "markdown",
   "metadata": {},
   "source": [
    "### Сколько пользователей совершали каждое из этих событий?\n",
    "Отсортируем события по числу пользователей. "
   ]
  },
  {
   "cell_type": "code",
   "execution_count": 27,
   "metadata": {},
   "outputs": [
    {
     "data": {
      "image/png": "[encoded data removed]",
      "text/plain": [
       "<Figure size 720x360 with 1 Axes>"
      ]
     },
     "metadata": {
      "needs_background": "light"
     },
     "output_type": "display_data"
    }
   ],
   "source": [
    "data_sorted_by_group = new_data.groupby('event').agg({'user':'nunique'}).sort_values(by='user', ascending=True)\n",
    "data_sorted_by_group.plot(figsize=(10,5), kind=\"barh\");\n",
    "plt.title('Количество пользователей, совершивших событие')\n",
    "plt.xlabel('Кол-во пользователей');\n",
    "plt.ylabel('Название события');"
   ]
  },
  {
   "cell_type": "markdown",
   "metadata": {},
   "source": [
    "### Доля пользователей, которые хоть раз совершали событие."
   ]
  },
  {
   "cell_type": "code",
   "execution_count": 28,
   "metadata": {},
   "outputs": [
    {
     "data": {
      "text/html": [
       "<div>\n",
       "<style scoped>\n",
       "    .dataframe tbody tr th:only-of-type {\n",
       "        vertical-align: middle;\n",
       "    }\n",
       "\n",
       "    .dataframe tbody tr th {\n",
       "        vertical-align: top;\n",
       "    }\n",
       "\n",
       "    .dataframe thead th {\n",
       "        text-align: right;\n",
       "    }\n",
       "</style>\n",
       "<table border=\"1\" class=\"dataframe\">\n",
       "  <thead>\n",
       "    <tr style=\"text-align: right;\">\n",
       "      <th></th>\n",
       "      <th>event</th>\n",
       "      <th>user</th>\n",
       "      <th>percent</th>\n",
       "    </tr>\n",
       "  </thead>\n",
       "  <tbody>\n",
       "    <tr>\n",
       "      <th>1</th>\n",
       "      <td>MainScreenAppear</td>\n",
       "      <td>7419</td>\n",
       "      <td>98.0</td>\n",
       "    </tr>\n",
       "    <tr>\n",
       "      <th>2</th>\n",
       "      <td>OffersScreenAppear</td>\n",
       "      <td>4593</td>\n",
       "      <td>61.0</td>\n",
       "    </tr>\n",
       "    <tr>\n",
       "      <th>0</th>\n",
       "      <td>CartScreenAppear</td>\n",
       "      <td>3734</td>\n",
       "      <td>50.0</td>\n",
       "    </tr>\n",
       "    <tr>\n",
       "      <th>3</th>\n",
       "      <td>PaymentScreenSuccessful</td>\n",
       "      <td>3539</td>\n",
       "      <td>47.0</td>\n",
       "    </tr>\n",
       "    <tr>\n",
       "      <th>4</th>\n",
       "      <td>Tutorial</td>\n",
       "      <td>840</td>\n",
       "      <td>11.0</td>\n",
       "    </tr>\n",
       "  </tbody>\n",
       "</table>\n",
       "</div>"
      ],
      "text/plain": [
       "                     event  user  percent\n",
       "1         MainScreenAppear  7419     98.0\n",
       "2       OffersScreenAppear  4593     61.0\n",
       "0         CartScreenAppear  3734     50.0\n",
       "3  PaymentScreenSuccessful  3539     47.0\n",
       "4                 Tutorial   840     11.0"
      ]
     },
     "execution_count": 28,
     "metadata": {},
     "output_type": "execute_result"
    }
   ],
   "source": [
    "events_count = new_data.groupby('event').agg({'user':'nunique'}).reset_index().sort_values(by = 'user',ascending = False)\n",
    "events_count['percent'] = (events_count['user'] / new_data['user'].nunique() * 100).round()\n",
    "events_count"
   ]
  },
  {
   "cell_type": "code",
   "execution_count": 29,
   "metadata": {},
   "outputs": [
    {
     "data": {
      "image/png": "[encoded data removed]",
      "text/plain": [
       "<Figure size 864x360 with 1 Axes>"
      ]
     },
     "metadata": {
      "needs_background": "light"
     },
     "output_type": "display_data"
    }
   ],
   "source": [
    "plt.figure(figsize=(12, 5))\n",
    "plt.bar(events_count['event'], events_count['percent'])\n",
    "plt.title('Доля пользователей, совершивших событие')\n",
    "plt.xlabel('Название события');\n",
    "plt.ylabel('Доля пользователей, %');"
   ]
  },
  {
   "cell_type": "markdown",
   "metadata": {},
   "source": [
    "Почти 100% открывали главный экран, до успешной оплаты доходили чуть меньше половины от всех пользователей.<br>\n",
    "Для события MainScreenAppear доля пользователей, его совершивших, составляет 98.5%, возможно это связано с тем, что часть пользователей только посмотрели обучение и не проходили в остальные части приложения. Или, возможно, на некоторые другие события пользователи переходили по ссылкам из браузера минуя главный экран."
   ]
  },
  {
   "cell_type": "markdown",
   "metadata": {},
   "source": [
    "### Цепочка событий. \n",
    "Предположим, что события происходят в следующем порядке: **Главный экран - Предложение - Корзина - Успешная оплата.** <br>\n",
    "Обучение вероятнее всего не является обязательным, его можно пропустить и вернуться к нему при необходимости. Обучение очитывать не будем."
   ]
  },
  {
   "cell_type": "markdown",
   "metadata": {},
   "source": [
    "По воронке событий посчитаем, какая доля пользователей проходит на следующий шаг воронки (от числа пользователей на предыдущем):"
   ]
  },
  {
   "cell_type": "code",
   "execution_count": 30,
   "metadata": {},
   "outputs": [],
   "source": [
    "warnings.filterwarnings('ignore') "
   ]
  },
  {
   "cell_type": "code",
   "execution_count": 31,
   "metadata": {},
   "outputs": [
    {
     "data": {
      "text/html": [
       "<div>\n",
       "<style scoped>\n",
       "    .dataframe tbody tr th:only-of-type {\n",
       "        vertical-align: middle;\n",
       "    }\n",
       "\n",
       "    .dataframe tbody tr th {\n",
       "        vertical-align: top;\n",
       "    }\n",
       "\n",
       "    .dataframe thead th {\n",
       "        text-align: right;\n",
       "    }\n",
       "</style>\n",
       "<table border=\"1\" class=\"dataframe\">\n",
       "  <thead>\n",
       "    <tr style=\"text-align: right;\">\n",
       "      <th></th>\n",
       "      <th>event</th>\n",
       "      <th>user</th>\n",
       "      <th>percent</th>\n",
       "      <th>%_to_prev</th>\n",
       "    </tr>\n",
       "  </thead>\n",
       "  <tbody>\n",
       "    <tr>\n",
       "      <th>1</th>\n",
       "      <td>MainScreenAppear</td>\n",
       "      <td>7419</td>\n",
       "      <td>98.0</td>\n",
       "      <td>100.0</td>\n",
       "    </tr>\n",
       "    <tr>\n",
       "      <th>2</th>\n",
       "      <td>OffersScreenAppear</td>\n",
       "      <td>4593</td>\n",
       "      <td>61.0</td>\n",
       "      <td>62.0</td>\n",
       "    </tr>\n",
       "    <tr>\n",
       "      <th>0</th>\n",
       "      <td>CartScreenAppear</td>\n",
       "      <td>3734</td>\n",
       "      <td>50.0</td>\n",
       "      <td>81.0</td>\n",
       "    </tr>\n",
       "    <tr>\n",
       "      <th>3</th>\n",
       "      <td>PaymentScreenSuccessful</td>\n",
       "      <td>3539</td>\n",
       "      <td>47.0</td>\n",
       "      <td>95.0</td>\n",
       "    </tr>\n",
       "  </tbody>\n",
       "</table>\n",
       "</div>"
      ],
      "text/plain": [
       "                     event  user  percent  %_to_prev\n",
       "1         MainScreenAppear  7419     98.0      100.0\n",
       "2       OffersScreenAppear  4593     61.0       62.0\n",
       "0         CartScreenAppear  3734     50.0       81.0\n",
       "3  PaymentScreenSuccessful  3539     47.0       95.0"
      ]
     },
     "execution_count": 31,
     "metadata": {},
     "output_type": "execute_result"
    }
   ],
   "source": [
    "funnel = events_count[events_count['event'] != 'Tutorial']\n",
    "funnel['%_to_prev'] = funnel['user'].shift(1)\n",
    "funnel.loc[funnel['%_to_prev'].isna(), '%_to_prev'] = funnel.loc[funnel['%_to_prev'].isna(), 'user']\n",
    "funnel['%_to_prev'] = (funnel['user'] / funnel['%_to_prev'] * 100).round()\n",
    "funnel = funnel.sort_values(by = 'user', ascending = False)\n",
    "funnel"
   ]
  },
  {
   "cell_type": "markdown",
   "metadata": {},
   "source": [
    "После просмотра главного экрана теряется больше всего пользователей.<br>\n",
    "До последнего события доходит лишь 47 % пользователей."
   ]
  },
  {
   "cell_type": "markdown",
   "metadata": {},
   "source": [
    "## Шаг 5. Изучите результаты эксперимента\n",
    "\n",
    "\n",
    "### Сколько пользователей в каждой экспериментальной группе?\n"
   ]
  },
  {
   "cell_type": "code",
   "execution_count": 32,
   "metadata": {},
   "outputs": [
    {
     "name": "stdout",
     "output_type": "stream",
     "text": [
      "Количество пользователей в группе 248: 2537\n",
      "Количество пользователей в группе 247: 2513\n",
      "Количество пользователей в группе 246: 2484\n"
     ]
    }
   ],
   "source": [
    "visitors248 = new_data[new_data['group'] == 248]['user']\n",
    "print('Количество пользователей в группе 248:', visitors248.nunique())\n",
    "visitors247 = new_data[new_data['group'] == 247]['user']\n",
    "print('Количество пользователей в группе 247:', visitors247.nunique())\n",
    "visitors246 = new_data[new_data['group'] == 246]['user']\n",
    "print('Количество пользователей в группе 246:', visitors246.nunique())"
   ]
  },
  {
   "cell_type": "markdown",
   "metadata": {},
   "source": [
    "Проверим, есть ли пользователи, которые попали в несколько групп, так как они могут оказать влияние на результаты теста:"
   ]
  },
  {
   "cell_type": "code",
   "execution_count": 33,
   "metadata": {},
   "outputs": [
    {
     "name": "stdout",
     "output_type": "stream",
     "text": [
      "Пользователи, попавшие в несколько групп: 0\n"
     ]
    }
   ],
   "source": [
    "visitors246 = new_data[new_data['group'] == 246]['user']\n",
    "visitors247 = new_data[new_data['group'] == 247]['user']\n",
    "visitors248 = new_data[new_data['group'] == 248]['user']\n",
    "\n",
    "visitors246and247 = pd.Series(np.intersect1d(visitors246, visitors247))\n",
    "visitors246and248 = pd.Series(np.intersect1d(visitors246, visitors248))\n",
    "visitors247and248 = pd.Series(np.intersect1d(visitors247, visitors248))\n",
    "\n",
    "print('Пользователи, попавшие в несколько групп:',len(visitors246and247) + len(visitors246and248) + len(visitors246and248))"
   ]
  },
  {
   "cell_type": "markdown",
   "metadata": {},
   "source": [
    "Пользователей, попавших в несколько групп не выявлено."
   ]
  },
  {
   "cell_type": "markdown",
   "metadata": {},
   "source": [
    "### A/A эксперимент"
   ]
  },
  {
   "cell_type": "markdown",
   "metadata": {},
   "source": [
    "Используем данные 2 контрольных групп для А/А-эксперимента. Проверим корректность всех механизмов и расчётов. Проверим, находят ли статистические критерии разницу между выборками 246 и 247.<br>\n",
    "Возьмем самое популярное событие: MainScreenAppear. <br>\n",
    "Посчитаем число и долю пользователей, совершивших это событие в каждой из контрольных групп. "
   ]
  },
  {
   "cell_type": "code",
   "execution_count": 34,
   "metadata": {},
   "outputs": [
    {
     "data": {
      "text/html": [
       "<div>\n",
       "<style scoped>\n",
       "    .dataframe tbody tr th:only-of-type {\n",
       "        vertical-align: middle;\n",
       "    }\n",
       "\n",
       "    .dataframe tbody tr th {\n",
       "        vertical-align: top;\n",
       "    }\n",
       "\n",
       "    .dataframe thead th {\n",
       "        text-align: right;\n",
       "    }\n",
       "</style>\n",
       "<table border=\"1\" class=\"dataframe\">\n",
       "  <thead>\n",
       "    <tr style=\"text-align: right;\">\n",
       "      <th>group</th>\n",
       "      <th>246</th>\n",
       "      <th>247</th>\n",
       "      <th>248</th>\n",
       "    </tr>\n",
       "    <tr>\n",
       "      <th>event</th>\n",
       "      <th></th>\n",
       "      <th></th>\n",
       "      <th></th>\n",
       "    </tr>\n",
       "  </thead>\n",
       "  <tbody>\n",
       "    <tr>\n",
       "      <th>CartScreenAppear</th>\n",
       "      <td>1266</td>\n",
       "      <td>1238</td>\n",
       "      <td>1230</td>\n",
       "    </tr>\n",
       "    <tr>\n",
       "      <th>MainScreenAppear</th>\n",
       "      <td>2450</td>\n",
       "      <td>2476</td>\n",
       "      <td>2493</td>\n",
       "    </tr>\n",
       "    <tr>\n",
       "      <th>OffersScreenAppear</th>\n",
       "      <td>1542</td>\n",
       "      <td>1520</td>\n",
       "      <td>1531</td>\n",
       "    </tr>\n",
       "    <tr>\n",
       "      <th>PaymentScreenSuccessful</th>\n",
       "      <td>1200</td>\n",
       "      <td>1158</td>\n",
       "      <td>1181</td>\n",
       "    </tr>\n",
       "    <tr>\n",
       "      <th>Tutorial</th>\n",
       "      <td>278</td>\n",
       "      <td>283</td>\n",
       "      <td>279</td>\n",
       "    </tr>\n",
       "  </tbody>\n",
       "</table>\n",
       "</div>"
      ],
      "text/plain": [
       "group                     246   247   248\n",
       "event                                    \n",
       "CartScreenAppear         1266  1238  1230\n",
       "MainScreenAppear         2450  2476  2493\n",
       "OffersScreenAppear       1542  1520  1531\n",
       "PaymentScreenSuccessful  1200  1158  1181\n",
       "Tutorial                  278   283   279"
      ]
     },
     "execution_count": 34,
     "metadata": {},
     "output_type": "execute_result"
    }
   ],
   "source": [
    "piv = new_data.pivot_table(index='event',columns='group', values = 'user', aggfunc = 'nunique')\n",
    "piv"
   ]
  },
  {
   "cell_type": "code",
   "execution_count": 35,
   "metadata": {},
   "outputs": [
    {
     "name": "stdout",
     "output_type": "stream",
     "text": [
      "Доля пользователей группы 246, совершивших действие \"MainScreenAppear\": 98.63 %\n",
      "Доля пользователей группы 247, совершивших действие \"MainScreenAppear\": 98.53 %\n"
     ]
    }
   ],
   "source": [
    "print('Доля пользователей группы 246, совершивших действие \"MainScreenAppear\":', round((2450 *100 / 2484), 2), '%')\n",
    "print('Доля пользователей группы 247, совершивших действие \"MainScreenAppear\":', round((2476 *100 / 2513),2), '%')"
   ]
  },
  {
   "cell_type": "markdown",
   "metadata": {},
   "source": [
    "Проверим, будет ли отличие между группами статистически достоверным. <br>\n",
    "Для начала зададим функцию для проведения тестирования:"
   ]
  },
  {
   "cell_type": "code",
   "execution_count": 36,
   "metadata": {},
   "outputs": [],
   "source": [
    "def z_test(n1, x1, n2, x2, alpha):\n",
    "\n",
    "    p1 = x1 / n1\n",
    "    p2 = x2 / n2\n",
    "    \n",
    "    p_combined = (x1 + x2) / (n1 + n2)\n",
    "    \n",
    "    difference = p1 - p2\n",
    "    \n",
    "    z_value = difference / mth.sqrt(p_combined * (1 - p_combined) * (1/n1 + 1/n2))\n",
    "    \n",
    "    distr = st.norm(0, 1)\n",
    "    \n",
    "    p_value = (1 - distr.cdf(abs(z_value))) * 2\n",
    "    \n",
    "    print('p-значение: ', p_value)\n",
    "\n",
    "    if p_value < alpha:\n",
    "        print('Отвергаем нулевую гипотезу: между долями есть значимая разница')\n",
    "    else:\n",
    "        print(\n",
    "            'Не получилось отвергнуть нулевую гипотезу, нет оснований считать доли разными')"
   ]
  },
  {
   "cell_type": "markdown",
   "metadata": {},
   "source": [
    " Проверим статистическую достоверность различий по событию \" MainScreenAppear\". <br>\n",
    "Сформулируем гипотезы. Нулевая: различий между группами нет. Альтернативная: различия между группами есть."
   ]
  },
  {
   "cell_type": "code",
   "execution_count": 37,
   "metadata": {},
   "outputs": [
    {
     "name": "stdout",
     "output_type": "stream",
     "text": [
      "p-значение:  [0.75705972]\n",
      "Не получилось отвергнуть нулевую гипотезу, нет оснований считать доли разными\n"
     ]
    }
   ],
   "source": [
    "z_test(\n",
    "    visitors246.nunique(),\n",
    "    piv.query('event == \"MainScreenAppear\"')[246],\n",
    "    visitors247.nunique(),\n",
    "    piv.query('event == \"MainScreenAppear\"')[247],\n",
    "    0.00625,\n",
    ")"
   ]
  },
  {
   "cell_type": "markdown",
   "metadata": {},
   "source": [
    "Проверим статистическую достоверность различий по остальным событиям. Гипотезы аналогичны.<br>\n",
    "OffersScreenAppear:"
   ]
  },
  {
   "cell_type": "code",
   "execution_count": 38,
   "metadata": {},
   "outputs": [
    {
     "name": "stdout",
     "output_type": "stream",
     "text": [
      "p-значение:  [0.24809546]\n",
      "Не получилось отвергнуть нулевую гипотезу, нет оснований считать доли разными\n"
     ]
    }
   ],
   "source": [
    "z_test(\n",
    "    visitors246.nunique(),\n",
    "    piv.query('event == \"OffersScreenAppear\"')[246],\n",
    "    visitors247.nunique(),\n",
    "    piv.query('event == \"OffersScreenAppear\"')[247],\n",
    "    0.00625,\n",
    ")"
   ]
  },
  {
   "cell_type": "markdown",
   "metadata": {},
   "source": [
    "CartScreenAppear:"
   ]
  },
  {
   "cell_type": "code",
   "execution_count": 39,
   "metadata": {},
   "outputs": [
    {
     "name": "stdout",
     "output_type": "stream",
     "text": [
      "p-значение:  [0.22883372]\n",
      "Не получилось отвергнуть нулевую гипотезу, нет оснований считать доли разными\n"
     ]
    }
   ],
   "source": [
    "z_test(\n",
    "    visitors246.nunique(),\n",
    "    piv.query('event == \"CartScreenAppear\"')[246],\n",
    "    visitors247.nunique(),\n",
    "    piv.query('event == \"CartScreenAppear\"')[247],\n",
    "    0.00625,\n",
    ")"
   ]
  },
  {
   "cell_type": "markdown",
   "metadata": {},
   "source": [
    "PaymentScreenSuccessful\t:"
   ]
  },
  {
   "cell_type": "code",
   "execution_count": 40,
   "metadata": {},
   "outputs": [
    {
     "name": "stdout",
     "output_type": "stream",
     "text": [
      "p-значение:  [0.11456679]\n",
      "Не получилось отвергнуть нулевую гипотезу, нет оснований считать доли разными\n"
     ]
    }
   ],
   "source": [
    "z_test(\n",
    "    visitors246.nunique(),\n",
    "    piv.query('event == \"PaymentScreenSuccessful\"')[246],\n",
    "    visitors247.nunique(),\n",
    "    piv.query('event == \"PaymentScreenSuccessful\"')[247],\n",
    "    0.00625,\n",
    ")"
   ]
  },
  {
   "cell_type": "markdown",
   "metadata": {},
   "source": [
    "Ни по одному из событий не получилось отвергнуть нулевую гипотезу. Группы одинаковые. "
   ]
  },
  {
   "cell_type": "markdown",
   "metadata": {},
   "source": [
    "### A1/B - эксперимент\n",
    "\n",
    "Аналогично проверим статистическую значимость различий между группами 246 и 248. <br>\n",
    "Сформулируем гипотизы. Нулевая: различий между группами нет. Альтернативная: различия между группами есть. <br>\n",
    "- по событию \" MainScreenAppear\""
   ]
  },
  {
   "cell_type": "code",
   "execution_count": 41,
   "metadata": {},
   "outputs": [
    {
     "name": "stdout",
     "output_type": "stream",
     "text": [
      "p-значение:  [0.29497219]\n",
      "Не получилось отвергнуть нулевую гипотезу, нет оснований считать доли разными\n"
     ]
    }
   ],
   "source": [
    "z_test(\n",
    "    visitors246.nunique(),\n",
    "    piv.query('event == \"MainScreenAppear\"')[246],\n",
    "    visitors248.nunique(),\n",
    "    piv.query('event == \"MainScreenAppear\"')[248],\n",
    "    0.00625,\n",
    ")"
   ]
  },
  {
   "cell_type": "code",
   "execution_count": 42,
   "metadata": {},
   "outputs": [
    {
     "data": {
      "text/plain": [
       "2484"
      ]
     },
     "execution_count": 42,
     "metadata": {},
     "output_type": "execute_result"
    }
   ],
   "source": [
    "visitors246.nunique()"
   ]
  },
  {
   "cell_type": "markdown",
   "metadata": {},
   "source": [
    "- по событию OffersScreenAppear:"
   ]
  },
  {
   "cell_type": "code",
   "execution_count": 43,
   "metadata": {},
   "outputs": [
    {
     "name": "stdout",
     "output_type": "stream",
     "text": [
      "p-значение:  [0.20836205]\n",
      "Не получилось отвергнуть нулевую гипотезу, нет оснований считать доли разными\n"
     ]
    }
   ],
   "source": [
    "z_test(\n",
    "    visitors246.nunique(),\n",
    "    piv.query('event == \"OffersScreenAppear\"')[246],\n",
    "    visitors248.nunique(),\n",
    "    piv.query('event == \"OffersScreenAppear\"')[248],\n",
    "    0.00625,\n",
    ")"
   ]
  },
  {
   "cell_type": "markdown",
   "metadata": {},
   "source": [
    "- по событию CartScreenAppear:"
   ]
  },
  {
   "cell_type": "code",
   "execution_count": 44,
   "metadata": {},
   "outputs": [
    {
     "name": "stdout",
     "output_type": "stream",
     "text": [
      "p-значение:  [0.07842923]\n",
      "Не получилось отвергнуть нулевую гипотезу, нет оснований считать доли разными\n"
     ]
    }
   ],
   "source": [
    "z_test(\n",
    "    visitors246.nunique(),\n",
    "    piv.query('event == \"CartScreenAppear\"')[246],\n",
    "    visitors248.nunique(),\n",
    "    piv.query('event == \"CartScreenAppear\"')[248],\n",
    "    0.00625,\n",
    ")"
   ]
  },
  {
   "cell_type": "markdown",
   "metadata": {},
   "source": [
    "- по событию PaymentScreenSuccessful:"
   ]
  },
  {
   "cell_type": "code",
   "execution_count": 45,
   "metadata": {},
   "outputs": [
    {
     "name": "stdout",
     "output_type": "stream",
     "text": [
      "p-значение:  [0.21225533]\n",
      "Не получилось отвергнуть нулевую гипотезу, нет оснований считать доли разными\n"
     ]
    }
   ],
   "source": [
    "z_test(\n",
    "    visitors246.nunique(),\n",
    "    piv.query('event == \"PaymentScreenSuccessful\"')[246],\n",
    "    visitors248.nunique(),\n",
    "    piv.query('event == \"PaymentScreenSuccessful\"')[248],\n",
    "    0.00625,\n",
    ")"
   ]
  },
  {
   "cell_type": "markdown",
   "metadata": {},
   "source": [
    "*Для alpha = 0.1:* Проведя тесты можно сказать, что по трем событиям между группами 246 и 248 нет разницы. Вслучае с CartScreenAppear мы можем отвергнуть нулевую гипотезу.\n",
    "\n",
    "*С учетом поправки:* Ни по одному из событий не получилось отвергнуть нулевую гипотезу. "
   ]
  },
  {
   "cell_type": "markdown",
   "metadata": {},
   "source": [
    "### A2/B - эксперимент\n",
    "\n",
    "Аналогично проверим статистическую значимость различий между группами 247 и 248.\n",
    "Сформулируем гипотизы. Нулевая: различий между группами нет. Альтернативная: различия между группами есть.\n",
    "\n",
    "- по событию \" MainScreenAppear\""
   ]
  },
  {
   "cell_type": "code",
   "execution_count": 46,
   "metadata": {},
   "outputs": [
    {
     "name": "stdout",
     "output_type": "stream",
     "text": [
      "p-значение:  [0.45870536]\n",
      "Не получилось отвергнуть нулевую гипотезу, нет оснований считать доли разными\n"
     ]
    }
   ],
   "source": [
    "z_test(\n",
    "    visitors247.nunique(),\n",
    "    piv.query('event == \"MainScreenAppear\"')[247],\n",
    "    visitors248.nunique(),\n",
    "    piv.query('event == \"MainScreenAppear\"')[248],\n",
    "    0.00625,\n",
    ")"
   ]
  },
  {
   "cell_type": "markdown",
   "metadata": {},
   "source": [
    "- по событию OffersScreenAppear:"
   ]
  },
  {
   "cell_type": "code",
   "execution_count": 47,
   "metadata": {},
   "outputs": [
    {
     "name": "stdout",
     "output_type": "stream",
     "text": [
      "p-значение:  [0.91978178]\n",
      "Не получилось отвергнуть нулевую гипотезу, нет оснований считать доли разными\n"
     ]
    }
   ],
   "source": [
    "z_test(\n",
    "    visitors247.nunique(),\n",
    "    piv.query('event == \"OffersScreenAppear\"')[247],\n",
    "    visitors248.nunique(),\n",
    "    piv.query('event == \"OffersScreenAppear\"')[248],\n",
    "    0.00625,\n",
    ")"
   ]
  },
  {
   "cell_type": "markdown",
   "metadata": {},
   "source": [
    "- по событию CartScreenAppear:"
   ]
  },
  {
   "cell_type": "code",
   "execution_count": 48,
   "metadata": {},
   "outputs": [
    {
     "name": "stdout",
     "output_type": "stream",
     "text": [
      "p-значение:  [0.57861979]\n",
      "Не получилось отвергнуть нулевую гипотезу, нет оснований считать доли разными\n"
     ]
    }
   ],
   "source": [
    "z_test(\n",
    "    visitors247.nunique(),\n",
    "    piv.query('event == \"CartScreenAppear\"')[247],\n",
    "    visitors248.nunique(),\n",
    "    piv.query('event == \"CartScreenAppear\"')[248],\n",
    "    0.00625,\n",
    ")"
   ]
  },
  {
   "cell_type": "markdown",
   "metadata": {},
   "source": [
    "- по событию PaymentScreenSuccessful:"
   ]
  },
  {
   "cell_type": "code",
   "execution_count": 49,
   "metadata": {},
   "outputs": [
    {
     "name": "stdout",
     "output_type": "stream",
     "text": [
      "p-значение:  [0.73734151]\n",
      "Не получилось отвергнуть нулевую гипотезу, нет оснований считать доли разными\n"
     ]
    }
   ],
   "source": [
    "z_test(\n",
    "    visitors247.nunique(),\n",
    "    piv.query('event == \"PaymentScreenSuccessful\"')[247],\n",
    "    visitors248.nunique(),\n",
    "    piv.query('event == \"PaymentScreenSuccessful\"')[248],\n",
    "    0.00625,\n",
    ")"
   ]
  },
  {
   "cell_type": "markdown",
   "metadata": {},
   "source": [
    "По всем 4 событиям отвергнуть нулевую гипотезу не получилось. Группы равны."
   ]
  },
  {
   "cell_type": "markdown",
   "metadata": {},
   "source": [
    "### A1+A2/B - эксперимент\n",
    "\n",
    "Проведем эксперимент с объединённой контрольной группой (246+247). <br> \n",
    "Сформулируем гипотизы. Нулевая: различий между группами нет. Альтернативная: различия между группами есть.\n",
    "\n",
    "- по событию \" MainScreenAppear\":"
   ]
  },
  {
   "cell_type": "code",
   "execution_count": 50,
   "metadata": {},
   "outputs": [
    {
     "name": "stdout",
     "output_type": "stream",
     "text": [
      "p-значение:  [0.29424527]\n",
      "Не получилось отвергнуть нулевую гипотезу, нет оснований считать доли разными\n"
     ]
    }
   ],
   "source": [
    "z_test(\n",
    "    visitors246.nunique()+ visitors247.nunique(),\n",
    "    piv.query('event == \"MainScreenAppear\"')[247] + piv.query('event == \"MainScreenAppear\"')[246] ,\n",
    "    visitors248.nunique(),\n",
    "    piv.query('event == \"MainScreenAppear\"')[248],\n",
    "    0.00625,\n",
    ")"
   ]
  },
  {
   "cell_type": "markdown",
   "metadata": {},
   "source": [
    "- по событию OffersScreenAppear:"
   ]
  },
  {
   "cell_type": "code",
   "execution_count": 51,
   "metadata": {},
   "outputs": [
    {
     "name": "stdout",
     "output_type": "stream",
     "text": [
      "p-значение:  [0.4342555]\n",
      "Не получилось отвергнуть нулевую гипотезу, нет оснований считать доли разными\n"
     ]
    }
   ],
   "source": [
    "z_test(\n",
    "    visitors246.nunique()+ visitors247.nunique(),\n",
    "    piv.query('event == \"OffersScreenAppear\"')[247] + piv.query('event == \"OffersScreenAppear\"')[246] ,\n",
    "    visitors248.nunique(),\n",
    "    piv.query('event == \"OffersScreenAppear\"')[248],\n",
    "    0.00625,\n",
    ")"
   ]
  },
  {
   "cell_type": "markdown",
   "metadata": {},
   "source": [
    "- по событию CartScreenAppear:"
   ]
  },
  {
   "cell_type": "code",
   "execution_count": 52,
   "metadata": {},
   "outputs": [
    {
     "name": "stdout",
     "output_type": "stream",
     "text": [
      "p-значение:  [0.18175875]\n",
      "Не получилось отвергнуть нулевую гипотезу, нет оснований считать доли разными\n"
     ]
    }
   ],
   "source": [
    "z_test(\n",
    "    visitors246.nunique()+ visitors247.nunique(),\n",
    "    piv.query('event == \"CartScreenAppear\"')[247] + piv.query('event == \"CartScreenAppear\"')[246] ,\n",
    "    visitors248.nunique(),\n",
    "    piv.query('event == \"CartScreenAppear\"')[248],\n",
    "    0.00625,\n",
    ")"
   ]
  },
  {
   "cell_type": "markdown",
   "metadata": {},
   "source": [
    "- по событию PaymentScreenSuccessful:"
   ]
  },
  {
   "cell_type": "code",
   "execution_count": 53,
   "metadata": {},
   "outputs": [
    {
     "name": "stdout",
     "output_type": "stream",
     "text": [
      "p-значение:  [0.60042943]\n",
      "Не получилось отвергнуть нулевую гипотезу, нет оснований считать доли разными\n"
     ]
    }
   ],
   "source": [
    "z_test(\n",
    "    visitors246.nunique()+ visitors247.nunique(),\n",
    "    piv.query('event == \"PaymentScreenSuccessful\"')[247] + piv.query('event == \"PaymentScreenSuccessful\"')[246] ,\n",
    "    visitors248.nunique(),\n",
    "    piv.query('event == \"PaymentScreenSuccessful\"')[248],\n",
    "    0.00625,\n",
    ")"
   ]
  },
  {
   "cell_type": "markdown",
   "metadata": {},
   "source": [
    "Не получилось отвергнуть нулевую гипотезу ни по одному событию."
   ]
  },
  {
   "cell_type": "markdown",
   "metadata": {},
   "source": [
    "Итак, нами было выполнено 16 проверок. <br>\n",
    "Изначально в проверках уровень значимости установлен на уровне - 0.1. Мы знаем, что, чем меньше уровень значимости, тем меньше риск ошибочно отвергнуть нулевую гипотезу. Так, при уровне значимости 0.1 каждый десятый раз можно получать ложный результат. <br>\n",
    "Результаты при уровне значимости 0.1: в 15 из 16 экспериментов не получилось отвергнуть нулевую гипотезу.\n",
    "<br>\n",
    "\n",
    "При выборе уровня значимости необходимо исходить, из того, что в случае увеличения количества групп в тесте растёт и вероятность ошибки первого рода. В нашем случае при наличии 3 групп: 1 - (1 - 0.1)^3 = 0.271 или 27.1%<br>\n",
    "Для устранения этого эффекта применим поправку Бонферрони, деля уровень значимости 0.1 на количество проведённых экспериментов (в нашем случае на 16): 0.1/16 = 0,00625. <br>\n",
    "После проведения новых расчетов получены результаты: не получилось отвергнуть нулевую гипотезу ни в одном из 16 экспериментов.<br>\n",
    "Кроме того, необходимо отметить, что полученные в ходе проведения тестов значения p-values слишком высоки, чтобы отклонить хоть одну нулевую гипотезу даже при скорректированном уровне значимости."
   ]
  },
  {
   "cell_type": "markdown",
   "metadata": {},
   "source": [
    "## Вывод\n",
    "\n",
    "Мы изучили представленные данные, очистили их от дубликатов, проверили на наличие пропусков. Подготовили данные к работе.\n",
    "\n",
    "Сформулировали, как выглядит воронка: Главный экран - Предложение - Корзина - Успешная оплат. Чаще всего пользователи просматривают главный экран. Реже всего просматривается экран с обучением (при проведении экспериментов данный этап не учитывался). Конверсия в воронке выглядит так: 100% - 62% - 81% - 95%. При это до покупки доходят 47% от общего числа посльзователей.\n",
    "\n",
    "Нами так же были изучены результаты эксперимента и проведены тесты на наличие статистически значимых отличий между группами. По результатам A/A/B-эксперимента можно сделать вывод, что изменение шрифта не влияет на поведение пользователей, так как при уровне значимости 0.1 (*с учетом поправки Бонфероррони: 0.00625*) отвергнуть гипотезу о том, что в группах есть существенные различия, не получилось практически по всех тестах. "
   ]
  }
 ],
 "metadata": {
  "ExecuteTimeLog": [
   {
    "duration": 1351,
    "start_time": "2023-06-09T01:10:17.371Z"
   },
   {
    "duration": 1184,
    "start_time": "2023-06-09T01:10:50.914Z"
   },
   {
    "duration": 11,
    "start_time": "2023-06-09T01:11:04.745Z"
   },
   {
    "duration": 137,
    "start_time": "2023-06-09T01:12:10.390Z"
   },
   {
    "duration": 117,
    "start_time": "2023-06-09T01:12:49.045Z"
   },
   {
    "duration": 100,
    "start_time": "2023-06-09T01:14:20.360Z"
   },
   {
    "duration": 1207,
    "start_time": "2023-06-09T01:15:55.612Z"
   },
   {
    "duration": 117,
    "start_time": "2023-06-09T01:15:57.066Z"
   },
   {
    "duration": 101,
    "start_time": "2023-06-09T01:17:12.006Z"
   },
   {
    "duration": 161,
    "start_time": "2023-06-09T01:17:42.212Z"
   },
   {
    "duration": 353,
    "start_time": "2023-06-09T01:18:09.860Z"
   },
   {
    "duration": 13,
    "start_time": "2023-06-09T01:18:11.198Z"
   },
   {
    "duration": 117,
    "start_time": "2023-06-09T01:18:44.360Z"
   },
   {
    "duration": 102,
    "start_time": "2023-06-09T01:19:49.007Z"
   },
   {
    "duration": 152,
    "start_time": "2023-06-09T01:20:12.316Z"
   },
   {
    "duration": 660,
    "start_time": "2023-06-09T01:21:06.707Z"
   },
   {
    "duration": 301,
    "start_time": "2023-06-09T01:21:41.211Z"
   },
   {
    "duration": 7,
    "start_time": "2023-06-09T01:21:42.565Z"
   },
   {
    "duration": 710,
    "start_time": "2023-06-09T01:22:35.395Z"
   },
   {
    "duration": 8,
    "start_time": "2023-06-09T01:22:44.858Z"
   },
   {
    "duration": 104,
    "start_time": "2023-06-09T01:22:53.973Z"
   },
   {
    "duration": 301,
    "start_time": "2023-06-09T01:23:30.184Z"
   },
   {
    "duration": 7,
    "start_time": "2023-06-09T01:23:33.060Z"
   },
   {
    "duration": 160,
    "start_time": "2023-06-09T01:26:12.853Z"
   },
   {
    "duration": 8,
    "start_time": "2023-06-09T01:26:13.634Z"
   },
   {
    "duration": 8,
    "start_time": "2023-06-09T01:26:22.896Z"
   },
   {
    "duration": 30,
    "start_time": "2023-06-09T01:26:25.620Z"
   },
   {
    "duration": 51,
    "start_time": "2023-06-09T01:28:12.186Z"
   },
   {
    "duration": 62,
    "start_time": "2023-06-09T01:29:13.105Z"
   },
   {
    "duration": 87,
    "start_time": "2023-06-09T01:29:17.004Z"
   },
   {
    "duration": 17,
    "start_time": "2023-06-09T01:29:45.272Z"
   },
   {
    "duration": 3,
    "start_time": "2023-06-09T01:34:10.234Z"
   },
   {
    "duration": 85,
    "start_time": "2023-06-09T01:34:11.847Z"
   },
   {
    "duration": 16,
    "start_time": "2023-06-09T01:34:14.003Z"
   },
   {
    "duration": 62,
    "start_time": "2023-06-09T01:34:15.715Z"
   },
   {
    "duration": 114,
    "start_time": "2023-06-09T01:36:50.115Z"
   },
   {
    "duration": 19,
    "start_time": "2023-06-09T01:40:01.304Z"
   },
   {
    "duration": 6,
    "start_time": "2023-06-09T01:40:11.156Z"
   },
   {
    "duration": 11,
    "start_time": "2023-06-09T01:40:20.021Z"
   },
   {
    "duration": 185,
    "start_time": "2023-06-09T01:42:03.468Z"
   },
   {
    "duration": 9,
    "start_time": "2023-06-09T01:42:03.712Z"
   },
   {
    "duration": 28,
    "start_time": "2023-06-09T01:42:03.928Z"
   },
   {
    "duration": 3,
    "start_time": "2023-06-09T01:42:05.963Z"
   },
   {
    "duration": 57,
    "start_time": "2023-06-09T01:42:07.097Z"
   },
   {
    "duration": 16,
    "start_time": "2023-06-09T01:42:09.247Z"
   },
   {
    "duration": 66,
    "start_time": "2023-06-09T01:42:09.498Z"
   },
   {
    "duration": 122,
    "start_time": "2023-06-09T01:42:23.219Z"
   },
   {
    "duration": 480,
    "start_time": "2023-06-09T01:42:34.688Z"
   },
   {
    "duration": 3,
    "start_time": "2023-06-09T01:47:36.779Z"
   },
   {
    "duration": 54,
    "start_time": "2023-06-09T01:47:38.158Z"
   },
   {
    "duration": 31,
    "start_time": "2023-06-09T01:47:38.412Z"
   },
   {
    "duration": 67,
    "start_time": "2023-06-09T01:47:41.092Z"
   },
   {
    "duration": 14,
    "start_time": "2023-06-09T01:48:48.349Z"
   },
   {
    "duration": 18,
    "start_time": "2023-06-09T02:00:54.349Z"
   },
   {
    "duration": 12,
    "start_time": "2023-06-09T02:00:54.965Z"
   },
   {
    "duration": 9,
    "start_time": "2023-06-09T02:03:59.358Z"
   },
   {
    "duration": 12,
    "start_time": "2023-06-09T02:03:59.626Z"
   },
   {
    "duration": 15,
    "start_time": "2023-06-09T02:05:24.148Z"
   },
   {
    "duration": 15,
    "start_time": "2023-06-09T02:05:25.051Z"
   },
   {
    "duration": 25,
    "start_time": "2023-06-09T02:06:16.758Z"
   },
   {
    "duration": 11,
    "start_time": "2023-06-09T02:06:17.522Z"
   },
   {
    "duration": 13,
    "start_time": "2023-06-09T02:09:44.140Z"
   },
   {
    "duration": 9,
    "start_time": "2023-06-09T02:09:44.552Z"
   },
   {
    "duration": 12,
    "start_time": "2023-06-09T02:12:04.952Z"
   },
   {
    "duration": 11,
    "start_time": "2023-06-09T02:12:12.103Z"
   },
   {
    "duration": 1661,
    "start_time": "2023-06-09T02:13:41.514Z"
   },
   {
    "duration": 0,
    "start_time": "2023-06-09T02:13:43.176Z"
   },
   {
    "duration": 115,
    "start_time": "2023-06-09T02:14:20.277Z"
   },
   {
    "duration": 12,
    "start_time": "2023-06-09T02:14:21.985Z"
   },
   {
    "duration": 56,
    "start_time": "2023-06-09T02:21:08.320Z"
   },
   {
    "duration": 52,
    "start_time": "2023-06-09T02:22:08.315Z"
   },
   {
    "duration": 52,
    "start_time": "2023-06-09T02:22:17.606Z"
   },
   {
    "duration": 217,
    "start_time": "2023-06-09T02:24:44.287Z"
   },
   {
    "duration": 11,
    "start_time": "2023-06-09T02:25:10.795Z"
   },
   {
    "duration": 207,
    "start_time": "2023-06-09T02:25:15.583Z"
   },
   {
    "duration": 168,
    "start_time": "2023-06-09T02:25:38.192Z"
   },
   {
    "duration": 217,
    "start_time": "2023-06-09T02:26:32.074Z"
   },
   {
    "duration": 196,
    "start_time": "2023-06-09T02:27:00.888Z"
   },
   {
    "duration": 192,
    "start_time": "2023-06-09T02:27:41.981Z"
   },
   {
    "duration": 46,
    "start_time": "2023-06-09T02:28:18.308Z"
   },
   {
    "duration": 11,
    "start_time": "2023-06-09T02:28:58.154Z"
   },
   {
    "duration": 21,
    "start_time": "2023-06-09T02:29:02.052Z"
   },
   {
    "duration": 15,
    "start_time": "2023-06-09T02:30:01.360Z"
   },
   {
    "duration": 8,
    "start_time": "2023-06-09T02:30:22.255Z"
   },
   {
    "duration": 14,
    "start_time": "2023-06-09T02:30:30.090Z"
   },
   {
    "duration": 7,
    "start_time": "2023-06-09T02:30:38.275Z"
   },
   {
    "duration": 29,
    "start_time": "2023-06-09T02:31:49.743Z"
   },
   {
    "duration": 17,
    "start_time": "2023-06-09T02:32:02.610Z"
   },
   {
    "duration": 23,
    "start_time": "2023-06-09T02:32:21.613Z"
   },
   {
    "duration": 22,
    "start_time": "2023-06-09T02:33:00.786Z"
   },
   {
    "duration": 20,
    "start_time": "2023-06-09T02:36:13.575Z"
   },
   {
    "duration": 23,
    "start_time": "2023-06-09T02:36:22.555Z"
   },
   {
    "duration": 60,
    "start_time": "2023-06-09T02:36:30.720Z"
   },
   {
    "duration": 25,
    "start_time": "2023-06-09T02:36:35.803Z"
   },
   {
    "duration": 21,
    "start_time": "2023-06-09T02:36:38.859Z"
   },
   {
    "duration": 36,
    "start_time": "2023-06-09T02:37:18.026Z"
   },
   {
    "duration": 39,
    "start_time": "2023-06-09T02:37:18.900Z"
   },
   {
    "duration": 375,
    "start_time": "2023-06-09T02:38:10.496Z"
   },
   {
    "duration": 311,
    "start_time": "2023-06-09T02:38:17.998Z"
   },
   {
    "duration": 297,
    "start_time": "2023-06-09T02:38:57.888Z"
   },
   {
    "duration": 329,
    "start_time": "2023-06-09T02:39:13.019Z"
   },
   {
    "duration": 327,
    "start_time": "2023-06-09T02:39:49.033Z"
   },
   {
    "duration": 283,
    "start_time": "2023-06-09T02:40:13.499Z"
   },
   {
    "duration": 334,
    "start_time": "2023-06-09T02:41:53.853Z"
   },
   {
    "duration": 301,
    "start_time": "2023-06-09T02:42:02.880Z"
   },
   {
    "duration": 270,
    "start_time": "2023-06-09T02:42:15.538Z"
   },
   {
    "duration": 32,
    "start_time": "2023-06-09T02:42:43.852Z"
   },
   {
    "duration": 306,
    "start_time": "2023-06-09T02:42:49.482Z"
   },
   {
    "duration": 561,
    "start_time": "2023-06-09T02:43:09.799Z"
   },
   {
    "duration": 396,
    "start_time": "2023-06-09T02:45:24.787Z"
   },
   {
    "duration": 276,
    "start_time": "2023-06-09T02:45:37.710Z"
   },
   {
    "duration": 282,
    "start_time": "2023-06-09T02:45:44.838Z"
   },
   {
    "duration": 280,
    "start_time": "2023-06-09T02:46:33.459Z"
   },
   {
    "duration": 286,
    "start_time": "2023-06-09T02:46:38.491Z"
   },
   {
    "duration": 535,
    "start_time": "2023-06-09T02:49:53.553Z"
   },
   {
    "duration": 4,
    "start_time": "2023-06-09T02:50:05.893Z"
   },
   {
    "duration": 688,
    "start_time": "2023-06-09T02:50:35.211Z"
   },
   {
    "duration": 32,
    "start_time": "2023-06-09T02:50:45.856Z"
   },
   {
    "duration": 158,
    "start_time": "2023-06-09T02:51:08.214Z"
   },
   {
    "duration": 38,
    "start_time": "2023-06-09T02:53:08.370Z"
   },
   {
    "duration": 7,
    "start_time": "2023-06-09T02:54:03.912Z"
   },
   {
    "duration": 14,
    "start_time": "2023-06-09T02:54:05.962Z"
   },
   {
    "duration": 164,
    "start_time": "2023-06-09T02:55:20.196Z"
   },
   {
    "duration": 40,
    "start_time": "2023-06-09T02:55:58.224Z"
   },
   {
    "duration": 45,
    "start_time": "2023-06-09T02:56:02.811Z"
   },
   {
    "duration": 1305,
    "start_time": "2023-06-09T06:52:41.185Z"
   },
   {
    "duration": 489,
    "start_time": "2023-06-09T06:52:42.492Z"
   },
   {
    "duration": 10,
    "start_time": "2023-06-09T06:52:42.983Z"
   },
   {
    "duration": 19,
    "start_time": "2023-06-09T06:52:42.995Z"
   },
   {
    "duration": 3,
    "start_time": "2023-06-09T06:52:45.863Z"
   },
   {
    "duration": 165,
    "start_time": "2023-06-09T06:52:49.492Z"
   },
   {
    "duration": 7,
    "start_time": "2023-06-09T06:52:50.191Z"
   },
   {
    "duration": 18,
    "start_time": "2023-06-09T06:52:50.983Z"
   },
   {
    "duration": 3,
    "start_time": "2023-06-09T06:52:55.574Z"
   },
   {
    "duration": 65,
    "start_time": "2023-06-09T06:52:56.677Z"
   },
   {
    "duration": 14,
    "start_time": "2023-06-09T06:52:56.876Z"
   },
   {
    "duration": 73,
    "start_time": "2023-06-09T06:53:00.644Z"
   },
   {
    "duration": 81,
    "start_time": "2023-06-09T06:53:40.678Z"
   },
   {
    "duration": 7,
    "start_time": "2023-06-09T06:54:38.053Z"
   },
   {
    "duration": 55,
    "start_time": "2023-06-09T06:54:41.371Z"
   },
   {
    "duration": 9,
    "start_time": "2023-06-09T06:54:41.978Z"
   },
   {
    "duration": 12,
    "start_time": "2023-06-09T06:55:00.468Z"
   },
   {
    "duration": 153,
    "start_time": "2023-06-09T06:55:31.479Z"
   },
   {
    "duration": 6,
    "start_time": "2023-06-09T06:58:08.086Z"
   },
   {
    "duration": 15,
    "start_time": "2023-06-09T06:58:33.213Z"
   },
   {
    "duration": 17,
    "start_time": "2023-06-09T06:59:02.948Z"
   },
   {
    "duration": 15,
    "start_time": "2023-06-09T06:59:03.238Z"
   },
   {
    "duration": 291,
    "start_time": "2023-06-09T07:01:01.958Z"
   },
   {
    "duration": 1833,
    "start_time": "2023-06-09T07:01:09.435Z"
   },
   {
    "duration": 183,
    "start_time": "2023-06-09T07:01:13.509Z"
   },
   {
    "duration": 33,
    "start_time": "2023-06-09T07:03:11.975Z"
   },
   {
    "duration": 12,
    "start_time": "2023-06-09T07:04:01.462Z"
   },
   {
    "duration": 7,
    "start_time": "2023-06-09T07:04:02.132Z"
   },
   {
    "duration": 26,
    "start_time": "2023-06-09T07:04:51.372Z"
   },
   {
    "duration": 152,
    "start_time": "2023-06-09T07:14:28.944Z"
   },
   {
    "duration": 160,
    "start_time": "2023-06-09T07:21:58.153Z"
   },
   {
    "duration": 140,
    "start_time": "2023-06-09T07:25:20.830Z"
   },
   {
    "duration": 9,
    "start_time": "2023-06-09T07:28:44.561Z"
   },
   {
    "duration": 106,
    "start_time": "2023-06-09T07:28:54.541Z"
   },
   {
    "duration": 19,
    "start_time": "2023-06-09T07:29:10.324Z"
   },
   {
    "duration": 188,
    "start_time": "2023-06-09T07:29:30.146Z"
   },
   {
    "duration": 189,
    "start_time": "2023-06-09T07:30:04.543Z"
   },
   {
    "duration": 191,
    "start_time": "2023-06-09T07:30:47.750Z"
   },
   {
    "duration": 191,
    "start_time": "2023-06-09T07:30:59.557Z"
   },
   {
    "duration": 193,
    "start_time": "2023-06-09T07:31:03.806Z"
   },
   {
    "duration": 57,
    "start_time": "2023-06-09T07:33:33.333Z"
   },
   {
    "duration": 192,
    "start_time": "2023-06-09T07:33:39.850Z"
   },
   {
    "duration": 54,
    "start_time": "2023-06-09T07:34:46.195Z"
   },
   {
    "duration": 254,
    "start_time": "2023-06-09T07:34:53.895Z"
   },
   {
    "duration": 189,
    "start_time": "2023-06-09T07:35:00.424Z"
   },
   {
    "duration": 185,
    "start_time": "2023-06-09T07:35:34.011Z"
   },
   {
    "duration": 69,
    "start_time": "2023-06-09T07:45:48.399Z"
   },
   {
    "duration": 148,
    "start_time": "2023-06-09T07:47:03.421Z"
   },
   {
    "duration": 116,
    "start_time": "2023-06-09T07:47:37.691Z"
   },
   {
    "duration": 85,
    "start_time": "2023-06-09T07:49:26.570Z"
   },
   {
    "duration": 590,
    "start_time": "2023-06-09T07:50:04.215Z"
   },
   {
    "duration": 69,
    "start_time": "2023-06-09T07:51:41.906Z"
   },
   {
    "duration": 140,
    "start_time": "2023-06-09T07:51:49.786Z"
   },
   {
    "duration": 352,
    "start_time": "2023-06-09T07:55:04.223Z"
   },
   {
    "duration": 12,
    "start_time": "2023-06-09T07:55:09.725Z"
   },
   {
    "duration": 116,
    "start_time": "2023-06-09T07:55:20.222Z"
   },
   {
    "duration": 118,
    "start_time": "2023-06-09T07:55:51.932Z"
   },
   {
    "duration": 127,
    "start_time": "2023-06-09T07:56:47.115Z"
   },
   {
    "duration": 122,
    "start_time": "2023-06-09T08:00:00.595Z"
   },
   {
    "duration": 1451,
    "start_time": "2023-06-09T13:14:42.470Z"
   },
   {
    "duration": 784,
    "start_time": "2023-06-09T13:14:43.924Z"
   },
   {
    "duration": 13,
    "start_time": "2023-06-09T13:14:44.709Z"
   },
   {
    "duration": 47,
    "start_time": "2023-06-09T13:14:44.724Z"
   },
   {
    "duration": 14,
    "start_time": "2023-06-09T13:14:44.774Z"
   },
   {
    "duration": 84,
    "start_time": "2023-06-09T13:14:44.790Z"
   },
   {
    "duration": 17,
    "start_time": "2023-06-09T13:14:44.876Z"
   },
   {
    "duration": 86,
    "start_time": "2023-06-09T13:14:44.895Z"
   },
   {
    "duration": 8,
    "start_time": "2023-06-09T13:14:44.983Z"
   },
   {
    "duration": 100,
    "start_time": "2023-06-09T13:14:44.993Z"
   },
   {
    "duration": 11,
    "start_time": "2023-06-09T13:14:45.094Z"
   },
   {
    "duration": 35,
    "start_time": "2023-06-09T13:14:45.107Z"
   },
   {
    "duration": 29,
    "start_time": "2023-06-09T13:14:45.143Z"
   },
   {
    "duration": 42,
    "start_time": "2023-06-09T13:14:45.174Z"
   },
   {
    "duration": 36,
    "start_time": "2023-06-09T13:14:45.218Z"
   },
   {
    "duration": 47,
    "start_time": "2023-06-09T13:14:45.256Z"
   },
   {
    "duration": 350,
    "start_time": "2023-06-09T13:14:45.304Z"
   },
   {
    "duration": 46,
    "start_time": "2023-06-09T13:14:45.656Z"
   },
   {
    "duration": 13,
    "start_time": "2023-06-09T13:14:45.704Z"
   },
   {
    "duration": 38,
    "start_time": "2023-06-09T13:14:45.718Z"
   },
   {
    "duration": 196,
    "start_time": "2023-06-09T13:14:45.758Z"
   },
   {
    "duration": 166,
    "start_time": "2023-06-09T13:14:45.955Z"
   },
   {
    "duration": 226,
    "start_time": "2023-06-09T13:14:46.122Z"
   },
   {
    "duration": 66,
    "start_time": "2023-06-09T13:14:46.353Z"
   },
   {
    "duration": 167,
    "start_time": "2023-06-09T13:14:46.421Z"
   },
   {
    "duration": 104,
    "start_time": "2023-06-09T13:22:26.539Z"
   },
   {
    "duration": 20,
    "start_time": "2023-06-09T13:22:42.345Z"
   },
   {
    "duration": 15,
    "start_time": "2023-06-09T13:24:38.483Z"
   },
   {
    "duration": 16,
    "start_time": "2023-06-09T13:26:04.585Z"
   },
   {
    "duration": 3491,
    "start_time": "2023-06-13T00:17:38.326Z"
   },
   {
    "duration": 679,
    "start_time": "2023-06-13T00:17:41.819Z"
   },
   {
    "duration": 13,
    "start_time": "2023-06-13T00:17:42.501Z"
   },
   {
    "duration": 25,
    "start_time": "2023-06-13T00:17:42.517Z"
   },
   {
    "duration": 3,
    "start_time": "2023-06-13T00:17:42.544Z"
   },
   {
    "duration": 86,
    "start_time": "2023-06-13T00:17:42.549Z"
   },
   {
    "duration": 23,
    "start_time": "2023-06-13T00:17:42.642Z"
   },
   {
    "duration": 112,
    "start_time": "2023-06-13T00:17:42.667Z"
   },
   {
    "duration": 10,
    "start_time": "2023-06-13T00:17:42.781Z"
   },
   {
    "duration": 118,
    "start_time": "2023-06-13T00:17:42.794Z"
   },
   {
    "duration": 24,
    "start_time": "2023-06-13T00:17:42.914Z"
   },
   {
    "duration": 20,
    "start_time": "2023-06-13T00:17:42.940Z"
   },
   {
    "duration": 24,
    "start_time": "2023-06-13T00:17:42.962Z"
   },
   {
    "duration": 20,
    "start_time": "2023-06-13T00:17:43.094Z"
   },
   {
    "duration": 24,
    "start_time": "2023-06-13T00:17:43.702Z"
   },
   {
    "duration": 20,
    "start_time": "2023-06-13T00:17:43.909Z"
   },
   {
    "duration": 347,
    "start_time": "2023-06-13T00:17:44.326Z"
   },
   {
    "duration": 42,
    "start_time": "2023-06-13T00:17:44.710Z"
   },
   {
    "duration": 14,
    "start_time": "2023-06-13T00:17:45.246Z"
   },
   {
    "duration": 12,
    "start_time": "2023-06-13T00:17:45.470Z"
   },
   {
    "duration": 181,
    "start_time": "2023-06-13T00:17:45.878Z"
   },
   {
    "duration": 178,
    "start_time": "2023-06-13T00:17:46.486Z"
   },
   {
    "duration": 261,
    "start_time": "2023-06-13T00:17:46.932Z"
   },
   {
    "duration": 77,
    "start_time": "2023-06-13T00:17:47.334Z"
   },
   {
    "duration": 160,
    "start_time": "2023-06-13T00:17:47.526Z"
   },
   {
    "duration": 4,
    "start_time": "2023-06-13T00:17:48.438Z"
   },
   {
    "duration": 20,
    "start_time": "2023-06-13T00:17:48.652Z"
   },
   {
    "duration": 584,
    "start_time": "2023-06-13T00:24:53.704Z"
   },
   {
    "duration": 141,
    "start_time": "2023-06-13T00:25:31.399Z"
   },
   {
    "duration": 140,
    "start_time": "2023-06-13T00:25:41.405Z"
   },
   {
    "duration": 49,
    "start_time": "2023-06-13T00:30:51.422Z"
   },
   {
    "duration": 56,
    "start_time": "2023-06-13T00:31:14.118Z"
   },
   {
    "duration": 67,
    "start_time": "2023-06-13T00:52:56.894Z"
   },
   {
    "duration": 63,
    "start_time": "2023-06-13T00:54:52.029Z"
   },
   {
    "duration": 91,
    "start_time": "2023-06-13T01:00:52.771Z"
   },
   {
    "duration": 55,
    "start_time": "2023-06-13T01:01:13.768Z"
   },
   {
    "duration": 8,
    "start_time": "2023-06-13T01:04:37.098Z"
   },
   {
    "duration": 143,
    "start_time": "2023-06-13T01:04:49.393Z"
   },
   {
    "duration": 206,
    "start_time": "2023-06-13T01:04:57.132Z"
   },
   {
    "duration": 14,
    "start_time": "2023-06-13T01:05:05.678Z"
   },
   {
    "duration": 176,
    "start_time": "2023-06-13T01:05:30.417Z"
   },
   {
    "duration": 7,
    "start_time": "2023-06-13T01:05:37.200Z"
   },
   {
    "duration": 14,
    "start_time": "2023-06-13T01:05:48.560Z"
   },
   {
    "duration": 138,
    "start_time": "2023-06-13T01:06:15.684Z"
   },
   {
    "duration": 18,
    "start_time": "2023-06-13T01:06:24.120Z"
   },
   {
    "duration": 4,
    "start_time": "2023-06-13T01:10:05.036Z"
   },
   {
    "duration": 4,
    "start_time": "2023-06-13T01:10:18.712Z"
   },
   {
    "duration": 8,
    "start_time": "2023-06-13T01:10:53.666Z"
   },
   {
    "duration": 13,
    "start_time": "2023-06-13T01:11:10.354Z"
   },
   {
    "duration": 36,
    "start_time": "2023-06-13T01:11:18.166Z"
   },
   {
    "duration": 6,
    "start_time": "2023-06-13T01:11:27.799Z"
   },
   {
    "duration": 13,
    "start_time": "2023-06-13T01:12:10.776Z"
   },
   {
    "duration": 11,
    "start_time": "2023-06-13T01:13:49.850Z"
   },
   {
    "duration": 110,
    "start_time": "2023-06-13T01:14:43.594Z"
   },
   {
    "duration": 1206,
    "start_time": "2023-06-13T01:18:48.391Z"
   },
   {
    "duration": 34,
    "start_time": "2023-06-13T01:18:59.447Z"
   },
   {
    "duration": 4,
    "start_time": "2023-06-13T01:19:32.521Z"
   },
   {
    "duration": 29,
    "start_time": "2023-06-13T01:19:36.100Z"
   },
   {
    "duration": 11,
    "start_time": "2023-06-13T01:19:38.382Z"
   },
   {
    "duration": 32,
    "start_time": "2023-06-13T01:19:39.269Z"
   },
   {
    "duration": 5,
    "start_time": "2023-06-13T01:19:56.922Z"
   },
   {
    "duration": 11,
    "start_time": "2023-06-13T01:20:01.640Z"
   },
   {
    "duration": 26,
    "start_time": "2023-06-13T01:20:02.137Z"
   },
   {
    "duration": 127,
    "start_time": "2023-06-13T01:22:24.764Z"
   },
   {
    "duration": 23,
    "start_time": "2023-06-13T01:24:50.043Z"
   },
   {
    "duration": 19,
    "start_time": "2023-06-13T01:24:51.081Z"
   },
   {
    "duration": 19,
    "start_time": "2023-06-13T01:24:52.007Z"
   },
   {
    "duration": 127,
    "start_time": "2023-06-13T01:57:40.649Z"
   },
   {
    "duration": 19,
    "start_time": "2023-06-13T01:58:15.474Z"
   },
   {
    "duration": 26,
    "start_time": "2023-06-13T01:58:58.673Z"
   },
   {
    "duration": 20,
    "start_time": "2023-06-13T01:59:36.368Z"
   },
   {
    "duration": 20,
    "start_time": "2023-06-13T01:59:44.416Z"
   },
   {
    "duration": 18,
    "start_time": "2023-06-13T02:06:16.986Z"
   },
   {
    "duration": 20,
    "start_time": "2023-06-13T02:06:22.761Z"
   },
   {
    "duration": 16,
    "start_time": "2023-06-13T02:10:16.223Z"
   },
   {
    "duration": 24,
    "start_time": "2023-06-13T02:10:20.439Z"
   },
   {
    "duration": 14,
    "start_time": "2023-06-13T02:10:20.768Z"
   },
   {
    "duration": 13,
    "start_time": "2023-06-13T02:10:21.112Z"
   },
   {
    "duration": 18,
    "start_time": "2023-06-13T02:10:21.483Z"
   },
   {
    "duration": 9,
    "start_time": "2023-06-13T02:21:12.222Z"
   },
   {
    "duration": 13,
    "start_time": "2023-06-13T02:21:35.889Z"
   },
   {
    "duration": 22,
    "start_time": "2023-06-13T02:21:45.912Z"
   },
   {
    "duration": 10,
    "start_time": "2023-06-13T02:25:05.443Z"
   },
   {
    "duration": 19,
    "start_time": "2023-06-13T03:22:53.438Z"
   },
   {
    "duration": 17,
    "start_time": "2023-06-13T03:23:16.920Z"
   },
   {
    "duration": 21,
    "start_time": "2023-06-13T03:23:28.112Z"
   },
   {
    "duration": 24,
    "start_time": "2023-06-13T03:28:04.991Z"
   },
   {
    "duration": 22,
    "start_time": "2023-06-13T03:28:13.883Z"
   },
   {
    "duration": 19,
    "start_time": "2023-06-13T03:28:40.407Z"
   },
   {
    "duration": 17,
    "start_time": "2023-06-13T03:34:42.910Z"
   },
   {
    "duration": 20,
    "start_time": "2023-06-13T03:34:46.501Z"
   },
   {
    "duration": 16,
    "start_time": "2023-06-13T03:34:49.630Z"
   },
   {
    "duration": 20,
    "start_time": "2023-06-13T03:34:52.752Z"
   },
   {
    "duration": 20,
    "start_time": "2023-06-13T03:35:00.168Z"
   },
   {
    "duration": 17,
    "start_time": "2023-06-13T03:35:04.512Z"
   },
   {
    "duration": 19,
    "start_time": "2023-06-13T03:35:07.797Z"
   },
   {
    "duration": 22,
    "start_time": "2023-06-13T03:35:16.209Z"
   },
   {
    "duration": 14,
    "start_time": "2023-06-13T03:35:26.400Z"
   },
   {
    "duration": 20,
    "start_time": "2023-06-13T03:35:31.944Z"
   },
   {
    "duration": 21,
    "start_time": "2023-06-13T03:35:35.152Z"
   },
   {
    "duration": 14,
    "start_time": "2023-06-13T03:35:38.180Z"
   },
   {
    "duration": 17,
    "start_time": "2023-06-13T03:35:44.586Z"
   },
   {
    "duration": 18,
    "start_time": "2023-06-13T03:35:47.458Z"
   },
   {
    "duration": 14,
    "start_time": "2023-06-13T03:35:50.279Z"
   },
   {
    "duration": 18,
    "start_time": "2023-06-13T03:35:54.629Z"
   },
   {
    "duration": 17,
    "start_time": "2023-06-13T03:35:58.200Z"
   },
   {
    "duration": 18,
    "start_time": "2023-06-13T03:36:00.794Z"
   },
   {
    "duration": 15,
    "start_time": "2023-06-13T03:36:05.182Z"
   },
   {
    "duration": 21,
    "start_time": "2023-06-13T03:36:22.038Z"
   },
   {
    "duration": 17,
    "start_time": "2023-06-13T03:36:29.969Z"
   },
   {
    "duration": 19,
    "start_time": "2023-06-13T03:36:33.880Z"
   },
   {
    "duration": 14,
    "start_time": "2023-06-13T03:36:36.586Z"
   },
   {
    "duration": 23,
    "start_time": "2023-06-13T03:36:41.728Z"
   },
   {
    "duration": 19,
    "start_time": "2023-06-13T03:36:45.000Z"
   },
   {
    "duration": 1304,
    "start_time": "2023-06-14T05:18:52.509Z"
   },
   {
    "duration": 175,
    "start_time": "2023-06-14T05:18:53.816Z"
   },
   {
    "duration": 12,
    "start_time": "2023-06-14T05:18:53.993Z"
   },
   {
    "duration": 40,
    "start_time": "2023-06-14T05:18:54.007Z"
   },
   {
    "duration": 3,
    "start_time": "2023-06-14T05:18:54.049Z"
   },
   {
    "duration": 85,
    "start_time": "2023-06-14T05:18:54.054Z"
   },
   {
    "duration": 23,
    "start_time": "2023-06-14T05:18:54.141Z"
   },
   {
    "duration": 100,
    "start_time": "2023-06-14T05:18:54.166Z"
   },
   {
    "duration": 10,
    "start_time": "2023-06-14T05:18:54.268Z"
   },
   {
    "duration": 103,
    "start_time": "2023-06-14T05:18:54.281Z"
   },
   {
    "duration": 20,
    "start_time": "2023-06-14T05:18:54.386Z"
   },
   {
    "duration": 40,
    "start_time": "2023-06-14T05:18:54.408Z"
   },
   {
    "duration": 16,
    "start_time": "2023-06-14T05:18:54.450Z"
   },
   {
    "duration": 39,
    "start_time": "2023-06-14T05:18:54.468Z"
   },
   {
    "duration": 20,
    "start_time": "2023-06-14T05:18:54.509Z"
   },
   {
    "duration": 26,
    "start_time": "2023-06-14T05:18:54.530Z"
   },
   {
    "duration": 333,
    "start_time": "2023-06-14T05:18:54.558Z"
   },
   {
    "duration": 39,
    "start_time": "2023-06-14T05:18:54.893Z"
   },
   {
    "duration": 22,
    "start_time": "2023-06-14T05:18:54.935Z"
   },
   {
    "duration": 26,
    "start_time": "2023-06-14T05:18:54.959Z"
   },
   {
    "duration": 185,
    "start_time": "2023-06-14T05:18:54.987Z"
   },
   {
    "duration": 1519,
    "start_time": "2023-06-14T10:19:45.792Z"
   },
   {
    "duration": 345,
    "start_time": "2023-06-14T10:19:50.584Z"
   },
   {
    "duration": 12,
    "start_time": "2023-06-14T10:19:55.770Z"
   },
   {
    "duration": 31,
    "start_time": "2023-06-14T10:19:59.136Z"
   },
   {
    "duration": 4,
    "start_time": "2023-06-14T10:20:01.970Z"
   },
   {
    "duration": 74,
    "start_time": "2023-06-14T10:20:03.624Z"
   },
   {
    "duration": 14,
    "start_time": "2023-06-14T10:20:03.967Z"
   },
   {
    "duration": 79,
    "start_time": "2023-06-14T10:20:04.571Z"
   },
   {
    "duration": 8,
    "start_time": "2023-06-14T10:20:05.393Z"
   },
   {
    "duration": 77,
    "start_time": "2023-06-14T10:20:05.586Z"
   },
   {
    "duration": 11,
    "start_time": "2023-06-14T10:20:06.014Z"
   },
   {
    "duration": 31,
    "start_time": "2023-06-14T10:20:07.336Z"
   },
   {
    "duration": 6,
    "start_time": "2023-06-14T10:20:10.625Z"
   },
   {
    "duration": 14,
    "start_time": "2023-06-14T10:20:11.825Z"
   },
   {
    "duration": 15,
    "start_time": "2023-06-14T10:20:18.810Z"
   },
   {
    "duration": 39,
    "start_time": "2023-06-14T10:22:18.288Z"
   },
   {
    "duration": 199,
    "start_time": "2023-06-14T10:22:40.124Z"
   },
   {
    "duration": 2971,
    "start_time": "2023-06-14T10:27:11.960Z"
   },
   {
    "duration": 0,
    "start_time": "2023-06-14T10:27:14.934Z"
   },
   {
    "duration": 0,
    "start_time": "2023-06-14T10:27:14.936Z"
   },
   {
    "duration": 0,
    "start_time": "2023-06-14T10:27:14.937Z"
   },
   {
    "duration": 2500,
    "start_time": "2023-06-14T10:27:56.973Z"
   },
   {
    "duration": 9,
    "start_time": "2023-06-14T10:28:23.026Z"
   },
   {
    "duration": 8,
    "start_time": "2023-06-14T10:28:47.165Z"
   },
   {
    "duration": 2378,
    "start_time": "2023-06-14T10:28:49.425Z"
   },
   {
    "duration": 0,
    "start_time": "2023-06-14T10:28:51.806Z"
   },
   {
    "duration": 0,
    "start_time": "2023-06-14T10:28:51.807Z"
   },
   {
    "duration": 5,
    "start_time": "2023-06-14T10:29:01.875Z"
   },
   {
    "duration": 168,
    "start_time": "2023-06-14T10:29:03.405Z"
   },
   {
    "duration": 9,
    "start_time": "2023-06-14T10:29:04.314Z"
   },
   {
    "duration": 28,
    "start_time": "2023-06-14T10:29:04.494Z"
   },
   {
    "duration": 3,
    "start_time": "2023-06-14T10:29:05.005Z"
   },
   {
    "duration": 88,
    "start_time": "2023-06-14T10:29:06.085Z"
   },
   {
    "duration": 16,
    "start_time": "2023-06-14T10:29:06.277Z"
   },
   {
    "duration": 78,
    "start_time": "2023-06-14T10:29:06.885Z"
   },
   {
    "duration": 28,
    "start_time": "2023-06-14T10:29:08.556Z"
   },
   {
    "duration": 82,
    "start_time": "2023-06-14T10:29:10.317Z"
   },
   {
    "duration": 9,
    "start_time": "2023-06-14T10:29:11.312Z"
   },
   {
    "duration": 18,
    "start_time": "2023-06-14T10:29:13.063Z"
   },
   {
    "duration": 6,
    "start_time": "2023-06-14T10:29:15.084Z"
   },
   {
    "duration": 27,
    "start_time": "2023-06-14T10:29:16.436Z"
   },
   {
    "duration": 26,
    "start_time": "2023-06-14T10:29:17.084Z"
   },
   {
    "duration": 14,
    "start_time": "2023-06-14T10:29:19.861Z"
   },
   {
    "duration": 21,
    "start_time": "2023-06-14T10:29:20.857Z"
   },
   {
    "duration": 15,
    "start_time": "2023-06-14T10:29:21.880Z"
   },
   {
    "duration": 328,
    "start_time": "2023-06-14T10:29:23.835Z"
   },
   {
    "duration": 47,
    "start_time": "2023-06-14T10:29:26.735Z"
   },
   {
    "duration": 20,
    "start_time": "2023-06-14T10:29:32.257Z"
   },
   {
    "duration": 8,
    "start_time": "2023-06-14T10:29:32.538Z"
   },
   {
    "duration": 27,
    "start_time": "2023-06-14T10:32:25.875Z"
   },
   {
    "duration": 34,
    "start_time": "2023-06-14T10:32:47.534Z"
   },
   {
    "duration": 29,
    "start_time": "2023-06-14T10:33:46.069Z"
   },
   {
    "duration": 47,
    "start_time": "2023-06-14T10:35:34.126Z"
   },
   {
    "duration": 25,
    "start_time": "2023-06-14T10:35:47.774Z"
   },
   {
    "duration": 12,
    "start_time": "2023-06-14T10:38:59.074Z"
   },
   {
    "duration": 11,
    "start_time": "2023-06-14T10:39:09.568Z"
   },
   {
    "duration": 14,
    "start_time": "2023-06-14T10:39:21.495Z"
   },
   {
    "duration": 12,
    "start_time": "2023-06-14T10:39:44.326Z"
   },
   {
    "duration": 13,
    "start_time": "2023-06-14T10:39:50.303Z"
   },
   {
    "duration": 25,
    "start_time": "2023-06-14T10:40:42.534Z"
   },
   {
    "duration": 12,
    "start_time": "2023-06-14T10:41:40.824Z"
   },
   {
    "duration": 14,
    "start_time": "2023-06-14T10:41:52.503Z"
   },
   {
    "duration": 11,
    "start_time": "2023-06-14T10:42:30.669Z"
   },
   {
    "duration": 19,
    "start_time": "2023-06-14T10:44:04.703Z"
   },
   {
    "duration": 32,
    "start_time": "2023-06-14T10:45:06.969Z"
   },
   {
    "duration": 43,
    "start_time": "2023-06-14T10:46:55.756Z"
   },
   {
    "duration": 23,
    "start_time": "2023-06-14T10:47:04.481Z"
   },
   {
    "duration": 50,
    "start_time": "2023-06-14T10:50:01.540Z"
   },
   {
    "duration": 41,
    "start_time": "2023-06-14T10:51:13.281Z"
   },
   {
    "duration": 41,
    "start_time": "2023-06-14T10:51:58.451Z"
   },
   {
    "duration": 241,
    "start_time": "2023-06-14T10:53:20.230Z"
   },
   {
    "duration": 230,
    "start_time": "2023-06-14T10:53:26.905Z"
   },
   {
    "duration": 374,
    "start_time": "2023-06-14T10:53:32.120Z"
   },
   {
    "duration": 113,
    "start_time": "2023-06-14T10:53:39.032Z"
   },
   {
    "duration": 185,
    "start_time": "2023-06-14T10:53:39.240Z"
   },
   {
    "duration": 4,
    "start_time": "2023-06-14T11:05:43.879Z"
   },
   {
    "duration": 27,
    "start_time": "2023-06-14T11:05:44.110Z"
   },
   {
    "duration": 70,
    "start_time": "2023-06-14T11:05:52.036Z"
   },
   {
    "duration": 46,
    "start_time": "2023-06-15T02:41:59.817Z"
   },
   {
    "duration": 1425,
    "start_time": "2023-06-15T02:42:09.240Z"
   },
   {
    "duration": 638,
    "start_time": "2023-06-15T02:42:10.667Z"
   },
   {
    "duration": 11,
    "start_time": "2023-06-15T02:42:11.306Z"
   },
   {
    "duration": 23,
    "start_time": "2023-06-15T02:42:11.319Z"
   },
   {
    "duration": 4,
    "start_time": "2023-06-15T02:42:11.344Z"
   },
   {
    "duration": 78,
    "start_time": "2023-06-15T02:42:11.576Z"
   },
   {
    "duration": 15,
    "start_time": "2023-06-15T02:42:11.749Z"
   },
   {
    "duration": 78,
    "start_time": "2023-06-15T02:42:12.082Z"
   },
   {
    "duration": 10,
    "start_time": "2023-06-15T02:42:12.599Z"
   },
   {
    "duration": 95,
    "start_time": "2023-06-15T02:42:12.768Z"
   },
   {
    "duration": 10,
    "start_time": "2023-06-15T02:42:12.952Z"
   },
   {
    "duration": 26,
    "start_time": "2023-06-15T02:42:13.518Z"
   },
   {
    "duration": 7,
    "start_time": "2023-06-15T02:42:14.260Z"
   },
   {
    "duration": 15,
    "start_time": "2023-06-15T02:42:15.033Z"
   },
   {
    "duration": 27,
    "start_time": "2023-06-15T02:42:15.204Z"
   },
   {
    "duration": 9,
    "start_time": "2023-06-15T02:42:16.585Z"
   },
   {
    "duration": 16,
    "start_time": "2023-06-15T02:42:16.763Z"
   },
   {
    "duration": 17,
    "start_time": "2023-06-15T02:42:16.969Z"
   },
   {
    "duration": 297,
    "start_time": "2023-06-15T02:42:17.407Z"
   },
   {
    "duration": 38,
    "start_time": "2023-06-15T02:42:18.413Z"
   },
   {
    "duration": 26,
    "start_time": "2023-06-15T02:42:18.949Z"
   },
   {
    "duration": 27,
    "start_time": "2023-06-15T02:42:19.288Z"
   },
   {
    "duration": 12,
    "start_time": "2023-06-15T02:42:20.440Z"
   },
   {
    "duration": 6,
    "start_time": "2023-06-15T02:42:20.659Z"
   },
   {
    "duration": 179,
    "start_time": "2023-06-15T02:42:22.550Z"
   },
   {
    "duration": 162,
    "start_time": "2023-06-15T02:42:24.015Z"
   },
   {
    "duration": 209,
    "start_time": "2023-06-15T02:42:25.335Z"
   },
   {
    "duration": 65,
    "start_time": "2023-06-15T02:42:25.686Z"
   },
   {
    "duration": 167,
    "start_time": "2023-06-15T02:42:25.896Z"
   },
   {
    "duration": 3,
    "start_time": "2023-06-15T02:42:27.806Z"
   },
   {
    "duration": 14,
    "start_time": "2023-06-15T02:42:28.032Z"
   },
   {
    "duration": 28,
    "start_time": "2023-06-15T02:42:29.301Z"
   },
   {
    "duration": 8,
    "start_time": "2023-06-15T02:42:31.067Z"
   },
   {
    "duration": 3,
    "start_time": "2023-06-15T02:43:41.932Z"
   },
   {
    "duration": 18,
    "start_time": "2023-06-15T02:43:46.772Z"
   },
   {
    "duration": 22,
    "start_time": "2023-06-15T02:43:55.970Z"
   },
   {
    "duration": 24,
    "start_time": "2023-06-15T02:44:20.607Z"
   },
   {
    "duration": 71,
    "start_time": "2023-06-15T02:46:02.705Z"
   },
   {
    "duration": 28,
    "start_time": "2023-06-15T02:46:24.526Z"
   },
   {
    "duration": 28,
    "start_time": "2023-06-15T02:49:09.745Z"
   },
   {
    "duration": 39,
    "start_time": "2023-06-15T02:49:40.427Z"
   },
   {
    "duration": 43,
    "start_time": "2023-06-15T02:49:59.168Z"
   },
   {
    "duration": 64,
    "start_time": "2023-06-15T02:51:00.926Z"
   },
   {
    "duration": 49,
    "start_time": "2023-06-15T02:53:31.474Z"
   },
   {
    "duration": 77,
    "start_time": "2023-06-15T02:56:15.047Z"
   },
   {
    "duration": 4,
    "start_time": "2023-06-15T02:56:15.216Z"
   },
   {
    "duration": 4,
    "start_time": "2023-06-15T02:56:16.800Z"
   },
   {
    "duration": 12,
    "start_time": "2023-06-15T02:56:18.902Z"
   },
   {
    "duration": 11,
    "start_time": "2023-06-15T02:56:20.522Z"
   },
   {
    "duration": 12,
    "start_time": "2023-06-15T02:56:20.892Z"
   },
   {
    "duration": 13,
    "start_time": "2023-06-15T02:56:21.252Z"
   },
   {
    "duration": 11,
    "start_time": "2023-06-15T02:56:22.611Z"
   },
   {
    "duration": 5,
    "start_time": "2023-06-15T02:56:24.430Z"
   },
   {
    "duration": 12,
    "start_time": "2023-06-15T02:56:24.915Z"
   },
   {
    "duration": 11,
    "start_time": "2023-06-15T02:56:25.311Z"
   },
   {
    "duration": 11,
    "start_time": "2023-06-15T02:56:25.725Z"
   },
   {
    "duration": 12,
    "start_time": "2023-06-15T02:56:26.496Z"
   },
   {
    "duration": 12,
    "start_time": "2023-06-15T02:56:27.100Z"
   },
   {
    "duration": 11,
    "start_time": "2023-06-15T02:56:27.464Z"
   },
   {
    "duration": 12,
    "start_time": "2023-06-15T02:56:27.868Z"
   },
   {
    "duration": 14,
    "start_time": "2023-06-15T02:56:28.578Z"
   },
   {
    "duration": 15,
    "start_time": "2023-06-15T02:56:28.992Z"
   },
   {
    "duration": 14,
    "start_time": "2023-06-15T02:56:29.397Z"
   },
   {
    "duration": 14,
    "start_time": "2023-06-15T02:56:29.782Z"
   },
   {
    "duration": 11,
    "start_time": "2023-06-15T03:36:46.381Z"
   },
   {
    "duration": 11,
    "start_time": "2023-06-15T03:36:50.873Z"
   },
   {
    "duration": 11,
    "start_time": "2023-06-15T03:36:57.460Z"
   },
   {
    "duration": 11,
    "start_time": "2023-06-15T03:37:00.645Z"
   },
   {
    "duration": 11,
    "start_time": "2023-06-15T03:37:03.860Z"
   },
   {
    "duration": 13,
    "start_time": "2023-06-15T03:37:16.316Z"
   },
   {
    "duration": 17,
    "start_time": "2023-06-15T03:37:25.926Z"
   },
   {
    "duration": 13,
    "start_time": "2023-06-15T03:37:30.146Z"
   },
   {
    "duration": 13,
    "start_time": "2023-06-15T03:37:33.402Z"
   },
   {
    "duration": 12,
    "start_time": "2023-06-15T03:37:39.470Z"
   },
   {
    "duration": 12,
    "start_time": "2023-06-15T03:37:42.844Z"
   },
   {
    "duration": 12,
    "start_time": "2023-06-15T03:37:46.285Z"
   },
   {
    "duration": 11,
    "start_time": "2023-06-15T03:37:50.745Z"
   },
   {
    "duration": 12,
    "start_time": "2023-06-15T03:39:18.664Z"
   },
   {
    "duration": 14,
    "start_time": "2023-06-15T03:39:19.952Z"
   },
   {
    "duration": 13,
    "start_time": "2023-06-15T03:39:20.928Z"
   },
   {
    "duration": 12,
    "start_time": "2023-06-15T03:39:21.776Z"
   },
   {
    "duration": 14,
    "start_time": "2023-06-15T03:39:33.837Z"
   },
   {
    "duration": 13,
    "start_time": "2023-06-15T03:39:37.209Z"
   },
   {
    "duration": 14,
    "start_time": "2023-06-15T03:39:42.409Z"
   },
   {
    "duration": 15,
    "start_time": "2023-06-15T03:39:45.465Z"
   },
   {
    "duration": 1204,
    "start_time": "2023-06-15T03:46:40.453Z"
   },
   {
    "duration": 164,
    "start_time": "2023-06-15T03:46:41.659Z"
   },
   {
    "duration": 17,
    "start_time": "2023-06-15T03:46:41.825Z"
   },
   {
    "duration": 24,
    "start_time": "2023-06-15T03:46:41.844Z"
   },
   {
    "duration": 3,
    "start_time": "2023-06-15T03:46:41.870Z"
   },
   {
    "duration": 78,
    "start_time": "2023-06-15T03:46:41.874Z"
   },
   {
    "duration": 14,
    "start_time": "2023-06-15T03:46:41.954Z"
   },
   {
    "duration": 88,
    "start_time": "2023-06-15T03:46:41.969Z"
   },
   {
    "duration": 7,
    "start_time": "2023-06-15T03:46:42.059Z"
   },
   {
    "duration": 84,
    "start_time": "2023-06-15T03:46:42.067Z"
   },
   {
    "duration": 8,
    "start_time": "2023-06-15T03:46:42.153Z"
   },
   {
    "duration": 22,
    "start_time": "2023-06-15T03:46:42.163Z"
   },
   {
    "duration": 18,
    "start_time": "2023-06-15T03:46:42.186Z"
   },
   {
    "duration": 15,
    "start_time": "2023-06-15T03:46:42.207Z"
   },
   {
    "duration": 34,
    "start_time": "2023-06-15T03:46:42.224Z"
   },
   {
    "duration": 8,
    "start_time": "2023-06-15T03:46:42.260Z"
   },
   {
    "duration": 28,
    "start_time": "2023-06-15T03:46:42.269Z"
   },
   {
    "duration": 17,
    "start_time": "2023-06-15T03:46:42.299Z"
   },
   {
    "duration": 290,
    "start_time": "2023-06-15T03:46:42.317Z"
   },
   {
    "duration": 51,
    "start_time": "2023-06-15T03:46:42.609Z"
   },
   {
    "duration": 26,
    "start_time": "2023-06-15T03:46:42.661Z"
   },
   {
    "duration": 30,
    "start_time": "2023-06-15T03:46:42.688Z"
   },
   {
    "duration": 17,
    "start_time": "2023-06-15T03:46:42.731Z"
   },
   {
    "duration": 11,
    "start_time": "2023-06-15T03:46:42.750Z"
   },
   {
    "duration": 155,
    "start_time": "2023-06-15T03:46:42.762Z"
   },
   {
    "duration": 175,
    "start_time": "2023-06-15T03:46:42.919Z"
   },
   {
    "duration": 213,
    "start_time": "2023-06-15T03:46:43.095Z"
   },
   {
    "duration": 75,
    "start_time": "2023-06-15T03:46:43.309Z"
   },
   {
    "duration": 147,
    "start_time": "2023-06-15T03:46:43.385Z"
   },
   {
    "duration": 8,
    "start_time": "2023-06-15T03:46:43.534Z"
   },
   {
    "duration": 26,
    "start_time": "2023-06-15T03:46:43.545Z"
   },
   {
    "duration": 28,
    "start_time": "2023-06-15T03:46:43.573Z"
   },
   {
    "duration": 60,
    "start_time": "2023-06-15T03:46:43.602Z"
   },
   {
    "duration": 89,
    "start_time": "2023-06-15T03:46:43.664Z"
   },
   {
    "duration": 4,
    "start_time": "2023-06-15T03:46:43.754Z"
   },
   {
    "duration": 11,
    "start_time": "2023-06-15T03:46:43.759Z"
   },
   {
    "duration": 18,
    "start_time": "2023-06-15T03:46:43.772Z"
   },
   {
    "duration": 11,
    "start_time": "2023-06-15T03:46:43.792Z"
   },
   {
    "duration": 10,
    "start_time": "2023-06-15T03:46:43.805Z"
   },
   {
    "duration": 31,
    "start_time": "2023-06-15T03:46:43.816Z"
   },
   {
    "duration": 11,
    "start_time": "2023-06-15T03:46:43.852Z"
   },
   {
    "duration": 5,
    "start_time": "2023-06-15T03:46:43.865Z"
   },
   {
    "duration": 14,
    "start_time": "2023-06-15T03:46:43.871Z"
   },
   {
    "duration": 20,
    "start_time": "2023-06-15T03:46:43.886Z"
   },
   {
    "duration": 16,
    "start_time": "2023-06-15T03:46:43.932Z"
   },
   {
    "duration": 14,
    "start_time": "2023-06-15T03:46:43.949Z"
   },
   {
    "duration": 10,
    "start_time": "2023-06-15T03:46:43.965Z"
   },
   {
    "duration": 11,
    "start_time": "2023-06-15T03:46:43.976Z"
   },
   {
    "duration": 16,
    "start_time": "2023-06-15T03:46:43.988Z"
   },
   {
    "duration": 43,
    "start_time": "2023-06-15T03:46:44.006Z"
   },
   {
    "duration": 19,
    "start_time": "2023-06-15T03:46:44.051Z"
   },
   {
    "duration": 12,
    "start_time": "2023-06-15T03:46:44.072Z"
   },
   {
    "duration": 25,
    "start_time": "2023-06-15T03:46:44.086Z"
   }
  ],
  "kernelspec": {
   "display_name": "Python 3 (ipykernel)",
   "language": "python",
   "name": "python3"
  },
  "language_info": {
   "codemirror_mode": {
    "name": "ipython",
    "version": 3
   },
   "file_extension": ".py",
   "mimetype": "text/x-python",
   "name": "python",
   "nbconvert_exporter": "python",
   "pygments_lexer": "ipython3",
   "version": "3.9.13"
  },
  "toc": {
   "base_numbering": 1,
   "nav_menu": {},
   "number_sections": true,
   "sideBar": true,
   "skip_h1_title": true,
   "title_cell": "Table of Contents",
   "title_sidebar": "Contents",
   "toc_cell": false,
   "toc_position": {
    "height": "calc(100% - 180px)",
    "left": "10px",
    "top": "150px",
    "width": "165px"
   },
   "toc_section_display": true,
   "toc_window_display": true
  }
 },
 "nbformat": 4,
 "nbformat_minor": 2
}
