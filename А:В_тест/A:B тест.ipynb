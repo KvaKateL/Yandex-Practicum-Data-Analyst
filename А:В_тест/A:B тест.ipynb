{
 "cells": [
  {
   "cell_type": "markdown",
   "metadata": {},
   "source": [
    "# Проект: Принятие решений в бизнесе - A/B тест"
   ]
  },
  {
   "cell_type": "markdown",
   "metadata": {},
   "source": [
    "Контекст <br>\n",
    "Для крупного интернет-магазина вместе с отделом маркетинга мы подготовили список гипотез для увеличения выручки.<br>\n",
    "Основные этапы работы таковы: <br>\n",
    "приоритизация гипотез, запуск A/B-тест и анализ результатов. <br>\n",
    "<br>\n",
    "## Часть 1. Приоритизация гипотез.<br>\n",
    "<br>\n",
    "В файле /datasets/hypothesis.csv 9 гипотез по увеличению выручки интернет-магазина с указанными параметрами Reach, Impact, Confidence, Effort.<br>\n",
    "Для приоритизации гипотез применим фреймворк ICE и фреймворк RICE. Отсортируем их по убыванию приоритета.<br>\n",
    "Оценим разницу приоритизация гипотез при применении RICE вместо ICE.<br>\n",
    "<br>"
   ]
  },
  {
   "cell_type": "code",
   "execution_count": 1,
   "metadata": {},
   "outputs": [],
   "source": [
    "import pandas as pd\n",
    "import datetime as dt\n",
    "import numpy as np\n",
    "import matplotlib.pyplot as plt\n",
    "from pandas.plotting import register_matplotlib_converters\n",
    "import warnings\n",
    "import scipy.stats as stats\n",
    "\n",
    "register_matplotlib_converters()"
   ]
  },
  {
   "cell_type": "code",
   "execution_count": 2,
   "metadata": {},
   "outputs": [],
   "source": [
    "hypothesis = pd.read_csv('/datasets/hypothesis.csv')"
   ]
  },
  {
   "cell_type": "code",
   "execution_count": 3,
   "metadata": {},
   "outputs": [
    {
     "data": {
      "text/html": [
       "<div>\n",
       "<style scoped>\n",
       "    .dataframe tbody tr th:only-of-type {\n",
       "        vertical-align: middle;\n",
       "    }\n",
       "\n",
       "    .dataframe tbody tr th {\n",
       "        vertical-align: top;\n",
       "    }\n",
       "\n",
       "    .dataframe thead th {\n",
       "        text-align: right;\n",
       "    }\n",
       "</style>\n",
       "<table border=\"1\" class=\"dataframe\">\n",
       "  <thead>\n",
       "    <tr style=\"text-align: right;\">\n",
       "      <th></th>\n",
       "      <th>Hypothesis</th>\n",
       "      <th>Reach</th>\n",
       "      <th>Impact</th>\n",
       "      <th>Confidence</th>\n",
       "      <th>Efforts</th>\n",
       "    </tr>\n",
       "  </thead>\n",
       "  <tbody>\n",
       "    <tr>\n",
       "      <th>0</th>\n",
       "      <td>Добавить два новых канала привлечения трафика, что позволит привлекать на 30% больше пользователей</td>\n",
       "      <td>3</td>\n",
       "      <td>10</td>\n",
       "      <td>8</td>\n",
       "      <td>6</td>\n",
       "    </tr>\n",
       "    <tr>\n",
       "      <th>1</th>\n",
       "      <td>Запустить собственную службу доставки, что сократит срок доставки заказов</td>\n",
       "      <td>2</td>\n",
       "      <td>5</td>\n",
       "      <td>4</td>\n",
       "      <td>10</td>\n",
       "    </tr>\n",
       "    <tr>\n",
       "      <th>2</th>\n",
       "      <td>Добавить блоки рекомендаций товаров на сайт интернет магазина, чтобы повысить конверсию и средний чек заказа</td>\n",
       "      <td>8</td>\n",
       "      <td>3</td>\n",
       "      <td>7</td>\n",
       "      <td>3</td>\n",
       "    </tr>\n",
       "    <tr>\n",
       "      <th>3</th>\n",
       "      <td>Изменить структура категорий, что увеличит конверсию, т.к. пользователи быстрее найдут нужный товар</td>\n",
       "      <td>8</td>\n",
       "      <td>3</td>\n",
       "      <td>3</td>\n",
       "      <td>8</td>\n",
       "    </tr>\n",
       "    <tr>\n",
       "      <th>4</th>\n",
       "      <td>Изменить цвет фона главной страницы, чтобы увеличить вовлеченность пользователей</td>\n",
       "      <td>3</td>\n",
       "      <td>1</td>\n",
       "      <td>1</td>\n",
       "      <td>1</td>\n",
       "    </tr>\n",
       "    <tr>\n",
       "      <th>5</th>\n",
       "      <td>Добавить страницу отзывов клиентов о магазине, что позволит увеличить количество заказов</td>\n",
       "      <td>3</td>\n",
       "      <td>2</td>\n",
       "      <td>2</td>\n",
       "      <td>3</td>\n",
       "    </tr>\n",
       "    <tr>\n",
       "      <th>6</th>\n",
       "      <td>Показать на главной странице баннеры с актуальными акциями и распродажами, чтобы увеличить конверсию</td>\n",
       "      <td>5</td>\n",
       "      <td>3</td>\n",
       "      <td>8</td>\n",
       "      <td>3</td>\n",
       "    </tr>\n",
       "    <tr>\n",
       "      <th>7</th>\n",
       "      <td>Добавить форму подписки на все основные страницы, чтобы собрать базу клиентов для email-рассылок</td>\n",
       "      <td>10</td>\n",
       "      <td>7</td>\n",
       "      <td>8</td>\n",
       "      <td>5</td>\n",
       "    </tr>\n",
       "    <tr>\n",
       "      <th>8</th>\n",
       "      <td>Запустить акцию, дающую скидку на товар в день рождения</td>\n",
       "      <td>1</td>\n",
       "      <td>9</td>\n",
       "      <td>9</td>\n",
       "      <td>5</td>\n",
       "    </tr>\n",
       "  </tbody>\n",
       "</table>\n",
       "</div>"
      ],
      "text/plain": [
       "                                                                                                     Hypothesis  \\\n",
       "0            Добавить два новых канала привлечения трафика, что позволит привлекать на 30% больше пользователей   \n",
       "1                                     Запустить собственную службу доставки, что сократит срок доставки заказов   \n",
       "2  Добавить блоки рекомендаций товаров на сайт интернет магазина, чтобы повысить конверсию и средний чек заказа   \n",
       "3           Изменить структура категорий, что увеличит конверсию, т.к. пользователи быстрее найдут нужный товар   \n",
       "4                              Изменить цвет фона главной страницы, чтобы увеличить вовлеченность пользователей   \n",
       "5                      Добавить страницу отзывов клиентов о магазине, что позволит увеличить количество заказов   \n",
       "6          Показать на главной странице баннеры с актуальными акциями и распродажами, чтобы увеличить конверсию   \n",
       "7              Добавить форму подписки на все основные страницы, чтобы собрать базу клиентов для email-рассылок   \n",
       "8                                                       Запустить акцию, дающую скидку на товар в день рождения   \n",
       "\n",
       "   Reach  Impact  Confidence  Efforts  \n",
       "0      3      10           8        6  \n",
       "1      2       5           4       10  \n",
       "2      8       3           7        3  \n",
       "3      8       3           3        8  \n",
       "4      3       1           1        1  \n",
       "5      3       2           2        3  \n",
       "6      5       3           8        3  \n",
       "7     10       7           8        5  \n",
       "8      1       9           9        5  "
      ]
     },
     "execution_count": 3,
     "metadata": {},
     "output_type": "execute_result"
    }
   ],
   "source": [
    "pd.set_option(\"max_colwidth\", 999)\n",
    "hypothesis"
   ]
  },
  {
   "cell_type": "code",
   "execution_count": 4,
   "metadata": {},
   "outputs": [],
   "source": [
    "hypothesis.columns = hypothesis.columns.str.lower()"
   ]
  },
  {
   "cell_type": "markdown",
   "metadata": {},
   "source": [
    "ICE равен произведению показателей Impact и Confidence деленных на Efforts:"
   ]
  },
  {
   "cell_type": "code",
   "execution_count": 5,
   "metadata": {},
   "outputs": [
    {
     "data": {
      "text/html": [
       "<div>\n",
       "<style scoped>\n",
       "    .dataframe tbody tr th:only-of-type {\n",
       "        vertical-align: middle;\n",
       "    }\n",
       "\n",
       "    .dataframe tbody tr th {\n",
       "        vertical-align: top;\n",
       "    }\n",
       "\n",
       "    .dataframe thead th {\n",
       "        text-align: right;\n",
       "    }\n",
       "</style>\n",
       "<table border=\"1\" class=\"dataframe\">\n",
       "  <thead>\n",
       "    <tr style=\"text-align: right;\">\n",
       "      <th></th>\n",
       "      <th>hypothesis</th>\n",
       "      <th>ICE</th>\n",
       "    </tr>\n",
       "  </thead>\n",
       "  <tbody>\n",
       "    <tr>\n",
       "      <th>8</th>\n",
       "      <td>Запустить акцию, дающую скидку на товар в день рождения</td>\n",
       "      <td>16.200000</td>\n",
       "    </tr>\n",
       "    <tr>\n",
       "      <th>0</th>\n",
       "      <td>Добавить два новых канала привлечения трафика, что позволит привлекать на 30% больше пользователей</td>\n",
       "      <td>13.333333</td>\n",
       "    </tr>\n",
       "    <tr>\n",
       "      <th>7</th>\n",
       "      <td>Добавить форму подписки на все основные страницы, чтобы собрать базу клиентов для email-рассылок</td>\n",
       "      <td>11.200000</td>\n",
       "    </tr>\n",
       "    <tr>\n",
       "      <th>6</th>\n",
       "      <td>Показать на главной странице баннеры с актуальными акциями и распродажами, чтобы увеличить конверсию</td>\n",
       "      <td>8.000000</td>\n",
       "    </tr>\n",
       "    <tr>\n",
       "      <th>2</th>\n",
       "      <td>Добавить блоки рекомендаций товаров на сайт интернет магазина, чтобы повысить конверсию и средний чек заказа</td>\n",
       "      <td>7.000000</td>\n",
       "    </tr>\n",
       "    <tr>\n",
       "      <th>1</th>\n",
       "      <td>Запустить собственную службу доставки, что сократит срок доставки заказов</td>\n",
       "      <td>2.000000</td>\n",
       "    </tr>\n",
       "    <tr>\n",
       "      <th>5</th>\n",
       "      <td>Добавить страницу отзывов клиентов о магазине, что позволит увеличить количество заказов</td>\n",
       "      <td>1.333333</td>\n",
       "    </tr>\n",
       "    <tr>\n",
       "      <th>3</th>\n",
       "      <td>Изменить структура категорий, что увеличит конверсию, т.к. пользователи быстрее найдут нужный товар</td>\n",
       "      <td>1.125000</td>\n",
       "    </tr>\n",
       "    <tr>\n",
       "      <th>4</th>\n",
       "      <td>Изменить цвет фона главной страницы, чтобы увеличить вовлеченность пользователей</td>\n",
       "      <td>1.000000</td>\n",
       "    </tr>\n",
       "  </tbody>\n",
       "</table>\n",
       "</div>"
      ],
      "text/plain": [
       "                                                                                                     hypothesis  \\\n",
       "8                                                       Запустить акцию, дающую скидку на товар в день рождения   \n",
       "0            Добавить два новых канала привлечения трафика, что позволит привлекать на 30% больше пользователей   \n",
       "7              Добавить форму подписки на все основные страницы, чтобы собрать базу клиентов для email-рассылок   \n",
       "6          Показать на главной странице баннеры с актуальными акциями и распродажами, чтобы увеличить конверсию   \n",
       "2  Добавить блоки рекомендаций товаров на сайт интернет магазина, чтобы повысить конверсию и средний чек заказа   \n",
       "1                                     Запустить собственную службу доставки, что сократит срок доставки заказов   \n",
       "5                      Добавить страницу отзывов клиентов о магазине, что позволит увеличить количество заказов   \n",
       "3           Изменить структура категорий, что увеличит конверсию, т.к. пользователи быстрее найдут нужный товар   \n",
       "4                              Изменить цвет фона главной страницы, чтобы увеличить вовлеченность пользователей   \n",
       "\n",
       "         ICE  \n",
       "8  16.200000  \n",
       "0  13.333333  \n",
       "7  11.200000  \n",
       "6   8.000000  \n",
       "2   7.000000  \n",
       "1   2.000000  \n",
       "5   1.333333  \n",
       "3   1.125000  \n",
       "4   1.000000  "
      ]
     },
     "execution_count": 5,
     "metadata": {},
     "output_type": "execute_result"
    }
   ],
   "source": [
    "hypothesis['ICE'] = hypothesis['impact']*hypothesis['confidence'] / hypothesis['efforts']\n",
    "\n",
    "hypothesis[['hypothesis', 'ICE']].sort_values(by='ICE', ascending=False)"
   ]
  },
  {
   "cell_type": "markdown",
   "metadata": {},
   "source": [
    "У ICE метода есть модификация RICE (R от англ. reach, «охват»): значение над дробью умножается на показатель Reach"
   ]
  },
  {
   "cell_type": "code",
   "execution_count": 6,
   "metadata": {},
   "outputs": [
    {
     "data": {
      "text/html": [
       "<div>\n",
       "<style scoped>\n",
       "    .dataframe tbody tr th:only-of-type {\n",
       "        vertical-align: middle;\n",
       "    }\n",
       "\n",
       "    .dataframe tbody tr th {\n",
       "        vertical-align: top;\n",
       "    }\n",
       "\n",
       "    .dataframe thead th {\n",
       "        text-align: right;\n",
       "    }\n",
       "</style>\n",
       "<table border=\"1\" class=\"dataframe\">\n",
       "  <thead>\n",
       "    <tr style=\"text-align: right;\">\n",
       "      <th></th>\n",
       "      <th>hypothesis</th>\n",
       "      <th>RICE</th>\n",
       "    </tr>\n",
       "  </thead>\n",
       "  <tbody>\n",
       "    <tr>\n",
       "      <th>7</th>\n",
       "      <td>Добавить форму подписки на все основные страницы, чтобы собрать базу клиентов для email-рассылок</td>\n",
       "      <td>112.0</td>\n",
       "    </tr>\n",
       "    <tr>\n",
       "      <th>2</th>\n",
       "      <td>Добавить блоки рекомендаций товаров на сайт интернет магазина, чтобы повысить конверсию и средний чек заказа</td>\n",
       "      <td>56.0</td>\n",
       "    </tr>\n",
       "    <tr>\n",
       "      <th>0</th>\n",
       "      <td>Добавить два новых канала привлечения трафика, что позволит привлекать на 30% больше пользователей</td>\n",
       "      <td>40.0</td>\n",
       "    </tr>\n",
       "    <tr>\n",
       "      <th>6</th>\n",
       "      <td>Показать на главной странице баннеры с актуальными акциями и распродажами, чтобы увеличить конверсию</td>\n",
       "      <td>40.0</td>\n",
       "    </tr>\n",
       "    <tr>\n",
       "      <th>8</th>\n",
       "      <td>Запустить акцию, дающую скидку на товар в день рождения</td>\n",
       "      <td>16.2</td>\n",
       "    </tr>\n",
       "    <tr>\n",
       "      <th>3</th>\n",
       "      <td>Изменить структура категорий, что увеличит конверсию, т.к. пользователи быстрее найдут нужный товар</td>\n",
       "      <td>9.0</td>\n",
       "    </tr>\n",
       "    <tr>\n",
       "      <th>1</th>\n",
       "      <td>Запустить собственную службу доставки, что сократит срок доставки заказов</td>\n",
       "      <td>4.0</td>\n",
       "    </tr>\n",
       "    <tr>\n",
       "      <th>5</th>\n",
       "      <td>Добавить страницу отзывов клиентов о магазине, что позволит увеличить количество заказов</td>\n",
       "      <td>4.0</td>\n",
       "    </tr>\n",
       "    <tr>\n",
       "      <th>4</th>\n",
       "      <td>Изменить цвет фона главной страницы, чтобы увеличить вовлеченность пользователей</td>\n",
       "      <td>3.0</td>\n",
       "    </tr>\n",
       "  </tbody>\n",
       "</table>\n",
       "</div>"
      ],
      "text/plain": [
       "                                                                                                     hypothesis  \\\n",
       "7              Добавить форму подписки на все основные страницы, чтобы собрать базу клиентов для email-рассылок   \n",
       "2  Добавить блоки рекомендаций товаров на сайт интернет магазина, чтобы повысить конверсию и средний чек заказа   \n",
       "0            Добавить два новых канала привлечения трафика, что позволит привлекать на 30% больше пользователей   \n",
       "6          Показать на главной странице баннеры с актуальными акциями и распродажами, чтобы увеличить конверсию   \n",
       "8                                                       Запустить акцию, дающую скидку на товар в день рождения   \n",
       "3           Изменить структура категорий, что увеличит конверсию, т.к. пользователи быстрее найдут нужный товар   \n",
       "1                                     Запустить собственную службу доставки, что сократит срок доставки заказов   \n",
       "5                      Добавить страницу отзывов клиентов о магазине, что позволит увеличить количество заказов   \n",
       "4                              Изменить цвет фона главной страницы, чтобы увеличить вовлеченность пользователей   \n",
       "\n",
       "    RICE  \n",
       "7  112.0  \n",
       "2   56.0  \n",
       "0   40.0  \n",
       "6   40.0  \n",
       "8   16.2  \n",
       "3    9.0  \n",
       "1    4.0  \n",
       "5    4.0  \n",
       "4    3.0  "
      ]
     },
     "execution_count": 6,
     "metadata": {},
     "output_type": "execute_result"
    }
   ],
   "source": [
    "hypothesis['RICE'] = hypothesis['reach']*hypothesis['impact']*hypothesis['confidence']/hypothesis['efforts']\n",
    "\n",
    "hypothesis[['hypothesis', 'RICE']].sort_values(by='RICE', ascending=False)"
   ]
  },
  {
   "cell_type": "markdown",
   "metadata": {},
   "source": [
    "Согласно методике ICE наиболее приоритетные гиоптезы под номерами: 8, 0, 7. <br>\n",
    "По методике RICE наиболее приоритетные гипотезы: 7, 2, 0.  <br>\n",
    "Приоритизация гипотез при применении RICE вместо ICE изменилась, потому что в расчеты стал учитываться охват пользователей, а у гипотез 7 и 2 этот показатель гораздо выше, чем у гипотез 8 и 0. "
   ]
  },
  {
   "cell_type": "markdown",
   "metadata": {},
   "source": [
    "## Часть 2. Анализ A/B-теста <br>\n",
    "<br>\n",
    "Мы проверили A/B-тест и получили результаты, которые описаны в файлах /datasets/orders.csv и /datasets/visitors.csv.<br>\n",
    "\n",
    "Перед нами поставлена задача проанализировать A/B-тест, для этого определим: <br>\n",
    "### Стабильность кумулятивных метрик\n",
    "#### График кумулятивной выручки по группам. \n"
   ]
  },
  {
   "cell_type": "code",
   "execution_count": 7,
   "metadata": {},
   "outputs": [],
   "source": [
    "orders = pd.read_csv('/datasets/orders.csv')\n",
    "orders['date'] = orders['date'].map(\n",
    "    lambda x: dt.datetime.strptime(x, '%Y-%m-%d')\n",
    ")\n",
    "visitors = pd.read_csv('/datasets/visitors.csv')\n",
    "visitors['date'] = visitors['date'].map(\n",
    "    lambda x: dt.datetime.strptime(x, '%Y-%m-%d')\n",
    ")"
   ]
  },
  {
   "cell_type": "code",
   "execution_count": 8,
   "metadata": {},
   "outputs": [
    {
     "name": "stdout",
     "output_type": "stream",
     "text": [
      "<class 'pandas.core.frame.DataFrame'>\n",
      "RangeIndex: 1197 entries, 0 to 1196\n",
      "Data columns (total 5 columns):\n",
      " #   Column         Non-Null Count  Dtype         \n",
      "---  ------         --------------  -----         \n",
      " 0   transactionId  1197 non-null   int64         \n",
      " 1   visitorId      1197 non-null   int64         \n",
      " 2   date           1197 non-null   datetime64[ns]\n",
      " 3   revenue        1197 non-null   int64         \n",
      " 4   group          1197 non-null   object        \n",
      "dtypes: datetime64[ns](1), int64(3), object(1)\n",
      "memory usage: 46.9+ KB\n"
     ]
    }
   ],
   "source": [
    "orders.info()"
   ]
  },
  {
   "cell_type": "code",
   "execution_count": 9,
   "metadata": {},
   "outputs": [
    {
     "name": "stdout",
     "output_type": "stream",
     "text": [
      "<class 'pandas.core.frame.DataFrame'>\n",
      "RangeIndex: 62 entries, 0 to 61\n",
      "Data columns (total 3 columns):\n",
      " #   Column    Non-Null Count  Dtype         \n",
      "---  ------    --------------  -----         \n",
      " 0   date      62 non-null     datetime64[ns]\n",
      " 1   group     62 non-null     object        \n",
      " 2   visitors  62 non-null     int64         \n",
      "dtypes: datetime64[ns](1), int64(1), object(1)\n",
      "memory usage: 1.6+ KB\n"
     ]
    }
   ],
   "source": [
    "visitors.info()"
   ]
  },
  {
   "cell_type": "code",
   "execution_count": 10,
   "metadata": {},
   "outputs": [
    {
     "data": {
      "text/plain": [
       "0"
      ]
     },
     "execution_count": 10,
     "metadata": {},
     "output_type": "execute_result"
    }
   ],
   "source": [
    "visitors.duplicated().sum()"
   ]
  },
  {
   "cell_type": "code",
   "execution_count": 11,
   "metadata": {},
   "outputs": [
    {
     "data": {
      "text/plain": [
       "0"
      ]
     },
     "execution_count": 11,
     "metadata": {},
     "output_type": "execute_result"
    }
   ],
   "source": [
    "orders.duplicated().sum()"
   ]
  },
  {
   "cell_type": "markdown",
   "metadata": {},
   "source": [
    "Пропусков нет. Дубликатов не выявлено. Выясним есть ли пользователи попавшие в обе группы:"
   ]
  },
  {
   "cell_type": "code",
   "execution_count": 12,
   "metadata": {},
   "outputs": [
    {
     "name": "stdout",
     "output_type": "stream",
     "text": [
      "Количество покупателей в группе A: 503\n",
      "Количество покупателей в группе B: 586\n",
      "Пользователи, попавшие в обе группы: 58\n"
     ]
    }
   ],
   "source": [
    "visitorsA = orders[orders['group'] == 'A']['visitorId']\n",
    "print('Количество покупателей в группе A:', visitorsA.nunique())\n",
    "visitorsB = orders[orders['group'] == 'B']['visitorId']\n",
    "print('Количество покупателей в группе B:',visitorsB.nunique())\n",
    "visitorsAandB = pd.Series(np.intersect1d(visitorsA, visitorsB))\n",
    "print('Пользователи, попавшие в обе группы:',len(visitorsAandB))"
   ]
  },
  {
   "cell_type": "markdown",
   "metadata": {},
   "source": [
    "Удалим данные о пользователях, попавших в обе группы:"
   ]
  },
  {
   "cell_type": "code",
   "execution_count": 13,
   "metadata": {},
   "outputs": [],
   "source": [
    "orders= orders[orders.visitorId.isin (visitorsAandB) == False ]"
   ]
  },
  {
   "cell_type": "code",
   "execution_count": 14,
   "metadata": {},
   "outputs": [
    {
     "data": {
      "image/png": "[encoded data removed]",
      "text/plain": [
       "<Figure size 576x288 with 1 Axes>"
      ]
     },
     "metadata": {
      "needs_background": "light"
     },
     "output_type": "display_data"
    }
   ],
   "source": [
    "datesGroups = orders[['date', 'group']].drop_duplicates()\n",
    "ordersAggregated = datesGroups.apply(\n",
    "    lambda x: orders[\n",
    "        np.logical_and(\n",
    "            orders['date'] <= x['date'], orders['group'] == x['group']\n",
    "        )\n",
    "    ].agg(\n",
    "        {\n",
    "            'date': 'max',\n",
    "            'group': 'max',\n",
    "            'transactionId': 'nunique',\n",
    "            'visitorId': 'nunique',\n",
    "            'revenue': 'sum',\n",
    "        }\n",
    "    ),\n",
    "    axis=1,\n",
    ").sort_values(by=['date', 'group'])\n",
    "\n",
    "visitorsAggregated = datesGroups.apply(\n",
    "    lambda x: visitors[\n",
    "        np.logical_and(\n",
    "            visitors['date'] <= x['date'], visitors['group'] == x['group']\n",
    "        )\n",
    "    ].agg({'date': 'max', 'group': 'max', 'visitors': 'sum'}),\n",
    "    axis=1,\n",
    ").sort_values(by=['date', 'group'])\n",
    "\n",
    "cumulativeData = ordersAggregated.merge(\n",
    "    visitorsAggregated, left_on=['date', 'group'], right_on=['date', 'group']\n",
    ")\n",
    "cumulativeData.columns = [\n",
    "    'date',\n",
    "    'group',\n",
    "    'orders',\n",
    "    'buyers',\n",
    "    'revenue',\n",
    "    'visitors',\n",
    "]\n",
    "\n",
    "cumulativeRevenueA = cumulativeData[cumulativeData['group']=='A'][['date','revenue', 'orders']]\n",
    "\n",
    "cumulativeRevenueB = cumulativeData[cumulativeData['group']=='B'][['date','revenue', 'orders']]\n",
    "\n",
    "\n",
    "plt.figure(figsize = (8,4))\n",
    "plt.title(\"Кумулятивная выручка по группам\")\n",
    "plt.plot(cumulativeRevenueA['date'], cumulativeRevenueA['revenue'], label='A')\n",
    "plt.plot(cumulativeRevenueB['date'], cumulativeRevenueB['revenue'], label='B')\n",
    "plt.legend() \n",
    "plt.xticks(rotation=45);"
   ]
  },
  {
   "cell_type": "markdown",
   "metadata": {},
   "source": [
    "Выручка почти равномерно увеличивается в течение всего теста.\n",
    "Однако графики выручки обеих групп в нескольких точках (для группы А 12 августа, для группы В - существенно 18 августа) резко растут. Это может сигнализировать о всплесках числа заказов, либо о появлении очень дорогих заказов в выборке. Такие выбросы проанализируем позднее."
   ]
  },
  {
   "cell_type": "markdown",
   "metadata": {},
   "source": [
    "#### Постройте график кумулятивного среднего чека по группам. Сделайте выводы и предположения."
   ]
  },
  {
   "cell_type": "code",
   "execution_count": 15,
   "metadata": {},
   "outputs": [
    {
     "data": {
      "image/png": "[encoded data removed]",
      "text/plain": [
       "<Figure size 576x288 with 1 Axes>"
      ]
     },
     "metadata": {
      "needs_background": "light"
     },
     "output_type": "display_data"
    }
   ],
   "source": [
    "plt.figure(figsize = (8,4))\n",
    "plt.title(\"Кумулятивный средний чек по группам\")\n",
    "plt.plot(cumulativeRevenueA['date'], cumulativeRevenueA['revenue']/cumulativeRevenueA['orders'], label='A')\n",
    "plt.plot(cumulativeRevenueB['date'], cumulativeRevenueB['revenue']/cumulativeRevenueB['orders'], label='B')\n",
    "plt.legend()\n",
    "plt.xticks(rotation=45);"
   ]
  },
  {
   "cell_type": "markdown",
   "metadata": {},
   "source": [
    "В группе наблюдается резкий скачек значения в группе В. Видимо это курпные заказы. Такое онамальное значение искажает значение среднего чека по группе. Графики к концу теста стабилизировались, но по группе А с тенденцией к росту, по группе В - к снижению."
   ]
  },
  {
   "cell_type": "markdown",
   "metadata": {},
   "source": [
    "#### Постройте график относительного изменения кумулятивного среднего чека группы B к группе A. Сделайте выводы и предположения."
   ]
  },
  {
   "cell_type": "code",
   "execution_count": 16,
   "metadata": {},
   "outputs": [
    {
     "data": {
      "image/png": "[encoded data removed]",
      "text/plain": [
       "<Figure size 576x288 with 1 Axes>"
      ]
     },
     "metadata": {
      "needs_background": "light"
     },
     "output_type": "display_data"
    }
   ],
   "source": [
    "mergedCumulativeRevenue = cumulativeRevenueA.merge(cumulativeRevenueB, left_on='date', right_on='date', how='left', suffixes=['A', 'B'])\n",
    "\n",
    "plt.figure(figsize = (8,4))\n",
    "plt.title(\"Относительное изменение кумулятивного среднего чека группы В к группе А\")\n",
    "plt.plot(mergedCumulativeRevenue['date'], (mergedCumulativeRevenue['revenueB']/mergedCumulativeRevenue['ordersB'])/(mergedCumulativeRevenue['revenueA']/mergedCumulativeRevenue['ordersA'])-1)\n",
    "\n",
    "plt.axhline(y=0, color='black', linestyle='--')\n",
    "plt.xticks(rotation=45);"
   ]
  },
  {
   "cell_type": "markdown",
   "metadata": {},
   "source": [
    "Очевидны значительные изменения в нескольких датах, когда судя по всему и были совершены аномальные заказы."
   ]
  },
  {
   "cell_type": "markdown",
   "metadata": {},
   "source": [
    "#### Постройте график кумулятивного среднего количества заказов на посетителя по группам. Сделайте выводы и предположения"
   ]
  },
  {
   "cell_type": "code",
   "execution_count": 17,
   "metadata": {},
   "outputs": [
    {
     "data": {
      "image/png": "[encoded data removed]",
      "text/plain": [
       "<Figure size 576x288 with 1 Axes>"
      ]
     },
     "metadata": {
      "needs_background": "light"
     },
     "output_type": "display_data"
    }
   ],
   "source": [
    "cumulativeData['conversion'] = cumulativeData['orders']/cumulativeData['visitors']\n",
    "\n",
    "\n",
    "cumulativeDataA = cumulativeData[cumulativeData['group']=='A']\n",
    "cumulativeDataB = cumulativeData[cumulativeData['group']=='B']\n",
    "\n",
    "plt.figure(figsize = (8,4))\n",
    "plt.title(\"Кумулятивное среднее количество заказов на посетителя по группам\")\n",
    "plt.plot(cumulativeDataA['date'], cumulativeDataA['conversion'], label='A')\n",
    "plt.plot(cumulativeDataB['date'], cumulativeDataB['conversion'], label='B')\n",
    "plt.legend()\n",
    "\n",
    "plt.axis([dt.datetime(2019, 8, 1), dt.datetime(2019, 8, 31), 0, 0.05])\n",
    "plt.xticks(rotation=45);"
   ]
  },
  {
   "cell_type": "markdown",
   "metadata": {},
   "source": [
    "Группы колебались вначале, но затем конверсия группы В превысила конверсию А, которая снизилась. Оба показателя зафиксировались."
   ]
  },
  {
   "cell_type": "markdown",
   "metadata": {},
   "source": [
    "#### Постройте график относительного изменения кумулятивного среднего количества заказов на посетителя группы B к группе A. "
   ]
  },
  {
   "cell_type": "code",
   "execution_count": 18,
   "metadata": {},
   "outputs": [
    {
     "data": {
      "image/png": "[encoded data removed]",
      "text/plain": [
       "<Figure size 576x288 with 1 Axes>"
      ]
     },
     "metadata": {
      "needs_background": "light"
     },
     "output_type": "display_data"
    }
   ],
   "source": [
    "mergedCumulativeConversions = cumulativeDataA[['date','conversion']].merge(cumulativeDataB[['date','conversion']], left_on='date', right_on='date', how='left', suffixes=['A', 'B'])\n",
    "\n",
    "plt.figure(figsize = (8,4))\n",
    "plt.title(\"Относительный прирост конверсии группы B относительно группы A\")\n",
    "plt.plot(mergedCumulativeConversions['date'], mergedCumulativeConversions['conversionB']/mergedCumulativeConversions['conversionA']-1, label=\"Относительный прирост конверсии группы B относительно группы A\")\n",
    "plt.legend()\n",
    "\n",
    "plt.axhline(y=0, color='black', linestyle='--')\n",
    "plt.axhline(y=0.2, color='grey', linestyle='--')\n",
    "plt.axis([\"2019-08-01\", '2019-08-31', -0.5, 0.5])\n",
    "plt.xticks(rotation=45);"
   ]
  },
  {
   "cell_type": "markdown",
   "metadata": {},
   "source": [
    "В начале теста значение конверсии группы B было меньше, чем в группе A, затем ситуация изменилась. Потом конверсия группы В снова падала, но в конце теста немножко подросла."
   ]
  },
  {
   "cell_type": "markdown",
   "metadata": {},
   "source": [
    "### Анализ выбросов и всплесков"
   ]
  },
  {
   "cell_type": "markdown",
   "metadata": {},
   "source": [
    "#### Постройте точечный график количества заказов по пользователям. "
   ]
  },
  {
   "cell_type": "code",
   "execution_count": 19,
   "metadata": {},
   "outputs": [
    {
     "data": {
      "image/png": "[encoded data removed]",
      "text/plain": [
       "<Figure size 432x288 with 1 Axes>"
      ]
     },
     "metadata": {
      "needs_background": "light"
     },
     "output_type": "display_data"
    }
   ],
   "source": [
    "ordersByUsers = (\n",
    "    orders.groupby('visitorId', as_index=False)\n",
    "    .agg({'transactionId': 'nunique'})\n",
    ")\n",
    "ordersByUsers.columns = ['visitorId', 'orders']\n",
    "\n",
    "plt.figure(figsize = (6,4))\n",
    "plt.title(\"Количество заказов по пользователям\")\n",
    "x_values = pd.Series(range(0, len(ordersByUsers)))\n",
    "plt.scatter(x_values, ordersByUsers['orders']) ;"
   ]
  },
  {
   "cell_type": "markdown",
   "metadata": {},
   "source": [
    "Пользователей, заказавших более 2 раз, мало. Для того, что определить аномальные значения посчитаем выборочные перцентили количества заказов на одного пользователя."
   ]
  },
  {
   "cell_type": "markdown",
   "metadata": {},
   "source": [
    "#### Посчитайте 95-й и 99-й перцентили количества заказов на пользователя. Выберите границу для определения аномальных пользователей."
   ]
  },
  {
   "cell_type": "code",
   "execution_count": 20,
   "metadata": {},
   "outputs": [
    {
     "data": {
      "text/plain": [
       "array([1., 2.])"
      ]
     },
     "execution_count": 20,
     "metadata": {},
     "output_type": "execute_result"
    }
   ],
   "source": [
    "np.percentile(ordersByUsers['orders'], [ 95, 99])"
   ]
  },
  {
   "cell_type": "markdown",
   "metadata": {},
   "source": [
    "Не более 5% пользователей совершали больше 1 заказов, и не более 1% - больше 2."
   ]
  },
  {
   "cell_type": "markdown",
   "metadata": {},
   "source": [
    "#### Постройте точечный график стоимостей заказов. Сделайте выводы и предположения."
   ]
  },
  {
   "cell_type": "code",
   "execution_count": 21,
   "metadata": {},
   "outputs": [
    {
     "data": {
      "image/png": "[encoded data removed]",
      "text/plain": [
       "<Figure size 576x432 with 1 Axes>"
      ]
     },
     "metadata": {
      "needs_background": "light"
     },
     "output_type": "display_data"
    }
   ],
   "source": [
    "plt.figure(figsize = (8,6))\n",
    "plt.title(\"Стоимость заказов\")\n",
    "x_values = pd.Series(range(0, len(orders['revenue'])))\n",
    "plt.scatter(x_values, orders['revenue']);"
   ]
  },
  {
   "cell_type": "markdown",
   "metadata": {},
   "source": [
    "Есть буквально два дорогих заказа. По графику можно понять, что большинство заказов стоят не более 100 тысяч."
   ]
  },
  {
   "cell_type": "markdown",
   "metadata": {},
   "source": [
    "#### Посчитайте 95-й и 99-й перцентили стоимости заказов. Выберите границу для определения аномальных заказов."
   ]
  },
  {
   "cell_type": "code",
   "execution_count": 22,
   "metadata": {},
   "outputs": [
    {
     "data": {
      "text/plain": [
       "array([26785., 53904.])"
      ]
     },
     "execution_count": 22,
     "metadata": {},
     "output_type": "execute_result"
    }
   ],
   "source": [
    "np.percentile(orders['revenue'], [95, 99])"
   ]
  },
  {
   "cell_type": "markdown",
   "metadata": {},
   "source": [
    "Не более 5% заказов дороже 26 785 рублей и не более 1% дороже 53 904 рублей."
   ]
  },
  {
   "cell_type": "markdown",
   "metadata": {},
   "source": [
    "### Анализ A/B-теста"
   ]
  },
  {
   "cell_type": "markdown",
   "metadata": {},
   "source": [
    "Ранее мы:<br>\n",
    "Оценили результаты A/B-теста визуально и выяснили, что в данных, скорее всего, есть выбросы;<br>\n",
    "Увидели выбросы и нашли границу для их определения.<br>\n",
    "\n",
    "#### Статистическая значимость различий в среднем количестве заказов на посетителя между группами (по \"сырым\" данным)."
   ]
  },
  {
   "cell_type": "code",
   "execution_count": 23,
   "metadata": {},
   "outputs": [
    {
     "name": "stdout",
     "output_type": "stream",
     "text": [
      "        date  ordersPerDateA  revenuePerDateA  ordersPerDateB  \\\n",
      "0 2019-08-01              23           142779              17   \n",
      "1 2019-08-02              19            91602              23   \n",
      "2 2019-08-03              24           112473              14   \n",
      "3 2019-08-04              11            41176              14   \n",
      "4 2019-08-05              22            86383              21   \n",
      "\n",
      "   revenuePerDateB  ordersCummulativeA  revenueCummulativeA  \\\n",
      "0            59758                  23               142779   \n",
      "1           162043                  42               234381   \n",
      "2            67049                  66               346854   \n",
      "3            96890                  77               388030   \n",
      "4            89908                  99               474413   \n",
      "\n",
      "   ordersCummulativeB  revenueCummulativeB  visitorsPerDateA  \\\n",
      "0                  17                59758               719   \n",
      "1                  40               221801               619   \n",
      "2                  54               288850               507   \n",
      "3                  68               385740               717   \n",
      "4                  89               475648               756   \n",
      "\n",
      "   visitorsPerDateB  visitorsCummulativeA  visitorsCummulativeB  \n",
      "0               713                   719                   713  \n",
      "1               581                  1338                  1294  \n",
      "2               509                  1845                  1803  \n",
      "3               770                  2562                  2573  \n",
      "4               707                  3318                  3280  \n"
     ]
    }
   ],
   "source": [
    "visitorsADaily = visitors[visitors['group'] == 'A'][['date', 'visitors']]\n",
    "visitorsADaily.columns = ['date', 'visitorsPerDateA']\n",
    "\n",
    "visitorsACummulative = visitorsADaily.apply(\n",
    "    lambda x: visitorsADaily[visitorsADaily['date'] <= x['date']].agg(\n",
    "        {'date': 'max', 'visitorsPerDateA': 'sum'}\n",
    "    ),\n",
    "    axis=1,\n",
    ")\n",
    "visitorsACummulative.columns = ['date', 'visitorsCummulativeA']\n",
    "\n",
    "visitorsBDaily = visitors[visitors['group'] == 'B'][['date', 'visitors']]\n",
    "visitorsBDaily.columns = ['date', 'visitorsPerDateB']\n",
    "\n",
    "visitorsBCummulative = visitorsBDaily.apply(\n",
    "    lambda x: visitorsBDaily[visitorsBDaily['date'] <= x['date']].agg(\n",
    "        {'date': 'max', 'visitorsPerDateB': 'sum'}\n",
    "    ),\n",
    "    axis=1,\n",
    ")\n",
    "visitorsBCummulative.columns = ['date', 'visitorsCummulativeB']\n",
    "\n",
    "ordersADaily = (\n",
    "    orders[orders['group'] == 'A'][['date', 'transactionId', 'visitorId', 'revenue']]\n",
    "    .groupby('date', as_index=False)\n",
    "    .agg({'transactionId': pd.Series.nunique, 'revenue': 'sum'})\n",
    ")\n",
    "ordersADaily.columns = ['date', 'ordersPerDateA', 'revenuePerDateA']\n",
    "\n",
    "ordersACummulative = ordersADaily.apply(\n",
    "    lambda x: ordersADaily[ordersADaily['date'] <= x['date']].agg(\n",
    "        {'date': 'max', 'ordersPerDateA': 'sum', 'revenuePerDateA': 'sum'}\n",
    "    ),\n",
    "    axis=1,\n",
    ").sort_values(by=['date'])\n",
    "ordersACummulative.columns = [\n",
    "    'date',\n",
    "    'ordersCummulativeA',\n",
    "    'revenueCummulativeA',\n",
    "]\n",
    "\n",
    "ordersBDaily = (\n",
    "    orders[orders['group'] == 'B'][['date', 'transactionId', 'visitorId', 'revenue']]\n",
    "    .groupby('date', as_index=False)\n",
    "    .agg({'transactionId': pd.Series.nunique, 'revenue': 'sum'})\n",
    ")\n",
    "ordersBDaily.columns = ['date', 'ordersPerDateB', 'revenuePerDateB']\n",
    "\n",
    "ordersBCummulative = ordersBDaily.apply(\n",
    "    lambda x: ordersBDaily[ordersBDaily['date'] <= x['date']].agg(\n",
    "        {'date': 'max', 'ordersPerDateB': 'sum', 'revenuePerDateB': 'sum'}\n",
    "    ),\n",
    "    axis=1,\n",
    ").sort_values(by=['date'])\n",
    "ordersBCummulative.columns = [\n",
    "    'date',\n",
    "    'ordersCummulativeB',\n",
    "    'revenueCummulativeB',\n",
    "]\n",
    "\n",
    "data = (\n",
    "    ordersADaily.merge(\n",
    "        ordersBDaily, left_on='date', right_on='date', how='left'\n",
    "    )\n",
    "    .merge(ordersACummulative, left_on='date', right_on='date', how='left')\n",
    "    .merge(ordersBCummulative, left_on='date', right_on='date', how='left')\n",
    "    .merge(visitorsADaily, left_on='date', right_on='date', how='left')\n",
    "    .merge(visitorsBDaily, left_on='date', right_on='date', how='left')\n",
    "    .merge(visitorsACummulative, left_on='date', right_on='date', how='left')\n",
    "    .merge(visitorsBCummulative, left_on='date', right_on='date', how='left')\n",
    ")\n",
    "\n",
    "print(data.head(5))\n",
    "\n",
    "ordersByUsersA = (\n",
    "    orders[orders['group'] == 'A']\n",
    "    .groupby('visitorId', as_index=False)\n",
    "    .agg({'transactionId': pd.Series.nunique})\n",
    ")\n",
    "ordersByUsersA.columns = ['visitorId', 'orders']\n",
    "\n",
    "ordersByUsersB = (\n",
    "    orders[orders['group'] == 'B']\n",
    "    .groupby('visitorId', as_index=False)\n",
    "    .agg({'transactionId': pd.Series.nunique})\n",
    ")\n",
    "ordersByUsersB.columns = ['visitorId', 'orders']\n",
    "\n",
    "sampleA = pd.concat(\n",
    "    [\n",
    "        ordersByUsersA['orders'],\n",
    "        pd.Series(\n",
    "            0,\n",
    "            index=np.arange(\n",
    "                data['visitorsPerDateA'].sum() - len(ordersByUsersA['orders'])\n",
    "            ),\n",
    "            name='orders',\n",
    "        ),\n",
    "    ],\n",
    "    axis=0,\n",
    ")\n",
    "\n",
    "sampleB = pd.concat(\n",
    "    [\n",
    "        ordersByUsersB['orders'],\n",
    "        pd.Series(\n",
    "            0,\n",
    "            index=np.arange(\n",
    "                data['visitorsPerDateB'].sum() - len(ordersByUsersB['orders'])\n",
    "            ),\n",
    "            name='orders',\n",
    "        ),\n",
    "    ],\n",
    "    axis=0,\n",
    ")\n"
   ]
  },
  {
   "cell_type": "markdown",
   "metadata": {},
   "source": [
    "Посчитаем статистическую значимость различий в среднем числе заказов на пользователя по «сырым» данным — без удаления аномальных пользователей.\n",
    "Сформулируем гипотезы. Нулевая: различий в среднем количестве заказов между группами нет. Альтернативная: различия в среднем между группами есть."
   ]
  },
  {
   "cell_type": "code",
   "execution_count": 24,
   "metadata": {},
   "outputs": [
    {
     "name": "stdout",
     "output_type": "stream",
     "text": [
      "P-value различия конверсий между группами по сырым данным:0.01102\n",
      "Относительный прирост конверсии между группами по сырым данным:0.160\n"
     ]
    }
   ],
   "source": [
    "print(\"P-value различия конверсий между группами по сырым данным:{0:.5f}\".format(stats.mannwhitneyu(sampleA, sampleB)[1]))\n",
    "\n",
    "print(\"Относительный прирост конверсии между группами по сырым данным:{0:.3f}\".format(sampleB.mean() / sampleA.mean() - 1))"
   ]
  },
  {
   "cell_type": "markdown",
   "metadata": {},
   "source": [
    "P-value (0.01102) значительно меньше 0.05 - первую гипотезу отвергаем(о том, что статистически значимых различий в среднем числе заказов между группами нет), значит в среднем количестве заказов между группами есть статистически значимые различия. <br>\n",
    "Относительный прирост среднего группы В к конверсии группы А равен 16%.<br>\n",
    "\n",
    "#### Статистическая значимость различий в среднем чеке заказа между группами (по «сырым» данным). "
   ]
  },
  {
   "cell_type": "markdown",
   "metadata": {},
   "source": [
    "Теперь проверим статистическую значимость различий в среднем чеке между сегментами. Нулевая гипотеза: различий в среднем чеке между группами нет. Альтернативная гипотеза: различия в среднем чеке между группами есть. "
   ]
  },
  {
   "cell_type": "code",
   "execution_count": 25,
   "metadata": {},
   "outputs": [
    {
     "name": "stdout",
     "output_type": "stream",
     "text": [
      "P-value различия среднего чека между группами по сырым данным:0.829\n",
      "Относительный прирост среднего чека между группами по сырым данным:0.287\n"
     ]
    }
   ],
   "source": [
    "print('P-value различия среднего чека между группами по сырым данным:{0:.3f}'.format(stats.mannwhitneyu(orders[orders['group']=='A']['revenue'], orders[orders['group']=='B']['revenue'])[1]))\n",
    "print('Относительный прирост среднего чека между группами по сырым данным:{0:.3f}'.format(orders[orders['group']=='B']['revenue'].mean()/orders[orders['group']=='A']['revenue'].mean()-1))"
   ]
  },
  {
   "cell_type": "markdown",
   "metadata": {},
   "source": [
    "Р-value больше 0.05. Значит, причин отвергать нулевую гипотезу и считать, что в среднем чеке есть различия, нет. Наблюдаемое различие в 28.7% не является статистическим значимым. <br>\n",
    "#### Подготовка очищенных от аномалий данных."
   ]
  },
  {
   "cell_type": "code",
   "execution_count": 26,
   "metadata": {},
   "outputs": [],
   "source": [
    "orders_lim = 1\n",
    "revenue_lim = 26700"
   ]
  },
  {
   "cell_type": "code",
   "execution_count": 27,
   "metadata": {},
   "outputs": [
    {
     "name": "stdout",
     "output_type": "stream",
     "text": [
      "568     113298937\n",
      "1099    148427295\n",
      "928     204675465\n",
      "33      249864742\n",
      "684     358944393\n",
      "Name: visitorId, dtype: int64\n",
      "86\n"
     ]
    }
   ],
   "source": [
    "usersWithManyOrders = pd.concat(\n",
    "    [\n",
    "        ordersByUsersA[ordersByUsersA['orders'] > orders_lim]['visitorId'],\n",
    "        ordersByUsersB[ordersByUsersB['orders'] > orders_lim]['visitorId'],\n",
    "    ],\n",
    "    axis=0,\n",
    ")\n",
    "usersWithExpensiveOrders = orders[orders['revenue'] > revenue_lim]['visitorId']\n",
    "abnormalUsers = (\n",
    "    pd.concat([usersWithManyOrders, usersWithExpensiveOrders], axis=0)\n",
    "    .drop_duplicates()\n",
    "    .sort_values()\n",
    ")\n",
    "print(abnormalUsers.head(5))\n",
    "print(abnormalUsers.shape[0]) "
   ]
  },
  {
   "cell_type": "code",
   "execution_count": 28,
   "metadata": {},
   "outputs": [],
   "source": [
    "sampleAFiltered = pd.concat(\n",
    "    [\n",
    "        ordersByUsersA[\n",
    "            np.logical_not(ordersByUsersA['visitorId'].isin(abnormalUsers))\n",
    "        ]['orders'],\n",
    "        pd.Series(\n",
    "            0,\n",
    "            index=np.arange(\n",
    "                data['visitorsPerDateA'].sum() - len(ordersByUsersA['orders'])\n",
    "            ),\n",
    "            name='orders',\n",
    "        ),\n",
    "    ],\n",
    "    axis=0,\n",
    ")\n",
    "\n",
    "sampleBFiltered = pd.concat(\n",
    "    [\n",
    "        ordersByUsersB[\n",
    "            np.logical_not(ordersByUsersB['visitorId'].isin(abnormalUsers))\n",
    "        ]['orders'],\n",
    "        pd.Series(\n",
    "            0,\n",
    "            index=np.arange(\n",
    "                data['visitorsPerDateB'].sum() - len(ordersByUsersB['orders'])\n",
    "            ),\n",
    "            name='orders',\n",
    "        ),\n",
    "    ],\n",
    "    axis=0,\n",
    ")"
   ]
  },
  {
   "cell_type": "markdown",
   "metadata": {},
   "source": [
    "Всего 86 аномальных пользователя. Оценим, как их действия повлияли на результаты теста. <br>\n",
    "\n",
    "#### Статистическая значимость различий в среднем количестве заказов на посетителя между группами (по «очищенным» данным).\n",
    "\n",
    "После очистки данных от аномальных пользователей сформулируем гипотезы. <br>\n",
    "Нулевая: различий в среднем количестве заказов между группами нет. Альтернативная: различия в среднем между группами есть."
   ]
  },
  {
   "cell_type": "code",
   "execution_count": 29,
   "metadata": {},
   "outputs": [
    {
     "name": "stdout",
     "output_type": "stream",
     "text": [
      "P-value различия конверсий между группами по очищенным данным: 0.01593\n",
      "Относительный прирост конверсии между группами по очищенным данным: 0.174\n"
     ]
    }
   ],
   "source": [
    "print('P-value различия конверсий между группами по очищенным данным: {0:.5f}'.format(stats.mannwhitneyu(sampleAFiltered, sampleBFiltered)[1]))\n",
    "print('Относительный прирост конверсии между группами по очищенным данным: {0:.3f}'.format(sampleBFiltered.mean()/sampleAFiltered.mean()-1))"
   ]
  },
  {
   "cell_type": "markdown",
   "metadata": {},
   "source": [
    "Гипотезу о том, что статистически значимых различий в среднем числе заказов между группами нет отвергаем.\n",
    "Группа В демонстрирует лучшие результаты, чем группа А. Статистическая значимость достигнута. <br>\n",
    "\n",
    "#### Статистическая значимость различий в среднем чеке заказа между группами (по «очищенным» данным).  <br>\n",
    "\n",
    "Также проверим статистическую значимость различий в среднем чеке между сегментами после очистки данных от аномалий. Нулевая гипотеза: различий в среднем чеке между группами нет. Альтернативная гипотеза: различия в среднем чеке между группами есть. "
   ]
  },
  {
   "cell_type": "code",
   "execution_count": 30,
   "metadata": {},
   "outputs": [
    {
     "name": "stdout",
     "output_type": "stream",
     "text": [
      "P-value различия среднего чека между группами по очищенным данным: 0.727\n",
      "Относительный прирост среднего чека между группами по очищенным данным: -0.034\n"
     ]
    }
   ],
   "source": [
    "print(\n",
    "    'P-value различия среднего чека между группами по очищенным данным: {0:.3f}'.format(\n",
    "        stats.mannwhitneyu(\n",
    "            orders[\n",
    "                np.logical_and(\n",
    "                    orders['group'] == 'A',\n",
    "                    np.logical_not(orders['visitorId'].isin(abnormalUsers)),\n",
    "                )\n",
    "            ]['revenue'],\n",
    "            orders[\n",
    "                np.logical_and(\n",
    "                    orders['group'] == 'B',\n",
    "                    np.logical_not(orders['visitorId'].isin(abnormalUsers)),\n",
    "                )\n",
    "            ]['revenue'],\n",
    "        )[1]\n",
    "    )\n",
    ")\n",
    "\n",
    "print(\n",
    "    \"Относительный прирост среднего чека между группами по очищенным данным: {0:.3f}\".format(\n",
    "        orders[\n",
    "            np.logical_and(\n",
    "                orders['group'] == 'B',\n",
    "                np.logical_not(orders['visitorId'].isin(abnormalUsers)),\n",
    "            )\n",
    "        ]['revenue'].mean()\n",
    "        / orders[\n",
    "            np.logical_and(\n",
    "                orders['group'] == 'A',\n",
    "                np.logical_not(orders['visitorId'].isin(abnormalUsers)),\n",
    "            )\n",
    "        ]['revenue'].mean()\n",
    "        - 1\n",
    "    )\n",
    ")"
   ]
  },
  {
   "cell_type": "markdown",
   "metadata": {},
   "source": [
    "P-value увеличился и по прежнему больше 0.05 - значит, причин отвергать нулевую гипотезу и считать, что в среднем чеке есть различия, нет. Разница между сегментами существенно изменилась с 29% до -3%, но она не является статистически значимой"
   ]
  },
  {
   "cell_type": "markdown",
   "metadata": {},
   "source": [
    "### Результаты теста.<br>\n",
    "\n",
    "Результаты проделанной работы:<br>\n",
    "\n",
    "- Есть статистически значимое различие по конверсии между группами как по сырым данным, так и после фильтрации аномалий.\n",
    "- Как по сырым так и по очищенным данным нет статистически значимого различия по среднему чеку между группами. Однако после удаления аномалий различия среднего чека изменилось в пользу группы A.\n",
    "- График различия конверсии между группами сообщает, что результаты группы B лучше группы A.<br>\n",
    "\n",
    "В дальнейшем проведение теста смысла нет. Его необходимо остановить и признать победу группы B, так как все ее показатели (кроме среднего чека по очищенным данным) преобладают над группой A."
   ]
  }
 ],
 "metadata": {
  "ExecuteTimeLog": [
   {
    "duration": 365,
    "start_time": "2023-05-28T14:17:11.050Z"
   },
   {
    "duration": 124,
    "start_time": "2023-05-28T14:17:46.806Z"
   },
   {
    "duration": 84,
    "start_time": "2023-05-28T14:17:56.658Z"
   },
   {
    "duration": 14,
    "start_time": "2023-05-28T14:18:02.882Z"
   },
   {
    "duration": 71,
    "start_time": "2023-05-28T14:20:04.362Z"
   },
   {
    "duration": 7,
    "start_time": "2023-05-28T14:20:13.770Z"
   },
   {
    "duration": 23,
    "start_time": "2023-05-28T14:22:00.802Z"
   },
   {
    "duration": 8,
    "start_time": "2023-05-28T14:23:06.559Z"
   },
   {
    "duration": 4,
    "start_time": "2023-05-28T14:23:45.986Z"
   },
   {
    "duration": 14,
    "start_time": "2023-05-28T14:23:59.419Z"
   },
   {
    "duration": 11,
    "start_time": "2023-05-28T14:24:38.579Z"
   },
   {
    "duration": 23,
    "start_time": "2023-05-28T14:25:24.904Z"
   },
   {
    "duration": 12,
    "start_time": "2023-05-28T14:28:42.476Z"
   },
   {
    "duration": 146,
    "start_time": "2023-05-28T14:42:19.053Z"
   },
   {
    "duration": 377,
    "start_time": "2023-05-28T14:43:17.403Z"
   },
   {
    "duration": 14,
    "start_time": "2023-05-28T14:43:43.795Z"
   },
   {
    "duration": 20,
    "start_time": "2023-05-28T14:43:56.001Z"
   },
   {
    "duration": 492,
    "start_time": "2023-05-28T14:45:31.986Z"
   },
   {
    "duration": 15,
    "start_time": "2023-05-28T14:46:12.473Z"
   },
   {
    "duration": 100,
    "start_time": "2023-05-28T14:47:07.785Z"
   },
   {
    "duration": 98,
    "start_time": "2023-05-28T14:49:03.562Z"
   },
   {
    "duration": 661,
    "start_time": "2023-05-28T14:49:11.118Z"
   },
   {
    "duration": 4,
    "start_time": "2023-05-28T14:49:53.398Z"
   },
   {
    "duration": 4,
    "start_time": "2023-05-28T14:50:30.038Z"
   },
   {
    "duration": 580,
    "start_time": "2023-05-28T14:50:39.486Z"
   },
   {
    "duration": 628,
    "start_time": "2023-05-28T14:53:40.853Z"
   },
   {
    "duration": 580,
    "start_time": "2023-05-28T14:54:27.165Z"
   },
   {
    "duration": 580,
    "start_time": "2023-05-28T14:55:02.789Z"
   },
   {
    "duration": 601,
    "start_time": "2023-05-28T14:55:35.568Z"
   },
   {
    "duration": 634,
    "start_time": "2023-05-28T14:55:52.117Z"
   },
   {
    "duration": 584,
    "start_time": "2023-05-28T14:56:10.990Z"
   },
   {
    "duration": 609,
    "start_time": "2023-05-28T14:56:34.517Z"
   },
   {
    "duration": 604,
    "start_time": "2023-05-28T14:56:38.696Z"
   },
   {
    "duration": 638,
    "start_time": "2023-05-28T14:56:53.763Z"
   },
   {
    "duration": 590,
    "start_time": "2023-05-28T14:57:01.418Z"
   },
   {
    "duration": 147,
    "start_time": "2023-05-28T15:00:17.992Z"
   },
   {
    "duration": 454,
    "start_time": "2023-05-28T15:00:56.353Z"
   },
   {
    "duration": 469,
    "start_time": "2023-05-28T15:01:11.689Z"
   },
   {
    "duration": 468,
    "start_time": "2023-05-28T15:01:28.151Z"
   },
   {
    "duration": 478,
    "start_time": "2023-05-28T15:01:33.828Z"
   },
   {
    "duration": 158,
    "start_time": "2023-05-28T15:03:04.788Z"
   },
   {
    "duration": 168,
    "start_time": "2023-05-28T15:03:41.799Z"
   },
   {
    "duration": 288,
    "start_time": "2023-05-28T15:05:25.883Z"
   },
   {
    "duration": 207,
    "start_time": "2023-05-28T15:09:38.454Z"
   },
   {
    "duration": 290,
    "start_time": "2023-05-28T15:10:35.994Z"
   },
   {
    "duration": 5,
    "start_time": "2023-05-28T15:11:40.162Z"
   },
   {
    "duration": 143,
    "start_time": "2023-05-28T15:11:43.601Z"
   },
   {
    "duration": 213,
    "start_time": "2023-05-28T15:13:58.855Z"
   },
   {
    "duration": 605,
    "start_time": "2023-05-28T15:20:16.951Z"
   },
   {
    "duration": 482,
    "start_time": "2023-05-28T15:20:30.312Z"
   },
   {
    "duration": 178,
    "start_time": "2023-05-28T15:20:57.843Z"
   },
   {
    "duration": 235,
    "start_time": "2023-05-28T15:21:42.150Z"
   },
   {
    "duration": 161,
    "start_time": "2023-05-28T15:23:16.194Z"
   },
   {
    "duration": 157,
    "start_time": "2023-05-28T15:23:37.291Z"
   },
   {
    "duration": 261,
    "start_time": "2023-05-28T15:25:07.055Z"
   },
   {
    "duration": 269,
    "start_time": "2023-05-28T15:25:36.008Z"
   },
   {
    "duration": 11,
    "start_time": "2023-05-28T15:28:27.850Z"
   },
   {
    "duration": 101,
    "start_time": "2023-05-28T15:30:13.584Z"
   },
   {
    "duration": 105,
    "start_time": "2023-05-28T15:31:33.325Z"
   },
   {
    "duration": 180,
    "start_time": "2023-05-28T15:32:20.064Z"
   },
   {
    "duration": 4,
    "start_time": "2023-05-28T15:33:40.073Z"
   },
   {
    "duration": 101,
    "start_time": "2023-05-28T15:35:26.105Z"
   },
   {
    "duration": 1766,
    "start_time": "2023-05-28T15:35:38.315Z"
   },
   {
    "duration": 12,
    "start_time": "2023-05-28T15:35:53.182Z"
   },
   {
    "duration": 118,
    "start_time": "2023-05-28T15:36:04.908Z"
   },
   {
    "duration": 118,
    "start_time": "2023-05-28T15:36:30.086Z"
   },
   {
    "duration": 5,
    "start_time": "2023-05-28T15:40:42.684Z"
   },
   {
    "duration": 7,
    "start_time": "2023-05-28T15:40:48.449Z"
   },
   {
    "duration": 5,
    "start_time": "2023-05-28T15:40:53.269Z"
   },
   {
    "duration": 122,
    "start_time": "2023-05-28T15:48:08.078Z"
   },
   {
    "duration": 830,
    "start_time": "2023-06-02T13:16:59.198Z"
   },
   {
    "duration": 69,
    "start_time": "2023-06-02T13:17:00.499Z"
   },
   {
    "duration": 12,
    "start_time": "2023-06-02T13:17:00.756Z"
   },
   {
    "duration": 4,
    "start_time": "2023-06-02T13:17:00.989Z"
   },
   {
    "duration": 11,
    "start_time": "2023-06-02T13:17:02.564Z"
   },
   {
    "duration": 13,
    "start_time": "2023-06-02T13:17:02.796Z"
   },
   {
    "duration": 729,
    "start_time": "2023-06-02T13:18:04.469Z"
   },
   {
    "duration": 176,
    "start_time": "2023-06-02T13:21:15.107Z"
   },
   {
    "duration": 367,
    "start_time": "2023-06-02T13:29:15.248Z"
   },
   {
    "duration": 238,
    "start_time": "2023-06-02T13:33:02.601Z"
   },
   {
    "duration": 326,
    "start_time": "2023-06-02T13:35:52.062Z"
   },
   {
    "duration": 55,
    "start_time": "2023-06-05T01:52:18.012Z"
   },
   {
    "duration": 867,
    "start_time": "2023-06-05T01:52:29.470Z"
   },
   {
    "duration": 74,
    "start_time": "2023-06-05T01:52:30.339Z"
   },
   {
    "duration": 14,
    "start_time": "2023-06-05T01:52:30.415Z"
   },
   {
    "duration": 29,
    "start_time": "2023-06-05T01:52:30.431Z"
   },
   {
    "duration": 58,
    "start_time": "2023-06-05T01:52:30.462Z"
   },
   {
    "duration": 30,
    "start_time": "2023-06-05T01:52:30.537Z"
   },
   {
    "duration": 745,
    "start_time": "2023-06-05T01:52:31.081Z"
   },
   {
    "duration": 228,
    "start_time": "2023-06-05T01:52:31.828Z"
   },
   {
    "duration": 323,
    "start_time": "2023-06-05T01:52:32.181Z"
   },
   {
    "duration": 263,
    "start_time": "2023-06-05T01:52:32.809Z"
   },
   {
    "duration": 274,
    "start_time": "2023-06-05T01:52:34.180Z"
   },
   {
    "duration": 130,
    "start_time": "2023-06-05T01:52:35.954Z"
   },
   {
    "duration": 5,
    "start_time": "2023-06-05T02:02:29.877Z"
   },
   {
    "duration": 142,
    "start_time": "2023-06-05T02:04:24.600Z"
   },
   {
    "duration": 6,
    "start_time": "2023-06-05T02:04:30.494Z"
   },
   {
    "duration": 263,
    "start_time": "2023-06-05T02:25:38.192Z"
   },
   {
    "duration": 349,
    "start_time": "2023-06-05T02:26:15.338Z"
   },
   {
    "duration": 450,
    "start_time": "2023-06-05T02:28:18.879Z"
   },
   {
    "duration": 510,
    "start_time": "2023-06-05T02:28:23.329Z"
   },
   {
    "duration": 385,
    "start_time": "2023-06-05T02:29:03.040Z"
   },
   {
    "duration": 400,
    "start_time": "2023-06-05T02:29:09.464Z"
   },
   {
    "duration": 11,
    "start_time": "2023-06-05T02:55:41.659Z"
   },
   {
    "duration": 10,
    "start_time": "2023-06-05T03:03:57.470Z"
   },
   {
    "duration": 10,
    "start_time": "2023-06-05T03:04:23.411Z"
   },
   {
    "duration": 10,
    "start_time": "2023-06-05T03:04:52.862Z"
   },
   {
    "duration": 9,
    "start_time": "2023-06-05T03:09:13.919Z"
   },
   {
    "duration": 22,
    "start_time": "2023-06-05T03:09:59.972Z"
   },
   {
    "duration": 1283,
    "start_time": "2023-06-05T03:14:20.069Z"
   },
   {
    "duration": 15,
    "start_time": "2023-06-05T03:14:44.044Z"
   },
   {
    "duration": 80,
    "start_time": "2023-06-05T03:16:41.770Z"
   },
   {
    "duration": 1091,
    "start_time": "2023-06-05T06:40:41.530Z"
   },
   {
    "duration": 26,
    "start_time": "2023-06-05T06:40:42.623Z"
   },
   {
    "duration": 11,
    "start_time": "2023-06-05T06:40:42.650Z"
   },
   {
    "duration": 3,
    "start_time": "2023-06-05T06:40:42.662Z"
   },
   {
    "duration": 13,
    "start_time": "2023-06-05T06:40:42.668Z"
   },
   {
    "duration": 13,
    "start_time": "2023-06-05T06:40:42.683Z"
   },
   {
    "duration": 582,
    "start_time": "2023-06-05T06:40:42.698Z"
   },
   {
    "duration": 198,
    "start_time": "2023-06-05T06:40:43.282Z"
   },
   {
    "duration": 300,
    "start_time": "2023-06-05T06:40:43.482Z"
   },
   {
    "duration": 191,
    "start_time": "2023-06-05T06:40:43.784Z"
   },
   {
    "duration": 283,
    "start_time": "2023-06-05T06:40:43.977Z"
   },
   {
    "duration": 118,
    "start_time": "2023-06-05T06:40:44.262Z"
   },
   {
    "duration": 9,
    "start_time": "2023-06-05T06:40:44.384Z"
   },
   {
    "duration": 130,
    "start_time": "2023-06-05T06:40:44.396Z"
   },
   {
    "duration": 5,
    "start_time": "2023-06-05T06:40:44.527Z"
   },
   {
    "duration": 361,
    "start_time": "2023-06-05T06:40:44.534Z"
   },
   {
    "duration": 10,
    "start_time": "2023-06-05T06:40:44.897Z"
   },
   {
    "duration": 8,
    "start_time": "2023-06-05T06:40:44.908Z"
   },
   {
    "duration": 9,
    "start_time": "2023-06-05T06:40:44.917Z"
   },
   {
    "duration": 19,
    "start_time": "2023-06-05T06:40:44.927Z"
   },
   {
    "duration": 43,
    "start_time": "2023-06-05T06:40:44.947Z"
   },
   {
    "duration": 46,
    "start_time": "2023-06-05T08:01:50.088Z"
   },
   {
    "duration": 43,
    "start_time": "2023-06-05T08:02:26.745Z"
   },
   {
    "duration": 6,
    "start_time": "2023-06-05T08:02:31.852Z"
   },
   {
    "duration": 7,
    "start_time": "2023-06-05T08:02:32.125Z"
   },
   {
    "duration": 1287,
    "start_time": "2023-06-05T08:02:37.838Z"
   },
   {
    "duration": 68,
    "start_time": "2023-06-05T08:02:39.127Z"
   },
   {
    "duration": 11,
    "start_time": "2023-06-05T08:02:39.197Z"
   },
   {
    "duration": 54,
    "start_time": "2023-06-05T08:02:39.209Z"
   },
   {
    "duration": 71,
    "start_time": "2023-06-05T08:02:39.265Z"
   },
   {
    "duration": 51,
    "start_time": "2023-06-05T08:02:39.338Z"
   },
   {
    "duration": 140,
    "start_time": "2023-06-05T08:02:40.888Z"
   },
   {
    "duration": 10,
    "start_time": "2023-06-05T08:02:41.823Z"
   },
   {
    "duration": 13,
    "start_time": "2023-06-05T08:03:04.362Z"
   },
   {
    "duration": 6,
    "start_time": "2023-06-05T08:04:09.682Z"
   },
   {
    "duration": 56,
    "start_time": "2023-06-05T08:04:26.416Z"
   },
   {
    "duration": 6,
    "start_time": "2023-06-05T08:04:31.264Z"
   },
   {
    "duration": 7,
    "start_time": "2023-06-05T08:04:37.233Z"
   },
   {
    "duration": 7,
    "start_time": "2023-06-05T08:05:05.330Z"
   },
   {
    "duration": 8,
    "start_time": "2023-06-05T08:10:32.750Z"
   },
   {
    "duration": 1302,
    "start_time": "2023-06-06T01:07:12.024Z"
   },
   {
    "duration": 59,
    "start_time": "2023-06-06T01:07:13.328Z"
   },
   {
    "duration": 12,
    "start_time": "2023-06-06T01:07:13.389Z"
   },
   {
    "duration": 3,
    "start_time": "2023-06-06T01:07:13.403Z"
   },
   {
    "duration": 13,
    "start_time": "2023-06-06T01:07:13.407Z"
   },
   {
    "duration": 10,
    "start_time": "2023-06-06T01:07:13.422Z"
   },
   {
    "duration": 146,
    "start_time": "2023-06-06T01:07:14.492Z"
   },
   {
    "duration": 11,
    "start_time": "2023-06-06T01:07:15.667Z"
   },
   {
    "duration": 11,
    "start_time": "2023-06-06T01:07:15.940Z"
   },
   {
    "duration": 6,
    "start_time": "2023-06-06T01:07:17.528Z"
   },
   {
    "duration": 8,
    "start_time": "2023-06-06T01:07:17.787Z"
   },
   {
    "duration": 10,
    "start_time": "2023-06-06T01:07:18.498Z"
   },
   {
    "duration": 529,
    "start_time": "2023-06-06T01:07:19.131Z"
   },
   {
    "duration": 7,
    "start_time": "2023-06-06T01:14:02.355Z"
   },
   {
    "duration": 9,
    "start_time": "2023-06-06T01:14:43.539Z"
   },
   {
    "duration": 11,
    "start_time": "2023-06-06T01:15:06.590Z"
   },
   {
    "duration": 15,
    "start_time": "2023-06-06T01:15:22.389Z"
   },
   {
    "duration": 107,
    "start_time": "2023-06-06T01:19:05.840Z"
   },
   {
    "duration": 7,
    "start_time": "2023-06-06T01:19:30.112Z"
   },
   {
    "duration": 11,
    "start_time": "2023-06-06T01:26:51.658Z"
   },
   {
    "duration": 11,
    "start_time": "2023-06-06T01:27:14.040Z"
   },
   {
    "duration": 6,
    "start_time": "2023-06-06T01:27:40.038Z"
   },
   {
    "duration": 4,
    "start_time": "2023-06-06T01:29:10.648Z"
   },
   {
    "duration": 4,
    "start_time": "2023-06-06T01:29:19.383Z"
   },
   {
    "duration": 8,
    "start_time": "2023-06-06T01:30:19.420Z"
   },
   {
    "duration": 198,
    "start_time": "2023-06-06T01:34:33.343Z"
   },
   {
    "duration": 323,
    "start_time": "2023-06-06T01:36:10.463Z"
   },
   {
    "duration": 180,
    "start_time": "2023-06-06T01:36:21.793Z"
   },
   {
    "duration": 305,
    "start_time": "2023-06-06T01:36:41.954Z"
   },
   {
    "duration": 121,
    "start_time": "2023-06-06T01:36:51.679Z"
   },
   {
    "duration": 6,
    "start_time": "2023-06-06T01:37:39.206Z"
   },
   {
    "duration": 141,
    "start_time": "2023-06-06T01:38:06.013Z"
   },
   {
    "duration": 5,
    "start_time": "2023-06-06T01:38:26.545Z"
   },
   {
    "duration": 9,
    "start_time": "2023-06-06T01:39:56.660Z"
   },
   {
    "duration": 339,
    "start_time": "2023-06-06T01:39:59.505Z"
   },
   {
    "duration": 22,
    "start_time": "2023-06-06T01:39:59.876Z"
   },
   {
    "duration": 12,
    "start_time": "2023-06-06T01:42:48.784Z"
   },
   {
    "duration": 1236,
    "start_time": "2023-06-08T00:06:32.193Z"
   },
   {
    "duration": 60,
    "start_time": "2023-06-08T00:06:33.432Z"
   },
   {
    "duration": 17,
    "start_time": "2023-06-08T00:06:33.494Z"
   },
   {
    "duration": 3,
    "start_time": "2023-06-08T00:06:33.887Z"
   },
   {
    "duration": 12,
    "start_time": "2023-06-08T00:06:34.179Z"
   },
   {
    "duration": 9,
    "start_time": "2023-06-08T00:08:12.180Z"
   },
   {
    "duration": 12,
    "start_time": "2023-06-08T00:14:12.332Z"
   },
   {
    "duration": 154,
    "start_time": "2023-06-08T00:14:14.029Z"
   },
   {
    "duration": 13,
    "start_time": "2023-06-08T00:14:16.395Z"
   },
   {
    "duration": 12,
    "start_time": "2023-06-08T00:14:16.961Z"
   },
   {
    "duration": 6,
    "start_time": "2023-06-08T00:14:17.542Z"
   },
   {
    "duration": 7,
    "start_time": "2023-06-08T00:14:17.902Z"
   },
   {
    "duration": 9,
    "start_time": "2023-06-08T00:14:18.931Z"
   },
   {
    "duration": 566,
    "start_time": "2023-06-08T00:14:19.283Z"
   },
   {
    "duration": 93,
    "start_time": "2023-06-08T00:28:38.186Z"
   },
   {
    "duration": 68,
    "start_time": "2023-06-08T00:28:44.022Z"
   },
   {
    "duration": 89,
    "start_time": "2023-06-08T00:28:54.875Z"
   },
   {
    "duration": 129,
    "start_time": "2023-06-08T00:28:59.948Z"
   },
   {
    "duration": 95,
    "start_time": "2023-06-08T00:29:24.214Z"
   },
   {
    "duration": 10,
    "start_time": "2023-06-08T00:29:56.443Z"
   },
   {
    "duration": 9,
    "start_time": "2023-06-08T00:30:17.740Z"
   },
   {
    "duration": 9,
    "start_time": "2023-06-08T00:31:05.878Z"
   },
   {
    "duration": 83,
    "start_time": "2023-06-08T00:31:23.571Z"
   },
   {
    "duration": 97,
    "start_time": "2023-06-08T00:31:33.200Z"
   },
   {
    "duration": 9,
    "start_time": "2023-06-08T00:32:22.065Z"
   },
   {
    "duration": 8,
    "start_time": "2023-06-08T00:32:49.976Z"
   },
   {
    "duration": 6,
    "start_time": "2023-06-08T00:33:03.016Z"
   },
   {
    "duration": 8,
    "start_time": "2023-06-08T00:34:12.868Z"
   },
   {
    "duration": 5,
    "start_time": "2023-06-08T00:34:20.671Z"
   },
   {
    "duration": 3,
    "start_time": "2023-06-08T00:35:01.741Z"
   },
   {
    "duration": 5,
    "start_time": "2023-06-08T00:35:22.408Z"
   },
   {
    "duration": 99,
    "start_time": "2023-06-08T00:35:53.131Z"
   },
   {
    "duration": 14,
    "start_time": "2023-06-08T00:36:31.757Z"
   },
   {
    "duration": 12,
    "start_time": "2023-06-08T00:41:32.901Z"
   },
   {
    "duration": 13,
    "start_time": "2023-06-08T00:41:42.578Z"
   },
   {
    "duration": 318,
    "start_time": "2023-06-08T00:42:16.565Z"
   },
   {
    "duration": 464,
    "start_time": "2023-06-08T00:42:24.705Z"
   },
   {
    "duration": 200,
    "start_time": "2023-06-08T00:42:50.060Z"
   },
   {
    "duration": 370,
    "start_time": "2023-06-08T00:42:58.899Z"
   },
   {
    "duration": 179,
    "start_time": "2023-06-08T00:43:06.784Z"
   },
   {
    "duration": 275,
    "start_time": "2023-06-08T00:43:14.467Z"
   },
   {
    "duration": 152,
    "start_time": "2023-06-08T00:43:26.960Z"
   },
   {
    "duration": 6,
    "start_time": "2023-06-08T00:43:42.213Z"
   },
   {
    "duration": 129,
    "start_time": "2023-06-08T00:44:27.651Z"
   },
   {
    "duration": 4,
    "start_time": "2023-06-08T00:45:11.088Z"
   },
   {
    "duration": 11,
    "start_time": "2023-06-08T00:47:49.598Z"
   },
   {
    "duration": 401,
    "start_time": "2023-06-08T00:47:55.210Z"
   },
   {
    "duration": 30,
    "start_time": "2023-06-08T00:47:58.278Z"
   },
   {
    "duration": 10,
    "start_time": "2023-06-08T00:48:34.551Z"
   },
   {
    "duration": 9,
    "start_time": "2023-06-08T00:49:11.620Z"
   },
   {
    "duration": 3,
    "start_time": "2023-06-08T00:51:44.720Z"
   },
   {
    "duration": 9,
    "start_time": "2023-06-08T00:52:30.198Z"
   },
   {
    "duration": 8,
    "start_time": "2023-06-08T00:52:40.092Z"
   },
   {
    "duration": 21,
    "start_time": "2023-06-08T00:59:04.354Z"
   },
   {
    "duration": 14,
    "start_time": "2023-06-08T01:02:34.394Z"
   },
   {
    "duration": 15,
    "start_time": "2023-06-08T01:03:27.213Z"
   },
   {
    "duration": 21,
    "start_time": "2023-06-08T01:04:44.672Z"
   },
   {
    "duration": 1076,
    "start_time": "2023-06-08T01:08:11.442Z"
   },
   {
    "duration": 26,
    "start_time": "2023-06-08T01:08:12.520Z"
   },
   {
    "duration": 12,
    "start_time": "2023-06-08T01:08:12.547Z"
   },
   {
    "duration": 17,
    "start_time": "2023-06-08T01:08:12.561Z"
   },
   {
    "duration": 14,
    "start_time": "2023-06-08T01:08:12.580Z"
   },
   {
    "duration": 12,
    "start_time": "2023-06-08T01:08:13.075Z"
   },
   {
    "duration": 70,
    "start_time": "2023-06-08T01:08:13.843Z"
   },
   {
    "duration": 11,
    "start_time": "2023-06-08T01:08:14.033Z"
   },
   {
    "duration": 10,
    "start_time": "2023-06-08T01:08:14.213Z"
   },
   {
    "duration": 5,
    "start_time": "2023-06-08T01:08:14.386Z"
   },
   {
    "duration": 6,
    "start_time": "2023-06-08T01:08:14.552Z"
   },
   {
    "duration": 11,
    "start_time": "2023-06-08T01:08:14.892Z"
   },
   {
    "duration": 5,
    "start_time": "2023-06-08T01:08:15.251Z"
   },
   {
    "duration": 539,
    "start_time": "2023-06-08T01:08:15.442Z"
   },
   {
    "duration": 182,
    "start_time": "2023-06-08T01:08:16.484Z"
   },
   {
    "duration": 251,
    "start_time": "2023-06-08T01:08:17.191Z"
   },
   {
    "duration": 188,
    "start_time": "2023-06-08T01:08:17.867Z"
   },
   {
    "duration": 302,
    "start_time": "2023-06-08T01:08:18.529Z"
   },
   {
    "duration": 137,
    "start_time": "2023-06-08T01:08:19.407Z"
   },
   {
    "duration": 6,
    "start_time": "2023-06-08T01:08:19.933Z"
   },
   {
    "duration": 133,
    "start_time": "2023-06-08T01:08:20.840Z"
   },
   {
    "duration": 5,
    "start_time": "2023-06-08T01:08:21.363Z"
   },
   {
    "duration": 333,
    "start_time": "2023-06-08T01:08:22.740Z"
   },
   {
    "duration": 23,
    "start_time": "2023-06-08T01:08:23.120Z"
   },
   {
    "duration": 12,
    "start_time": "2023-06-08T01:08:24.380Z"
   },
   {
    "duration": 4,
    "start_time": "2023-06-08T01:08:25.110Z"
   },
   {
    "duration": 11,
    "start_time": "2023-06-08T01:08:25.283Z"
   },
   {
    "duration": 8,
    "start_time": "2023-06-08T01:08:25.828Z"
   },
   {
    "duration": 23,
    "start_time": "2023-06-08T01:08:26.196Z"
   },
   {
    "duration": 16,
    "start_time": "2023-06-08T01:08:26.893Z"
   },
   {
    "duration": 1123,
    "start_time": "2023-06-08T08:39:58.128Z"
   },
   {
    "duration": 61,
    "start_time": "2023-06-08T08:39:59.253Z"
   },
   {
    "duration": 11,
    "start_time": "2023-06-08T08:39:59.315Z"
   },
   {
    "duration": 4,
    "start_time": "2023-06-08T08:39:59.327Z"
   },
   {
    "duration": 13,
    "start_time": "2023-06-08T08:39:59.332Z"
   },
   {
    "duration": 10,
    "start_time": "2023-06-08T08:39:59.346Z"
   },
   {
    "duration": 148,
    "start_time": "2023-06-08T08:39:59.357Z"
   },
   {
    "duration": 12,
    "start_time": "2023-06-08T08:39:59.506Z"
   },
   {
    "duration": 14,
    "start_time": "2023-06-08T08:39:59.520Z"
   },
   {
    "duration": 9,
    "start_time": "2023-06-08T08:39:59.537Z"
   },
   {
    "duration": 7,
    "start_time": "2023-06-08T08:39:59.548Z"
   },
   {
    "duration": 8,
    "start_time": "2023-06-08T08:39:59.557Z"
   },
   {
    "duration": 4,
    "start_time": "2023-06-08T08:39:59.567Z"
   },
   {
    "duration": 577,
    "start_time": "2023-06-08T08:39:59.572Z"
   },
   {
    "duration": 204,
    "start_time": "2023-06-08T08:40:00.151Z"
   },
   {
    "duration": 256,
    "start_time": "2023-06-08T08:40:00.357Z"
   },
   {
    "duration": 188,
    "start_time": "2023-06-08T08:40:00.615Z"
   },
   {
    "duration": 352,
    "start_time": "2023-06-08T08:40:00.804Z"
   },
   {
    "duration": 147,
    "start_time": "2023-06-08T08:40:01.158Z"
   },
   {
    "duration": 6,
    "start_time": "2023-06-08T08:40:01.306Z"
   },
   {
    "duration": 185,
    "start_time": "2023-06-08T08:40:01.324Z"
   },
   {
    "duration": 5,
    "start_time": "2023-06-08T08:40:01.510Z"
   },
   {
    "duration": 342,
    "start_time": "2023-06-08T08:40:01.516Z"
   },
   {
    "duration": 28,
    "start_time": "2023-06-08T08:40:01.860Z"
   },
   {
    "duration": 195,
    "start_time": "2023-06-08T08:40:01.890Z"
   },
   {
    "duration": 67,
    "start_time": "2023-06-08T08:40:02.086Z"
   },
   {
    "duration": 58,
    "start_time": "2023-06-08T08:40:02.155Z"
   },
   {
    "duration": 38,
    "start_time": "2023-06-08T08:40:02.216Z"
   },
   {
    "duration": 88,
    "start_time": "2023-06-08T08:40:02.256Z"
   },
   {
    "duration": 87,
    "start_time": "2023-06-08T08:40:02.345Z"
   }
  ],
  "kernelspec": {
   "display_name": "Python 3 (ipykernel)",
   "language": "python",
   "name": "python3"
  },
  "language_info": {
   "codemirror_mode": {
    "name": "ipython",
    "version": 3
   },
   "file_extension": ".py",
   "mimetype": "text/x-python",
   "name": "python",
   "nbconvert_exporter": "python",
   "pygments_lexer": "ipython3",
   "version": "3.9.13"
  },
  "toc": {
   "base_numbering": 1,
   "nav_menu": {},
   "number_sections": true,
   "sideBar": true,
   "skip_h1_title": true,
   "title_cell": "Table of Contents",
   "title_sidebar": "Contents",
   "toc_cell": false,
   "toc_position": {
    "height": "calc(100% - 180px)",
    "left": "10px",
    "top": "150px",
    "width": "220.9375px"
   },
   "toc_section_display": true,
   "toc_window_display": true
  }
 },
 "nbformat": 4,
 "nbformat_minor": 2
}
